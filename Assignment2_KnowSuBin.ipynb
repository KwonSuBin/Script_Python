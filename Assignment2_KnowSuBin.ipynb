{
 "cells": [
  {
   "cell_type": "markdown",
   "metadata": {},
   "source": [
    "### 문제 1번\n",
    " - 다음 6 개의 Expression에 대해 Evaluation 결과 값을 출력하고, 해당 결과가 나온 이유에 대해 설명하시오\n"
   ]
  },
  {
   "cell_type": "code",
   "execution_count": 3,
   "metadata": {
    "collapsed": false
   },
   "outputs": [
    {
     "data": {
      "text/plain": [
       "4"
      ]
     },
     "execution_count": 3,
     "metadata": {},
     "output_type": "execute_result"
    }
   ],
   "source": [
    "1 and 2 and 3 and 4"
   ]
  },
  {
   "cell_type": "markdown",
   "metadata": {},
   "source": [
    "and 연산에서는 연산을 사이에 둔 값이 모두 참이어야 하므로,\n",
    "\n",
    "앞의 값이 참이면 뒤에 참을 검사한다.\n",
    "\n",
    "먼저 1을 검사했을때 참이므로 2를 검사하고 2도 참이므로 \n",
    "\n",
    "3을 검사하고 3도 참이므로 4를 검사하여 4가 출력된다."
   ]
  },
  {
   "cell_type": "code",
   "execution_count": 5,
   "metadata": {
    "collapsed": false
   },
   "outputs": [
    {
     "data": {
      "text/plain": [
       "1"
      ]
     },
     "execution_count": 5,
     "metadata": {},
     "output_type": "execute_result"
    }
   ],
   "source": [
    "1 or 2 or 3 or 4"
   ]
  },
  {
   "cell_type": "markdown",
   "metadata": {},
   "source": [
    "or연산에서는 연산을 사이에 둔 값 중 하나만 참이어도 참이므로\n",
    "\n",
    "앞의 값이 참이면 다음 수로 넘어가지 않는다.\n",
    "\n",
    "맨처음 1을 검사했을때 1이 참이므로 다름 수로 넘어가지 않고 1을 반환한다."
   ]
  },
  {
   "cell_type": "code",
   "execution_count": 7,
   "metadata": {
    "collapsed": false
   },
   "outputs": [
    {
     "data": {
      "text/plain": [
       "2"
      ]
     },
     "execution_count": 7,
     "metadata": {},
     "output_type": "execute_result"
    }
   ],
   "source": [
    "1 and 2 or 3 and 4"
   ]
  },
  {
   "cell_type": "markdown",
   "metadata": {},
   "source": [
    "맨 처음 1 and 2를 접하므로 1을 검사하여 참이 나온다 \n",
    "\n",
    "그후 2를 검사하여 참이 나와 2를 반환한다. \n",
    "\n",
    "이미 참이므로 다음 수로 넘어가지 않는다."
   ]
  },
  {
   "cell_type": "code",
   "execution_count": 8,
   "metadata": {
    "collapsed": false
   },
   "outputs": [
    {
     "data": {
      "text/plain": [
       "2"
      ]
     },
     "execution_count": 8,
     "metadata": {},
     "output_type": "execute_result"
    }
   ],
   "source": [
    "(1 and 2) or (3 and 4)"
   ]
  },
  {
   "cell_type": "markdown",
   "metadata": {},
   "source": [
    "식을 전체적으로 보면 or을 사이에 두고 두개의 and 연산이 있다. \n",
    "\n",
    "그러므로 두개의 and 연산중 하나만 참이되면 된다.\n",
    "\n",
    "처음 1 and 2를 검사했을 때 1이 참이고 2가 참이므로 다음을 검사하지 않고도 참임을 알 수 있다.\n",
    "\n",
    "따라서 2의 값이 반환된다. "
   ]
  },
  {
   "cell_type": "code",
   "execution_count": 9,
   "metadata": {
    "collapsed": false
   },
   "outputs": [
    {
     "data": {
      "text/plain": [
       "1"
      ]
     },
     "execution_count": 9,
     "metadata": {},
     "output_type": "execute_result"
    }
   ],
   "source": [
    "1 or 2 and 3 or 4"
   ]
  },
  {
   "cell_type": "markdown",
   "metadata": {},
   "source": [
    "맨 처음 접한 식은 1 or 2이다.\n",
    "\n",
    "따라서 두 값중 하나만 참이면 된다. \n",
    "\n",
    "가장 먼저 검사되는 1이 참이므로 다음 수로 넘어거지 않고 1을 반환한다."
   ]
  },
  {
   "cell_type": "code",
   "execution_count": 10,
   "metadata": {
    "collapsed": false
   },
   "outputs": [
    {
     "data": {
      "text/plain": [
       "3"
      ]
     },
     "execution_count": 10,
     "metadata": {},
     "output_type": "execute_result"
    }
   ],
   "source": [
    "(1 or 2) and (3 or 4 )"
   ]
  },
  {
   "cell_type": "markdown",
   "metadata": {},
   "source": [
    "전체적인 식을 보면 and를 사이에 두고 or가 2개 있다. \n",
    "\n",
    "따라서 두 or식이 둘다 참이면 된다.\n",
    "\n",
    "먼저 1 or 2 식에서 1을 검사한다. 참이므로 2를 검사하지 않고 3으로 간다.\n",
    "\n",
    "3이 참임으로 이 식이 참임을 알 수 있다.\n",
    "\n",
    "따라서 3이 반환된다."
   ]
  },
  {
   "cell_type": "markdown",
   "metadata": {},
   "source": [
    "### 문제 2번\n",
    "- 경로에 해당하는 문자열 1개를 입력 받아 그 안에 디렉토리 경로명과 파일명을 분리하여 리스트로 반환하는 함수 div_path(s)를 작성하시오"
   ]
  },
  {
   "cell_type": "code",
   "execution_count": 83,
   "metadata": {
    "collapsed": false
   },
   "outputs": [
    {
     "name": "stdout",
     "output_type": "stream",
     "text": [
      "/home/chulsoo/test.txt\n"
     ]
    }
   ],
   "source": [
    "s = input()"
   ]
  },
  {
   "cell_type": "code",
   "execution_count": 84,
   "metadata": {
    "collapsed": false
   },
   "outputs": [],
   "source": [
    "s = s.split('/')\n",
    "path = s[:len(s)-1]\n",
    "path = ('/').join(path)"
   ]
  },
  {
   "cell_type": "code",
   "execution_count": 85,
   "metadata": {
    "collapsed": false
   },
   "outputs": [
    {
     "name": "stdout",
     "output_type": "stream",
     "text": [
      "['/home/chulsoo', 'test.txt']\n"
     ]
    }
   ],
   "source": [
    "div_path = []\n",
    "div_path.append(path)\n",
    "div_path.append(s[-1])\n",
    "print(div_path)"
   ]
  },
  {
   "cell_type": "markdown",
   "metadata": {},
   "source": [
    "경로에 해당하는 문자열을 보면 /로 나누었을 때 가장 마지막에 있는 이름이 파일명이다.\n",
    "\n",
    "그러므로 먼저 /로 나누어 리스트로 만들고 리스트의 가장 마지막 원소가 파일명이라고 생각하여 \n",
    "\n",
    "파일명을 빼고 나머지는 다시 join을 이용해서 묶어주었다.\n",
    "\n",
    "그런 다음 또다른 리스트에 원소를 넣어 주었다."
   ]
  },
  {
   "cell_type": "markdown",
   "metadata": {
    "collapsed": true
   },
   "source": [
    "### 문제 3번\n",
    " - 두 개의 리스트를 인자로 받아서 그 두 개의 리스트에 대한 '합집합'을 반환하는 함수 list_union(lista, listb)를 작성하시오. "
   ]
  },
  {
   "cell_type": "code",
   "execution_count": 229,
   "metadata": {
    "collapsed": false
   },
   "outputs": [],
   "source": [
    "def list_union(lista, listb):\n",
    "    list = lista + listb\n",
    "    count = { }\n",
    "    for i in list:\n",
    "        if i in count:\n",
    "            count[i] += 1\n",
    "        else:\n",
    "            count[i] = 1\n",
    "    cnt = -1\n",
    "    for i in count:\n",
    "        cnt += 1\n",
    "        if count[i] != 1:\n",
    "            for k in range(count[i]-1):\n",
    "                list.remove(i)\n",
    "                cnt -= 1                #원소가 줄어들면서 인덱스가 줄어듬\n",
    "                count[i] = 1\n",
    "    list.sort()    \n",
    "    print(list)\n",
    "    return list"
   ]
  },
  {
   "cell_type": "code",
   "execution_count": 230,
   "metadata": {
    "collapsed": false
   },
   "outputs": [
    {
     "name": "stdout",
     "output_type": "stream",
     "text": [
      "[1, 2, 3, 4, 5]\n"
     ]
    },
    {
     "data": {
      "text/plain": [
       "[1, 2, 3, 4, 5]"
      ]
     },
     "execution_count": 230,
     "metadata": {},
     "output_type": "execute_result"
    }
   ],
   "source": [
    "list_union([1,2,3],[4,5,3])"
   ]
  },
  {
   "cell_type": "code",
   "execution_count": 231,
   "metadata": {
    "collapsed": false
   },
   "outputs": [
    {
     "name": "stdout",
     "output_type": "stream",
     "text": [
      "[-10, -5, -1, 0, 9, 100]\n"
     ]
    },
    {
     "data": {
      "text/plain": [
       "[-10, -5, -1, 0, 9, 100]"
      ]
     },
     "execution_count": 231,
     "metadata": {},
     "output_type": "execute_result"
    }
   ],
   "source": [
    "list_union([-10, -5,0,-1],[100,9,0,9])"
   ]
  },
  {
   "cell_type": "code",
   "execution_count": 232,
   "metadata": {
    "collapsed": false
   },
   "outputs": [
    {
     "name": "stdout",
     "output_type": "stream",
     "text": [
      "[0, 1, 2]\n"
     ]
    },
    {
     "data": {
      "text/plain": [
       "[0, 1, 2]"
      ]
     },
     "execution_count": 232,
     "metadata": {},
     "output_type": "execute_result"
    }
   ],
   "source": [
    "list_union([0,1,2],[0,1,2])"
   ]
  },
  {
   "cell_type": "markdown",
   "metadata": {},
   "source": [
    "두 개의 리스트의 합집합을 반환하기 위해서 먼저 중복되는 수가 있는지 알아본 후 \n",
    "\n",
    "2개 이상이 있을 경우 1개를 빼고 다 제거하도록 하였다.\n",
    "\n",
    "remove를 이용하면 가장 작은 인덱스를 가진 부분만 제거되기 때문에 반복해서 지워줘야 한다.\n",
    "\n",
    "또한 sort()를 이용하여 마지막에 정렬을 해 주었다."
   ]
  },
  {
   "cell_type": "markdown",
   "metadata": {},
   "source": [
    "### [ACM-ICPC 문제 1110번]\n",
    " - 더하기 사이클"
   ]
  },
  {
   "cell_type": "code",
   "execution_count": 1,
   "metadata": {
    "collapsed": false
   },
   "outputs": [
    {
     "name": "stdout",
     "output_type": "stream",
     "text": [
      "0\n"
     ]
    }
   ],
   "source": [
    "num = int(input())"
   ]
  },
  {
   "cell_type": "code",
   "execution_count": 2,
   "metadata": {
    "collapsed": true
   },
   "outputs": [],
   "source": [
    "if num < 10:\n",
    "    num = '0'+ str(num)\n",
    "num = str(num)\n",
    "n1 = num\n",
    "tmp = int(n1[0]) + int(n1[1])\n",
    "tmp = str(tmp)"
   ]
  },
  {
   "cell_type": "code",
   "execution_count": 3,
   "metadata": {
    "collapsed": true
   },
   "outputs": [],
   "source": [
    "if int(tmp) < 10:\n",
    "    tmp = '0'+ tmp[0]"
   ]
  },
  {
   "cell_type": "code",
   "execution_count": 4,
   "metadata": {
    "collapsed": true
   },
   "outputs": [],
   "source": [
    "n1 = n1[1]+tmp[1]"
   ]
  },
  {
   "cell_type": "code",
   "execution_count": 5,
   "metadata": {
    "collapsed": false
   },
   "outputs": [
    {
     "name": "stdout",
     "output_type": "stream",
     "text": [
      "1\n"
     ]
    }
   ],
   "source": [
    "cnt = 1\n",
    "while num != n1:\n",
    "    cnt += 1\n",
    "    tmp = int(n1[0])+int(n1[1])\n",
    "    tmp = str(tmp)\n",
    "    if int(tmp) < 10:\n",
    "        tmp = '0'+ str(tmp[0])\n",
    "    n1 = n1[1]+tmp[1]\n",
    "print(cnt)"
   ]
  },
  {
   "cell_type": "markdown",
   "metadata": {},
   "source": [
    "0 ~ 99사이의 수 중 하나를 받아서 그 숫자가 10미만일 경우 십의 자리에 0을 출력하도록 한다.\n",
    "\n",
    "그런 다음 십의 자리 수와 일의 자리 수를 더한다.\n",
    "\n",
    "그렇게 하여 만들어진 수의 일의 자리수를 이전에 사용했던 일의 자리 수 를 합쳐서 또다른 두자리수를 도출해낸다.\n",
    "\n",
    "그것을 계속 반복하여 맨처음에 입력했던 수와 같아질 때까지 반복하여 몇 번만에 나오는 지의 수를 출력한다.\n",
    "\n",
    "이 문제를 풀때 가장 문제가 되는 것은 type이다. \n",
    "\n",
    "문자열과 문자열을 더하는 것과 정수형과 정수형을 더하는 것의 값이 전혀 다르기 때문에 내가 어떻게 값을 더하고자 하는지\n",
    "\n",
    "컴퓨터가 어떻게 더하고 있는지 정확히 알고 사용하여야 한다."
   ]
  },
  {
   "cell_type": "markdown",
   "metadata": {
    "collapsed": true
   },
   "source": [
    "![[ACM-ICPC 문제 1110번]](img/[ACM-ICPC 문제 1110번].PNG)"
   ]
  },
  {
   "cell_type": "markdown",
   "metadata": {},
   "source": [
    "### [Incremental Project] \n",
    " - 웹 URL로 지정된 웹페이지를 문자열로 가져와 1) 모든 HTML 태그를 제외한 순수 텍스트 문자열만을 걸러내고, 2) 그 순수 텍스트 문자열 안에 존재하는 단어가 총 몇개인지 출력하는 프로그램을 작성하시오."
   ]
  },
  {
   "cell_type": "code",
   "execution_count": 264,
   "metadata": {
    "collapsed": false
   },
   "outputs": [
    {
     "name": "stdout",
     "output_type": "stream",
     "text": [
      "['<!DOCTYPE', 'html>', '<html', 'lang=\"ko\">', '<head>', '<!--', 'META', '-->', '<meta', 'charset=\"utf-8\">', '<meta', 'name=\"Generator\"', 'content=\"XpressEngine\">', '<meta', 'http-equiv=\"X-UA-Compatible\"', 'content=\"IE=edge\">', '<!--', 'TITLE', '-->', '<title>컴퓨터공학부</title>', '<!--', 'CSS', '-->', '<link', 'rel=\"stylesheet\"', 'href=\"/common/css/xe.min.css?20170918124612\"', '/>', '<link', 'rel=\"stylesheet\"', 'href=\"/layouts/cse/style/prettyPhoto.css?20150805222706\"', '/>', '<link', 'rel=\"stylesheet\"', 'href=\"/layouts/cse/style/stylemobile.css?20150805222706\"', '/>', '<link', 'rel=\"stylesheet\"', 'href=\"/layouts/cse/style/mobilenavigation.css?20150805222706\"', '/>', '<link', 'rel=\"stylesheet\"', 'href=\"/modules/editor/styles/ckeditor_light/style.css?20170918124613\"', '/>', '<link', 'rel=\"stylesheet\"', 'href=\"/widgets/login_info/skins/cse_login_info_2015/default.login.css?20150420232234\"', '/>', '<link', 'rel=\"stylesheet\"', 'href=\"/widgets/content_cse/skins/cse_latest_2015/css/widget.css?20150625005943\"', '/>', '<link', 'rel=\"stylesheet\"', 'href=\"/addons/font_nanum_gothic/font-nanum_gothic.css?20150429141819\"', '/>', '<link', 'rel=\"stylesheet\"', 'href=\"/files/faceOff/664/070/layout.css?20160523173814\"', '/>', '<!--', 'JS', '-->', '<!--', '[if', 'lt', 'IE', '9]><script', 'src=\"/common/js/jquery-1.x.min.js?20170918124612\"></script>', '<![endif]', '-->', '<!--', '[if', 'gte', 'IE', '9]>', '<!--', '><script', 'src=\"/common/js/jquery.min.js?20170918124612\"></script>', '<!--', '<![endif]', '-->', '<script', 'src=\"/common/js/x.min.js?20170918124612\"></script>', '<script', 'src=\"/common/js/xe.min.js?20170918124612\"></script>', '<script', 'src=\"/layouts/cse/script/modernizr.js?20150805222706\"></script>', '<script', 'src=\"/widgets/login_info/skins/cse_login_info_2015/default.login.js?20150420232234\"></script>', '<script', 'src=\"/widgets/content_cse/skins/cse_latest_2015/js/content_widget.js?20150422211442\"></script>', '<!--', 'RSS', '-->', '<link', 'rel=\"alternate\"', 'type=\"application/rss+xml\"', 'title=\"Site', 'RSS\"', 'href=\"https://cse.koreatech.ac.kr/rss\"', '/><link', 'rel=\"alternate\"', 'type=\"application/atom+xml\"', 'title=\"Site', 'Atom\"', 'href=\"https://cse.koreatech.ac.kr/atom\"', '/>', '<!--', 'ICON', '-->', '<link', 'rel=\"shortcut', 'icon\"', 'href=\"https://cse.koreatech.ac.kr/files/attach/xeicon/favicon.ico\"', '/>', '<link', 'rel=\"canonical\"', 'href=\"https://cse.koreatech.ac.kr/\"', '/>', '<meta', 'property=\"og:locale\"', 'content=\"ko_KR\"', '/>', '<meta', 'property=\"og:type\"', 'content=\"website\"', '/>', '<meta', 'property=\"og:url\"', 'content=\"https://cse.koreatech.ac.kr/\"', '/>', '<meta', 'property=\"og:title\"', 'content=\"컴퓨터공학부\"', '/>', '<link', \"href='https://fonts.googleapis.com/css?family=Raleway:400,700,300,900'\", \"rel='stylesheet'\", \"type='text/css'\", '/>', '<link', \"href='https://fonts.googleapis.com/css?family=Nunito:400,300,700'\", \"rel='stylesheet'\", \"type='text/css'\", '/>', '<link', 'rel=\"stylesheet\"', 'href=\"//fonts.googleapis.com/earlyaccess/nanumgothic.css\"', '/>', '<meta', 'charset=\"utf-8\"', '/>', '<meta', 'name=\"viewport\"', 'content=\"width=device-width,', 'initial-scale=1.0\"', '/>', '<meta', 'name=\"description\"', 'content=\"Website', 'Description\"', '/>', '<meta', 'name=\"keywords\"', 'content=\"Website', 'Keywords\"', '/><script>', '//<![CDATA[', 'var', 'current_url', '=', '\"https://cse.koreatech.ac.kr/\";', 'var', 'request_uri', '=', '\"https://cse.koreatech.ac.kr/\";', 'var', 'current_mid', '=', '\"home_2015\";', 'var', 'waiting_message', '=', '\"서버에', '요청', '중입니다.', '잠시만', '기다려주세요.\";', 'var', 'ssl_actions', '=', 'new', 'Array();', 'var', 'default_url', '=', '\"https://cse.koreatech.ac.kr/\";', 'var', 'http_port', '=', '80;var', 'https_port', '=', '443;var', 'enforce_ssl', '=', 'true;xe.current_lang', '=', '\"ko\";', 'xe.cmd_find', '=', '\"찾기\";', 'xe.cmd_cancel', '=', '\"취소\";', 'xe.cmd_confirm', '=', '\"확인\";', 'xe.msg_no_root', '=', '\"루트는', '선택', '할', '수', '없습니다.\";', 'xe.msg_no_shortcut', '=', '\"바로가기는', '선택', '할', '수', '없습니다.\";', 'xe.msg_select_menu', '=', '\"대상', '메뉴', '선택\";', '//]]>', '</script>', '</head>', '<body>', '<!DOCTYPE', 'html>', '<html', 'lang=\"ko\">', '<head>', '<title>Schoolfun', '-', 'Study', 'and', 'Fun</title>', '<!--', '-->', '</head>', '<body', 'class=\"\">', '<header', 'id=\"main-header\"', 'class=\"clearfix\">', '<div', 'id=\"header-full\"', 'class=\"clearfix\">', '<div', 'id=\"header\"', 'class=\"clearfix\">', '<a', 'href=\"#nav\"', 'class=\"open-menu\">', '<span', 'class=\"icon-bar\"></span>', '<span', 'class=\"icon-bar\"></span>', '<span', 'class=\"icon-bar\"></span>', '</a>', '<a', 'href=\"https://cse.koreatech.ac.kr/\"', 'id=\"logo\"><img', 'src=\"/layouts/cse/images/cse_logo.png\"', 'data-retina=\"images/cse_logo.png\"', 'alt=\"School', 'Fun', '-', 'WordPress', 'Theme\"', '/></a>', '<aside', 'id=\"header-content\">', '<!--', '<form', 'method=\"post\"', 'action=\"#\"', 'id=\"searchform\"><input', 'type=\"hidden\"', 'name=\"error_return_url\"', 'value=\"/\"', '/><input', 'type=\"hidden\"', 'name=\"act\"', 'value=\"\"', '/><input', 'type=\"hidden\"', 'name=\"mid\"', 'value=\"home_2015\"', '/><input', 'type=\"hidden\"', 'name=\"vid\"', 'value=\"\"', '/>', '<div>', '</div>', '</form>', '-->', '<ul', 'id=\"nav-header\"', 'style=\"\">', '<li><div', 'class=\"xe-widget-wrapper', '\"', 'style=\"\"><div', 'style=\"*zoom:1;padding:0px', '0px', '0px', '0px', '!important;\"><form', 'id=\"fo_login_widget\"', 'action=\"https://cse.koreatech.ac.kr/index.php?act=procMemberLogin\"', 'method=\"post\"', 'class=\"account\"><input', 'type=\"hidden\"', 'name=\"error_return_url\"', 'value=\"/\"', '/><input', 'type=\"hidden\"', 'name=\"mid\"', 'value=\"home_2015\"', '/><input', 'type=\"hidden\"', 'name=\"vid\"', 'value=\"\"', '/><input', 'type=\"hidden\"', 'name=\"ruleset\"', 'value=\"@login\"', '/>', '<a', 'href=\"#acField\">로그인</a>', '<fieldset', 'id=\"acField\">', '<h2>로그인</h2>', '<input', 'type=\"hidden\"', 'name=\"act\"', 'value=\"procMemberLogin\"', '/>', '<input', 'type=\"hidden\"', 'name=\"success_return_url\"', 'value=\"/\"', '/>', '<input', 'type=\"hidden\"', 'name=\"xe_validator_id\"', 'value=\"widgets/login_info/skins/default/login_form/1\"', '/>', '<div', 'class=\"idpw\">', '<label', 'for=\"user_id\">아이디</label>', '<input', 'name=\"user_id\"', 'id=\"user_id\"', 'type=\"text\"', 'required', '/>', '<label', 'for=\"user_pw\">비밀번호</label>', '<input', 'name=\"password\"', 'id=\"user_pw\"', 'type=\"password\"', 'required', '/>', '<p', 'class=\"keep\">', '<input', 'type=\"checkbox\"', 'name=\"keep_signed\"', 'id=\"keep_signed\"', 'value=\"Y\"', '/>', '<label', 'for=\"keep_signed\">로그인', '유지</label>', '</p>', '<p', 'class=\"warning\">브라우저를', '닫더라도', '로그인이', '계속', '유지될', '수', '있습니다.', '로그인', '유지', '기능을', '사용할', '경우', '다음', '접속부터는', '로그인할', '필요가', '없습니다.', '단,', '게임방,', '학교', '등', '공공장소에서', '이용', '시', '개인정보가', '유출될', '수', '있으니', '꼭', '로그아웃을', '해주세요.</p>', '</div>', '<input', 'type=\"submit\"', 'value=\"로그인\"', '/>', '<ul', 'class=\"help\">', '<li><a', 'href=\"https://cse.koreatech.ac.kr/index.php?mid=home_2015&amp;act=dispMemberSignUpForm\">회원가입</a></li>', '<li><a', 'href=\"https://cse.koreatech.ac.kr/index.php?mid=home_2015&amp;act=dispMemberFindAccount\">ID/PW', '찾기</a></li>', '</ul>', '</fieldset>', '</form>', '</div></div></li>', '</ul>', '<h3', 'id=\"slogan\"', 'style=\"font-family:\\'Nanum', \"Gothic',\", 'serif\">IT', '교육의', '글로벌', '메카!<br/>한국기술교육대학교', '컴퓨터공학부</h3>', '</aside>', '</div>', '</div>', '<nav', 'id=\"nav\"', 'class=\"clearfix\">', '<a', 'href=\"#\"', 'class=\"close-menu-big\">Close</a>', '<div', 'id=\"nav-container\">', '<a', 'href=\"#\"', 'class=\"close-menu\">', '<span', 'class=\"icon-bar\"></span>', '<span', 'class=\"icon-bar\"></span>', '<span', 'class=\"icon-bar\"></span>', '</a>', '<ul', 'id=\"nav-main\">', '<li>', '<a', 'href=\"https://cse.koreatech.ac.kr/intro_home_2015\"', '>소개</a>', '</li>', '<li>', '<a', 'href=\"https://cse.koreatech.ac.kr/page_KbyV58\"', '>구성원소개</a>', '</li>', '<li>', '<a', 'href=\"https://cse.koreatech.ac.kr/page_izgw21\"', '>학사안내</a>', '</li>', '<li>', '<a', 'href=\"#\">입학</a>', '<ul>', '<li><a', 'href=\"http://www.koreatech.ac.kr/admission.do\"', 'target=\"_blank\">학부</a></li>', '<li><a', 'href=\"http://www.koreatech.ac.kr/grd/sub02_01_01_01.do\"', 'target=\"_blank\">대학원</a></li>', '</ul>', '</li>', '<li>', '<a', 'href=\"https://cse.koreatech.ac.kr/notice\"', '>학부광장</a>', '</li>', '<li>', '<a', 'href=\"https://cse.koreatech.ac.kr/pds\"', '>자료실</a>', '</li>', '<li>', '<a', 'href=\"https://cse.koreatech.ac.kr/page_birW64\"', '>대학원</a>', '</li>', '<li>', '<a', 'href=\"https://cse.koreatech.ac.kr/page_vBGH80\"', '>공학교육인증</a>', '</li>', '<li>', '<a', 'href=\"https://cse.koreatech.ac.kr/graduate\"', '>학부서비스</a>', '</li>', '</ul>', '<a', 'href=\"https://cse.koreatech.ac.kr/index.php?mid=home_2015&amp;act=dispMemberSignUpForm\"', 'id=\"button-registration\">Registration</a>', '</div>', '</nav>', '</header>', '<!--', 'main', 'image', 'tab', 'start', '-->', '<div', 'id=\"slideshow-tabs\"', 'class=\"ui-tabs', 'ui-widget', 'ui-widget-content', 'ui-corner-all\">', '<div', 'id=\"panel-tabs\"', 'class=\"clearfix\">', '<ul', 'class=\"nav-tabs-slideshow', 'ui-tabs-nav', 'ui-helper-reset', 'ui-helper-clearfix', 'ui-widget-header', 'ui-corner-all\"', 'role=\"tablist\">', '<li', 'class=\"ui-state-default', 'ui-corner-top', 'ui-tabs-active', 'ui-state-active\"', 'role=\"tab\"', 'tabindex=\"0\"', 'aria-controls=\"panel-1\"', 'aria-labelledby=\"ui-id-1\"', 'aria-selected=\"true\"><a', 'href=\"#panel-1\"', 'class=\"ui-tabs-anchor\"', 'role=\"presentation\"', 'tabindex=\"-1\"', 'id=\"ui-id-1\"><strong>컴퓨터공학부</strong><br>', '<span>School', 'of', 'Computer', 'Science', 'and', 'Engineering</span>', '</a>', '</li>', '<li', 'class=\"ui-state-default', 'ui-corner-top\"', 'role=\"tab\"', 'tabindex=\"-1\"', 'aria-controls=\"panel-2\"', 'aria-labelledby=\"ui-id-2\"', 'aria-selected=\"false\">', '<a', 'href=\"#panel-2\"', 'class=\"ui-tabs-anchor\"', 'role=\"presentation\"', 'tabindex=\"-1\"', 'id=\"ui-id-2\"><strong>IT', '융합소프트웨어', '인력양성사업</strong><br>', '<span>CK', '(Creative', 'Korea)-I</span>', '</a>', '</li>', '<li', 'class=\"ui-state-default', 'ui-corner-top\"', 'role=\"tab\"', 'tabindex=\"-1\"', 'aria-controls=\"panel-3\"', 'aria-labelledby=\"ui-id-3\"', 'aria-selected=\"false\">', '<a', 'href=\"#panel-3\"', 'class=\"ui-tabs-anchor\"', 'role=\"presentation\"', 'tabindex=\"-1\"', 'id=\"ui-id-3\"><strong>교육역량강화사업', '온라인', '컨텐츠</strong><br>', '<span>Online', 'Contents', 'for', 'Education', 'Capability', 'Empowerment</span>', '</a>', '</li>', '</ul>', '</div>', '<div', 'class=\"ui-tabs-panel', 'ui-widget-content', 'ui-corner-bottom\"', 'id=\"panel-1\"', 'style=\"background-image:', 'url(layouts/cse/images/kut1.png);', 'display:', 'block;', 'background-position:', '50%', '0px;', 'background-repeat:', 'no-repeat', 'no-repeat;\"', 'aria-labelledby=\"ui-id-1\"', 'role=\"tabpanel\"', 'aria-expanded=\"true\"', 'aria-hidden=\"false\">', '<div', 'class=\"tabs-blur', 'no-blur\"', 'style=\"background:url(http://placehold.it/2000x620)', 'no-repeat', '50%', '0\">', '</div>', '<div', 'class=\"tabs-container\">', '<article>', '<h2>IT', '교육의', '글로벌', '메카</h2>', '<p>한국기술교육대학교', '컴퓨터공학부', '홈페이지에', '오신', '것을<br/>환영합니다!</p>', '</article>', '</div>', '</div>', '<div', 'class=\"ui-tabs-panel', 'ui-widget-content', 'ui-corner-bottom\"', 'id=\"panel-2\"', 'style=\"background-image:', 'url(layouts/cse/images/kut2.png);', 'display:', 'none;', 'background-position:', '50%', '0px;', 'background-repeat:', 'no-repeat', 'no-repeat;\"', 'aria-labelledby=\"ui-id-2\"', 'role=\"tabpanel\"', 'aria-expanded=\"false\"', 'aria-hidden=\"true\">', '<div', 'class=\"tabs-blur', 'no-blur\"', 'style=\"background:url(http://placehold.it/2000x620)', 'no-repeat', '50%', '0\">', '</div>', '<div', 'class=\"tabs-container\">', '<article>', '<h2>IT', '융합소프트웨어', '인력양성사업</h2>', '<p>글로벌', '수준의', 'IT전문인력', '양성<br/>', 'IT융합분야에', '대한', '국제적인', '경쟁력', '고취</p>', '<a', 'href=\"http://itcsw.koreatech.ac.kr\"', 'target=\"_blank\"', 'class=\"button-more-slide\">바로가기</a>', '</article>', '</div>', '</div>', '<div', 'class=\"ui-tabs-panel', 'ui-widget-content', 'ui-corner-bottom\"', 'id=\"panel-3\"', 'style=\"background-image:', 'url(layouts/cse/images/kut3.png);', 'display:', 'none;', 'background-position:', '50%', '0px;', 'background-repeat:', 'no-repeat', 'no-repeat;\"', 'aria-labelledby=\"ui-id-3\"', 'role=\"tabpanel\"', 'aria-expanded=\"false\"', 'aria-hidden=\"true\">', '<div', 'class=\"tabs-blur', 'no-blur\"', 'style=\"background:url(http://placehold.it/2000x620)', 'no-repeat', '50%', '0\">', '</div>', '<div', 'class=\"tabs-container\">', '<article>', '<h2>교육역량강화사업', '컨텐츠</h2>', '<p>교육역량강화사업', '온라인', '컨텐츠를', '소개합니다.</p>', '<a', 'href=\"http://220.68.64.187\"', 'target=\"_blank\"', 'class=\"button-more-slide\">바로가기</a>', '</article>', '</div>', '</div>', '</div>', '<!--', 'main', 'image', 'tab', 'end', '-->', '<div>', '<div', 'id=\"content\"', 'class=\"clearfix\">', '<div', 'class=\"xe-widget-wrapper', '\"', 'style=\"background-position:', '0%', '0%;', 'margin:', '0px;', 'border:', '0px', 'solid', 'rgb(0,', '0,', '0);', 'border-image:', 'none;', 'width:', '375px;', 'float:', 'left;', 'background-image:', 'none;', 'background-repeat:', 'repeat', 'repeat;\"><div', 'style=\"*zoom:1;padding:0px', '0px', '0px', '0px', '!important;\"><div', 'class=\"sidebar-homepage\">', '<aside', 'class=\"widget-container\">', '<div', 'class=\"widget-wrapper', 'clearfix\">', '<h3', 'class=\"widget-title\"><a', 'href=\"https://cse.koreatech.ac.kr/notice\">공지사항</a></h3>', '<ul', 'class=\"widgetA', 'menu', 'news-sidebar\">', '<li', 'class=\"clearfix\"', '>', '<h4><a', 'href=\"https://cse.koreatech.ac.kr/82408\"', 'class=\"title\"><span', 'style=\"font-weight:bold\">[특성화]', 'G-STAR', '2017', '전시회', '학생', '모집', '공고</span></a></h4>', '<span', 'class=\"date-news\">2017-10-19', '14:46', '14:46</span>', '</li>', '<li', 'class=\"clearfix\"', '>', '<h4><a', 'href=\"https://cse.koreatech.ac.kr/82388\"', 'class=\"title\">[특성화]프레젠테이션', '실무', '자격증', '반', '특강</a></h4>', '<span', 'class=\"date-news\">2017-10-17', '17:41', '17:41</span>', '</li>', '<li', 'class=\"clearfix\"', '>', '<h4><a', 'href=\"https://cse.koreatech.ac.kr/82272\"', 'class=\"title\"><span', 'style=\"font-weight:bold\">2017년', '졸업작품', '영어발표', '경진대회', '및', '공학설계', '아이...</span></a></h4>', '<span', 'class=\"date-news\">2017-10-11', '09:24', '09:24</span>', '</li>', '<li', 'class=\"clearfix\"', '>', '<h4><a', 'href=\"https://cse.koreatech.ac.kr/82264\"', 'class=\"title\"><span', 'style=\"font-weight:bold\">[특성화]', '2017', 'IT융합', '프로그래밍', '경시대회', '모집', '공고</span></a></h4>', '<span', 'class=\"date-news\">2017-10-10', '15:49', '15:49</span>', '</li>', '<li', 'class=\"clearfix\"', '>', '<h4><a', 'href=\"https://cse.koreatech.ac.kr/82220\"', 'class=\"title\"><span', 'style=\"font-weight:bold\">[특성화]', 'ICTS', '2017', '중국', '전시회', '선발학생', '공고</span></a></h4>', '<span', 'class=\"date-news\">2017-09-28', '10:18', '10:18</span>', '</li>', '</ul>', '</div>', '</aside>', '</div>', '</div></div><div', 'class=\"xe-widget-wrapper', '\"', 'style=\"background-position:', '0%', '0%;', 'margin:', '0px;', 'border:', '0px', 'solid', 'rgb(0,', '0,', '0);', 'border-image:', 'none;', 'width:', '375px;', 'float:', 'left;', 'background-image:', 'none;', 'background-repeat:', 'repeat', 'repeat;\"><div', 'style=\"*zoom:1;padding:0px', '0px', '0px', '0px', '!important;\"><div', 'class=\"sidebar-homepage\">', '<aside', 'class=\"widget-container\">', '<div', 'class=\"widget-wrapper', 'clearfix\">', '<h3', 'class=\"widget-title\"><a', 'href=\"https://cse.koreatech.ac.kr/freeboard\">자유게시판</a></h3>', '<ul', 'class=\"widgetA', 'menu', 'news-sidebar\">', '<li', 'class=\"clearfix\"', '>', '<h4><a', 'href=\"https://cse.koreatech.ac.kr/82396\"', 'class=\"title\">PaaS', '&amp;amp;', 'IaaS', '오라클데이', '개최', '(천안)</a></h4>', '<span', 'class=\"date-news\">2017-10-19', '08:58', '08:58</span>', '</li>', '<li', 'class=\"clearfix\"', '>', '<h4><a', 'href=\"https://cse.koreatech.ac.kr/82224\"', 'class=\"title\">제6회', '레몬', '정보보호', '세미나', '개최</a></h4>', '<span', 'class=\"date-news\">2017-10-06', '23:40', '23:40</span>', '</li>', '<li', 'class=\"clearfix\"', '>', '<h4><a', 'href=\"https://cse.koreatech.ac.kr/81765\"', 'class=\"title\">예비역', '훈련', '및', '뒤풀이', '공지!</a></h4>', '<span', 'class=\"date-news\">2017-09-19', '21:16', '21:16</span>', '</li>', '<li', 'class=\"clearfix\"', '>', '<h4><a', 'href=\"https://cse.koreatech.ac.kr/81737\"', 'class=\"title\">모의토익비를', '지원해드립니다.^^</a></h4>', '<span', 'class=\"date-news\">2017-09-17', '20:08', '20:08</span>', '</li>', '<li', 'class=\"clearfix\"', '>', '<h4><a', 'href=\"https://cse.koreatech.ac.kr/81455\"', 'class=\"title\">4공학관', 'B동', '입구', '담배피우는', '문제로', '글을', '올립니다.</a></h4>', '<span', 'class=\"date-news\">2017-09-11', '22:13', '22:13</span>', '</li>', '</ul>', '</div>', '</aside>', '</div>', '</div></div><div', 'class=\"xe-widget-wrapper', '\"', 'style=\"background-position:', '0%', '0%;', 'margin:', '0px;', 'border:', '0px', 'solid', 'rgb(0,', '0,', '0);', 'border-image:', 'none;', 'width:', '375px;', 'float:', 'left;', 'background-image:', 'none;', 'background-repeat:', 'repeat', 'repeat;\"><div', 'style=\"*zoom:1;padding:0px', '0px', '0px', '0px', '!important;\"><div', 'class=\"sidebar-homepage\">', '<aside', 'class=\"widget-container\">', '<div', 'class=\"widget-wrapper', 'clearfix\">', '<h3', 'class=\"widget-title\"><a', 'href=\"https://cse.koreatech.ac.kr/jobboard\">취업게시판</a></h3>', '<ul', 'class=\"widgetA', 'menu', 'news-sidebar\">', '<li', 'class=\"clearfix\"', '>', '<h4><a', 'href=\"https://cse.koreatech.ac.kr/82394\"', 'class=\"title\">[평택]', '애디언트오토모티브인테리어코리아_IT팀', '신입사...</a></h4>', '<span', 'class=\"date-news\">2017-10-19', '08:45', '08:45</span>', '</li>', '<li', 'class=\"clearfix\"', '>', '<h4><a', 'href=\"https://cse.koreatech.ac.kr/82223\"', 'class=\"title\">[천안]', '(주)ABB코리아', '채용', '공고문', '-', '로봇사업부', '채용(...</a></h4>', '<span', 'class=\"date-news\">2017-09-29', '11:29', '11:29</span>', '</li>', '<li', 'class=\"clearfix\"', '>', '<h4><a', 'href=\"https://cse.koreatech.ac.kr/81798\"', 'class=\"title\">영풍전자(주)', '-', '[안산]_직무별[제조기술/품질/개발/마...</a></h4>', '<span', 'class=\"date-news\">2017-09-25', '10:04', '10:04</span>', '</li>', '<li', 'class=\"clearfix\"', '>', '<h4><a', 'href=\"https://cse.koreatech.ac.kr/81796\"', 'class=\"title\">[용인-수원(내년', '통합예정)]', '㈜라온옵틱스', '신입,', '경력...</a></h4>', '<span', 'class=\"date-news\">2017-09-25', '09:21', '09:21</span>', '</li>', '<li', 'class=\"clearfix\"', '>', '<h4><a', 'href=\"https://cse.koreatech.ac.kr/81441\"', 'class=\"title\">엑시콘', '산학공동연구소', '연구원', '모집(~9/18)</a></h4>', '<span', 'class=\"date-news\">2017-09-08', '13:46', '13:46</span>', '</li>', '</ul>', '</div>', '</aside>', '</div>', '</div></div><div', 'class=\"xe-widget-wrapper', '\"', 'style=\"background-position:', '0%', '0%;', 'margin:', '0px;', 'border:', '0px', 'solid', 'rgb(0,', '0,', '0);', 'border-image:', 'none;', 'width:', '375px;', 'float:', 'left;', 'background-image:', 'none;', 'background-repeat:', 'repeat', 'repeat;\"><div', 'style=\"*zoom:1;padding:0px', '0px', '0px', '0px', '!important;\"><div', 'class=\"sidebar-homepage\">', '<aside', 'class=\"widget-container\">', '<div', 'class=\"widget-wrapper', 'clearfix\">', '<h3', 'class=\"widget-title\"><a', 'href=\"http://platum.kr\">Platum</a></h3>', '<ul', 'class=\"widgetA', 'menu', 'news-sidebar\">', '<li', 'class=\"clearfix\"', '>', '<h4><a', 'href=\"http://platum.kr/archives/89724\"', 'class=\"title\">[현장]', '창업자,”스타트업', '전반', '분위기', '64점”,', '정부', '점...</a></h4>', '<span', 'class=\"icon\"></span>', '<span', 'class=\"date-news\">2017-10-19', '14:02', '14:02</span>', '</li>', '<li', 'class=\"clearfix\"', '>', '<h4><a', 'href=\"http://platum.kr/archives/89705\"', 'class=\"title\">3D', '프린팅', '의료기업', '‘애니메디솔루션’,', '15억', '원', '투자유치</a></h4>', '<span', 'class=\"icon\"></span>', '<span', 'class=\"date-news\">2017-10-19', '12:29', '12:29</span>', '</li>', '<li', 'class=\"clearfix\"', '>', '<h4><a', 'href=\"http://platum.kr/archives/89701\"', 'class=\"title\">넥스트플로어,', '스튜디오포립', '전략적', '투자</a></h4>', '<span', 'class=\"icon\"></span>', '<span', 'class=\"date-news\">2017-10-19', '12:19', '12:19</span>', '</li>', '<li', 'class=\"clearfix\"', '>', '<h4><a', 'href=\"http://platum.kr/archives/89695\"', 'class=\"title\">메쉬코리아,', '올', '3분기', '누적', '거래액', '515억</a></h4>', '<span', 'class=\"icon\"></span>', '<span', 'class=\"date-news\">2017-10-19', '12:13', '12:13</span>', '</li>', '<li', 'class=\"clearfix\"', '>', '<h4><a', 'href=\"http://platum.kr/archives/89687\"', 'class=\"title\">맹목적', '글로벌', '진출을', '목표로', '해서는', '안된다.</a></h4>', '<span', 'class=\"icon\"></span>', '<span', 'class=\"date-news\">2017-10-19', '12:03', '12:03</span>', '</li>', '</ul>', '</div>', '</aside>', '</div>', '</div></div><div', 'class=\"xe-widget-wrapper', '\"', 'style=\"background-position:', '0%', '0%;', 'margin:', '0px;', 'border:', '0px', 'solid', 'rgb(0,', '0,', '0);', 'border-image:', 'none;', 'width:', '375px;', 'float:', 'left;', 'background-image:', 'none;', 'background-repeat:', 'repeat', 'repeat;\"><div', 'style=\"*zoom:1;padding:0px', '0px', '0px', '0px', '!important;\"><div', 'class=\"sidebar-homepage\">', '<aside', 'class=\"widget-container\">', '<div', 'class=\"widget-wrapper', 'clearfix\">', '<h3', 'class=\"widget-title\"><a', 'href=\"http://www.etnews.com/\">전자신문</a></h3>', '<ul', 'class=\"widgetA', 'menu', 'news-sidebar\">', '<li', 'class=\"clearfix\"', '>', '<h4><a', 'href=\"http://www.etnews.com/20171019000242\"', 'class=\"title\">SK텔레콤', '양자기술,', '美서', '극찬', '\"정말', '잘', '만든', '멋...</a></h4>', '<span', 'class=\"icon\"></span>', '<span', 'class=\"date-news\">2017-10-19', '17:00', '17:00</span>', '</li>', '<li', 'class=\"clearfix\"', '>', '<h4><a', 'href=\"http://www.etnews.com/20171019000332\"', 'class=\"title\">커넥티드카,', '5G+와이파이', '동시활용', '길', '열린다…글...</a></h4>', '<span', 'class=\"icon\"></span>', '<span', 'class=\"date-news\">2017-10-19', '17:00', '17:00</span>', '</li>', '<li', 'class=\"clearfix\"', '>', '<h4><a', 'href=\"http://www.etnews.com/20171019000316\"', 'class=\"title\">[ICT시사용어]논스탠드얼론', '5G(NSA', '5G)</a></h4>', '<span', 'class=\"icon\"></span>', '<span', 'class=\"date-news\">2017-10-19', '16:13', '16:13</span>', '</li>', '<li', 'class=\"clearfix\"', '>', '<h4><a', 'href=\"http://www.etnews.com/20171019000314\"', 'class=\"title\">中', 'ZTE', '접이식', '스마트폰', \"'액손M'\", '출시</a></h4>', '<span', 'class=\"icon\"></span>', '<span', 'class=\"date-news\">2017-10-19', '16:07', '16:07</span>', '</li>', '<li', 'class=\"clearfix\"', '>', '<h4><a', 'href=\"http://www.etnews.com/20171019000287\"', 'class=\"title\">유영민', '장관,', '4차', '산업혁명', '대비', '아이디어', '기반', '...</a></h4>', '<span', 'class=\"icon\"></span>', '<span', 'class=\"date-news\">2017-10-19', '15:20', '15:20</span>', '</li>', '</ul>', '</div>', '</aside>', '</div>', '</div></div><div', 'class=\"xe-widget-wrapper', '\"', 'style=\"background-position:', '0%', '0%;', 'margin:', '0px;', 'border:', '0px', 'solid', 'rgb(0,', '0,', '0);', 'border-image:', 'none;', 'width:', '375px;', 'float:', 'left;', 'background-image:', 'none;', 'background-repeat:', 'repeat', 'repeat;\"><div', 'style=\"*zoom:1;padding:0px', '0px', '0px', '0px', '!important;\"><div', 'class=\"sidebar-homepage\">', '<aside', 'class=\"widget-container\">', '<div', 'class=\"widget-wrapper', 'clearfix\">', '<h3', 'class=\"widget-title\"><a', 'href=\"https://techcrunch.com/\">TechCrunch</a></h3>', '<ul', 'class=\"widgetA', 'menu', 'news-sidebar\">', '<li', 'class=\"clearfix\"', '>', '<h4><a', 'href=\"http://feedproxy.google.com/~r/Techcrunch/~3/NfriDIwDKYk/\"', 'class=\"title\">London-based', 'on-demand', 'delivery', 'startup', 'Jinn', 's...</a></h4>', '<span', 'class=\"icon\"></span>', '<span', 'class=\"date-news\">2017-10-19', '18:46', '18:46</span>', '</li>', '<li', 'class=\"clearfix\"', '>', '<h4><a', 'href=\"http://feedproxy.google.com/~r/Techcrunch/~3/i_bt8cYVGBo/\"', 'class=\"title\">Hiya,', 'a', 'Whitepages', 'spinout,', 'nabs', '$18M', 'to', 'for', 'i...</a></h4>', '<span', 'class=\"icon\"></span>', '<span', 'class=\"date-news\">2017-10-19', '16:24', '16:24</span>', '</li>', '<li', 'class=\"clearfix\"', '>', '<h4><a', 'href=\"http://feedproxy.google.com/~r/Techcrunch/~3/uUwgc6UTqm4/\"', 'class=\"title\">European', 'house', 'removals', 'platform', 'Movinga', 'raise...</a></h4>', '<span', 'class=\"icon\"></span>', '<span', 'class=\"date-news\">2017-10-19', '15:45', '15:45</span>', '</li>', '<li', 'class=\"clearfix\"', '>', '<h4><a', 'href=\"http://feedproxy.google.com/~r/Techcrunch/~3/9ZAtJLlQpmw/\"', 'class=\"title\">Safaricom', 'launches', 'innovation', 'center', 'to', 'move', 'b...</a></h4>', '<span', 'class=\"icon\"></span>', '<span', 'class=\"date-news\">2017-10-19', '15:30', '15:30</span>', '</li>', '<li', 'class=\"clearfix\"', '>', '<h4><a', 'href=\"http://feedproxy.google.com/~r/Techcrunch/~3/ojGLW5KXQGE/\"', 'class=\"title\">Tony', 'Fadell’s', 'newest', 'product?', 'An', 'investing', 'and...</a></h4>', '<span', 'class=\"icon\"></span>', '<span', 'class=\"date-news\">2017-10-19', '15:15', '15:15</span>', '</li>', '</ul>', '</div>', '</aside>', '</div>', '</div></div>', '</div>', '</div>', '<!--', 'main', 'page', 'footer', 'start', '-->', '<footer', 'id=\"main-footer\">', '<!--', '<div', 'id=\"blur-top\">', '<a', 'href=\"#\"', 'id=\"link-back-top\">Back', 'to', 'Top</a>', '</div>', '<div', 'id=\"slogan-footer\">', '<h4>Leading', 'Together', '<span>for</span>', 'Brighter', 'Future</h4>', '</div>', '-->', '<div', 'id=\"footer-content\"', 'class=\"clearfix\">', '<div', 'id=\"footer-container\">', '<div', 'id=\"sidebar-footer-left\"', 'class=\"sidebar-footer\">', '<aside', 'class=\"widget-container\">', '<div', 'class=\"widget-wrapper', 'clearfix\">', '<h3', 'class=\"widget-title\">Quick', 'Navigation</h3>', '<ul>', '<li><a', 'href=\"http://www.koreatech.ac.kr\"', 'target=\"_blank\">한국기술교육대학교', '홈페이지</a></li>', '<li><a', 'href=\"https://email.koreatech.ac.kr\"', 'target=\"_blank\">한국기술교육대학교', 'WEBMAIL</a></li>', '<li><a', 'href=\"http://www.e-koreatech.ac.kr\"', 'target=\"_blank\">한국기술교육대학교', '온라인', '평생교육원</a></li>', '<li><a', 'href=\"http://itcsw.koreatech.ac.kr\"', 'target=\"_blank\">IT', '융합소프트웨어', '인력양성사업</a></li>', '<li><a', 'href=\"http://csenas.koreatech.ac.kr:5000\"', 'target=\"_blank\">컴퓨터공학부', '교직원', '업무', '자료실</a></li>', '<!--', '<li><a', 'href=\"https://cse.koreatech.ac.kr/?mid=portfolio\"', 'target=\"_blank\">컴퓨터공학부', '포트폴리오</a></li>', '-->', '</ul>', '</div>', '</aside>', '</div>', '<div', 'id=\"sidebar-footer-middle\"', 'class=\"sidebar-footer\">', '<aside', 'class=\"widget-container\">', '<div', 'class=\"widget-wrapper', 'clearfix\">', '<h3', 'class=\"widget-title\">Campus', 'Location</h3>', '<article', 'class=\"text-widget', '\">', '<iframe', 'class=\"map-area\"', 'src=\"https://www.google.com/maps/embed?pb=!1m18!1m12!1m3!1d3196.369861062225!2d127.28035150000001!3d36.761693699999995!2m3!1f0!2f0!3f0!3m2!1i1024!2i768!4f13.1!3m3!1m2!1s0x357b2ac0a5190d0f%3A0x24cddeffd416ef74!2z7LKc7JWI7IucIOuzkeyynOuptCDtlZzqta3quLDsiKDqtZDsnKHrjIDtlZnqtZAg6rO17ZWZNOq0gA!5e0!3m2!1sko!2skr!4v1428058842867\"', 'width=\"600\"', 'height=\"450\"', 'frameborder=\"0\"', 'style=\"border:0\"></iframe><br/>', '</div>', '</aside>', '</div>', '<div', 'id=\"sidebar-footer-right\"', 'class=\"sidebar-footer\">', '<aside', 'class=\"widget-container\">', '<h3', 'class=\"widget-title\">Contact', 'CSE</h3>', '<p>충청남도', '천안시', '동남구', '병천면', '충절로', '1600<br/>한국기술교육대학교', '컴퓨터공학부', '학과사무실', '<br/>TEL', '(041)', '560', '1460', '~', '1461<br/>', 'FAX', '(041)', '560', '1462', '<ul', 'id=\"list-social\"', 'class=\"clearfix\">', '<li', 'id=\"icon-facebook\"><a', 'href=\"https://facebook.com/koreatech.cse.edu\"', 'target=\"_blank\">Facebook</a></li>', '<!--', '<li', 'id=\"icon-twitter\"><a', 'href=\"#\">Twitter</a></li>', '<li', 'id=\"icon-gplus\"><a', 'href=\"#\">Google', 'Plus</a></li>', '<li', 'id=\"icon-linkedin\"><a', 'href=\"#\">Linkedin</a></li>', '-->', '</ul>', '</aside>', '</div>', '</div>', '</div>', '<div', 'id=\"footer-copyright\">', '<div', 'id=\"footer-copyright-content\"', 'class=\"clearfix\">', '<a', 'href=\"#\"', 'id=\"logo-footer\"><img', 'src=\"/layouts/cse/images/cse_logo_footer.png\"', 'data-retina=\"images/cse_logo_footer_retina.png\"', 'alt=\"School', 'Fun', '-', 'University\"', '/></a>', '<p', 'id=\"text-address\">(31253)', '충청남도', '천안시', '동남구', '병천면', '충절로', '1600', '(가전리,', '한국기술교육대학교)', '컴퓨터공학부', '</p>', '<p', 'id=\"text-copyright\">Copyright', '©', '2015.', 'All', 'rights', 'reserved</p>', '</div>', '</div>', '</footer>', '<!--', 'main', 'page', 'footer', 'end', '-->', '</body>', '</html>', '<!--', 'ETC', '-->', '<div', 'class=\"wfsr\"></div>', '<script', 'src=\"/addons/autolink/autolink.js?20170918124610\"></script><script', 'src=\"/common/js/plugins/ui/jquery-ui.min.js?20170918124612\"></script><script', 'src=\"/common/js/plugins/ui/jquery.ui.datepicker-ko.js?20170918124612\"></script><script', 'src=\"/addons/resize_image/js/resize_image.min.js?20170918124610\"></script><script', 'src=\"/layouts/cse/script/jquery.flexslider.js?20150805222706\"></script><script', 'src=\"/layouts/cse/script/jquery.prettyPhoto.js?20150805222706\"></script><script', 'src=\"/layouts/cse/script/jquery-ui-tabs-rotate.js?20150805222706\"></script><script', 'src=\"/layouts/cse/script/scripts.js?20150821172206\"></script><script', 'src=\"/files/cache/js_filter_compiled/5ad07e2b14b79f1c993c3e4b5ca58660.ko.compiled.js?20170918124726\"></script><script', 'src=\"/files/cache/ruleset/85b80736b3cc92d07570521ad97a31d9.ko.js?20170918124726\"></script></body>', '</html>']\n"
     ]
    }
   ],
   "source": [
    "from urllib import request \n",
    " \n",
    "url = 'https://cse.koreatech.ac.kr/'\n",
    "f = request.urlopen(url)\n",
    "source_bytes = f.read()\n",
    "source = source_bytes.decode('utf-8')\n",
    "\n",
    "# 주석태그와 다른 문자가 붙어있지 않도록 나눈다.\n",
    "source = source.replace(\"\\n\",\" \")\n",
    "source = source.replace(\"\\t\",\" \")\n",
    "source = source.replace(\"<!--\",\" <!-- \")\n",
    "source = source.replace(\"-->\",\" --> \")\n",
    "source = source.split(\" \")\n",
    "\n",
    "source_real = []\n",
    "for i in source:\n",
    "    i = i.strip()\n",
    "    if i != \"\":\n",
    "        source_real.append(i)\n",
    "print(source_real)"
   ]
  },
  {
   "cell_type": "code",
   "execution_count": 265,
   "metadata": {
    "collapsed": false
   },
   "outputs": [
    {
     "name": "stdout",
     "output_type": "stream",
     "text": [
      "['<!DOCTYPE', 'html>', '<html', 'lang=\"ko\">', '<head>', '<meta', 'charset=\"utf-8\">', '<meta', 'name=\"Generator\"', 'content=\"XpressEngine\">', '<meta', 'http-equiv=\"X-UA-Compatible\"', 'content=\"IE=edge\">', '<title>컴퓨터공학부</title>', '<link', 'rel=\"stylesheet\"', 'href=\"/common/css/xe.min.css?20170918124612\"', '/>', '<link', 'rel=\"stylesheet\"', 'href=\"/layouts/cse/style/prettyPhoto.css?20150805222706\"', '/>', '<link', 'rel=\"stylesheet\"', 'href=\"/layouts/cse/style/stylemobile.css?20150805222706\"', '/>', '<link', 'rel=\"stylesheet\"', 'href=\"/layouts/cse/style/mobilenavigation.css?20150805222706\"', '/>', '<link', 'rel=\"stylesheet\"', 'href=\"/modules/editor/styles/ckeditor_light/style.css?20170918124613\"', '/>', '<link', 'rel=\"stylesheet\"', 'href=\"/widgets/login_info/skins/cse_login_info_2015/default.login.css?20150420232234\"', '/>', '<link', 'rel=\"stylesheet\"', 'href=\"/widgets/content_cse/skins/cse_latest_2015/css/widget.css?20150625005943\"', '/>', '<link', 'rel=\"stylesheet\"', 'href=\"/addons/font_nanum_gothic/font-nanum_gothic.css?20150429141819\"', '/>', '<link', 'rel=\"stylesheet\"', 'href=\"/files/faceOff/664/070/layout.css?20160523173814\"', '/>', '<script', 'src=\"/common/js/x.min.js?20170918124612\"></script>', '<script', 'src=\"/common/js/xe.min.js?20170918124612\"></script>', '<script', 'src=\"/layouts/cse/script/modernizr.js?20150805222706\"></script>', '<script', 'src=\"/widgets/login_info/skins/cse_login_info_2015/default.login.js?20150420232234\"></script>', '<script', 'src=\"/widgets/content_cse/skins/cse_latest_2015/js/content_widget.js?20150422211442\"></script>', '<link', 'rel=\"alternate\"', 'type=\"application/rss+xml\"', 'title=\"Site', 'RSS\"', 'href=\"https://cse.koreatech.ac.kr/rss\"', '/><link', 'rel=\"alternate\"', 'type=\"application/atom+xml\"', 'title=\"Site', 'Atom\"', 'href=\"https://cse.koreatech.ac.kr/atom\"', '/>', '<link', 'rel=\"shortcut', 'icon\"', 'href=\"https://cse.koreatech.ac.kr/files/attach/xeicon/favicon.ico\"', '/>', '<link', 'rel=\"canonical\"', 'href=\"https://cse.koreatech.ac.kr/\"', '/>', '<meta', 'property=\"og:locale\"', 'content=\"ko_KR\"', '/>', '<meta', 'property=\"og:type\"', 'content=\"website\"', '/>', '<meta', 'property=\"og:url\"', 'content=\"https://cse.koreatech.ac.kr/\"', '/>', '<meta', 'property=\"og:title\"', 'content=\"컴퓨터공학부\"', '/>', '<link', \"href='https://fonts.googleapis.com/css?family=Raleway:400,700,300,900'\", \"rel='stylesheet'\", \"type='text/css'\", '/>', '<link', \"href='https://fonts.googleapis.com/css?family=Nunito:400,300,700'\", \"rel='stylesheet'\", \"type='text/css'\", '/>', '<link', 'rel=\"stylesheet\"', 'href=\"//fonts.googleapis.com/earlyaccess/nanumgothic.css\"', '/>', '<meta', 'charset=\"utf-8\"', '/>', '<meta', 'name=\"viewport\"', 'content=\"width=device-width,', 'initial-scale=1.0\"', '/>', '<meta', 'name=\"description\"', 'content=\"Website', 'Description\"', '/>', '<meta', 'name=\"keywords\"', 'content=\"Website', 'Keywords\"', '/><script>', '//<![CDATA[', 'var', 'current_url', '=', '\"https://cse.koreatech.ac.kr/\";', 'var', 'request_uri', '=', '\"https://cse.koreatech.ac.kr/\";', 'var', 'current_mid', '=', '\"home_2015\";', 'var', 'waiting_message', '=', '\"서버에', '요청', '중입니다.', '잠시만', '기다려주세요.\";', 'var', 'ssl_actions', '=', 'new', 'Array();', 'var', 'default_url', '=', '\"https://cse.koreatech.ac.kr/\";', 'var', 'http_port', '=', '80;var', 'https_port', '=', '443;var', 'enforce_ssl', '=', 'true;xe.current_lang', '=', '\"ko\";', 'xe.cmd_find', '=', '\"찾기\";', 'xe.cmd_cancel', '=', '\"취소\";', 'xe.cmd_confirm', '=', '\"확인\";', 'xe.msg_no_root', '=', '\"루트는', '선택', '할', '수', '없습니다.\";', 'xe.msg_no_shortcut', '=', '\"바로가기는', '선택', '할', '수', '없습니다.\";', 'xe.msg_select_menu', '=', '\"대상', '메뉴', '선택\";', '//]]>', '</script>', '</head>', '<body>', '<!DOCTYPE', 'html>', '<html', 'lang=\"ko\">', '<head>', '<title>Schoolfun', '-', 'Study', 'and', 'Fun</title>', '</head>', '<body', 'class=\"\">', '<header', 'id=\"main-header\"', 'class=\"clearfix\">', '<div', 'id=\"header-full\"', 'class=\"clearfix\">', '<div', 'id=\"header\"', 'class=\"clearfix\">', '<a', 'href=\"#nav\"', 'class=\"open-menu\">', '<span', 'class=\"icon-bar\"></span>', '<span', 'class=\"icon-bar\"></span>', '<span', 'class=\"icon-bar\"></span>', '</a>', '<a', 'href=\"https://cse.koreatech.ac.kr/\"', 'id=\"logo\"><img', 'src=\"/layouts/cse/images/cse_logo.png\"', 'data-retina=\"images/cse_logo.png\"', 'alt=\"School', 'Fun', '-', 'WordPress', 'Theme\"', '/></a>', '<aside', 'id=\"header-content\">', '<ul', 'id=\"nav-header\"', 'style=\"\">', '<li><div', 'class=\"xe-widget-wrapper', '\"', 'style=\"\"><div', 'style=\"*zoom:1;padding:0px', '0px', '0px', '0px', '!important;\"><form', 'id=\"fo_login_widget\"', 'action=\"https://cse.koreatech.ac.kr/index.php?act=procMemberLogin\"', 'method=\"post\"', 'class=\"account\"><input', 'type=\"hidden\"', 'name=\"error_return_url\"', 'value=\"/\"', '/><input', 'type=\"hidden\"', 'name=\"mid\"', 'value=\"home_2015\"', '/><input', 'type=\"hidden\"', 'name=\"vid\"', 'value=\"\"', '/><input', 'type=\"hidden\"', 'name=\"ruleset\"', 'value=\"@login\"', '/>', '<a', 'href=\"#acField\">로그인</a>', '<fieldset', 'id=\"acField\">', '<h2>로그인</h2>', '<input', 'type=\"hidden\"', 'name=\"act\"', 'value=\"procMemberLogin\"', '/>', '<input', 'type=\"hidden\"', 'name=\"success_return_url\"', 'value=\"/\"', '/>', '<input', 'type=\"hidden\"', 'name=\"xe_validator_id\"', 'value=\"widgets/login_info/skins/default/login_form/1\"', '/>', '<div', 'class=\"idpw\">', '<label', 'for=\"user_id\">아이디</label>', '<input', 'name=\"user_id\"', 'id=\"user_id\"', 'type=\"text\"', 'required', '/>', '<label', 'for=\"user_pw\">비밀번호</label>', '<input', 'name=\"password\"', 'id=\"user_pw\"', 'type=\"password\"', 'required', '/>', '<p', 'class=\"keep\">', '<input', 'type=\"checkbox\"', 'name=\"keep_signed\"', 'id=\"keep_signed\"', 'value=\"Y\"', '/>', '<label', 'for=\"keep_signed\">로그인', '유지</label>', '</p>', '<p', 'class=\"warning\">브라우저를', '닫더라도', '로그인이', '계속', '유지될', '수', '있습니다.', '로그인', '유지', '기능을', '사용할', '경우', '다음', '접속부터는', '로그인할', '필요가', '없습니다.', '단,', '게임방,', '학교', '등', '공공장소에서', '이용', '시', '개인정보가', '유출될', '수', '있으니', '꼭', '로그아웃을', '해주세요.</p>', '</div>', '<input', 'type=\"submit\"', 'value=\"로그인\"', '/>', '<ul', 'class=\"help\">', '<li><a', 'href=\"https://cse.koreatech.ac.kr/index.php?mid=home_2015&amp;act=dispMemberSignUpForm\">회원가입</a></li>', '<li><a', 'href=\"https://cse.koreatech.ac.kr/index.php?mid=home_2015&amp;act=dispMemberFindAccount\">ID/PW', '찾기</a></li>', '</ul>', '</fieldset>', '</form>', '</div></div></li>', '</ul>', '<h3', 'id=\"slogan\"', 'style=\"font-family:\\'Nanum', \"Gothic',\", 'serif\">IT', '교육의', '글로벌', '메카!<br/>한국기술교육대학교', '컴퓨터공학부</h3>', '</aside>', '</div>', '</div>', '<nav', 'id=\"nav\"', 'class=\"clearfix\">', '<a', 'href=\"#\"', 'class=\"close-menu-big\">Close</a>', '<div', 'id=\"nav-container\">', '<a', 'href=\"#\"', 'class=\"close-menu\">', '<span', 'class=\"icon-bar\"></span>', '<span', 'class=\"icon-bar\"></span>', '<span', 'class=\"icon-bar\"></span>', '</a>', '<ul', 'id=\"nav-main\">', '<li>', '<a', 'href=\"https://cse.koreatech.ac.kr/intro_home_2015\"', '>소개</a>', '</li>', '<li>', '<a', 'href=\"https://cse.koreatech.ac.kr/page_KbyV58\"', '>구성원소개</a>', '</li>', '<li>', '<a', 'href=\"https://cse.koreatech.ac.kr/page_izgw21\"', '>학사안내</a>', '</li>', '<li>', '<a', 'href=\"#\">입학</a>', '<ul>', '<li><a', 'href=\"http://www.koreatech.ac.kr/admission.do\"', 'target=\"_blank\">학부</a></li>', '<li><a', 'href=\"http://www.koreatech.ac.kr/grd/sub02_01_01_01.do\"', 'target=\"_blank\">대학원</a></li>', '</ul>', '</li>', '<li>', '<a', 'href=\"https://cse.koreatech.ac.kr/notice\"', '>학부광장</a>', '</li>', '<li>', '<a', 'href=\"https://cse.koreatech.ac.kr/pds\"', '>자료실</a>', '</li>', '<li>', '<a', 'href=\"https://cse.koreatech.ac.kr/page_birW64\"', '>대학원</a>', '</li>', '<li>', '<a', 'href=\"https://cse.koreatech.ac.kr/page_vBGH80\"', '>공학교육인증</a>', '</li>', '<li>', '<a', 'href=\"https://cse.koreatech.ac.kr/graduate\"', '>학부서비스</a>', '</li>', '</ul>', '<a', 'href=\"https://cse.koreatech.ac.kr/index.php?mid=home_2015&amp;act=dispMemberSignUpForm\"', 'id=\"button-registration\">Registration</a>', '</div>', '</nav>', '</header>', '<div', 'id=\"slideshow-tabs\"', 'class=\"ui-tabs', 'ui-widget', 'ui-widget-content', 'ui-corner-all\">', '<div', 'id=\"panel-tabs\"', 'class=\"clearfix\">', '<ul', 'class=\"nav-tabs-slideshow', 'ui-tabs-nav', 'ui-helper-reset', 'ui-helper-clearfix', 'ui-widget-header', 'ui-corner-all\"', 'role=\"tablist\">', '<li', 'class=\"ui-state-default', 'ui-corner-top', 'ui-tabs-active', 'ui-state-active\"', 'role=\"tab\"', 'tabindex=\"0\"', 'aria-controls=\"panel-1\"', 'aria-labelledby=\"ui-id-1\"', 'aria-selected=\"true\"><a', 'href=\"#panel-1\"', 'class=\"ui-tabs-anchor\"', 'role=\"presentation\"', 'tabindex=\"-1\"', 'id=\"ui-id-1\"><strong>컴퓨터공학부</strong><br>', '<span>School', 'of', 'Computer', 'Science', 'and', 'Engineering</span>', '</a>', '</li>', '<li', 'class=\"ui-state-default', 'ui-corner-top\"', 'role=\"tab\"', 'tabindex=\"-1\"', 'aria-controls=\"panel-2\"', 'aria-labelledby=\"ui-id-2\"', 'aria-selected=\"false\">', '<a', 'href=\"#panel-2\"', 'class=\"ui-tabs-anchor\"', 'role=\"presentation\"', 'tabindex=\"-1\"', 'id=\"ui-id-2\"><strong>IT', '융합소프트웨어', '인력양성사업</strong><br>', '<span>CK', '(Creative', 'Korea)-I</span>', '</a>', '</li>', '<li', 'class=\"ui-state-default', 'ui-corner-top\"', 'role=\"tab\"', 'tabindex=\"-1\"', 'aria-controls=\"panel-3\"', 'aria-labelledby=\"ui-id-3\"', 'aria-selected=\"false\">', '<a', 'href=\"#panel-3\"', 'class=\"ui-tabs-anchor\"', 'role=\"presentation\"', 'tabindex=\"-1\"', 'id=\"ui-id-3\"><strong>교육역량강화사업', '온라인', '컨텐츠</strong><br>', '<span>Online', 'Contents', 'for', 'Education', 'Capability', 'Empowerment</span>', '</a>', '</li>', '</ul>', '</div>', '<div', 'class=\"ui-tabs-panel', 'ui-widget-content', 'ui-corner-bottom\"', 'id=\"panel-1\"', 'style=\"background-image:', 'url(layouts/cse/images/kut1.png);', 'display:', 'block;', 'background-position:', '50%', '0px;', 'background-repeat:', 'no-repeat', 'no-repeat;\"', 'aria-labelledby=\"ui-id-1\"', 'role=\"tabpanel\"', 'aria-expanded=\"true\"', 'aria-hidden=\"false\">', '<div', 'class=\"tabs-blur', 'no-blur\"', 'style=\"background:url(http://placehold.it/2000x620)', 'no-repeat', '50%', '0\">', '</div>', '<div', 'class=\"tabs-container\">', '<article>', '<h2>IT', '교육의', '글로벌', '메카</h2>', '<p>한국기술교육대학교', '컴퓨터공학부', '홈페이지에', '오신', '것을<br/>환영합니다!</p>', '</article>', '</div>', '</div>', '<div', 'class=\"ui-tabs-panel', 'ui-widget-content', 'ui-corner-bottom\"', 'id=\"panel-2\"', 'style=\"background-image:', 'url(layouts/cse/images/kut2.png);', 'display:', 'none;', 'background-position:', '50%', '0px;', 'background-repeat:', 'no-repeat', 'no-repeat;\"', 'aria-labelledby=\"ui-id-2\"', 'role=\"tabpanel\"', 'aria-expanded=\"false\"', 'aria-hidden=\"true\">', '<div', 'class=\"tabs-blur', 'no-blur\"', 'style=\"background:url(http://placehold.it/2000x620)', 'no-repeat', '50%', '0\">', '</div>', '<div', 'class=\"tabs-container\">', '<article>', '<h2>IT', '융합소프트웨어', '인력양성사업</h2>', '<p>글로벌', '수준의', 'IT전문인력', '양성<br/>', 'IT융합분야에', '대한', '국제적인', '경쟁력', '고취</p>', '<a', 'href=\"http://itcsw.koreatech.ac.kr\"', 'target=\"_blank\"', 'class=\"button-more-slide\">바로가기</a>', '</article>', '</div>', '</div>', '<div', 'class=\"ui-tabs-panel', 'ui-widget-content', 'ui-corner-bottom\"', 'id=\"panel-3\"', 'style=\"background-image:', 'url(layouts/cse/images/kut3.png);', 'display:', 'none;', 'background-position:', '50%', '0px;', 'background-repeat:', 'no-repeat', 'no-repeat;\"', 'aria-labelledby=\"ui-id-3\"', 'role=\"tabpanel\"', 'aria-expanded=\"false\"', 'aria-hidden=\"true\">', '<div', 'class=\"tabs-blur', 'no-blur\"', 'style=\"background:url(http://placehold.it/2000x620)', 'no-repeat', '50%', '0\">', '</div>', '<div', 'class=\"tabs-container\">', '<article>', '<h2>교육역량강화사업', '컨텐츠</h2>', '<p>교육역량강화사업', '온라인', '컨텐츠를', '소개합니다.</p>', '<a', 'href=\"http://220.68.64.187\"', 'target=\"_blank\"', 'class=\"button-more-slide\">바로가기</a>', '</article>', '</div>', '</div>', '</div>', '<div>', '<div', 'id=\"content\"', 'class=\"clearfix\">', '<div', 'class=\"xe-widget-wrapper', '\"', 'style=\"background-position:', '0%', '0%;', 'margin:', '0px;', 'border:', '0px', 'solid', 'rgb(0,', '0,', '0);', 'border-image:', 'none;', 'width:', '375px;', 'float:', 'left;', 'background-image:', 'none;', 'background-repeat:', 'repeat', 'repeat;\"><div', 'style=\"*zoom:1;padding:0px', '0px', '0px', '0px', '!important;\"><div', 'class=\"sidebar-homepage\">', '<aside', 'class=\"widget-container\">', '<div', 'class=\"widget-wrapper', 'clearfix\">', '<h3', 'class=\"widget-title\"><a', 'href=\"https://cse.koreatech.ac.kr/notice\">공지사항</a></h3>', '<ul', 'class=\"widgetA', 'menu', 'news-sidebar\">', '<li', 'class=\"clearfix\"', '>', '<h4><a', 'href=\"https://cse.koreatech.ac.kr/82408\"', 'class=\"title\"><span', 'style=\"font-weight:bold\">[특성화]', 'G-STAR', '2017', '전시회', '학생', '모집', '공고</span></a></h4>', '<span', 'class=\"date-news\">2017-10-19', '14:46', '14:46</span>', '</li>', '<li', 'class=\"clearfix\"', '>', '<h4><a', 'href=\"https://cse.koreatech.ac.kr/82388\"', 'class=\"title\">[특성화]프레젠테이션', '실무', '자격증', '반', '특강</a></h4>', '<span', 'class=\"date-news\">2017-10-17', '17:41', '17:41</span>', '</li>', '<li', 'class=\"clearfix\"', '>', '<h4><a', 'href=\"https://cse.koreatech.ac.kr/82272\"', 'class=\"title\"><span', 'style=\"font-weight:bold\">2017년', '졸업작품', '영어발표', '경진대회', '및', '공학설계', '아이...</span></a></h4>', '<span', 'class=\"date-news\">2017-10-11', '09:24', '09:24</span>', '</li>', '<li', 'class=\"clearfix\"', '>', '<h4><a', 'href=\"https://cse.koreatech.ac.kr/82264\"', 'class=\"title\"><span', 'style=\"font-weight:bold\">[특성화]', '2017', 'IT융합', '프로그래밍', '경시대회', '모집', '공고</span></a></h4>', '<span', 'class=\"date-news\">2017-10-10', '15:49', '15:49</span>', '</li>', '<li', 'class=\"clearfix\"', '>', '<h4><a', 'href=\"https://cse.koreatech.ac.kr/82220\"', 'class=\"title\"><span', 'style=\"font-weight:bold\">[특성화]', 'ICTS', '2017', '중국', '전시회', '선발학생', '공고</span></a></h4>', '<span', 'class=\"date-news\">2017-09-28', '10:18', '10:18</span>', '</li>', '</ul>', '</div>', '</aside>', '</div>', '</div></div><div', 'class=\"xe-widget-wrapper', '\"', 'style=\"background-position:', '0%', '0%;', 'margin:', '0px;', 'border:', '0px', 'solid', 'rgb(0,', '0,', '0);', 'border-image:', 'none;', 'width:', '375px;', 'float:', 'left;', 'background-image:', 'none;', 'background-repeat:', 'repeat', 'repeat;\"><div', 'style=\"*zoom:1;padding:0px', '0px', '0px', '0px', '!important;\"><div', 'class=\"sidebar-homepage\">', '<aside', 'class=\"widget-container\">', '<div', 'class=\"widget-wrapper', 'clearfix\">', '<h3', 'class=\"widget-title\"><a', 'href=\"https://cse.koreatech.ac.kr/freeboard\">자유게시판</a></h3>', '<ul', 'class=\"widgetA', 'menu', 'news-sidebar\">', '<li', 'class=\"clearfix\"', '>', '<h4><a', 'href=\"https://cse.koreatech.ac.kr/82396\"', 'class=\"title\">PaaS', '&amp;amp;', 'IaaS', '오라클데이', '개최', '(천안)</a></h4>', '<span', 'class=\"date-news\">2017-10-19', '08:58', '08:58</span>', '</li>', '<li', 'class=\"clearfix\"', '>', '<h4><a', 'href=\"https://cse.koreatech.ac.kr/82224\"', 'class=\"title\">제6회', '레몬', '정보보호', '세미나', '개최</a></h4>', '<span', 'class=\"date-news\">2017-10-06', '23:40', '23:40</span>', '</li>', '<li', 'class=\"clearfix\"', '>', '<h4><a', 'href=\"https://cse.koreatech.ac.kr/81765\"', 'class=\"title\">예비역', '훈련', '및', '뒤풀이', '공지!</a></h4>', '<span', 'class=\"date-news\">2017-09-19', '21:16', '21:16</span>', '</li>', '<li', 'class=\"clearfix\"', '>', '<h4><a', 'href=\"https://cse.koreatech.ac.kr/81737\"', 'class=\"title\">모의토익비를', '지원해드립니다.^^</a></h4>', '<span', 'class=\"date-news\">2017-09-17', '20:08', '20:08</span>', '</li>', '<li', 'class=\"clearfix\"', '>', '<h4><a', 'href=\"https://cse.koreatech.ac.kr/81455\"', 'class=\"title\">4공학관', 'B동', '입구', '담배피우는', '문제로', '글을', '올립니다.</a></h4>', '<span', 'class=\"date-news\">2017-09-11', '22:13', '22:13</span>', '</li>', '</ul>', '</div>', '</aside>', '</div>', '</div></div><div', 'class=\"xe-widget-wrapper', '\"', 'style=\"background-position:', '0%', '0%;', 'margin:', '0px;', 'border:', '0px', 'solid', 'rgb(0,', '0,', '0);', 'border-image:', 'none;', 'width:', '375px;', 'float:', 'left;', 'background-image:', 'none;', 'background-repeat:', 'repeat', 'repeat;\"><div', 'style=\"*zoom:1;padding:0px', '0px', '0px', '0px', '!important;\"><div', 'class=\"sidebar-homepage\">', '<aside', 'class=\"widget-container\">', '<div', 'class=\"widget-wrapper', 'clearfix\">', '<h3', 'class=\"widget-title\"><a', 'href=\"https://cse.koreatech.ac.kr/jobboard\">취업게시판</a></h3>', '<ul', 'class=\"widgetA', 'menu', 'news-sidebar\">', '<li', 'class=\"clearfix\"', '>', '<h4><a', 'href=\"https://cse.koreatech.ac.kr/82394\"', 'class=\"title\">[평택]', '애디언트오토모티브인테리어코리아_IT팀', '신입사...</a></h4>', '<span', 'class=\"date-news\">2017-10-19', '08:45', '08:45</span>', '</li>', '<li', 'class=\"clearfix\"', '>', '<h4><a', 'href=\"https://cse.koreatech.ac.kr/82223\"', 'class=\"title\">[천안]', '(주)ABB코리아', '채용', '공고문', '-', '로봇사업부', '채용(...</a></h4>', '<span', 'class=\"date-news\">2017-09-29', '11:29', '11:29</span>', '</li>', '<li', 'class=\"clearfix\"', '>', '<h4><a', 'href=\"https://cse.koreatech.ac.kr/81798\"', 'class=\"title\">영풍전자(주)', '-', '[안산]_직무별[제조기술/품질/개발/마...</a></h4>', '<span', 'class=\"date-news\">2017-09-25', '10:04', '10:04</span>', '</li>', '<li', 'class=\"clearfix\"', '>', '<h4><a', 'href=\"https://cse.koreatech.ac.kr/81796\"', 'class=\"title\">[용인-수원(내년', '통합예정)]', '㈜라온옵틱스', '신입,', '경력...</a></h4>', '<span', 'class=\"date-news\">2017-09-25', '09:21', '09:21</span>', '</li>', '<li', 'class=\"clearfix\"', '>', '<h4><a', 'href=\"https://cse.koreatech.ac.kr/81441\"', 'class=\"title\">엑시콘', '산학공동연구소', '연구원', '모집(~9/18)</a></h4>', '<span', 'class=\"date-news\">2017-09-08', '13:46', '13:46</span>', '</li>', '</ul>', '</div>', '</aside>', '</div>', '</div></div><div', 'class=\"xe-widget-wrapper', '\"', 'style=\"background-position:', '0%', '0%;', 'margin:', '0px;', 'border:', '0px', 'solid', 'rgb(0,', '0,', '0);', 'border-image:', 'none;', 'width:', '375px;', 'float:', 'left;', 'background-image:', 'none;', 'background-repeat:', 'repeat', 'repeat;\"><div', 'style=\"*zoom:1;padding:0px', '0px', '0px', '0px', '!important;\"><div', 'class=\"sidebar-homepage\">', '<aside', 'class=\"widget-container\">', '<div', 'class=\"widget-wrapper', 'clearfix\">', '<h3', 'class=\"widget-title\"><a', 'href=\"http://platum.kr\">Platum</a></h3>', '<ul', 'class=\"widgetA', 'menu', 'news-sidebar\">', '<li', 'class=\"clearfix\"', '>', '<h4><a', 'href=\"http://platum.kr/archives/89724\"', 'class=\"title\">[현장]', '창업자,”스타트업', '전반', '분위기', '64점”,', '정부', '점...</a></h4>', '<span', 'class=\"icon\"></span>', '<span', 'class=\"date-news\">2017-10-19', '14:02', '14:02</span>', '</li>', '<li', 'class=\"clearfix\"', '>', '<h4><a', 'href=\"http://platum.kr/archives/89705\"', 'class=\"title\">3D', '프린팅', '의료기업', '‘애니메디솔루션’,', '15억', '원', '투자유치</a></h4>', '<span', 'class=\"icon\"></span>', '<span', 'class=\"date-news\">2017-10-19', '12:29', '12:29</span>', '</li>', '<li', 'class=\"clearfix\"', '>', '<h4><a', 'href=\"http://platum.kr/archives/89701\"', 'class=\"title\">넥스트플로어,', '스튜디오포립', '전략적', '투자</a></h4>', '<span', 'class=\"icon\"></span>', '<span', 'class=\"date-news\">2017-10-19', '12:19', '12:19</span>', '</li>', '<li', 'class=\"clearfix\"', '>', '<h4><a', 'href=\"http://platum.kr/archives/89695\"', 'class=\"title\">메쉬코리아,', '올', '3분기', '누적', '거래액', '515억</a></h4>', '<span', 'class=\"icon\"></span>', '<span', 'class=\"date-news\">2017-10-19', '12:13', '12:13</span>', '</li>', '<li', 'class=\"clearfix\"', '>', '<h4><a', 'href=\"http://platum.kr/archives/89687\"', 'class=\"title\">맹목적', '글로벌', '진출을', '목표로', '해서는', '안된다.</a></h4>', '<span', 'class=\"icon\"></span>', '<span', 'class=\"date-news\">2017-10-19', '12:03', '12:03</span>', '</li>', '</ul>', '</div>', '</aside>', '</div>', '</div></div><div', 'class=\"xe-widget-wrapper', '\"', 'style=\"background-position:', '0%', '0%;', 'margin:', '0px;', 'border:', '0px', 'solid', 'rgb(0,', '0,', '0);', 'border-image:', 'none;', 'width:', '375px;', 'float:', 'left;', 'background-image:', 'none;', 'background-repeat:', 'repeat', 'repeat;\"><div', 'style=\"*zoom:1;padding:0px', '0px', '0px', '0px', '!important;\"><div', 'class=\"sidebar-homepage\">', '<aside', 'class=\"widget-container\">', '<div', 'class=\"widget-wrapper', 'clearfix\">', '<h3', 'class=\"widget-title\"><a', 'href=\"http://www.etnews.com/\">전자신문</a></h3>', '<ul', 'class=\"widgetA', 'menu', 'news-sidebar\">', '<li', 'class=\"clearfix\"', '>', '<h4><a', 'href=\"http://www.etnews.com/20171019000242\"', 'class=\"title\">SK텔레콤', '양자기술,', '美서', '극찬', '\"정말', '잘', '만든', '멋...</a></h4>', '<span', 'class=\"icon\"></span>', '<span', 'class=\"date-news\">2017-10-19', '17:00', '17:00</span>', '</li>', '<li', 'class=\"clearfix\"', '>', '<h4><a', 'href=\"http://www.etnews.com/20171019000332\"', 'class=\"title\">커넥티드카,', '5G+와이파이', '동시활용', '길', '열린다…글...</a></h4>', '<span', 'class=\"icon\"></span>', '<span', 'class=\"date-news\">2017-10-19', '17:00', '17:00</span>', '</li>', '<li', 'class=\"clearfix\"', '>', '<h4><a', 'href=\"http://www.etnews.com/20171019000316\"', 'class=\"title\">[ICT시사용어]논스탠드얼론', '5G(NSA', '5G)</a></h4>', '<span', 'class=\"icon\"></span>', '<span', 'class=\"date-news\">2017-10-19', '16:13', '16:13</span>', '</li>', '<li', 'class=\"clearfix\"', '>', '<h4><a', 'href=\"http://www.etnews.com/20171019000314\"', 'class=\"title\">中', 'ZTE', '접이식', '스마트폰', \"'액손M'\", '출시</a></h4>', '<span', 'class=\"icon\"></span>', '<span', 'class=\"date-news\">2017-10-19', '16:07', '16:07</span>', '</li>', '<li', 'class=\"clearfix\"', '>', '<h4><a', 'href=\"http://www.etnews.com/20171019000287\"', 'class=\"title\">유영민', '장관,', '4차', '산업혁명', '대비', '아이디어', '기반', '...</a></h4>', '<span', 'class=\"icon\"></span>', '<span', 'class=\"date-news\">2017-10-19', '15:20', '15:20</span>', '</li>', '</ul>', '</div>', '</aside>', '</div>', '</div></div><div', 'class=\"xe-widget-wrapper', '\"', 'style=\"background-position:', '0%', '0%;', 'margin:', '0px;', 'border:', '0px', 'solid', 'rgb(0,', '0,', '0);', 'border-image:', 'none;', 'width:', '375px;', 'float:', 'left;', 'background-image:', 'none;', 'background-repeat:', 'repeat', 'repeat;\"><div', 'style=\"*zoom:1;padding:0px', '0px', '0px', '0px', '!important;\"><div', 'class=\"sidebar-homepage\">', '<aside', 'class=\"widget-container\">', '<div', 'class=\"widget-wrapper', 'clearfix\">', '<h3', 'class=\"widget-title\"><a', 'href=\"https://techcrunch.com/\">TechCrunch</a></h3>', '<ul', 'class=\"widgetA', 'menu', 'news-sidebar\">', '<li', 'class=\"clearfix\"', '>', '<h4><a', 'href=\"http://feedproxy.google.com/~r/Techcrunch/~3/NfriDIwDKYk/\"', 'class=\"title\">London-based', 'on-demand', 'delivery', 'startup', 'Jinn', 's...</a></h4>', '<span', 'class=\"icon\"></span>', '<span', 'class=\"date-news\">2017-10-19', '18:46', '18:46</span>', '</li>', '<li', 'class=\"clearfix\"', '>', '<h4><a', 'href=\"http://feedproxy.google.com/~r/Techcrunch/~3/i_bt8cYVGBo/\"', 'class=\"title\">Hiya,', 'a', 'Whitepages', 'spinout,', 'nabs', '$18M', 'to', 'for', 'i...</a></h4>', '<span', 'class=\"icon\"></span>', '<span', 'class=\"date-news\">2017-10-19', '16:24', '16:24</span>', '</li>', '<li', 'class=\"clearfix\"', '>', '<h4><a', 'href=\"http://feedproxy.google.com/~r/Techcrunch/~3/uUwgc6UTqm4/\"', 'class=\"title\">European', 'house', 'removals', 'platform', 'Movinga', 'raise...</a></h4>', '<span', 'class=\"icon\"></span>', '<span', 'class=\"date-news\">2017-10-19', '15:45', '15:45</span>', '</li>', '<li', 'class=\"clearfix\"', '>', '<h4><a', 'href=\"http://feedproxy.google.com/~r/Techcrunch/~3/9ZAtJLlQpmw/\"', 'class=\"title\">Safaricom', 'launches', 'innovation', 'center', 'to', 'move', 'b...</a></h4>', '<span', 'class=\"icon\"></span>', '<span', 'class=\"date-news\">2017-10-19', '15:30', '15:30</span>', '</li>', '<li', 'class=\"clearfix\"', '>', '<h4><a', 'href=\"http://feedproxy.google.com/~r/Techcrunch/~3/ojGLW5KXQGE/\"', 'class=\"title\">Tony', 'Fadell’s', 'newest', 'product?', 'An', 'investing', 'and...</a></h4>', '<span', 'class=\"icon\"></span>', '<span', 'class=\"date-news\">2017-10-19', '15:15', '15:15</span>', '</li>', '</ul>', '</div>', '</aside>', '</div>', '</div></div>', '</div>', '</div>', '<footer', 'id=\"main-footer\">', '<div', 'id=\"footer-content\"', 'class=\"clearfix\">', '<div', 'id=\"footer-container\">', '<div', 'id=\"sidebar-footer-left\"', 'class=\"sidebar-footer\">', '<aside', 'class=\"widget-container\">', '<div', 'class=\"widget-wrapper', 'clearfix\">', '<h3', 'class=\"widget-title\">Quick', 'Navigation</h3>', '<ul>', '<li><a', 'href=\"http://www.koreatech.ac.kr\"', 'target=\"_blank\">한국기술교육대학교', '홈페이지</a></li>', '<li><a', 'href=\"https://email.koreatech.ac.kr\"', 'target=\"_blank\">한국기술교육대학교', 'WEBMAIL</a></li>', '<li><a', 'href=\"http://www.e-koreatech.ac.kr\"', 'target=\"_blank\">한국기술교육대학교', '온라인', '평생교육원</a></li>', '<li><a', 'href=\"http://itcsw.koreatech.ac.kr\"', 'target=\"_blank\">IT', '융합소프트웨어', '인력양성사업</a></li>', '<li><a', 'href=\"http://csenas.koreatech.ac.kr:5000\"', 'target=\"_blank\">컴퓨터공학부', '교직원', '업무', '자료실</a></li>', '</ul>', '</div>', '</aside>', '</div>', '<div', 'id=\"sidebar-footer-middle\"', 'class=\"sidebar-footer\">', '<aside', 'class=\"widget-container\">', '<div', 'class=\"widget-wrapper', 'clearfix\">', '<h3', 'class=\"widget-title\">Campus', 'Location</h3>', '<article', 'class=\"text-widget', '\">', '<iframe', 'class=\"map-area\"', 'src=\"https://www.google.com/maps/embed?pb=!1m18!1m12!1m3!1d3196.369861062225!2d127.28035150000001!3d36.761693699999995!2m3!1f0!2f0!3f0!3m2!1i1024!2i768!4f13.1!3m3!1m2!1s0x357b2ac0a5190d0f%3A0x24cddeffd416ef74!2z7LKc7JWI7IucIOuzkeyynOuptCDtlZzqta3quLDsiKDqtZDsnKHrjIDtlZnqtZAg6rO17ZWZNOq0gA!5e0!3m2!1sko!2skr!4v1428058842867\"', 'width=\"600\"', 'height=\"450\"', 'frameborder=\"0\"', 'style=\"border:0\"></iframe><br/>', '</div>', '</aside>', '</div>', '<div', 'id=\"sidebar-footer-right\"', 'class=\"sidebar-footer\">', '<aside', 'class=\"widget-container\">', '<h3', 'class=\"widget-title\">Contact', 'CSE</h3>', '<p>충청남도', '천안시', '동남구', '병천면', '충절로', '1600<br/>한국기술교육대학교', '컴퓨터공학부', '학과사무실', '<br/>TEL', '(041)', '560', '1460', '~', '1461<br/>', 'FAX', '(041)', '560', '1462', '<ul', 'id=\"list-social\"', 'class=\"clearfix\">', '<li', 'id=\"icon-facebook\"><a', 'href=\"https://facebook.com/koreatech.cse.edu\"', 'target=\"_blank\">Facebook</a></li>', '</ul>', '</aside>', '</div>', '</div>', '</div>', '<div', 'id=\"footer-copyright\">', '<div', 'id=\"footer-copyright-content\"', 'class=\"clearfix\">', '<a', 'href=\"#\"', 'id=\"logo-footer\"><img', 'src=\"/layouts/cse/images/cse_logo_footer.png\"', 'data-retina=\"images/cse_logo_footer_retina.png\"', 'alt=\"School', 'Fun', '-', 'University\"', '/></a>', '<p', 'id=\"text-address\">(31253)', '충청남도', '천안시', '동남구', '병천면', '충절로', '1600', '(가전리,', '한국기술교육대학교)', '컴퓨터공학부', '</p>', '<p', 'id=\"text-copyright\">Copyright', '©', '2015.', 'All', 'rights', 'reserved</p>', '</div>', '</div>', '</footer>', '</body>', '</html>', '<div', 'class=\"wfsr\"></div>', '<script', 'src=\"/addons/autolink/autolink.js?20170918124610\"></script><script', 'src=\"/common/js/plugins/ui/jquery-ui.min.js?20170918124612\"></script><script', 'src=\"/common/js/plugins/ui/jquery.ui.datepicker-ko.js?20170918124612\"></script><script', 'src=\"/addons/resize_image/js/resize_image.min.js?20170918124610\"></script><script', 'src=\"/layouts/cse/script/jquery.flexslider.js?20150805222706\"></script><script', 'src=\"/layouts/cse/script/jquery.prettyPhoto.js?20150805222706\"></script><script', 'src=\"/layouts/cse/script/jquery-ui-tabs-rotate.js?20150805222706\"></script><script', 'src=\"/layouts/cse/script/scripts.js?20150821172206\"></script><script', 'src=\"/files/cache/js_filter_compiled/5ad07e2b14b79f1c993c3e4b5ca58660.ko.compiled.js?20170918124726\"></script><script', 'src=\"/files/cache/ruleset/85b80736b3cc92d07570521ad97a31d9.ko.js?20170918124726\"></script></body>', '</html>']\n"
     ]
    }
   ],
   "source": [
    "#주석 제거\n",
    "first = []\n",
    "second = []\n",
    "status = False\n",
    "for i in source_real:\n",
    "    if \"<!--\" in i:\n",
    "        if status == False:\n",
    "            first.append(source_real.index(\"<!--\"))\n",
    "        source_real[source_real.index(\"<!--\")] = '@'\n",
    "        status = True\n",
    "    if \"-->\" in i:\n",
    "        if status == True:\n",
    "            second.append(source_real.index(\"-->\"))\n",
    "        source_real[source_real.index(\"-->\")] = '%'\n",
    "        status = False\n",
    "\n",
    "firstlen = len(first)\n",
    "\n",
    "for i in range(firstlen):\n",
    "    start = first.pop()\n",
    "    end = second.pop()\n",
    "    source_real[start:end+1 ] = []\n",
    "print(source_real)"
   ]
  },
  {
   "cell_type": "code",
   "execution_count": 266,
   "metadata": {
    "collapsed": false
   },
   "outputs": [
    {
     "name": "stdout",
     "output_type": "stream",
     "text": [
      "['<', '!DOCTYPE', 'html', '>', '<', 'html', 'lang=\"ko\"', '>', '<', 'head', '>', '<', 'meta', 'charset=\"utf-8\"', '>', '<', 'meta', 'name=\"Generator\"', 'content=\"XpressEngine\"', '>', '<', 'meta', 'http-equiv=\"X-UA-Compatible\"', 'content=\"IE=edge\"', '>', '<', 'title', '>', '컴퓨터공학부', '<', '/title', '>', '<', 'link', 'rel=\"stylesheet\"', 'href=\"/common/css/xe.min.css?20170918124612\"', '/', '>', '<', 'link', 'rel=\"stylesheet\"', 'href=\"/layouts/cse/style/prettyPhoto.css?20150805222706\"', '/', '>', '<', 'link', 'rel=\"stylesheet\"', 'href=\"/layouts/cse/style/stylemobile.css?20150805222706\"', '/', '>', '<', 'link', 'rel=\"stylesheet\"', 'href=\"/layouts/cse/style/mobilenavigation.css?20150805222706\"', '/', '>', '<', 'link', 'rel=\"stylesheet\"', 'href=\"/modules/editor/styles/ckeditor_light/style.css?20170918124613\"', '/', '>', '<', 'link', 'rel=\"stylesheet\"', 'href=\"/widgets/login_info/skins/cse_login_info_2015/default.login.css?20150420232234\"', '/', '>', '<', 'link', 'rel=\"stylesheet\"', 'href=\"/widgets/content_cse/skins/cse_latest_2015/css/widget.css?20150625005943\"', '/', '>', '<', 'link', 'rel=\"stylesheet\"', 'href=\"/addons/font_nanum_gothic/font-nanum_gothic.css?20150429141819\"', '/', '>', '<', 'link', 'rel=\"stylesheet\"', 'href=\"/files/faceOff/664/070/layout.css?20160523173814\"', '/', '>', '<', 'script', 'src=\"/common/js/x.min.js?20170918124612\"', '>', '<', '/script', '>', '<', 'script', 'src=\"/common/js/xe.min.js?20170918124612\"', '>', '<', '/script', '>', '<', 'script', 'src=\"/layouts/cse/script/modernizr.js?20150805222706\"', '>', '<', '/script', '>', '<', 'script', 'src=\"/widgets/login_info/skins/cse_login_info_2015/default.login.js?20150420232234\"', '>', '<', '/script', '>', '<', 'script', 'src=\"/widgets/content_cse/skins/cse_latest_2015/js/content_widget.js?20150422211442\"', '>', '<', '/script', '>', '<', 'link', 'rel=\"alternate\"', 'type=\"application/rss+xml\"', 'title=\"Site', 'RSS\"', 'href=\"https://cse.koreatech.ac.kr/rss\"', '/', '>', '<', 'link', 'rel=\"alternate\"', 'type=\"application/atom+xml\"', 'title=\"Site', 'Atom\"', 'href=\"https://cse.koreatech.ac.kr/atom\"', '/', '>', '<', 'link', 'rel=\"shortcut', 'icon\"', 'href=\"https://cse.koreatech.ac.kr/files/attach/xeicon/favicon.ico\"', '/', '>', '<', 'link', 'rel=\"canonical\"', 'href=\"https://cse.koreatech.ac.kr/\"', '/', '>', '<', 'meta', 'property=\"og:locale\"', 'content=\"ko_KR\"', '/', '>', '<', 'meta', 'property=\"og:type\"', 'content=\"website\"', '/', '>', '<', 'meta', 'property=\"og:url\"', 'content=\"https://cse.koreatech.ac.kr/\"', '/', '>', '<', 'meta', 'property=\"og:title\"', 'content=\"컴퓨터공학부\"', '/', '>', '<', 'link', \"href='https://fonts.googleapis.com/css?family=Raleway:400,700,300,900'\", \"rel='stylesheet'\", \"type='text/css'\", '/', '>', '<', 'link', \"href='https://fonts.googleapis.com/css?family=Nunito:400,300,700'\", \"rel='stylesheet'\", \"type='text/css'\", '/', '>', '<', 'link', 'rel=\"stylesheet\"', 'href=\"//fonts.googleapis.com/earlyaccess/nanumgothic.css\"', '/', '>', '<', 'meta', 'charset=\"utf-8\"', '/', '>', '<', 'meta', 'name=\"viewport\"', 'content=\"width=device-width,', 'initial-scale=1.0\"', '/', '>', '<', 'meta', 'name=\"description\"', 'content=\"Website', 'Description\"', '/', '>', '<', 'meta', 'name=\"keywords\"', 'content=\"Website', 'Keywords\"', '/', '>', '<', 'script', '>', '//', '<', '![CDATA[', 'var', 'current_url', '=', '\"https://cse.koreatech.ac.kr/\";', 'var', 'request_uri', '=', '\"https://cse.koreatech.ac.kr/\";', 'var', 'current_mid', '=', '\"home_2015\";', 'var', 'waiting_message', '=', '\"서버에', '요청', '중입니다.', '잠시만', '기다려주세요.\";', 'var', 'ssl_actions', '=', 'new', 'Array();', 'var', 'default_url', '=', '\"https://cse.koreatech.ac.kr/\";', 'var', 'http_port', '=', '80;var', 'https_port', '=', '443;var', 'enforce_ssl', '=', 'true;xe.current_lang', '=', '\"ko\";', 'xe.cmd_find', '=', '\"찾기\";', 'xe.cmd_cancel', '=', '\"취소\";', 'xe.cmd_confirm', '=', '\"확인\";', 'xe.msg_no_root', '=', '\"루트는', '선택', '할', '수', '없습니다.\";', 'xe.msg_no_shortcut', '=', '\"바로가기는', '선택', '할', '수', '없습니다.\";', 'xe.msg_select_menu', '=', '\"대상', '메뉴', '선택\";', '//]]', '>', '<', '/script', '>', '<', '/head', '>', '<', 'body', '>', '<', '!DOCTYPE', 'html', '>', '<', 'html', 'lang=\"ko\"', '>', '<', 'head', '>', '<', 'title', '>', 'Schoolfun', '-', 'Study', 'and', 'Fun', '<', '/title', '>', '<', '/head', '>', '<', 'body', 'class=\"\"', '>', '<', 'header', 'id=\"main-header\"', 'class=\"clearfix\"', '>', '<', 'div', 'id=\"header-full\"', 'class=\"clearfix\"', '>', '<', 'div', 'id=\"header\"', 'class=\"clearfix\"', '>', '<', 'a', 'href=\"#nav\"', 'class=\"open-menu\"', '>', '<', 'span', 'class=\"icon-bar\"', '>', '<', '/span', '>', '<', 'span', 'class=\"icon-bar\"', '>', '<', '/span', '>', '<', 'span', 'class=\"icon-bar\"', '>', '<', '/span', '>', '<', '/a', '>', '<', 'a', 'href=\"https://cse.koreatech.ac.kr/\"', 'id=\"logo\"', '>', '<', 'img', 'src=\"/layouts/cse/images/cse_logo.png\"', 'data-retina=\"images/cse_logo.png\"', 'alt=\"School', 'Fun', '-', 'WordPress', 'Theme\"', '/', '>', '<', '/a', '>', '<', 'aside', 'id=\"header-content\"', '>', '<', 'ul', 'id=\"nav-header\"', 'style=\"\"', '>', '<', 'li', '>', '<', 'div', 'class=\"xe-widget-wrapper', '\"', 'style=\"\"', '>', '<', 'div', 'style=\"*zoom:1;padding:0px', '0px', '0px', '0px', '!important;\"', '>', '<', 'form', 'id=\"fo_login_widget\"', 'action=\"https://cse.koreatech.ac.kr/index.php?act=procMemberLogin\"', 'method=\"post\"', 'class=\"account\"', '>', '<', 'input', 'type=\"hidden\"', 'name=\"error_return_url\"', 'value=\"/\"', '/', '>', '<', 'input', 'type=\"hidden\"', 'name=\"mid\"', 'value=\"home_2015\"', '/', '>', '<', 'input', 'type=\"hidden\"', 'name=\"vid\"', 'value=\"\"', '/', '>', '<', 'input', 'type=\"hidden\"', 'name=\"ruleset\"', 'value=\"@login\"', '/', '>', '<', 'a', 'href=\"#acField\"', '>', '로그인', '<', '/a', '>', '<', 'fieldset', 'id=\"acField\"', '>', '<', 'h2', '>', '로그인', '<', '/h2', '>', '<', 'input', 'type=\"hidden\"', 'name=\"act\"', 'value=\"procMemberLogin\"', '/', '>', '<', 'input', 'type=\"hidden\"', 'name=\"success_return_url\"', 'value=\"/\"', '/', '>', '<', 'input', 'type=\"hidden\"', 'name=\"xe_validator_id\"', 'value=\"widgets/login_info/skins/default/login_form/1\"', '/', '>', '<', 'div', 'class=\"idpw\"', '>', '<', 'label', 'for=\"user_id\"', '>', '아이디', '<', '/label', '>', '<', 'input', 'name=\"user_id\"', 'id=\"user_id\"', 'type=\"text\"', 'required', '/', '>', '<', 'label', 'for=\"user_pw\"', '>', '비밀번호', '<', '/label', '>', '<', 'input', 'name=\"password\"', 'id=\"user_pw\"', 'type=\"password\"', 'required', '/', '>', '<', 'p', 'class=\"keep\"', '>', '<', 'input', 'type=\"checkbox\"', 'name=\"keep_signed\"', 'id=\"keep_signed\"', 'value=\"Y\"', '/', '>', '<', 'label', 'for=\"keep_signed\"', '>', '로그인', '유지', '<', '/label', '>', '<', '/p', '>', '<', 'p', 'class=\"warning\"', '>', '브라우저를', '닫더라도', '로그인이', '계속', '유지될', '수', '있습니다.', '로그인', '유지', '기능을', '사용할', '경우', '다음', '접속부터는', '로그인할', '필요가', '없습니다.', '단,', '게임방,', '학교', '등', '공공장소에서', '이용', '시', '개인정보가', '유출될', '수', '있으니', '꼭', '로그아웃을', '해주세요.', '<', '/p', '>', '<', '/div', '>', '<', 'input', 'type=\"submit\"', 'value=\"로그인\"', '/', '>', '<', 'ul', 'class=\"help\"', '>', '<', 'li', '>', '<', 'a', 'href=\"https://cse.koreatech.ac.kr/index.php?mid=home_2015&amp;act=dispMemberSignUpForm\"', '>', '회원가입', '<', '/a', '>', '<', '/li', '>', '<', 'li', '>', '<', 'a', 'href=\"https://cse.koreatech.ac.kr/index.php?mid=home_2015&amp;act=dispMemberFindAccount\"', '>', 'ID/PW', '찾기', '<', '/a', '>', '<', '/li', '>', '<', '/ul', '>', '<', '/fieldset', '>', '<', '/form', '>', '<', '/div', '>', '<', '/div', '>', '<', '/li', '>', '<', '/ul', '>', '<', 'h3', 'id=\"slogan\"', 'style=\"font-family:\\'Nanum', \"Gothic',\", 'serif\"', '>', 'IT', '교육의', '글로벌', '메카!', '<', 'br/', '>', '한국기술교육대학교', '컴퓨터공학부', '<', '/h3', '>', '<', '/aside', '>', '<', '/div', '>', '<', '/div', '>', '<', 'nav', 'id=\"nav\"', 'class=\"clearfix\"', '>', '<', 'a', 'href=\"#\"', 'class=\"close-menu-big\"', '>', 'Close', '<', '/a', '>', '<', 'div', 'id=\"nav-container\"', '>', '<', 'a', 'href=\"#\"', 'class=\"close-menu\"', '>', '<', 'span', 'class=\"icon-bar\"', '>', '<', '/span', '>', '<', 'span', 'class=\"icon-bar\"', '>', '<', '/span', '>', '<', 'span', 'class=\"icon-bar\"', '>', '<', '/span', '>', '<', '/a', '>', '<', 'ul', 'id=\"nav-main\"', '>', '<', 'li', '>', '<', 'a', 'href=\"https://cse.koreatech.ac.kr/intro_home_2015\"', '>', '소개', '<', '/a', '>', '<', '/li', '>', '<', 'li', '>', '<', 'a', 'href=\"https://cse.koreatech.ac.kr/page_KbyV58\"', '>', '구성원소개', '<', '/a', '>', '<', '/li', '>', '<', 'li', '>', '<', 'a', 'href=\"https://cse.koreatech.ac.kr/page_izgw21\"', '>', '학사안내', '<', '/a', '>', '<', '/li', '>', '<', 'li', '>', '<', 'a', 'href=\"#\"', '>', '입학', '<', '/a', '>', '<', 'ul', '>', '<', 'li', '>', '<', 'a', 'href=\"http://www.koreatech.ac.kr/admission.do\"', 'target=\"_blank\"', '>', '학부', '<', '/a', '>', '<', '/li', '>', '<', 'li', '>', '<', 'a', 'href=\"http://www.koreatech.ac.kr/grd/sub02_01_01_01.do\"', 'target=\"_blank\"', '>', '대학원', '<', '/a', '>', '<', '/li', '>', '<', '/ul', '>', '<', '/li', '>', '<', 'li', '>', '<', 'a', 'href=\"https://cse.koreatech.ac.kr/notice\"', '>', '학부광장', '<', '/a', '>', '<', '/li', '>', '<', 'li', '>', '<', 'a', 'href=\"https://cse.koreatech.ac.kr/pds\"', '>', '자료실', '<', '/a', '>', '<', '/li', '>', '<', 'li', '>', '<', 'a', 'href=\"https://cse.koreatech.ac.kr/page_birW64\"', '>', '대학원', '<', '/a', '>', '<', '/li', '>', '<', 'li', '>', '<', 'a', 'href=\"https://cse.koreatech.ac.kr/page_vBGH80\"', '>', '공학교육인증', '<', '/a', '>', '<', '/li', '>', '<', 'li', '>', '<', 'a', 'href=\"https://cse.koreatech.ac.kr/graduate\"', '>', '학부서비스', '<', '/a', '>', '<', '/li', '>', '<', '/ul', '>', '<', 'a', 'href=\"https://cse.koreatech.ac.kr/index.php?mid=home_2015&amp;act=dispMemberSignUpForm\"', 'id=\"button-registration\"', '>', 'Registration', '<', '/a', '>', '<', '/div', '>', '<', '/nav', '>', '<', '/header', '>', '<', 'div', 'id=\"slideshow-tabs\"', 'class=\"ui-tabs', 'ui-widget', 'ui-widget-content', 'ui-corner-all\"', '>', '<', 'div', 'id=\"panel-tabs\"', 'class=\"clearfix\"', '>', '<', 'ul', 'class=\"nav-tabs-slideshow', 'ui-tabs-nav', 'ui-helper-reset', 'ui-helper-clearfix', 'ui-widget-header', 'ui-corner-all\"', 'role=\"tablist\"', '>', '<', 'li', 'class=\"ui-state-default', 'ui-corner-top', 'ui-tabs-active', 'ui-state-active\"', 'role=\"tab\"', 'tabindex=\"0\"', 'aria-controls=\"panel-1\"', 'aria-labelledby=\"ui-id-1\"', 'aria-selected=\"true\"', '>', '<', 'a', 'href=\"#panel-1\"', 'class=\"ui-tabs-anchor\"', 'role=\"presentation\"', 'tabindex=\"-1\"', 'id=\"ui-id-1\"', '>', '<', 'strong', '>', '컴퓨터공학부', '<', '/strong', '>', '<', 'br', '>', '<', 'span', '>', 'School', 'of', 'Computer', 'Science', 'and', 'Engineering', '<', '/span', '>', '<', '/a', '>', '<', '/li', '>', '<', 'li', 'class=\"ui-state-default', 'ui-corner-top\"', 'role=\"tab\"', 'tabindex=\"-1\"', 'aria-controls=\"panel-2\"', 'aria-labelledby=\"ui-id-2\"', 'aria-selected=\"false\"', '>', '<', 'a', 'href=\"#panel-2\"', 'class=\"ui-tabs-anchor\"', 'role=\"presentation\"', 'tabindex=\"-1\"', 'id=\"ui-id-2\"', '>', '<', 'strong', '>', 'IT', '융합소프트웨어', '인력양성사업', '<', '/strong', '>', '<', 'br', '>', '<', 'span', '>', 'CK', '(Creative', 'Korea)-I', '<', '/span', '>', '<', '/a', '>', '<', '/li', '>', '<', 'li', 'class=\"ui-state-default', 'ui-corner-top\"', 'role=\"tab\"', 'tabindex=\"-1\"', 'aria-controls=\"panel-3\"', 'aria-labelledby=\"ui-id-3\"', 'aria-selected=\"false\"', '>', '<', 'a', 'href=\"#panel-3\"', 'class=\"ui-tabs-anchor\"', 'role=\"presentation\"', 'tabindex=\"-1\"', 'id=\"ui-id-3\"', '>', '<', 'strong', '>', '교육역량강화사업', '온라인', '컨텐츠', '<', '/strong', '>', '<', 'br', '>', '<', 'span', '>', 'Online', 'Contents', 'for', 'Education', 'Capability', 'Empowerment', '<', '/span', '>', '<', '/a', '>', '<', '/li', '>', '<', '/ul', '>', '<', '/div', '>', '<', 'div', 'class=\"ui-tabs-panel', 'ui-widget-content', 'ui-corner-bottom\"', 'id=\"panel-1\"', 'style=\"background-image:', 'url(layouts/cse/images/kut1.png);', 'display:', 'block;', 'background-position:', '50%', '0px;', 'background-repeat:', 'no-repeat', 'no-repeat;\"', 'aria-labelledby=\"ui-id-1\"', 'role=\"tabpanel\"', 'aria-expanded=\"true\"', 'aria-hidden=\"false\"', '>', '<', 'div', 'class=\"tabs-blur', 'no-blur\"', 'style=\"background:url(http://placehold.it/2000x620)', 'no-repeat', '50%', '0\"', '>', '<', '/div', '>', '<', 'div', 'class=\"tabs-container\"', '>', '<', 'article', '>', '<', 'h2', '>', 'IT', '교육의', '글로벌', '메카', '<', '/h2', '>', '<', 'p', '>', '한국기술교육대학교', '컴퓨터공학부', '홈페이지에', '오신', '것을', '<', 'br/', '>', '환영합니다!', '<', '/p', '>', '<', '/article', '>', '<', '/div', '>', '<', '/div', '>', '<', 'div', 'class=\"ui-tabs-panel', 'ui-widget-content', 'ui-corner-bottom\"', 'id=\"panel-2\"', 'style=\"background-image:', 'url(layouts/cse/images/kut2.png);', 'display:', 'none;', 'background-position:', '50%', '0px;', 'background-repeat:', 'no-repeat', 'no-repeat;\"', 'aria-labelledby=\"ui-id-2\"', 'role=\"tabpanel\"', 'aria-expanded=\"false\"', 'aria-hidden=\"true\"', '>', '<', 'div', 'class=\"tabs-blur', 'no-blur\"', 'style=\"background:url(http://placehold.it/2000x620)', 'no-repeat', '50%', '0\"', '>', '<', '/div', '>', '<', 'div', 'class=\"tabs-container\"', '>', '<', 'article', '>', '<', 'h2', '>', 'IT', '융합소프트웨어', '인력양성사업', '<', '/h2', '>', '<', 'p', '>', '글로벌', '수준의', 'IT전문인력', '양성', '<', 'br/', '>', 'IT융합분야에', '대한', '국제적인', '경쟁력', '고취', '<', '/p', '>', '<', 'a', 'href=\"http://itcsw.koreatech.ac.kr\"', 'target=\"_blank\"', 'class=\"button-more-slide\"', '>', '바로가기', '<', '/a', '>', '<', '/article', '>', '<', '/div', '>', '<', '/div', '>', '<', 'div', 'class=\"ui-tabs-panel', 'ui-widget-content', 'ui-corner-bottom\"', 'id=\"panel-3\"', 'style=\"background-image:', 'url(layouts/cse/images/kut3.png);', 'display:', 'none;', 'background-position:', '50%', '0px;', 'background-repeat:', 'no-repeat', 'no-repeat;\"', 'aria-labelledby=\"ui-id-3\"', 'role=\"tabpanel\"', 'aria-expanded=\"false\"', 'aria-hidden=\"true\"', '>', '<', 'div', 'class=\"tabs-blur', 'no-blur\"', 'style=\"background:url(http://placehold.it/2000x620)', 'no-repeat', '50%', '0\"', '>', '<', '/div', '>', '<', 'div', 'class=\"tabs-container\"', '>', '<', 'article', '>', '<', 'h2', '>', '교육역량강화사업', '컨텐츠', '<', '/h2', '>', '<', 'p', '>', '교육역량강화사업', '온라인', '컨텐츠를', '소개합니다.', '<', '/p', '>', '<', 'a', 'href=\"http://220.68.64.187\"', 'target=\"_blank\"', 'class=\"button-more-slide\"', '>', '바로가기', '<', '/a', '>', '<', '/article', '>', '<', '/div', '>', '<', '/div', '>', '<', '/div', '>', '<', 'div', '>', '<', 'div', 'id=\"content\"', 'class=\"clearfix\"', '>', '<', 'div', 'class=\"xe-widget-wrapper', '\"', 'style=\"background-position:', '0%', '0%;', 'margin:', '0px;', 'border:', '0px', 'solid', 'rgb(0,', '0,', '0);', 'border-image:', 'none;', 'width:', '375px;', 'float:', 'left;', 'background-image:', 'none;', 'background-repeat:', 'repeat', 'repeat;\"', '>', '<', 'div', 'style=\"*zoom:1;padding:0px', '0px', '0px', '0px', '!important;\"', '>', '<', 'div', 'class=\"sidebar-homepage\"', '>', '<', 'aside', 'class=\"widget-container\"', '>', '<', 'div', 'class=\"widget-wrapper', 'clearfix\"', '>', '<', 'h3', 'class=\"widget-title\"', '>', '<', 'a', 'href=\"https://cse.koreatech.ac.kr/notice\"', '>', '공지사항', '<', '/a', '>', '<', '/h3', '>', '<', 'ul', 'class=\"widgetA', 'menu', 'news-sidebar\"', '>', '<', 'li', 'class=\"clearfix\"', '>', '<', 'h4', '>', '<', 'a', 'href=\"https://cse.koreatech.ac.kr/82408\"', 'class=\"title\"', '>', '<', 'span', 'style=\"font-weight:bold\"', '>', '[특성화]', 'G-STAR', '2017', '전시회', '학생', '모집', '공고', '<', '/span', '>', '<', '/a', '>', '<', '/h4', '>', '<', 'span', 'class=\"date-news\"', '>', '2017-10-19', '14:46', '14:46', '<', '/span', '>', '<', '/li', '>', '<', 'li', 'class=\"clearfix\"', '>', '<', 'h4', '>', '<', 'a', 'href=\"https://cse.koreatech.ac.kr/82388\"', 'class=\"title\"', '>', '[특성화]프레젠테이션', '실무', '자격증', '반', '특강', '<', '/a', '>', '<', '/h4', '>', '<', 'span', 'class=\"date-news\"', '>', '2017-10-17', '17:41', '17:41', '<', '/span', '>', '<', '/li', '>', '<', 'li', 'class=\"clearfix\"', '>', '<', 'h4', '>', '<', 'a', 'href=\"https://cse.koreatech.ac.kr/82272\"', 'class=\"title\"', '>', '<', 'span', 'style=\"font-weight:bold\"', '>', '2017년', '졸업작품', '영어발표', '경진대회', '및', '공학설계', '아이...', '<', '/span', '>', '<', '/a', '>', '<', '/h4', '>', '<', 'span', 'class=\"date-news\"', '>', '2017-10-11', '09:24', '09:24', '<', '/span', '>', '<', '/li', '>', '<', 'li', 'class=\"clearfix\"', '>', '<', 'h4', '>', '<', 'a', 'href=\"https://cse.koreatech.ac.kr/82264\"', 'class=\"title\"', '>', '<', 'span', 'style=\"font-weight:bold\"', '>', '[특성화]', '2017', 'IT융합', '프로그래밍', '경시대회', '모집', '공고', '<', '/span', '>', '<', '/a', '>', '<', '/h4', '>', '<', 'span', 'class=\"date-news\"', '>', '2017-10-10', '15:49', '15:49', '<', '/span', '>', '<', '/li', '>', '<', 'li', 'class=\"clearfix\"', '>', '<', 'h4', '>', '<', 'a', 'href=\"https://cse.koreatech.ac.kr/82220\"', 'class=\"title\"', '>', '<', 'span', 'style=\"font-weight:bold\"', '>', '[특성화]', 'ICTS', '2017', '중국', '전시회', '선발학생', '공고', '<', '/span', '>', '<', '/a', '>', '<', '/h4', '>', '<', 'span', 'class=\"date-news\"', '>', '2017-09-28', '10:18', '10:18', '<', '/span', '>', '<', '/li', '>', '<', '/ul', '>', '<', '/div', '>', '<', '/aside', '>', '<', '/div', '>', '<', '/div', '>', '<', '/div', '>', '<', 'div', 'class=\"xe-widget-wrapper', '\"', 'style=\"background-position:', '0%', '0%;', 'margin:', '0px;', 'border:', '0px', 'solid', 'rgb(0,', '0,', '0);', 'border-image:', 'none;', 'width:', '375px;', 'float:', 'left;', 'background-image:', 'none;', 'background-repeat:', 'repeat', 'repeat;\"', '>', '<', 'div', 'style=\"*zoom:1;padding:0px', '0px', '0px', '0px', '!important;\"', '>', '<', 'div', 'class=\"sidebar-homepage\"', '>', '<', 'aside', 'class=\"widget-container\"', '>', '<', 'div', 'class=\"widget-wrapper', 'clearfix\"', '>', '<', 'h3', 'class=\"widget-title\"', '>', '<', 'a', 'href=\"https://cse.koreatech.ac.kr/freeboard\"', '>', '자유게시판', '<', '/a', '>', '<', '/h3', '>', '<', 'ul', 'class=\"widgetA', 'menu', 'news-sidebar\"', '>', '<', 'li', 'class=\"clearfix\"', '>', '<', 'h4', '>', '<', 'a', 'href=\"https://cse.koreatech.ac.kr/82396\"', 'class=\"title\"', '>', 'PaaS', '&amp;amp;', 'IaaS', '오라클데이', '개최', '(천안)', '<', '/a', '>', '<', '/h4', '>', '<', 'span', 'class=\"date-news\"', '>', '2017-10-19', '08:58', '08:58', '<', '/span', '>', '<', '/li', '>', '<', 'li', 'class=\"clearfix\"', '>', '<', 'h4', '>', '<', 'a', 'href=\"https://cse.koreatech.ac.kr/82224\"', 'class=\"title\"', '>', '제6회', '레몬', '정보보호', '세미나', '개최', '<', '/a', '>', '<', '/h4', '>', '<', 'span', 'class=\"date-news\"', '>', '2017-10-06', '23:40', '23:40', '<', '/span', '>', '<', '/li', '>', '<', 'li', 'class=\"clearfix\"', '>', '<', 'h4', '>', '<', 'a', 'href=\"https://cse.koreatech.ac.kr/81765\"', 'class=\"title\"', '>', '예비역', '훈련', '및', '뒤풀이', '공지!', '<', '/a', '>', '<', '/h4', '>', '<', 'span', 'class=\"date-news\"', '>', '2017-09-19', '21:16', '21:16', '<', '/span', '>', '<', '/li', '>', '<', 'li', 'class=\"clearfix\"', '>', '<', 'h4', '>', '<', 'a', 'href=\"https://cse.koreatech.ac.kr/81737\"', 'class=\"title\"', '>', '모의토익비를', '지원해드립니다.^^', '<', '/a', '>', '<', '/h4', '>', '<', 'span', 'class=\"date-news\"', '>', '2017-09-17', '20:08', '20:08', '<', '/span', '>', '<', '/li', '>', '<', 'li', 'class=\"clearfix\"', '>', '<', 'h4', '>', '<', 'a', 'href=\"https://cse.koreatech.ac.kr/81455\"', 'class=\"title\"', '>', '4공학관', 'B동', '입구', '담배피우는', '문제로', '글을', '올립니다.', '<', '/a', '>', '<', '/h4', '>', '<', 'span', 'class=\"date-news\"', '>', '2017-09-11', '22:13', '22:13', '<', '/span', '>', '<', '/li', '>', '<', '/ul', '>', '<', '/div', '>', '<', '/aside', '>', '<', '/div', '>', '<', '/div', '>', '<', '/div', '>', '<', 'div', 'class=\"xe-widget-wrapper', '\"', 'style=\"background-position:', '0%', '0%;', 'margin:', '0px;', 'border:', '0px', 'solid', 'rgb(0,', '0,', '0);', 'border-image:', 'none;', 'width:', '375px;', 'float:', 'left;', 'background-image:', 'none;', 'background-repeat:', 'repeat', 'repeat;\"', '>', '<', 'div', 'style=\"*zoom:1;padding:0px', '0px', '0px', '0px', '!important;\"', '>', '<', 'div', 'class=\"sidebar-homepage\"', '>', '<', 'aside', 'class=\"widget-container\"', '>', '<', 'div', 'class=\"widget-wrapper', 'clearfix\"', '>', '<', 'h3', 'class=\"widget-title\"', '>', '<', 'a', 'href=\"https://cse.koreatech.ac.kr/jobboard\"', '>', '취업게시판', '<', '/a', '>', '<', '/h3', '>', '<', 'ul', 'class=\"widgetA', 'menu', 'news-sidebar\"', '>', '<', 'li', 'class=\"clearfix\"', '>', '<', 'h4', '>', '<', 'a', 'href=\"https://cse.koreatech.ac.kr/82394\"', 'class=\"title\"', '>', '[평택]', '애디언트오토모티브인테리어코리아_IT팀', '신입사...', '<', '/a', '>', '<', '/h4', '>', '<', 'span', 'class=\"date-news\"', '>', '2017-10-19', '08:45', '08:45', '<', '/span', '>', '<', '/li', '>', '<', 'li', 'class=\"clearfix\"', '>', '<', 'h4', '>', '<', 'a', 'href=\"https://cse.koreatech.ac.kr/82223\"', 'class=\"title\"', '>', '[천안]', '(주)ABB코리아', '채용', '공고문', '-', '로봇사업부', '채용(...', '<', '/a', '>', '<', '/h4', '>', '<', 'span', 'class=\"date-news\"', '>', '2017-09-29', '11:29', '11:29', '<', '/span', '>', '<', '/li', '>', '<', 'li', 'class=\"clearfix\"', '>', '<', 'h4', '>', '<', 'a', 'href=\"https://cse.koreatech.ac.kr/81798\"', 'class=\"title\"', '>', '영풍전자(주)', '-', '[안산]_직무별[제조기술/품질/개발/마...', '<', '/a', '>', '<', '/h4', '>', '<', 'span', 'class=\"date-news\"', '>', '2017-09-25', '10:04', '10:04', '<', '/span', '>', '<', '/li', '>', '<', 'li', 'class=\"clearfix\"', '>', '<', 'h4', '>', '<', 'a', 'href=\"https://cse.koreatech.ac.kr/81796\"', 'class=\"title\"', '>', '[용인-수원(내년', '통합예정)]', '㈜라온옵틱스', '신입,', '경력...', '<', '/a', '>', '<', '/h4', '>', '<', 'span', 'class=\"date-news\"', '>', '2017-09-25', '09:21', '09:21', '<', '/span', '>', '<', '/li', '>', '<', 'li', 'class=\"clearfix\"', '>', '<', 'h4', '>', '<', 'a', 'href=\"https://cse.koreatech.ac.kr/81441\"', 'class=\"title\"', '>', '엑시콘', '산학공동연구소', '연구원', '모집(~9/18)', '<', '/a', '>', '<', '/h4', '>', '<', 'span', 'class=\"date-news\"', '>', '2017-09-08', '13:46', '13:46', '<', '/span', '>', '<', '/li', '>', '<', '/ul', '>', '<', '/div', '>', '<', '/aside', '>', '<', '/div', '>', '<', '/div', '>', '<', '/div', '>', '<', 'div', 'class=\"xe-widget-wrapper', '\"', 'style=\"background-position:', '0%', '0%;', 'margin:', '0px;', 'border:', '0px', 'solid', 'rgb(0,', '0,', '0);', 'border-image:', 'none;', 'width:', '375px;', 'float:', 'left;', 'background-image:', 'none;', 'background-repeat:', 'repeat', 'repeat;\"', '>', '<', 'div', 'style=\"*zoom:1;padding:0px', '0px', '0px', '0px', '!important;\"', '>', '<', 'div', 'class=\"sidebar-homepage\"', '>', '<', 'aside', 'class=\"widget-container\"', '>', '<', 'div', 'class=\"widget-wrapper', 'clearfix\"', '>', '<', 'h3', 'class=\"widget-title\"', '>', '<', 'a', 'href=\"http://platum.kr\"', '>', 'Platum', '<', '/a', '>', '<', '/h3', '>', '<', 'ul', 'class=\"widgetA', 'menu', 'news-sidebar\"', '>', '<', 'li', 'class=\"clearfix\"', '>', '<', 'h4', '>', '<', 'a', 'href=\"http://platum.kr/archives/89724\"', 'class=\"title\"', '>', '[현장]', '창업자,”스타트업', '전반', '분위기', '64점”,', '정부', '점...', '<', '/a', '>', '<', '/h4', '>', '<', 'span', 'class=\"icon\"', '>', '<', '/span', '>', '<', 'span', 'class=\"date-news\"', '>', '2017-10-19', '14:02', '14:02', '<', '/span', '>', '<', '/li', '>', '<', 'li', 'class=\"clearfix\"', '>', '<', 'h4', '>', '<', 'a', 'href=\"http://platum.kr/archives/89705\"', 'class=\"title\"', '>', '3D', '프린팅', '의료기업', '‘애니메디솔루션’,', '15억', '원', '투자유치', '<', '/a', '>', '<', '/h4', '>', '<', 'span', 'class=\"icon\"', '>', '<', '/span', '>', '<', 'span', 'class=\"date-news\"', '>', '2017-10-19', '12:29', '12:29', '<', '/span', '>', '<', '/li', '>', '<', 'li', 'class=\"clearfix\"', '>', '<', 'h4', '>', '<', 'a', 'href=\"http://platum.kr/archives/89701\"', 'class=\"title\"', '>', '넥스트플로어,', '스튜디오포립', '전략적', '투자', '<', '/a', '>', '<', '/h4', '>', '<', 'span', 'class=\"icon\"', '>', '<', '/span', '>', '<', 'span', 'class=\"date-news\"', '>', '2017-10-19', '12:19', '12:19', '<', '/span', '>', '<', '/li', '>', '<', 'li', 'class=\"clearfix\"', '>', '<', 'h4', '>', '<', 'a', 'href=\"http://platum.kr/archives/89695\"', 'class=\"title\"', '>', '메쉬코리아,', '올', '3분기', '누적', '거래액', '515억', '<', '/a', '>', '<', '/h4', '>', '<', 'span', 'class=\"icon\"', '>', '<', '/span', '>', '<', 'span', 'class=\"date-news\"', '>', '2017-10-19', '12:13', '12:13', '<', '/span', '>', '<', '/li', '>', '<', 'li', 'class=\"clearfix\"', '>', '<', 'h4', '>', '<', 'a', 'href=\"http://platum.kr/archives/89687\"', 'class=\"title\"', '>', '맹목적', '글로벌', '진출을', '목표로', '해서는', '안된다.', '<', '/a', '>', '<', '/h4', '>', '<', 'span', 'class=\"icon\"', '>', '<', '/span', '>', '<', 'span', 'class=\"date-news\"', '>', '2017-10-19', '12:03', '12:03', '<', '/span', '>', '<', '/li', '>', '<', '/ul', '>', '<', '/div', '>', '<', '/aside', '>', '<', '/div', '>', '<', '/div', '>', '<', '/div', '>', '<', 'div', 'class=\"xe-widget-wrapper', '\"', 'style=\"background-position:', '0%', '0%;', 'margin:', '0px;', 'border:', '0px', 'solid', 'rgb(0,', '0,', '0);', 'border-image:', 'none;', 'width:', '375px;', 'float:', 'left;', 'background-image:', 'none;', 'background-repeat:', 'repeat', 'repeat;\"', '>', '<', 'div', 'style=\"*zoom:1;padding:0px', '0px', '0px', '0px', '!important;\"', '>', '<', 'div', 'class=\"sidebar-homepage\"', '>', '<', 'aside', 'class=\"widget-container\"', '>', '<', 'div', 'class=\"widget-wrapper', 'clearfix\"', '>', '<', 'h3', 'class=\"widget-title\"', '>', '<', 'a', 'href=\"http://www.etnews.com/\"', '>', '전자신문', '<', '/a', '>', '<', '/h3', '>', '<', 'ul', 'class=\"widgetA', 'menu', 'news-sidebar\"', '>', '<', 'li', 'class=\"clearfix\"', '>', '<', 'h4', '>', '<', 'a', 'href=\"http://www.etnews.com/20171019000242\"', 'class=\"title\"', '>', 'SK텔레콤', '양자기술,', '美서', '극찬', '\"정말', '잘', '만든', '멋...', '<', '/a', '>', '<', '/h4', '>', '<', 'span', 'class=\"icon\"', '>', '<', '/span', '>', '<', 'span', 'class=\"date-news\"', '>', '2017-10-19', '17:00', '17:00', '<', '/span', '>', '<', '/li', '>', '<', 'li', 'class=\"clearfix\"', '>', '<', 'h4', '>', '<', 'a', 'href=\"http://www.etnews.com/20171019000332\"', 'class=\"title\"', '>', '커넥티드카,', '5G+와이파이', '동시활용', '길', '열린다…글...', '<', '/a', '>', '<', '/h4', '>', '<', 'span', 'class=\"icon\"', '>', '<', '/span', '>', '<', 'span', 'class=\"date-news\"', '>', '2017-10-19', '17:00', '17:00', '<', '/span', '>', '<', '/li', '>', '<', 'li', 'class=\"clearfix\"', '>', '<', 'h4', '>', '<', 'a', 'href=\"http://www.etnews.com/20171019000316\"', 'class=\"title\"', '>', '[ICT시사용어]논스탠드얼론', '5G(NSA', '5G)', '<', '/a', '>', '<', '/h4', '>', '<', 'span', 'class=\"icon\"', '>', '<', '/span', '>', '<', 'span', 'class=\"date-news\"', '>', '2017-10-19', '16:13', '16:13', '<', '/span', '>', '<', '/li', '>', '<', 'li', 'class=\"clearfix\"', '>', '<', 'h4', '>', '<', 'a', 'href=\"http://www.etnews.com/20171019000314\"', 'class=\"title\"', '>', '中', 'ZTE', '접이식', '스마트폰', \"'액손M'\", '출시', '<', '/a', '>', '<', '/h4', '>', '<', 'span', 'class=\"icon\"', '>', '<', '/span', '>', '<', 'span', 'class=\"date-news\"', '>', '2017-10-19', '16:07', '16:07', '<', '/span', '>', '<', '/li', '>', '<', 'li', 'class=\"clearfix\"', '>', '<', 'h4', '>', '<', 'a', 'href=\"http://www.etnews.com/20171019000287\"', 'class=\"title\"', '>', '유영민', '장관,', '4차', '산업혁명', '대비', '아이디어', '기반', '...', '<', '/a', '>', '<', '/h4', '>', '<', 'span', 'class=\"icon\"', '>', '<', '/span', '>', '<', 'span', 'class=\"date-news\"', '>', '2017-10-19', '15:20', '15:20', '<', '/span', '>', '<', '/li', '>', '<', '/ul', '>', '<', '/div', '>', '<', '/aside', '>', '<', '/div', '>', '<', '/div', '>', '<', '/div', '>', '<', 'div', 'class=\"xe-widget-wrapper', '\"', 'style=\"background-position:', '0%', '0%;', 'margin:', '0px;', 'border:', '0px', 'solid', 'rgb(0,', '0,', '0);', 'border-image:', 'none;', 'width:', '375px;', 'float:', 'left;', 'background-image:', 'none;', 'background-repeat:', 'repeat', 'repeat;\"', '>', '<', 'div', 'style=\"*zoom:1;padding:0px', '0px', '0px', '0px', '!important;\"', '>', '<', 'div', 'class=\"sidebar-homepage\"', '>', '<', 'aside', 'class=\"widget-container\"', '>', '<', 'div', 'class=\"widget-wrapper', 'clearfix\"', '>', '<', 'h3', 'class=\"widget-title\"', '>', '<', 'a', 'href=\"https://techcrunch.com/\"', '>', 'TechCrunch', '<', '/a', '>', '<', '/h3', '>', '<', 'ul', 'class=\"widgetA', 'menu', 'news-sidebar\"', '>', '<', 'li', 'class=\"clearfix\"', '>', '<', 'h4', '>', '<', 'a', 'href=\"http://feedproxy.google.com/~r/Techcrunch/~3/NfriDIwDKYk/\"', 'class=\"title\"', '>', 'London-based', 'on-demand', 'delivery', 'startup', 'Jinn', 's...', '<', '/a', '>', '<', '/h4', '>', '<', 'span', 'class=\"icon\"', '>', '<', '/span', '>', '<', 'span', 'class=\"date-news\"', '>', '2017-10-19', '18:46', '18:46', '<', '/span', '>', '<', '/li', '>', '<', 'li', 'class=\"clearfix\"', '>', '<', 'h4', '>', '<', 'a', 'href=\"http://feedproxy.google.com/~r/Techcrunch/~3/i_bt8cYVGBo/\"', 'class=\"title\"', '>', 'Hiya,', 'a', 'Whitepages', 'spinout,', 'nabs', '$18M', 'to', 'for', 'i...', '<', '/a', '>', '<', '/h4', '>', '<', 'span', 'class=\"icon\"', '>', '<', '/span', '>', '<', 'span', 'class=\"date-news\"', '>', '2017-10-19', '16:24', '16:24', '<', '/span', '>', '<', '/li', '>', '<', 'li', 'class=\"clearfix\"', '>', '<', 'h4', '>', '<', 'a', 'href=\"http://feedproxy.google.com/~r/Techcrunch/~3/uUwgc6UTqm4/\"', 'class=\"title\"', '>', 'European', 'house', 'removals', 'platform', 'Movinga', 'raise...', '<', '/a', '>', '<', '/h4', '>', '<', 'span', 'class=\"icon\"', '>', '<', '/span', '>', '<', 'span', 'class=\"date-news\"', '>', '2017-10-19', '15:45', '15:45', '<', '/span', '>', '<', '/li', '>', '<', 'li', 'class=\"clearfix\"', '>', '<', 'h4', '>', '<', 'a', 'href=\"http://feedproxy.google.com/~r/Techcrunch/~3/9ZAtJLlQpmw/\"', 'class=\"title\"', '>', 'Safaricom', 'launches', 'innovation', 'center', 'to', 'move', 'b...', '<', '/a', '>', '<', '/h4', '>', '<', 'span', 'class=\"icon\"', '>', '<', '/span', '>', '<', 'span', 'class=\"date-news\"', '>', '2017-10-19', '15:30', '15:30', '<', '/span', '>', '<', '/li', '>', '<', 'li', 'class=\"clearfix\"', '>', '<', 'h4', '>', '<', 'a', 'href=\"http://feedproxy.google.com/~r/Techcrunch/~3/ojGLW5KXQGE/\"', 'class=\"title\"', '>', 'Tony', 'Fadell’s', 'newest', 'product?', 'An', 'investing', 'and...', '<', '/a', '>', '<', '/h4', '>', '<', 'span', 'class=\"icon\"', '>', '<', '/span', '>', '<', 'span', 'class=\"date-news\"', '>', '2017-10-19', '15:15', '15:15', '<', '/span', '>', '<', '/li', '>', '<', '/ul', '>', '<', '/div', '>', '<', '/aside', '>', '<', '/div', '>', '<', '/div', '>', '<', '/div', '>', '<', '/div', '>', '<', '/div', '>', '<', 'footer', 'id=\"main-footer\"', '>', '<', 'div', 'id=\"footer-content\"', 'class=\"clearfix\"', '>', '<', 'div', 'id=\"footer-container\"', '>', '<', 'div', 'id=\"sidebar-footer-left\"', 'class=\"sidebar-footer\"', '>', '<', 'aside', 'class=\"widget-container\"', '>', '<', 'div', 'class=\"widget-wrapper', 'clearfix\"', '>', '<', 'h3', 'class=\"widget-title\"', '>', 'Quick', 'Navigation', '<', '/h3', '>', '<', 'ul', '>', '<', 'li', '>', '<', 'a', 'href=\"http://www.koreatech.ac.kr\"', 'target=\"_blank\"', '>', '한국기술교육대학교', '홈페이지', '<', '/a', '>', '<', '/li', '>', '<', 'li', '>', '<', 'a', 'href=\"https://email.koreatech.ac.kr\"', 'target=\"_blank\"', '>', '한국기술교육대학교', 'WEBMAIL', '<', '/a', '>', '<', '/li', '>', '<', 'li', '>', '<', 'a', 'href=\"http://www.e-koreatech.ac.kr\"', 'target=\"_blank\"', '>', '한국기술교육대학교', '온라인', '평생교육원', '<', '/a', '>', '<', '/li', '>', '<', 'li', '>', '<', 'a', 'href=\"http://itcsw.koreatech.ac.kr\"', 'target=\"_blank\"', '>', 'IT', '융합소프트웨어', '인력양성사업', '<', '/a', '>', '<', '/li', '>', '<', 'li', '>', '<', 'a', 'href=\"http://csenas.koreatech.ac.kr:5000\"', 'target=\"_blank\"', '>', '컴퓨터공학부', '교직원', '업무', '자료실', '<', '/a', '>', '<', '/li', '>', '<', '/ul', '>', '<', '/div', '>', '<', '/aside', '>', '<', '/div', '>', '<', 'div', 'id=\"sidebar-footer-middle\"', 'class=\"sidebar-footer\"', '>', '<', 'aside', 'class=\"widget-container\"', '>', '<', 'div', 'class=\"widget-wrapper', 'clearfix\"', '>', '<', 'h3', 'class=\"widget-title\"', '>', 'Campus', 'Location', '<', '/h3', '>', '<', 'article', 'class=\"text-widget', '\"', '>', '<', 'iframe', 'class=\"map-area\"', 'src=\"https://www.google.com/maps/embed?pb=!1m18!1m12!1m3!1d3196.369861062225!2d127.28035150000001!3d36.761693699999995!2m3!1f0!2f0!3f0!3m2!1i1024!2i768!4f13.1!3m3!1m2!1s0x357b2ac0a5190d0f%3A0x24cddeffd416ef74!2z7LKc7JWI7IucIOuzkeyynOuptCDtlZzqta3quLDsiKDqtZDsnKHrjIDtlZnqtZAg6rO17ZWZNOq0gA!5e0!3m2!1sko!2skr!4v1428058842867\"', 'width=\"600\"', 'height=\"450\"', 'frameborder=\"0\"', 'style=\"border:0\"', '>', '<', '/iframe', '>', '<', 'br/', '>', '<', '/div', '>', '<', '/aside', '>', '<', '/div', '>', '<', 'div', 'id=\"sidebar-footer-right\"', 'class=\"sidebar-footer\"', '>', '<', 'aside', 'class=\"widget-container\"', '>', '<', 'h3', 'class=\"widget-title\"', '>', 'Contact', 'CSE', '<', '/h3', '>', '<', 'p', '>', '충청남도', '천안시', '동남구', '병천면', '충절로', '1600', '<', 'br/', '>', '한국기술교육대학교', '컴퓨터공학부', '학과사무실', '<', 'br/', '>', 'TEL', '(041)', '560', '1460', '~', '1461', '<', 'br/', '>', 'FAX', '(041)', '560', '1462', '<', 'ul', 'id=\"list-social\"', 'class=\"clearfix\"', '>', '<', 'li', 'id=\"icon-facebook\"', '>', '<', 'a', 'href=\"https://facebook.com/koreatech.cse.edu\"', 'target=\"_blank\"', '>', 'Facebook', '<', '/a', '>', '<', '/li', '>', '<', '/ul', '>', '<', '/aside', '>', '<', '/div', '>', '<', '/div', '>', '<', '/div', '>', '<', 'div', 'id=\"footer-copyright\"', '>', '<', 'div', 'id=\"footer-copyright-content\"', 'class=\"clearfix\"', '>', '<', 'a', 'href=\"#\"', 'id=\"logo-footer\"', '>', '<', 'img', 'src=\"/layouts/cse/images/cse_logo_footer.png\"', 'data-retina=\"images/cse_logo_footer_retina.png\"', 'alt=\"School', 'Fun', '-', 'University\"', '/', '>', '<', '/a', '>', '<', 'p', 'id=\"text-address\"', '>', '(31253)', '충청남도', '천안시', '동남구', '병천면', '충절로', '1600', '(가전리,', '한국기술교육대학교)', '컴퓨터공학부', '<', '/p', '>', '<', 'p', 'id=\"text-copyright\"', '>', 'Copyright', '©', '2015.', 'All', 'rights', 'reserved', '<', '/p', '>', '<', '/div', '>', '<', '/div', '>', '<', '/footer', '>', '<', '/body', '>', '<', '/html', '>', '<', 'div', 'class=\"wfsr\"', '>', '<', '/div', '>', '<', 'script', 'src=\"/addons/autolink/autolink.js?20170918124610\"', '>', '<', '/script', '>', '<', 'script', 'src=\"/common/js/plugins/ui/jquery-ui.min.js?20170918124612\"', '>', '<', '/script', '>', '<', 'script', 'src=\"/common/js/plugins/ui/jquery.ui.datepicker-ko.js?20170918124612\"', '>', '<', '/script', '>', '<', 'script', 'src=\"/addons/resize_image/js/resize_image.min.js?20170918124610\"', '>', '<', '/script', '>', '<', 'script', 'src=\"/layouts/cse/script/jquery.flexslider.js?20150805222706\"', '>', '<', '/script', '>', '<', 'script', 'src=\"/layouts/cse/script/jquery.prettyPhoto.js?20150805222706\"', '>', '<', '/script', '>', '<', 'script', 'src=\"/layouts/cse/script/jquery-ui-tabs-rotate.js?20150805222706\"', '>', '<', '/script', '>', '<', 'script', 'src=\"/layouts/cse/script/scripts.js?20150821172206\"', '>', '<', '/script', '>', '<', 'script', 'src=\"/files/cache/js_filter_compiled/5ad07e2b14b79f1c993c3e4b5ca58660.ko.compiled.js?20170918124726\"', '>', '<', '/script', '>', '<', 'script', 'src=\"/files/cache/ruleset/85b80736b3cc92d07570521ad97a31d9.ko.js?20170918124726\"', '>', '<', '/script', '>', '<', '/body', '>', '<', '/html', '>']\n"
     ]
    }
   ],
   "source": [
    "# 태그와 다른 문자가 붙어있지 않도록 나눈다.\n",
    "source_real = \" \".join(source_real)\n",
    "source_real = source_real.replace(\"<\",\" < \")\n",
    "source_real = source_real.replace(\">\",\" > \")\n",
    "source_real = source_real.split(\" \")\n",
    "\n",
    "source= []\n",
    "for i in source_real:\n",
    "    i = i.strip()\n",
    "    if i != \"\":\n",
    "        source.append(i)\n",
    "print(source)"
   ]
  },
  {
   "cell_type": "code",
   "execution_count": 267,
   "metadata": {
    "collapsed": false,
    "scrolled": true
   },
   "outputs": [
    {
     "name": "stdout",
     "output_type": "stream",
     "text": [
      "['', '', '', '', '', '', '', '', '', '', '', '', '', '컴퓨터공학부', '', '', '', '', '', '', '', '', '', '', '', '', '', '', '', '', '', '', '', '', '', '', '', '', '', '', '', '', '', '', '', '', '', '', '', '', '', '', '', '', '', '', '', '', '', '', '', '', '', '', '', '', '', '', '', '', '', '', '', '', '', '', '', '', '//', '', '', '', '', '', '', '', '', '', '', '', '', '', '', 'Schoolfun', '-', 'Study', 'and', 'Fun', '', '', '', '', '', '', '', '', '', '', '', '', '', '', '', '', '', '', '', '', '', '', '', '', '', '', '', '', '', '', '', '', '', '', '', '', '', '', '', '', '', '', '로그인', '', '', '', '', '로그인', '', '', '', '', '', '', '', '', '', '', '아이디', '', '', '', '', '비밀번호', '', '', '', '', '', '', '', '', '로그인', '유지', '', '', '', '', '브라우저를', '닫더라도', '로그인이', '계속', '유지될', '수', '있습니다.', '로그인', '유지', '기능을', '사용할', '경우', '다음', '접속부터는', '로그인할', '필요가', '없습니다.', '단,', '게임방,', '학교', '등', '공공장소에서', '이용', '시', '개인정보가', '유출될', '수', '있으니', '꼭', '로그아웃을', '해주세요.', '', '', '', '', '', '', '', '', '', '회원가입', '', '', '', '', 'ID/PW', '찾기', '', '', '', '', '', '', '', '', '', '', '', '', '', '', '', 'IT', '교육의', '글로벌', '메카!', '한국기술교육대학교', '컴퓨터공학부', '', '', '', '', '', '', '', '', '', '', 'Close', '', '', '', '', '', '', '', '', '', '', '', '', '', '', '', '', '', '', '', '', '', '소개', '', '', '', '', '', '', '구성원소개', '', '', '', '', '', '', '학사안내', '', '', '', '', '', '', '입학', '', '', '', '', '', '학부', '', '', '', '', '대학원', '', '', '', '', '', '', '', '', '', '학부광장', '', '', '', '', '', '', '자료실', '', '', '', '', '', '', '대학원', '', '', '', '', '', '', '공학교육인증', '', '', '', '', '', '', '학부서비스', '', '', '', '', '', '', 'Registration', '', '', '', '', '', '', '', '', '', '', '', '', '', '', '', '', '컴퓨터공학부', '', '', '', 'School', 'of', 'Computer', 'Science', 'and', 'Engineering', '', '', '', '', '', '', '', '', '', 'IT', '융합소프트웨어', '인력양성사업', '', '', '', 'CK', '(Creative', 'Korea)-I', '', '', '', '', '', '', '', '', '', '교육역량강화사업', '온라인', '컨텐츠', '', '', '', 'Online', 'Contents', 'for', 'Education', 'Capability', 'Empowerment', '', '', '', '', '', '', '', '', '', '', '', '', '', '', '', '', '', '', '', '', 'IT', '교육의', '글로벌', '메카', '', '', '한국기술교육대학교', '컴퓨터공학부', '홈페이지에', '오신', '것을', '환영합니다!', '', '', '', '', '', '', '', '', '', '', '', '', '', '', '', '', '', '', 'IT', '융합소프트웨어', '인력양성사업', '', '', '글로벌', '수준의', 'IT전문인력', '양성', '', 'IT융합분야에', '대한', '국제적인', '경쟁력', '고취', '', '', '바로가기', '', '', '', '', '', '', '', '', '', '', '', '', '', '', '', '', '', '', '교육역량강화사업', '컨텐츠', '', '', '교육역량강화사업', '온라인', '컨텐츠를', '소개합니다.', '', '', '바로가기', '', '', '', '', '', '', '', '', '', '', '', '', '', '', '', '', '', '', '', '', '', '', '', '공지사항', '', '', '', '', '', '', '', '', '', '[특성화]', 'G-STAR', '2017', '전시회', '학생', '모집', '공고', '', '', '', '', '2017-10-19', '14:46', '14:46', '', '', '', '', '', '', '', '[특성화]프레젠테이션', '실무', '자격증', '반', '특강', '', '', '', '2017-10-17', '17:41', '17:41', '', '', '', '', '', '', '', '', '2017년', '졸업작품', '영어발표', '경진대회', '및', '공학설계', '아이...', '', '', '', '', '2017-10-11', '09:24', '09:24', '', '', '', '', '', '', '', '', '[특성화]', '2017', 'IT융합', '프로그래밍', '경시대회', '모집', '공고', '', '', '', '', '2017-10-10', '15:49', '15:49', '', '', '', '', '', '', '', '', '[특성화]', 'ICTS', '2017', '중국', '전시회', '선발학생', '공고', '', '', '', '', '2017-09-28', '10:18', '10:18', '', '', '', '', '', '', '', '', '', '', '', '', '', '', '', '', '', '', '', '', '', '', '', '자유게시판', '', '', '', '', '', '', '', '', 'PaaS', '&amp;amp;', 'IaaS', '오라클데이', '개최', '(천안)', '', '', '', '2017-10-19', '08:58', '08:58', '', '', '', '', '', '', '', '제6회', '레몬', '정보보호', '세미나', '개최', '', '', '', '2017-10-06', '23:40', '23:40', '', '', '', '', '', '', '', '예비역', '훈련', '및', '뒤풀이', '공지!', '', '', '', '2017-09-19', '21:16', '21:16', '', '', '', '', '', '', '', '모의토익비를', '지원해드립니다.^^', '', '', '', '2017-09-17', '20:08', '20:08', '', '', '', '', '', '', '', '4공학관', 'B동', '입구', '담배피우는', '문제로', '글을', '올립니다.', '', '', '', '2017-09-11', '22:13', '22:13', '', '', '', '', '', '', '', '', '', '', '', '', '', '', '', '', '', '', '', '', '', '', '', '취업게시판', '', '', '', '', '', '', '', '', '[평택]', '애디언트오토모티브인테리어코리아_IT팀', '신입사...', '', '', '', '2017-10-19', '08:45', '08:45', '', '', '', '', '', '', '', '[천안]', '(주)ABB코리아', '채용', '공고문', '-', '로봇사업부', '채용(...', '', '', '', '2017-09-29', '11:29', '11:29', '', '', '', '', '', '', '', '영풍전자(주)', '-', '[안산]_직무별[제조기술/품질/개발/마...', '', '', '', '2017-09-25', '10:04', '10:04', '', '', '', '', '', '', '', '[용인-수원(내년', '통합예정)]', '㈜라온옵틱스', '신입,', '경력...', '', '', '', '2017-09-25', '09:21', '09:21', '', '', '', '', '', '', '', '엑시콘', '산학공동연구소', '연구원', '모집(~9/18)', '', '', '', '2017-09-08', '13:46', '13:46', '', '', '', '', '', '', '', '', '', '', '', '', '', '', '', '', '', '', '', '', '', '', '', 'Platum', '', '', '', '', '', '', '', '', '[현장]', '창업자,”스타트업', '전반', '분위기', '64점”,', '정부', '점...', '', '', '', '', '', '', '2017-10-19', '14:02', '14:02', '', '', '', '', '', '', '', '3D', '프린팅', '의료기업', '‘애니메디솔루션’,', '15억', '원', '투자유치', '', '', '', '', '', '', '2017-10-19', '12:29', '12:29', '', '', '', '', '', '', '', '넥스트플로어,', '스튜디오포립', '전략적', '투자', '', '', '', '', '', '', '2017-10-19', '12:19', '12:19', '', '', '', '', '', '', '', '메쉬코리아,', '올', '3분기', '누적', '거래액', '515억', '', '', '', '', '', '', '2017-10-19', '12:13', '12:13', '', '', '', '', '', '', '', '맹목적', '글로벌', '진출을', '목표로', '해서는', '안된다.', '', '', '', '', '', '', '2017-10-19', '12:03', '12:03', '', '', '', '', '', '', '', '', '', '', '', '', '', '', '', '', '', '', '', '', '', '', '', '전자신문', '', '', '', '', '', '', '', '', 'SK텔레콤', '양자기술,', '美서', '극찬', '\"정말', '잘', '만든', '멋...', '', '', '', '', '', '', '2017-10-19', '17:00', '17:00', '', '', '', '', '', '', '', '커넥티드카,', '5G+와이파이', '동시활용', '길', '열린다…글...', '', '', '', '', '', '', '2017-10-19', '17:00', '17:00', '', '', '', '', '', '', '', '[ICT시사용어]논스탠드얼론', '5G(NSA', '5G)', '', '', '', '', '', '', '2017-10-19', '16:13', '16:13', '', '', '', '', '', '', '', '中', 'ZTE', '접이식', '스마트폰', \"'액손M'\", '출시', '', '', '', '', '', '', '2017-10-19', '16:07', '16:07', '', '', '', '', '', '', '', '유영민', '장관,', '4차', '산업혁명', '대비', '아이디어', '기반', '...', '', '', '', '', '', '', '2017-10-19', '15:20', '15:20', '', '', '', '', '', '', '', '', '', '', '', '', '', '', '', '', '', '', '', '', '', '', '', 'TechCrunch', '', '', '', '', '', '', '', '', 'London-based', 'on-demand', 'delivery', 'startup', 'Jinn', 's...', '', '', '', '', '', '', '2017-10-19', '18:46', '18:46', '', '', '', '', '', '', '', 'Hiya,', 'a', 'Whitepages', 'spinout,', 'nabs', '$18M', 'to', 'for', 'i...', '', '', '', '', '', '', '2017-10-19', '16:24', '16:24', '', '', '', '', '', '', '', 'European', 'house', 'removals', 'platform', 'Movinga', 'raise...', '', '', '', '', '', '', '2017-10-19', '15:45', '15:45', '', '', '', '', '', '', '', 'Safaricom', 'launches', 'innovation', 'center', 'to', 'move', 'b...', '', '', '', '', '', '', '2017-10-19', '15:30', '15:30', '', '', '', '', '', '', '', 'Tony', 'Fadell’s', 'newest', 'product?', 'An', 'investing', 'and...', '', '', '', '', '', '', '2017-10-19', '15:15', '15:15', '', '', '', '', '', '', '', '', '', '', '', '', '', '', '', '', '', '', '', '', '', '', '', '', '', '', '', '', '', '', '', 'Quick', 'Navigation', '', '', '', '', '', '한국기술교육대학교', '홈페이지', '', '', '', '', '한국기술교육대학교', 'WEBMAIL', '', '', '', '', '한국기술교육대학교', '온라인', '평생교육원', '', '', '', '', 'IT', '융합소프트웨어', '인력양성사업', '', '', '', '', '컴퓨터공학부', '교직원', '업무', '자료실', '', '', '', '', '', '', '', '', '', '', '', '', '', '', '', '', '', 'Campus', 'Location', '', '', '', '', '', '', '', '', '', '', '', '', '', '', '', '', '', '', 'Contact', 'CSE', '', '', '충청남도', '천안시', '동남구', '병천면', '충절로', '1600', '한국기술교육대학교', '컴퓨터공학부', '학과사무실', '', 'TEL', '(041)', '560', '1460', '~', '1461', '', 'FAX', '(041)', '560', '1462', '', '', '', '', 'Facebook', '', '', '', '', '', '', '', '', '', '', '', '', '', '', '', '', '', '', '', '', '', '(31253)', '충청남도', '천안시', '동남구', '병천면', '충절로', '1600', '(가전리,', '한국기술교육대학교)', '컴퓨터공학부', '', '', '', 'Copyright', '©', '2015.', 'All', 'rights', 'reserved', '', '', '', '', '', '', '', '', '', '', '', '', '', '', '', '', '', '', '', '', '', '', '', '', '', '', '', '', '', '', '', '', '', '', '', '', '', '']\n"
     ]
    }
   ],
   "source": [
    "#태그 제거\n",
    "first = []\n",
    "second = []\n",
    "status = False\n",
    "for i in source_real:\n",
    "    if \"<\" in i:\n",
    "        if status == False:\n",
    "            first.append(source_real.index(\"<\"))\n",
    "        source_real[source_real.index(\"<\")] = '$'\n",
    "        status = True\n",
    "    if \">\" in i:\n",
    "        if status == True:\n",
    "            second.append(source_real.index(\">\"))\n",
    "        source_real[source_real.index(\">\")] = '&'\n",
    "        status = False\n",
    "\n",
    "firstlen = len(first)\n",
    "\n",
    "for i in range(firstlen):\n",
    "    start = first.pop()\n",
    "    end = second.pop()\n",
    "    source_real[start:end+1] = []\n",
    "print(source_real)"
   ]
  },
  {
   "cell_type": "code",
   "execution_count": 268,
   "metadata": {
    "collapsed": false
   },
   "outputs": [
    {
     "name": "stdout",
     "output_type": "stream",
     "text": [
      "['컴퓨터공학부', '//', 'Schoolfun', '-', 'Study', 'and', 'Fun', '로그인', '로그인', '아이디', '비밀번호', '로그인', '유지', '브라우저를', '닫더라도', '로그인이', '계속', '유지될', '수', '있습니다.', '로그인', '유지', '기능을', '사용할', '경우', '다음', '접속부터는', '로그인할', '필요가', '없습니다.', '단,', '게임방,', '학교', '등', '공공장소에서', '이용', '시', '개인정보가', '유출될', '수', '있으니', '꼭', '로그아웃을', '해주세요.', '회원가입', 'ID/PW', '찾기', 'IT', '교육의', '글로벌', '메카!', '한국기술교육대학교', '컴퓨터공학부', 'Close', '소개', '구성원소개', '학사안내', '입학', '학부', '대학원', '학부광장', '자료실', '대학원', '공학교육인증', '학부서비스', 'Registration', '컴퓨터공학부', 'School', 'of', 'Computer', 'Science', 'and', 'Engineering', 'IT', '융합소프트웨어', '인력양성사업', 'CK', '(Creative', 'Korea)-I', '교육역량강화사업', '온라인', '컨텐츠', 'Online', 'Contents', 'for', 'Education', 'Capability', 'Empowerment', 'IT', '교육의', '글로벌', '메카', '한국기술교육대학교', '컴퓨터공학부', '홈페이지에', '오신', '것을', '환영합니다!', 'IT', '융합소프트웨어', '인력양성사업', '글로벌', '수준의', 'IT전문인력', '양성', 'IT융합분야에', '대한', '국제적인', '경쟁력', '고취', '바로가기', '교육역량강화사업', '컨텐츠', '교육역량강화사업', '온라인', '컨텐츠를', '소개합니다.', '바로가기', '공지사항', '[특성화]', 'G-STAR', '2017', '전시회', '학생', '모집', '공고', '2017-10-19', '14:46', '14:46', '[특성화]프레젠테이션', '실무', '자격증', '반', '특강', '2017-10-17', '17:41', '17:41', '2017년', '졸업작품', '영어발표', '경진대회', '및', '공학설계', '아이...', '2017-10-11', '09:24', '09:24', '[특성화]', '2017', 'IT융합', '프로그래밍', '경시대회', '모집', '공고', '2017-10-10', '15:49', '15:49', '[특성화]', 'ICTS', '2017', '중국', '전시회', '선발학생', '공고', '2017-09-28', '10:18', '10:18', '자유게시판', 'PaaS', '&amp;amp;', 'IaaS', '오라클데이', '개최', '(천안)', '2017-10-19', '08:58', '08:58', '제6회', '레몬', '정보보호', '세미나', '개최', '2017-10-06', '23:40', '23:40', '예비역', '훈련', '및', '뒤풀이', '공지!', '2017-09-19', '21:16', '21:16', '모의토익비를', '지원해드립니다.^^', '2017-09-17', '20:08', '20:08', '4공학관', 'B동', '입구', '담배피우는', '문제로', '글을', '올립니다.', '2017-09-11', '22:13', '22:13', '취업게시판', '[평택]', '애디언트오토모티브인테리어코리아_IT팀', '신입사...', '2017-10-19', '08:45', '08:45', '[천안]', '(주)ABB코리아', '채용', '공고문', '-', '로봇사업부', '채용(...', '2017-09-29', '11:29', '11:29', '영풍전자(주)', '-', '[안산]_직무별[제조기술/품질/개발/마...', '2017-09-25', '10:04', '10:04', '[용인-수원(내년', '통합예정)]', '㈜라온옵틱스', '신입,', '경력...', '2017-09-25', '09:21', '09:21', '엑시콘', '산학공동연구소', '연구원', '모집(~9/18)', '2017-09-08', '13:46', '13:46', 'Platum', '[현장]', '창업자,”스타트업', '전반', '분위기', '64점”,', '정부', '점...', '2017-10-19', '14:02', '14:02', '3D', '프린팅', '의료기업', '‘애니메디솔루션’,', '15억', '원', '투자유치', '2017-10-19', '12:29', '12:29', '넥스트플로어,', '스튜디오포립', '전략적', '투자', '2017-10-19', '12:19', '12:19', '메쉬코리아,', '올', '3분기', '누적', '거래액', '515억', '2017-10-19', '12:13', '12:13', '맹목적', '글로벌', '진출을', '목표로', '해서는', '안된다.', '2017-10-19', '12:03', '12:03', '전자신문', 'SK텔레콤', '양자기술,', '美서', '극찬', '\"정말', '잘', '만든', '멋...', '2017-10-19', '17:00', '17:00', '커넥티드카,', '5G+와이파이', '동시활용', '길', '열린다…글...', '2017-10-19', '17:00', '17:00', '[ICT시사용어]논스탠드얼론', '5G(NSA', '5G)', '2017-10-19', '16:13', '16:13', '中', 'ZTE', '접이식', '스마트폰', \"'액손M'\", '출시', '2017-10-19', '16:07', '16:07', '유영민', '장관,', '4차', '산업혁명', '대비', '아이디어', '기반', '...', '2017-10-19', '15:20', '15:20', 'TechCrunch', 'London-based', 'on-demand', 'delivery', 'startup', 'Jinn', 's...', '2017-10-19', '18:46', '18:46', 'Hiya,', 'a', 'Whitepages', 'spinout,', 'nabs', '$18M', 'to', 'for', 'i...', '2017-10-19', '16:24', '16:24', 'European', 'house', 'removals', 'platform', 'Movinga', 'raise...', '2017-10-19', '15:45', '15:45', 'Safaricom', 'launches', 'innovation', 'center', 'to', 'move', 'b...', '2017-10-19', '15:30', '15:30', 'Tony', 'Fadell’s', 'newest', 'product?', 'An', 'investing', 'and...', '2017-10-19', '15:15', '15:15', 'Quick', 'Navigation', '한국기술교육대학교', '홈페이지', '한국기술교육대학교', 'WEBMAIL', '한국기술교육대학교', '온라인', '평생교육원', 'IT', '융합소프트웨어', '인력양성사업', '컴퓨터공학부', '교직원', '업무', '자료실', 'Campus', 'Location', 'Contact', 'CSE', '충청남도', '천안시', '동남구', '병천면', '충절로', '1600', '한국기술교육대학교', '컴퓨터공학부', '학과사무실', 'TEL', '(041)', '560', '1460', '~', '1461', 'FAX', '(041)', '560', '1462', 'Facebook', '(31253)', '충청남도', '천안시', '동남구', '병천면', '충절로', '1600', '(가전리,', '한국기술교육대학교)', '컴퓨터공학부', 'Copyright', '©', '2015.', 'All', 'rights', 'reserved']\n"
     ]
    }
   ],
   "source": [
    "#공백을 없앰\n",
    "source = []\n",
    "for i in source_real:\n",
    "    if i != \"\":\n",
    "        source.append(i)\n",
    "print(source)\n",
    "        "
   ]
  },
  {
   "cell_type": "code",
   "execution_count": 269,
   "metadata": {
    "collapsed": false
   },
   "outputs": [
    {
     "name": "stdout",
     "output_type": "stream",
     "text": [
      "445\n"
     ]
    }
   ],
   "source": [
    "#리스트의 길이는 단어의 개수\n",
    "print(len(source))"
   ]
  },
  {
   "cell_type": "markdown",
   "metadata": {},
   "source": [
    "HTML코드에서 순수 문자열만 리스트에 넣기 위해서는 HTML에서의 주석과 태그를 지워줘야한다. \n",
    "\n",
    "주석의 형태는 <!-- 내용 --> 이다.\n",
    "\n",
    "태그의 형태는 < > 이다.\n",
    "\n",
    "만약 주석안의 내용에 < 또는 >가 있다면 태그로 인식될 수 있다.\n",
    "\n",
    "따라서 주석을 먼저 지워준 후 태그를 지워주어야 한다.\n",
    "\n",
    "주석을 지우기 위해서 <!--의 인덱스에서 -->의 인덱스까지 모두 제거해야 한다.\n",
    "\n",
    "만약 <!-- <!-- <!--   --> 이렇게 쓰여 있다면 맨처음의 주석태그에서 가장 마지막의 주석태그를 인식하여 제거하도록 하였다.\n",
    "\n",
    "먼저 <!--가 시작하는 인덱스를 다른 리스트에 넣어주고 -->가 시작하는 인덱스를 또 다른 리스트에 넣어준다.\n",
    "\n",
    "그런다음 pop함수를 이용하여 뒤에서부터 지워주었다.\n",
    "\n",
    "주석 태그를 다 제거한 후 태그도 같은 방법으로 제거해 주었다.\n",
    "\n",
    "주석과 태그를 다 제거해주면 리스트에는 순수 문자열만 남게 되므로, 리스트의 문자열의 길이는 순수 단어의 개수이다."
   ]
  },
  {
   "cell_type": "markdown",
   "metadata": {},
   "source": [
    "#### 이번 과제를 하면서"
   ]
  },
  {
   "cell_type": "markdown",
   "metadata": {
    "collapsed": true
   },
   "source": [
    "이번 과제를 하면서 처음에는 너무 쉽게 생각했다.\n",
    "\n",
    "1번문제를 제외하고는 알고리즘을 생각한 것을 코드로 작성해보니 생각지도 못한 부분에서 오류가 나타났다. \n",
    "\n",
    "특히 웹크롤링과 백준문제가 가장 오래 걸렸다. \n",
    "\n",
    "백준문제는 생각보다 type오류가 너무 많이 나타나서 계속 알고리즘을 아주 정확하게 타입까지 생각하면서 문제를 풀었다. \n",
    "\n",
    "파이썬이 타입을 저절로 인식하는 것이 좋다고만 느꼈었는데 이번 문제를 풀면서 마냥 좋지만은 아닌것 같다는 느낌이 들었다. \n",
    "\n",
    "또한, 웹 크롤링을 시작할때 '그냥 태그지워주면되지'라고 생각하면서 간단하게 접근했다.\n",
    "\n",
    "하지만 갈수록 에러가 나오고 태그로 생각보다 잘 지워지지 않았다.\n",
    "\n",
    "처음에는 주석과 태그를 한꺼번에 지울 수 있을거라고 생각했지만 내 뜻대로 되지 않았다. \n",
    "\n",
    "내가 짠 코드로는 너무 예외가 많이 나타나서 어떻게 해야할지 정말 여러가지 알고리즘을 다 짜봤다. \n",
    "\n",
    "아직은 파이썬으로 내 생각을 나타내는 것이 생각보다 어려웠던 것 같다. \n",
    "\n",
    "진짜 엄청 오래걸렸지만 끝내고 나니 뿌듯하다. "
   ]
  }
 ],
 "metadata": {
  "kernelspec": {
   "display_name": "Python 3",
   "language": "python",
   "name": "python3"
  },
  "language_info": {
   "codemirror_mode": {
    "name": "ipython",
    "version": 3
   },
   "file_extension": ".py",
   "mimetype": "text/x-python",
   "name": "python",
   "nbconvert_exporter": "python",
   "pygments_lexer": "ipython3",
   "version": "3.6.0"
  }
 },
 "nbformat": 4,
 "nbformat_minor": 2
}
