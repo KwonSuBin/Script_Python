{
 "cells": [
  {
   "cell_type": "code",
   "execution_count": 1,
   "metadata": {
    "collapsed": false
   },
   "outputs": [
    {
     "name": "stdout",
     "output_type": "stream",
     "text": [
      "C:\\Users\\권수빈\\prof\n"
     ]
    }
   ],
   "source": [
    "import os\n",
    "print(os.getcwd())   #현재 어느 디렉토리에서 작업하고 있는지"
   ]
  },
  {
   "cell_type": "code",
   "execution_count": 3,
   "metadata": {
    "collapsed": false
   },
   "outputs": [
    {
     "ename": "TypeError",
     "evalue": "a bytes-like object is required, not 'str'",
     "output_type": "error",
     "traceback": [
      "\u001b[0;31m---------------------------------------------------------------------------\u001b[0m",
      "\u001b[0;31mTypeError\u001b[0m                                 Traceback (most recent call last)",
      "\u001b[0;32m<ipython-input-3-f8fe7f2f271f>\u001b[0m in \u001b[0;36m<module>\u001b[0;34m()\u001b[0m\n\u001b[1;32m      4\u001b[0m the same work in such languages as C.\"\"\"\n\u001b[1;32m      5\u001b[0m \u001b[0mf\u001b[0m \u001b[1;33m=\u001b[0m \u001b[0mopen\u001b[0m\u001b[1;33m(\u001b[0m\u001b[1;34m't2.txt'\u001b[0m\u001b[1;33m,\u001b[0m\u001b[1;34m'wb'\u001b[0m\u001b[1;33m)\u001b[0m\u001b[1;33m\u001b[0m\u001b[0m\n\u001b[0;32m----> 6\u001b[0;31m \u001b[0mf\u001b[0m\u001b[1;33m.\u001b[0m\u001b[0mwrite\u001b[0m\u001b[1;33m(\u001b[0m\u001b[0ms\u001b[0m\u001b[1;33m)\u001b[0m\u001b[1;33m\u001b[0m\u001b[0m\n\u001b[0m\u001b[1;32m      7\u001b[0m \u001b[0mf\u001b[0m\u001b[1;33m.\u001b[0m\u001b[0mclose\u001b[0m\u001b[1;33m(\u001b[0m\u001b[1;33m)\u001b[0m\u001b[1;33m\u001b[0m\u001b[0m\n",
      "\u001b[0;31mTypeError\u001b[0m: a bytes-like object is required, not 'str'"
     ]
    }
   ],
   "source": [
    "s = \"\"\"Its power: Python developers typically report \n",
    "they are able to develop applications in a half\n",
    "to a tenth the amount of time it takes them to do\n",
    "the same work in such languages as C.\"\"\"\n",
    "f = open('t2.txt','wb')\n",
    "f.write(s)\n",
    "f.close()"
   ]
  },
  {
   "cell_type": "code",
   "execution_count": 5,
   "metadata": {
    "collapsed": false
   },
   "outputs": [],
   "source": [
    "elements = [1,2,3,4,5,6]\n",
    "s2 = bytearray(elements)\n",
    "f = open('t2.txt','wb')\n",
    "f.write(s2)\n",
    "f.close()"
   ]
  },
  {
   "cell_type": "markdown",
   "metadata": {},
   "source": [
    "with ~ as ~     :중요!!!!!"
   ]
  },
  {
   "cell_type": "code",
   "execution_count": 7,
   "metadata": {
    "collapsed": true
   },
   "outputs": [],
   "source": [
    "s = \"\"\"Its power: Python developers typically report \n",
    "they are able to develop applications in a half\n",
    "to a tenth the amount of time it takes them to do\n",
    "the same work in such languages as C.\"\"\"\n",
    "with open('t.txt','w') as f:    #close()를 명시안해도 됨!\n",
    "    f.write(s)\n",
    "    s2 = \"fnjdf\"\n",
    "    f.write(s2)"
   ]
  },
  {
   "cell_type": "code",
   "execution_count": 9,
   "metadata": {
    "collapsed": false
   },
   "outputs": [
    {
     "name": "stdout",
     "output_type": "stream",
     "text": [
      "Its power: Python developers typically report \n",
      "they are able to develop applications in a half\n",
      "to a tenth the amount of time it takes them to do\n",
      "the same work in such languages as C.fnjdf\n",
      "<class 'str'>\n"
     ]
    }
   ],
   "source": [
    "with open('t.txt','r') as f:\n",
    "    s = f.read()\n",
    "    print(s)\n",
    "    print(type(s))"
   ]
  },
  {
   "cell_type": "markdown",
   "metadata": {},
   "source": [
    "1. 반복자"
   ]
  },
  {
   "cell_type": "code",
   "execution_count": 12,
   "metadata": {
    "collapsed": false
   },
   "outputs": [
    {
     "name": "stdout",
     "output_type": "stream",
     "text": [
      "1 : Its power: Python developers typically report \n",
      "2 : they are able to develop applications in a half\n",
      "3 : to a tenth the amount of time it takes them to do\n",
      "4 : the same work in such languages as C.fnjdf"
     ]
    }
   ],
   "source": [
    "f = open('t.txt')\n",
    "i = 1\n",
    "for line in f:                     #line안에 개행문자가 하나 있음\n",
    "    print(i, \":\", line, end=\"\")    #end를 빼면 두줄 띄어짐\n",
    "    i += 1\n",
    "f.close()"
   ]
  },
  {
   "cell_type": "markdown",
   "metadata": {},
   "source": [
    " "
   ]
  },
  {
   "cell_type": "code",
   "execution_count": 13,
   "metadata": {
    "collapsed": false
   },
   "outputs": [
    {
     "name": "stdout",
     "output_type": "stream",
     "text": [
      "<class 'str'>\n",
      "1 : Its power: Python developers typically report \n",
      "2 : they are able to develop applications in a half\n",
      "3 : to a tenth the amount of time it takes them to do\n",
      "4 : the same work in such languages as C.fnjdf"
     ]
    }
   ],
   "source": [
    "f = open('t.txt')\n",
    "line = f.readline()\n",
    "print(type(line))\n",
    "i = 1\n",
    "while line:\n",
    "    print(i, \":\", line, end=\"\")\n",
    "    line = f.readline()\n",
    "    i +=1 \n",
    "f.close()"
   ]
  },
  {
   "cell_type": "code",
   "execution_count": 14,
   "metadata": {
    "collapsed": false
   },
   "outputs": [
    {
     "name": "stdout",
     "output_type": "stream",
     "text": [
      "['Its power: Python developers typically report \\n', 'they are able to develop applications in a half\\n', 'to a tenth the amount of time it takes them to do\\n', 'the same work in such languages as C.fnjdf']\n",
      "<class 'list'>\n",
      "\n",
      "1 : Its power: Python developers typically report \n",
      "2 : they are able to develop applications in a half\n",
      "3 : to a tenth the amount of time it takes them to do\n",
      "4 : the same work in such languages as C.fnjdf"
     ]
    }
   ],
   "source": [
    "f = open('t.txt')\n",
    "print(f.readlines())\n",
    "print(type(f.readlines()))\n",
    "print()\n",
    "      \n",
    "f.seek(0)\n",
    "i = 1\n",
    "for line in f.readlines():\n",
    "    print(i,\":\",line,end =\"\")\n",
    "    i+=1\n",
    "f.close()\n",
    "      \n",
    "\n",
    "      "
   ]
  },
  {
   "cell_type": "code",
   "execution_count": 15,
   "metadata": {
    "collapsed": false
   },
   "outputs": [
    {
     "name": "stdout",
     "output_type": "stream",
     "text": [
      "['Its power: Python developers typically report \\n', 'they are able to develop applications in a half\\n', 'to a tenth the amount of time it takes them to do\\n', 'the same work in such languages as C.fnjdf']\n",
      "<class 'list'>\n",
      "\n",
      "1 : Its power: Python developers typically report \n",
      "2 : they are able to develop applications in a half\n",
      "3 : to a tenth the amount of time it takes them to do\n",
      "4 : the same work in such languages as C.fnjdf"
     ]
    }
   ],
   "source": [
    "f = open('t.txt')\n",
    "print(f.readlines())\n",
    "print(type(f.readlines()))\n",
    "print()\n",
    "f.close()\n",
    "\n",
    "f = open('t.txt')\n",
    "i = 1\n",
    "for line in f.readlines():\n",
    "    print(i, \":\", line, end=\"\")\n",
    "    i += 1\n",
    "f.close()"
   ]
  },
  {
   "cell_type": "code",
   "execution_count": 17,
   "metadata": {
    "collapsed": false
   },
   "outputs": [
    {
     "name": "stdout",
     "output_type": "stream",
     "text": [
      "first linesecond linethird line\n"
     ]
    }
   ],
   "source": [
    "lines = ['first line', 'second line', 'third line']\n",
    "f = open('t1.txt', 'w')\n",
    "f.writelines(lines)\n",
    "f.close()\n",
    "\n",
    "f = open('t1.txt')\n",
    "print(f.read())\n",
    "f.close()"
   ]
  },
  {
   "cell_type": "code",
   "execution_count": 18,
   "metadata": {
    "collapsed": false
   },
   "outputs": [
    {
     "name": "stdout",
     "output_type": "stream",
     "text": [
      "first line\n",
      "second line\n",
      "thrid line\n"
     ]
    }
   ],
   "source": [
    "lines = ['first line','second line','thrid line']\n",
    "f = open('t1.txt','w')\n",
    "f.write('\\n'.join(lines))\n",
    "f.close()\n",
    "\n",
    "f = open('t1.txt')\n",
    "print(f.read())\n",
    "f.close()"
   ]
  },
  {
   "cell_type": "code",
   "execution_count": 19,
   "metadata": {
    "collapsed": false
   },
   "outputs": [
    {
     "name": "stdout",
     "output_type": "stream",
     "text": [
      "35\n"
     ]
    }
   ],
   "source": [
    "f = open('t.txt')\n",
    "s = f.read()\n",
    "n = len(s.split())\n",
    "print(n)\n",
    "f.close()"
   ]
  },
  {
   "cell_type": "code",
   "execution_count": 22,
   "metadata": {
    "collapsed": false
   },
   "outputs": [
    {
     "name": "stdout",
     "output_type": "stream",
     "text": [
      "first line\n",
      "second line\n",
      "third line\n",
      "third line\n",
      "third line\n",
      "third line\n",
      "\n"
     ]
    }
   ],
   "source": [
    "f = open('removeme.txt','a')\n",
    "f.write('third line\\n')\n",
    "f.close()\n",
    "\n",
    "f = open('removeme.txt')\n",
    "print(f.read())"
   ]
  },
  {
   "cell_type": "code",
   "execution_count": 23,
   "metadata": {
    "collapsed": false
   },
   "outputs": [
    {
     "name": "stdout",
     "output_type": "stream",
     "text": [
      "5\n",
      "5\n",
      "6\n"
     ]
    }
   ],
   "source": [
    "name = 't.txt'\n",
    "f = open(name, 'w+')\n",
    "s = '0123456789abc'\n",
    "f.write(s)\n",
    "\n",
    "f.seek(5)\n",
    "print(f.tell())\n",
    "print(f.read(1))\n",
    "print(f.tell())\n"
   ]
  },
  {
   "cell_type": "code",
   "execution_count": 25,
   "metadata": {
    "collapsed": false
   },
   "outputs": [
    {
     "name": "stdout",
     "output_type": "stream",
     "text": [
      "<class 'ipykernel.iostream.OutStream'>\n"
     ]
    }
   ],
   "source": [
    "import sys\n",
    "print(type(sys.stdout))"
   ]
  },
  {
   "cell_type": "code",
   "execution_count": 26,
   "metadata": {
    "collapsed": true
   },
   "outputs": [],
   "source": [
    "import sys\n",
    "\n",
    "f = open('t.txt','w')\n",
    "stdout = sys.stdout\n",
    "sys.stdout = f\n",
    "print('Sample output')\n",
    "print('Good')\n",
    "print('Good')\n",
    "f.close()\n",
    "sys.stdout = stdout"
   ]
  },
  {
   "cell_type": "code",
   "execution_count": 27,
   "metadata": {
    "collapsed": true
   },
   "outputs": [],
   "source": [
    "import sys                ###중요\n",
    "\n",
    "f = open('t.txt', 'w')\n",
    "stdout = sys.stdout   # 표준 출력 저장해 두기\n",
    "sys.stdout = f        # 파일 객체로 표준 출력 변경\n",
    "print('Sample output')\n",
    "print('Good')\n",
    "print('Good')\n",
    "f.close()\n",
    "sys.stdout = stdout   # 표준 출력 원상 복구"
   ]
  },
  {
   "cell_type": "code",
   "execution_count": 29,
   "metadata": {
    "collapsed": false
   },
   "outputs": [
    {
     "name": "stdout",
     "output_type": "stream",
     "text": [
      "Hello\n"
     ]
    }
   ],
   "source": [
    "f = open(\"output.txt\",\"w\")\n",
    "print(\"Hello\", file = f)\n",
    "print(\"Hello\", flush=True)    #flush true이면 버퍼에서 기다리지 말고 내보내라"
   ]
  },
  {
   "cell_type": "code",
   "execution_count": 31,
   "metadata": {
    "collapsed": false
   },
   "outputs": [
    {
     "name": "stderr",
     "output_type": "stream",
     "text": [
      "Warning, action\n"
     ]
    }
   ],
   "source": [
    "print(\"Warning, action\", file=sys.stderr)"
   ]
  },
  {
   "cell_type": "code",
   "execution_count": 36,
   "metadata": {
    "collapsed": false
   },
   "outputs": [],
   "source": [
    "import io\n",
    "\n",
    "f = io.StringIO()  #메모리에 존재하는 파일 생성"
   ]
  },
  {
   "cell_type": "code",
   "execution_count": 37,
   "metadata": {
    "collapsed": true
   },
   "outputs": [],
   "source": [
    "import sys\n",
    "import io\n",
    "\n",
    "stdout = sys.stdout    # 표준 출력 저장해 두기\n",
    "sys.stdout = f = io.StringIO()  \n",
    "\n",
    "print(type(f))\n",
    "print('Sample output')\n",
    "print('Good')\n",
    "print('Good')\n",
    "\n",
    "sys.stdout = stdout"
   ]
  },
  {
   "cell_type": "code",
   "execution_count": 39,
   "metadata": {
    "collapsed": false
   },
   "outputs": [],
   "source": [
    "line = f.getvalue()"
   ]
  },
  {
   "cell_type": "code",
   "execution_count": 40,
   "metadata": {
    "collapsed": false
   },
   "outputs": [
    {
     "name": "stdout",
     "output_type": "stream",
     "text": [
      "<class '_io.StringIO'>\n",
      "Sample output\n",
      "Good\n",
      "Good\n",
      "\n"
     ]
    }
   ],
   "source": [
    "print(line)"
   ]
  },
  {
   "cell_type": "code",
   "execution_count": 47,
   "metadata": {
    "collapsed": false
   },
   "outputs": [],
   "source": [
    "import pickle\n",
    "\n",
    "phone = {'tom':4358382, 'jack':9465215, 'jim':6851325, 'Joseph':6584321}\n",
    "List = ['string', 1234, 0.2345]\n",
    "Tuple = (phone, List) # 리스트, 튜플, 사전의 복합 객체\n",
    "\n",
    "with open('dump.pickle','wb') as f:   #내용을 얼려서\n",
    "    pickle.dump(Tuple,f)"
   ]
  },
  {
   "cell_type": "code",
   "execution_count": 50,
   "metadata": {
    "collapsed": false
   },
   "outputs": [
    {
     "name": "stdout",
     "output_type": "stream",
     "text": [
      "1234\n"
     ]
    }
   ],
   "source": [
    "with open('dump.pickle','rb') as f:   #내용을 가져옴\n",
    "    mytuple = pickle.load(f)\n",
    "    print(mytuple[1][1])"
   ]
  },
  {
   "cell_type": "code",
   "execution_count": null,
   "metadata": {
    "collapsed": true
   },
   "outputs": [],
   "source": []
  },
  {
   "cell_type": "code",
   "execution_count": null,
   "metadata": {
    "collapsed": true
   },
   "outputs": [],
   "source": []
  },
  {
   "cell_type": "code",
   "execution_count": null,
   "metadata": {
    "collapsed": true
   },
   "outputs": [],
   "source": []
  },
  {
   "cell_type": "code",
   "execution_count": null,
   "metadata": {
    "collapsed": true
   },
   "outputs": [],
   "source": []
  },
  {
   "cell_type": "code",
   "execution_count": null,
   "metadata": {
    "collapsed": true
   },
   "outputs": [],
   "source": []
  },
  {
   "cell_type": "code",
   "execution_count": null,
   "metadata": {
    "collapsed": true
   },
   "outputs": [],
   "source": []
  },
  {
   "cell_type": "code",
   "execution_count": null,
   "metadata": {
    "collapsed": true
   },
   "outputs": [],
   "source": []
  },
  {
   "cell_type": "code",
   "execution_count": null,
   "metadata": {
    "collapsed": true
   },
   "outputs": [],
   "source": []
  },
  {
   "cell_type": "code",
   "execution_count": null,
   "metadata": {
    "collapsed": true
   },
   "outputs": [],
   "source": []
  }
 ],
 "metadata": {
  "kernelspec": {
   "display_name": "Python 3",
   "language": "python",
   "name": "python3"
  },
  "language_info": {
   "codemirror_mode": {
    "name": "ipython",
    "version": 3
   },
   "file_extension": ".py",
   "mimetype": "text/x-python",
   "name": "python",
   "nbconvert_exporter": "python",
   "pygments_lexer": "ipython3",
   "version": "3.6.0"
  }
 },
 "nbformat": 4,
 "nbformat_minor": 2
}
