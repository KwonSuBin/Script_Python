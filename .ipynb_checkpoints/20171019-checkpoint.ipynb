{
 "cells": [
  {
   "cell_type": "markdown",
   "metadata": {},
   "source": [
    "### 튜플"
   ]
  },
  {
   "cell_type": "markdown",
   "metadata": {},
   "source": [
    "튜플은 변경 불가능"
   ]
  },
  {
   "cell_type": "code",
   "execution_count": 4,
   "metadata": {
    "collapsed": false
   },
   "outputs": [
    {
     "name": "stdout",
     "output_type": "stream",
     "text": [
      "<class 'tuple'> <class 'tuple'> <class 'tuple'>\n"
     ]
    }
   ],
   "source": [
    "t1 = ()\n",
    "t2 = (1,2,3)\n",
    "\n",
    "t3 = 1,2,3 #괄호가 없어도 튜플이 됨\n",
    "print(type(t1), type(t2), type(t3))"
   ]
  },
  {
   "cell_type": "code",
   "execution_count": 8,
   "metadata": {
    "collapsed": false
   },
   "outputs": [
    {
     "name": "stdout",
     "output_type": "stream",
     "text": [
      "<class 'int'>\n",
      "1\n",
      "\n",
      "(1,)\n",
      "(1,)\n",
      "<class 'tuple'>\n",
      "<class 'tuple'>\n"
     ]
    }
   ],
   "source": [
    "r1 = (1)\n",
    "print(type(r1))\n",
    "print(r1)\n",
    "print()\n",
    "\n",
    "\n",
    "r1 = (1,)\n",
    "r2 = 1,\n",
    "print(r1)\n",
    "print(r2)\n",
    "print(type(r1))\n",
    "print(type(r2))"
   ]
  },
  {
   "cell_type": "code",
   "execution_count": 10,
   "metadata": {
    "collapsed": false
   },
   "outputs": [
    {
     "name": "stdout",
     "output_type": "stream",
     "text": [
      "(1, 2, 3, 1, 2, 3)\n",
      "(1, 2, 3, 'PyKUG', 'users')\n",
      "(1, 2, 3)\n",
      "\n",
      "1 (2, 3)\n",
      "3\n",
      "True\n"
     ]
    }
   ],
   "source": [
    "t = (1,2,3)\n",
    "print( t * 2)\n",
    "print(t + ('PyKUG','users'))       #새로운 객체 생성\n",
    "print(t)\n",
    "print()\n",
    "\n",
    "print(t[0],t[1:3])\n",
    "print(len(t))\n",
    "print(1 in t)"
   ]
  },
  {
   "cell_type": "code",
   "execution_count": 13,
   "metadata": {
    "collapsed": false
   },
   "outputs": [
    {
     "ename": "TypeError",
     "evalue": "'tuple' object does not support item assignment",
     "output_type": "error",
     "traceback": [
      "\u001b[0;31m---------------------------------------------------------------------------\u001b[0m",
      "\u001b[0;31mTypeError\u001b[0m                                 Traceback (most recent call last)",
      "\u001b[0;32m<ipython-input-13-e85e50b77095>\u001b[0m in \u001b[0;36m<module>\u001b[0;34m()\u001b[0m\n\u001b[1;32m      1\u001b[0m \u001b[0mt\u001b[0m \u001b[1;33m=\u001b[0m \u001b[1;33m(\u001b[0m\u001b[1;36m1\u001b[0m\u001b[1;33m,\u001b[0m\u001b[1;36m2\u001b[0m\u001b[1;33m,\u001b[0m\u001b[1;36m3\u001b[0m\u001b[1;33m)\u001b[0m\u001b[1;33m\u001b[0m\u001b[0m\n\u001b[0;32m----> 2\u001b[0;31m \u001b[0mt\u001b[0m\u001b[1;33m[\u001b[0m\u001b[1;36m0\u001b[0m\u001b[1;33m]\u001b[0m \u001b[1;33m=\u001b[0m \u001b[1;36m100\u001b[0m            \u001b[1;31m#튜플은 변경 불가\u001b[0m\u001b[1;33m\u001b[0m\u001b[0m\n\u001b[0m",
      "\u001b[0;31mTypeError\u001b[0m: 'tuple' object does not support item assignment"
     ]
    }
   ],
   "source": [
    "t = (1,2,3)\n",
    "t[0] = 100            #튜플은 변경 불가"
   ]
  },
  {
   "cell_type": "code",
   "execution_count": 14,
   "metadata": {
    "collapsed": false
   },
   "outputs": [
    {
     "name": "stdout",
     "output_type": "stream",
     "text": [
      "((12345, 54331, 'Hello!'), (1, 2, 3, 4, 5))\n",
      "([1, 2, 3], (1, 2, 4))\n",
      "({1: 'abc', 2: 'def'}, (1, 2, 3))\n"
     ]
    }
   ],
   "source": [
    "t = (12345, 54331, \"Hello!\")\n",
    "u = t, (1,2,3,4,5)\n",
    "print(u)\n",
    "\n",
    "t2 = [1,2,3]\n",
    "u2 = t2, (1,2,4)\n",
    "print(u2)\n",
    "\n",
    "t3 = {1:\"abc\", 2:\"def\"}\n",
    "u3 = t3, (1,2,3)\n",
    "print(u3)"
   ]
  },
  {
   "cell_type": "code",
   "execution_count": 15,
   "metadata": {
    "collapsed": false
   },
   "outputs": [
    {
     "name": "stdout",
     "output_type": "stream",
     "text": [
      "<class 'int'> <class 'int'> <class 'int'>\n",
      "1\n",
      "2\n",
      "3\n"
     ]
    }
   ],
   "source": [
    "x, y, z = 1,2,3\n",
    "print(type(x), type(y), type(z))\n",
    "print(x)\n",
    "print(y)\n",
    "print(z)"
   ]
  },
  {
   "cell_type": "code",
   "execution_count": 17,
   "metadata": {
    "collapsed": false
   },
   "outputs": [
    {
     "name": "stdout",
     "output_type": "stream",
     "text": [
      "2 1\n"
     ]
    }
   ],
   "source": [
    "x = 1\n",
    "y = 2\n",
    "x,y = y,x\n",
    "print(x,y)"
   ]
  },
  {
   "cell_type": "code",
   "execution_count": 20,
   "metadata": {
    "collapsed": true
   },
   "outputs": [],
   "source": [
    "t = 1,2, 'hello'  #패킹"
   ]
  },
  {
   "cell_type": "code",
   "execution_count": 26,
   "metadata": {
    "collapsed": true
   },
   "outputs": [],
   "source": [
    "x,y,z = t         #언패킹"
   ]
  },
  {
   "cell_type": "code",
   "execution_count": 28,
   "metadata": {
    "collapsed": true
   },
   "outputs": [],
   "source": [
    "a = ['foo','bar',4,5]\n",
    "[x,y,z,q ] = a"
   ]
  },
  {
   "cell_type": "markdown",
   "metadata": {},
   "source": [
    "튜플만의 특징\n",
    "- 메소드를 가지지 않는다.\n",
    "\n",
    "리스트 메소드-> append(), extend(), pop()"
   ]
  },
  {
   "cell_type": "code",
   "execution_count": 30,
   "metadata": {
    "collapsed": false
   },
   "outputs": [
    {
     "name": "stdout",
     "output_type": "stream",
     "text": [
      "[100, 2, 3, 4, 5]\n",
      "(100, 2, 3, 4, 5)\n"
     ]
    }
   ],
   "source": [
    "T = (1,2,3,4,5)\n",
    "L = list(T)\n",
    "L[0] = 100\n",
    "print(L)\n",
    "\n",
    "T = tuple(L)\n",
    "print(T)"
   ]
  },
  {
   "cell_type": "code",
   "execution_count": 33,
   "metadata": {
    "collapsed": false
   },
   "outputs": [
    {
     "name": "stdout",
     "output_type": "stream",
     "text": [
      "9\n",
      "20\n"
     ]
    }
   ],
   "source": [
    "def calc(a,b):\n",
    "    return a+b, a*b       #튜플 반환  **중요**\n",
    "\n",
    "x,y = calc(5,4)\n",
    "print(x)\n",
    "print(y)"
   ]
  },
  {
   "cell_type": "code",
   "execution_count": 35,
   "metadata": {
    "collapsed": false
   },
   "outputs": [
    {
     "name": "stdout",
     "output_type": "stream",
     "text": [
      "id : gslee, name :GangSeong\n"
     ]
    }
   ],
   "source": [
    "print('id : %s, name :%s' %('gslee','GangSeong'))   #문자 포맷팅 할때 %뒤에 있는거 튜플"
   ]
  },
  {
   "cell_type": "code",
   "execution_count": 36,
   "metadata": {
    "collapsed": false
   },
   "outputs": [
    {
     "name": "stdout",
     "output_type": "stream",
     "text": [
      "dict_items([('one', 1), ('two', 2)])\n"
     ]
    }
   ],
   "source": [
    "d = {'one':1, 'two':2}\n",
    "print(d.items())"
   ]
  },
  {
   "cell_type": "markdown",
   "metadata": {},
   "source": [
    "### 집합"
   ]
  },
  {
   "cell_type": "markdown",
   "metadata": {},
   "source": [
    "- 변경 가능\n",
    "- 각 원소간에 순서는없음\n",
    "- 각 원소 중복 불가\n",
    "- 시퀀스 자료형이 아니다"
   ]
  },
  {
   "cell_type": "code",
   "execution_count": 41,
   "metadata": {
    "collapsed": false
   },
   "outputs": [
    {
     "name": "stdout",
     "output_type": "stream",
     "text": [
      "<class 'set'>\n",
      "{1, 2, 3}\n"
     ]
    }
   ],
   "source": [
    "a = set([1,2,2,3]) #set 내장함수 인자-> 리스트, 튜플, 사전 가능\n",
    "print(type(a))\n",
    "print(a)"
   ]
  },
  {
   "cell_type": "code",
   "execution_count": 43,
   "metadata": {
    "collapsed": false
   },
   "outputs": [
    {
     "name": "stdout",
     "output_type": "stream",
     "text": [
      "<class 'set'>\n",
      "{'a', 'b', 'c'}\n",
      "\n"
     ]
    }
   ],
   "source": [
    "c = set({'a':1,'b':2,'c':3})\n",
    "print(type(c))\n",
    "print(c)\n",
    "print()"
   ]
  },
  {
   "cell_type": "code",
   "execution_count": 45,
   "metadata": {
    "collapsed": false
   },
   "outputs": [
    {
     "name": "stdout",
     "output_type": "stream",
     "text": [
      "<class 'set'>\n",
      "{1, 2, 3}\n",
      "\n"
     ]
    }
   ],
   "source": [
    "d = set({'a':1,'b':2,'c':3}.values())\n",
    "print(type(d))\n",
    "print(d)\n",
    "print()"
   ]
  },
  {
   "cell_type": "code",
   "execution_count": 48,
   "metadata": {
    "collapsed": false
   },
   "outputs": [
    {
     "name": "stdout",
     "output_type": "stream",
     "text": [
      "set()\n",
      "{1, 2, 3, 4, 5}\n",
      "{1, 2, 3, 4, 5}\n",
      "{'a', 'b', 'c'}\n",
      "{(4, 5, 6), (1, 2, 3)}\n"
     ]
    },
    {
     "ename": "TypeError",
     "evalue": "unhashable type: 'list'",
     "output_type": "error",
     "traceback": [
      "\u001b[0;31m---------------------------------------------------------------------------\u001b[0m",
      "\u001b[0;31mTypeError\u001b[0m                                 Traceback (most recent call last)",
      "\u001b[0;32m<ipython-input-48-8474383510f5>\u001b[0m in \u001b[0;36m<module>\u001b[0;34m()\u001b[0m\n\u001b[1;32m      4\u001b[0m \u001b[0mprint\u001b[0m\u001b[1;33m(\u001b[0m\u001b[0mset\u001b[0m\u001b[1;33m(\u001b[0m\u001b[1;34m'abc'\u001b[0m\u001b[1;33m)\u001b[0m\u001b[1;33m)\u001b[0m \u001b[1;31m#문자열은 각 문자 하나하나를 원소로\u001b[0m\u001b[1;33m\u001b[0m\u001b[0m\n\u001b[1;32m      5\u001b[0m \u001b[0mprint\u001b[0m\u001b[1;33m(\u001b[0m\u001b[0mset\u001b[0m\u001b[1;33m(\u001b[0m\u001b[1;33m[\u001b[0m\u001b[1;33m(\u001b[0m\u001b[1;36m1\u001b[0m\u001b[1;33m,\u001b[0m\u001b[1;36m2\u001b[0m\u001b[1;33m,\u001b[0m\u001b[1;36m3\u001b[0m\u001b[1;33m)\u001b[0m\u001b[1;33m,\u001b[0m\u001b[1;33m(\u001b[0m\u001b[1;36m4\u001b[0m\u001b[1;33m,\u001b[0m\u001b[1;36m5\u001b[0m\u001b[1;33m,\u001b[0m\u001b[1;36m6\u001b[0m\u001b[1;33m)\u001b[0m\u001b[1;33m]\u001b[0m\u001b[1;33m)\u001b[0m\u001b[1;33m)\u001b[0m\u001b[1;33m\u001b[0m\u001b[0m\n\u001b[0;32m----> 6\u001b[0;31m \u001b[0mprint\u001b[0m\u001b[1;33m(\u001b[0m\u001b[0mset\u001b[0m\u001b[1;33m(\u001b[0m\u001b[1;33m[\u001b[0m\u001b[1;33m[\u001b[0m\u001b[1;36m1\u001b[0m\u001b[1;33m,\u001b[0m\u001b[1;36m2\u001b[0m\u001b[1;33m,\u001b[0m\u001b[1;36m3\u001b[0m\u001b[1;33m]\u001b[0m\u001b[1;33m,\u001b[0m\u001b[1;33m[\u001b[0m\u001b[1;36m4\u001b[0m\u001b[1;33m,\u001b[0m\u001b[1;36m5\u001b[0m\u001b[1;33m,\u001b[0m\u001b[1;36m6\u001b[0m\u001b[1;33m]\u001b[0m\u001b[1;33m]\u001b[0m\u001b[1;33m)\u001b[0m\u001b[1;33m)\u001b[0m \u001b[1;31m#변경가능한 원소는 올 수 없음.\u001b[0m\u001b[1;33m\u001b[0m\u001b[0m\n\u001b[0m",
      "\u001b[0;31mTypeError\u001b[0m: unhashable type: 'list'"
     ]
    }
   ],
   "source": [
    "print(set())\n",
    "print(set([1,2,3,4,5]))\n",
    "print(set([1,2,3,2,3,4,5]))\n",
    "print(set('abc')) #문자열은 각 문자 하나하나를 원소로\n",
    "print(set([(1,2,3),(4,5,6)]))\n",
    "print(set([[1,2,3],[4,5,6]])) #변경가능한 원소는 올 수 없음.**"
   ]
  },
  {
   "cell_type": "code",
   "execution_count": 49,
   "metadata": {
    "collapsed": false
   },
   "outputs": [
    {
     "name": "stdout",
     "output_type": "stream",
     "text": [
      "9\n",
      "True\n",
      "True\n"
     ]
    }
   ],
   "source": [
    "A = set([1,2,3,4,5,6,7,8,9])\n",
    "\n",
    "print(len(A))\n",
    "print(5 in A)\n",
    "print(10 not in A)"
   ]
  },
  {
   "cell_type": "code",
   "execution_count": 50,
   "metadata": {
    "collapsed": false
   },
   "outputs": [
    {
     "name": "stdout",
     "output_type": "stream",
     "text": [
      "True\n",
      "True\n",
      "True\n",
      "True\n",
      "\n"
     ]
    }
   ],
   "source": [
    "B = set([4,5,6,10,20,30])\n",
    "C = set([10,20,30])\n",
    "\n",
    "print(C.issubset(B))  #C가 B의 부분집합?\n",
    "print(C <= B)\n",
    "print(B.issuperset(C))\n",
    "print(B >= C)\n",
    "print()"
   ]
  },
  {
   "cell_type": "code",
   "execution_count": 53,
   "metadata": {
    "collapsed": false
   },
   "outputs": [
    {
     "name": "stdout",
     "output_type": "stream",
     "text": [
      "{1, 2, 3, 4, 5, 6, 7, 8, 9, 10, 20, 30}\n",
      "{1, 2, 3, 4, 5, 6, 7, 8, 9}\n",
      "\n",
      "{4, 5, 6}\n",
      "{1, 2, 3, 4, 5, 6, 7, 8, 9}\n",
      "\n",
      "{1, 2, 3, 7, 8, 9}\n",
      "{1, 2, 3, 4, 5, 6, 7, 8, 9}\n",
      "\n",
      "{1, 2, 3, 7, 8, 9, 10, 20, 30}\n",
      "{1, 2, 3, 4, 5, 6, 7, 8, 9}\n",
      "\n"
     ]
    }
   ],
   "source": [
    "A = set([1,2,3,4,5,6,7,8,9])\n",
    "B = set([4,5,6,10,20,30])\n",
    "\n",
    "print(A.union(B))     #합집합\n",
    "print(A)\n",
    "print()\n",
    "\n",
    "print(A.intersection(B))  #교집합\n",
    "print(A)\n",
    "print()\n",
    "\n",
    "print(A.difference(B)) #A-B(차집합)\n",
    "print(A)\n",
    "print()\n",
    "\n",
    "print(A.symmetric_difference(B)) #베타 집합\n",
    "print(A)\n",
    "print()"
   ]
  },
  {
   "cell_type": "code",
   "execution_count": 54,
   "metadata": {
    "collapsed": false
   },
   "outputs": [
    {
     "name": "stdout",
     "output_type": "stream",
     "text": [
      "{1, 2, 3, 4, 5, 6, 7, 8, 9, 10, 20, 30}\n",
      "{1, 2, 3, 4, 5, 6, 7, 8, 9}\n",
      "\n",
      "{4, 5, 6}\n",
      "{1, 2, 3, 4, 5, 6, 7, 8, 9}\n",
      "\n",
      "{1, 2, 3, 7, 8, 9}\n",
      "{1, 2, 3, 4, 5, 6, 7, 8, 9}\n",
      "\n",
      "{1, 2, 3, 7, 8, 9, 10, 20, 30}\n",
      "{1, 2, 3, 4, 5, 6, 7, 8, 9}\n",
      "\n"
     ]
    }
   ],
   "source": [
    "A = set([1,2,3,4,5,6,7,8,9])\n",
    "B = set([4,5,6,10,20,30])\n",
    "\n",
    "print(A | B)     #합집합\n",
    "print(A)\n",
    "print()\n",
    "\n",
    "print(A & B)  #교집합\n",
    "print(A)\n",
    "print()\n",
    "\n",
    "print(A - B) #A-B(차집합)\n",
    "print(A)\n",
    "print()\n",
    "\n",
    "print(A ^ B) #베타 집합\n",
    "print(A)\n",
    "print()"
   ]
  },
  {
   "cell_type": "code",
   "execution_count": 56,
   "metadata": {
    "collapsed": false
   },
   "outputs": [
    {
     "name": "stdout",
     "output_type": "stream",
     "text": [
      "\n",
      "True\n",
      "False\n"
     ]
    }
   ],
   "source": [
    "A = set([1,2,3,4,5,6,7,8,9])\n",
    "D = A.copy()\n",
    "print()\n",
    "\n",
    "print(A == D)  #자료값 비교\n",
    "print(A is D) # 객체 동등성 비교"
   ]
  },
  {
   "cell_type": "code",
   "execution_count": 58,
   "metadata": {
    "collapsed": false
   },
   "outputs": [
    {
     "ename": "TypeError",
     "evalue": "'set' object does not support indexing",
     "output_type": "error",
     "traceback": [
      "\u001b[0;31m---------------------------------------------------------------------------\u001b[0m",
      "\u001b[0;31mTypeError\u001b[0m                                 Traceback (most recent call last)",
      "\u001b[0;32m<ipython-input-58-8d95903dd332>\u001b[0m in \u001b[0;36m<module>\u001b[0;34m()\u001b[0m\n\u001b[1;32m      1\u001b[0m \u001b[0mA\u001b[0m \u001b[1;33m=\u001b[0m \u001b[0mset\u001b[0m\u001b[1;33m(\u001b[0m\u001b[1;33m[\u001b[0m\u001b[1;36m1\u001b[0m\u001b[1;33m,\u001b[0m\u001b[1;36m2\u001b[0m\u001b[1;33m,\u001b[0m\u001b[1;36m3\u001b[0m\u001b[1;33m,\u001b[0m\u001b[1;36m4\u001b[0m\u001b[1;33m,\u001b[0m\u001b[1;36m5\u001b[0m\u001b[1;33m,\u001b[0m\u001b[1;36m6\u001b[0m\u001b[1;33m,\u001b[0m\u001b[1;36m7\u001b[0m\u001b[1;33m,\u001b[0m\u001b[1;36m8\u001b[0m\u001b[1;33m,\u001b[0m\u001b[1;36m9\u001b[0m\u001b[1;33m]\u001b[0m\u001b[1;33m)\u001b[0m\u001b[1;33m\u001b[0m\u001b[0m\n\u001b[0;32m----> 2\u001b[0;31m \u001b[0mprint\u001b[0m\u001b[1;33m(\u001b[0m\u001b[0mA\u001b[0m\u001b[1;33m[\u001b[0m\u001b[1;36m0\u001b[0m\u001b[1;33m]\u001b[0m\u001b[1;33m)\u001b[0m           \u001b[1;31m#집합은 순서가 없음\u001b[0m\u001b[1;33m\u001b[0m\u001b[0m\n\u001b[0m",
      "\u001b[0;31mTypeError\u001b[0m: 'set' object does not support indexing"
     ]
    }
   ],
   "source": [
    "A = set([1,2,3,4,5,6,7,8,9])\n",
    "print(A[0])           #집합은 순서가 없음"
   ]
  },
  {
   "cell_type": "code",
   "execution_count": 59,
   "metadata": {
    "collapsed": false
   },
   "outputs": [
    {
     "name": "stdout",
     "output_type": "stream",
     "text": [
      "[1, 2, 3, 4, 5, 6, 7, 8, 9]\n",
      "(1, 2, 3, 4, 5, 6, 7, 8, 9)\n"
     ]
    }
   ],
   "source": [
    "print(list(A))\n",
    "print(tuple(A))"
   ]
  },
  {
   "cell_type": "code",
   "execution_count": 64,
   "metadata": {
    "collapsed": false
   },
   "outputs": [
    {
     "name": "stdout",
     "output_type": "stream",
     "text": [
      "1\n",
      "2\n",
      "3\n",
      "4\n",
      "5\n",
      "6\n",
      "7\n",
      "8\n",
      "9\n"
     ]
    }
   ],
   "source": [
    "for ele in A:\n",
    "    print(ele)"
   ]
  },
  {
   "cell_type": "markdown",
   "metadata": {},
   "source": [
    "update->.앞에 있는 객체의 내용 변경"
   ]
  },
  {
   "cell_type": "code",
   "execution_count": 67,
   "metadata": {
    "collapsed": false
   },
   "outputs": [
    {
     "name": "stdout",
     "output_type": "stream",
     "text": [
      "{1, 2, 3, 4, 5, 6}\n",
      "{4, 5, 6}\n",
      "{4, 5}\n",
      "{4, 6, 7}\n",
      "{4, 6, 7, 8}\n",
      "{4, 6, 7}\n"
     ]
    }
   ],
   "source": [
    "A = set([1,2,3,4])\n",
    "B = set([3,4,5,6])\n",
    "\n",
    "A.update(B)  #A와 B를 합집합하고 A에 대입\n",
    "print(A)\n",
    "\n",
    "A.intersection_update([4,5,6,7,8])\n",
    "print(A)\n",
    "\n",
    "A.difference_update([6,7,8])\n",
    "print(A)\n",
    "\n",
    "A.symmetric_difference_update([5,6,7])\n",
    "print(A)\n",
    "\n",
    "A.add(8)\n",
    "print(A)\n",
    "\n",
    "A.remove(8)\n",
    "print(A)"
   ]
  },
  {
   "cell_type": "code",
   "execution_count": 69,
   "metadata": {
    "collapsed": false
   },
   "outputs": [
    {
     "name": "stdout",
     "output_type": "stream",
     "text": [
      "{1, 2, 3, 4}\n",
      "{4}\n"
     ]
    }
   ],
   "source": [
    "A = set([1,2,3,4])\n",
    "B = set([3,4,5,6])\n",
    "\n",
    "A != B\n",
    "print(A)\n",
    "\n",
    "A &= set([4,5,6,7,8])\n",
    "print(A)"
   ]
  },
  {
   "cell_type": "code",
   "execution_count": 74,
   "metadata": {
    "collapsed": false
   },
   "outputs": [
    {
     "name": "stdout",
     "output_type": "stream",
     "text": [
      "{4}\n"
     ]
    }
   ],
   "source": [
    "A.discard(10)  #remove와 같으나 예외 발생하지 않음\n",
    "\n",
    "A.discard(6)\n",
    "print(A)"
   ]
  },
  {
   "cell_type": "code",
   "execution_count": 77,
   "metadata": {
    "collapsed": false
   },
   "outputs": [
    {
     "name": "stdout",
     "output_type": "stream",
     "text": [
      "{2, 3, 4}\n",
      "set()\n"
     ]
    }
   ],
   "source": [
    "A = set([1,2,3,4,])\n",
    "A.pop()    #임의의 원소 하나 꺼내기\n",
    "print(A)\n",
    "\n",
    "A = set([1,2,3,4])\n",
    "A.clear()   #모든 원소 없애기\n",
    "print(A)\n"
   ]
  },
  {
   "cell_type": "markdown",
   "metadata": {},
   "source": [
    "#### 실습하기"
   ]
  },
  {
   "cell_type": "code",
   "execution_count": 2,
   "metadata": {
    "collapsed": false
   },
   "outputs": [
    {
     "name": "stdout",
     "output_type": "stream",
     "text": [
      "{1, 2, 3, 4, 5, 6, 7}\n"
     ]
    }
   ],
   "source": [
    "t1= set([1,2,3,4,5])\n",
    "t2 = set([3,4,5,6,7])\n",
    "t3 = t1 | t2\n",
    "print(t3)"
   ]
  },
  {
   "cell_type": "code",
   "execution_count": 3,
   "metadata": {
    "collapsed": true
   },
   "outputs": [],
   "source": [
    "t3 = list(t3)"
   ]
  },
  {
   "cell_type": "code",
   "execution_count": 4,
   "metadata": {
    "collapsed": false
   },
   "outputs": [
    {
     "name": "stdout",
     "output_type": "stream",
     "text": [
      "[1, 2, 3, 4, 5, 6, 7]\n"
     ]
    }
   ],
   "source": [
    "print(t3)"
   ]
  },
  {
   "cell_type": "markdown",
   "metadata": {},
   "source": [
    "### ------------------------------"
   ]
  },
  {
   "cell_type": "markdown",
   "metadata": {},
   "source": [
    "### 사전"
   ]
  },
  {
   "cell_type": "markdown",
   "metadata": {},
   "source": [
    "사전의 특징\n",
    "- 집합적 자료형\n",
    "- 시퀀스 자료형이 아님\n",
    "- 매핑형 자료형"
   ]
  },
  {
   "cell_type": "code",
   "execution_count": 13,
   "metadata": {
    "collapsed": false
   },
   "outputs": [
    {
     "name": "stdout",
     "output_type": "stream",
     "text": [
      "{'basketball': 5, 'soccer': 11, 'baseball': 9}\n",
      "9\n"
     ]
    }
   ],
   "source": [
    "member = {'basketball':5, 'soccer':11, 'baseball':9}\n",
    "print(member)\n",
    "print(member['baseball'])"
   ]
  },
  {
   "cell_type": "code",
   "execution_count": 15,
   "metadata": {
    "collapsed": false
   },
   "outputs": [
    {
     "name": "stdout",
     "output_type": "stream",
     "text": [
      "{'basketball': 5, 'soccer': 11, 'baseball': 9, 'volleyball': 7}\n",
      "{'basketball': 5, 'soccer': 11, 'baseball': 9, 'volleyball': 6}\n",
      "4\n"
     ]
    }
   ],
   "source": [
    "member['volleyball'] = 7  #새로운 아이템 추가\n",
    "print(member)\n",
    "member['volleyball'] = 6\n",
    "print(member)\n",
    "print(len(member))  #아이템의 개수\n"
   ]
  },
  {
   "cell_type": "markdown",
   "metadata": {},
   "source": [
    "#### 내부적으로 해쉬기법을 이용하여 정리함 외부에서는 확인 불가"
   ]
  },
  {
   "cell_type": "code",
   "execution_count": 17,
   "metadata": {
    "collapsed": false
   },
   "outputs": [
    {
     "name": "stdout",
     "output_type": "stream",
     "text": [
      "{'soccer': 11, 'baseball': 9}\n"
     ]
    }
   ],
   "source": [
    "member = {'basketball':5, 'soccer':11, 'baseball':9}\n",
    "del member['basketball']\n",
    "print(member)"
   ]
  },
  {
   "cell_type": "markdown",
   "metadata": {},
   "source": [
    "키는 변경 불가능 자료만 가능"
   ]
  },
  {
   "cell_type": "code",
   "execution_count": 24,
   "metadata": {
    "collapsed": false
   },
   "outputs": [
    {
     "name": "stdout",
     "output_type": "stream",
     "text": [
      "{'str': 'abc'}\n",
      "{'str': 'abc', 1: 4}\n",
      "{'str': 'abc', 1: 4, (1, 2, 3): 'tuple'}\n"
     ]
    },
    {
     "ename": "TypeError",
     "evalue": "unhashable type: 'dict'",
     "output_type": "error",
     "traceback": [
      "\u001b[0;31m---------------------------------------------------------------------------\u001b[0m",
      "\u001b[0;31mTypeError\u001b[0m                                 Traceback (most recent call last)",
      "\u001b[0;32m<ipython-input-24-487303d196b7>\u001b[0m in \u001b[0;36m<module>\u001b[0;34m()\u001b[0m\n\u001b[1;32m      9\u001b[0m \u001b[0mprint\u001b[0m\u001b[1;33m(\u001b[0m\u001b[0md\u001b[0m\u001b[1;33m)\u001b[0m\u001b[1;33m\u001b[0m\u001b[0m\n\u001b[1;32m     10\u001b[0m \u001b[1;33m\u001b[0m\u001b[0m\n\u001b[0;32m---> 11\u001b[0;31m \u001b[0md\u001b[0m\u001b[1;33m[\u001b[0m\u001b[1;33m{\u001b[0m\u001b[1;36m1\u001b[0m\u001b[1;33m:\u001b[0m\u001b[1;36m10\u001b[0m\u001b[1;33m}\u001b[0m\u001b[1;33m]\u001b[0m \u001b[1;33m=\u001b[0m \u001b[1;36m10.0\u001b[0m    \u001b[1;31m#리스트와 사전은 키가 될 수 없다.\u001b[0m\u001b[1;33m\u001b[0m\u001b[0m\n\u001b[0m",
      "\u001b[0;31mTypeError\u001b[0m: unhashable type: 'dict'"
     ]
    }
   ],
   "source": [
    "d = {}\n",
    "d['str'] = 'abc'\n",
    "print(d)\n",
    "\n",
    "d[1] = 4\n",
    "print(d)\n",
    "\n",
    "d[(1,2,3)] = 'tuple'\n",
    "print(d)\n",
    "\n",
    "d[{1:10}] = 10.0    #리스트와 사전은 키가 될 수 없다."
   ]
  },
  {
   "cell_type": "code",
   "execution_count": 25,
   "metadata": {
    "collapsed": false
   },
   "outputs": [
    {
     "name": "stdout",
     "output_type": "stream",
     "text": [
      "9\n",
      "-1\n",
      "\n",
      "1\n"
     ]
    }
   ],
   "source": [
    "def add(a,b):\n",
    "    return a + b\n",
    "\n",
    "def sub(a,b):\n",
    "    return a - b\n",
    "\n",
    "action = {0:add, 1:sub}\n",
    "print(action[0](4,5))\n",
    "print(action[1](4,5))\n",
    "print()\n",
    "action2 = {add:1, sub:2}\n",
    "print(action2[add])"
   ]
  },
  {
   "cell_type": "markdown",
   "metadata": {},
   "source": [
    "내장 함수 dict()"
   ]
  },
  {
   "cell_type": "code",
   "execution_count": 27,
   "metadata": {
    "collapsed": false
   },
   "outputs": [
    {
     "name": "stdout",
     "output_type": "stream",
     "text": [
      "<class 'dict'>\n",
      "{}\n"
     ]
    }
   ],
   "source": [
    "d = dict()\n",
    "print(type(d))\n",
    "print(d)"
   ]
  },
  {
   "cell_type": "code",
   "execution_count": 32,
   "metadata": {
    "collapsed": false
   },
   "outputs": [
    {
     "name": "stdout",
     "output_type": "stream",
     "text": [
      "{'one': 1, 'two': 2}\n",
      "{'one': 1, 'two': 2}\n",
      "{'one': 1, 'two': 2}\n"
     ]
    }
   ],
   "source": [
    "print(dict(one = 1, two = 2))\n",
    "print(dict([('one',1),('two',2)]))  #리스트 안에 원소는 튜플\n",
    "print({'one':1, 'two':2})"
   ]
  },
  {
   "cell_type": "code",
   "execution_count": 33,
   "metadata": {
    "collapsed": false
   },
   "outputs": [
    {
     "name": "stdout",
     "output_type": "stream",
     "text": [
      "<zip object at 0x00000179A9ED3B08>\n",
      "{'one': 1, 'two': 2, 'three': 3}\n"
     ]
    }
   ],
   "source": [
    "keys = ['one','two','three']\n",
    "values = (1,2,3)\n",
    "print(zip(keys,values))   #zip():두개의 자료를 순서대로 쌍으로 묶어 튜플로 반환\n",
    "print(dict(zip(keys,values)))"
   ]
  },
  {
   "cell_type": "markdown",
   "metadata": {},
   "source": [
    "사전이 지원하는 중요 메소드\n",
    "- keys\n",
    "- values\n",
    "- items\n",
    "- key in 사전"
   ]
  },
  {
   "cell_type": "code",
   "execution_count": 38,
   "metadata": {
    "collapsed": false
   },
   "outputs": [
    {
     "name": "stdout",
     "output_type": "stream",
     "text": [
      "dict_keys(['jack', 'jin', 'kim'])\n",
      "dict_values([123456643, 383940405, 48060688])\n",
      "dict_items([('jack', 123456643), ('jin', 383940405), ('kim', 48060688)])\n",
      "\n",
      "True\n",
      "False\n"
     ]
    }
   ],
   "source": [
    "phone = {'jack':123456643,'jin':383940405,'kim':48060688}\n",
    "\n",
    "print(phone.keys())\n",
    "print(phone.values())\n",
    "print(phone.items())\n",
    "print()\n",
    "print('jack' in phone)\n",
    "print('lee' in phone) #키만 검색할 수 있다."
   ]
  },
  {
   "cell_type": "code",
   "execution_count": 42,
   "metadata": {
    "collapsed": false
   },
   "outputs": [
    {
     "name": "stdout",
     "output_type": "stream",
     "text": [
      "{'jack': 1234, 'jin': 383940405, 'kim': 48060688}\n",
      "{'jack': 1234, 'jin': 383940405, 'kim': 48060688}\n",
      "\n",
      "{'jack': 1111, 'jin': 383940405, 'kim': 48060688}\n",
      "{'jack': 1234, 'jin': 383940405, 'kim': 48060688}\n"
     ]
    }
   ],
   "source": [
    "phone = {'jack':123456643,'jin':383940405,'kim':48060688}\n",
    "p = phone\n",
    "\n",
    "phone['jack'] = 1234\n",
    "print(phone)\n",
    "print(p)\n",
    "print()\n",
    "\n",
    "ph = phone.copy()  #서로 다른 객체를 가리킴\n",
    "phone['jack'] = 1111\n",
    "print(phone)\n",
    "print(ph)"
   ]
  },
  {
   "cell_type": "code",
   "execution_count": 43,
   "metadata": {
    "collapsed": false
   },
   "outputs": [
    {
     "name": "stdout",
     "output_type": "stream",
     "text": [
      "\n",
      "{'a': [1, 2, 3], 'b': 100}\n",
      "{'a': [1, 2, 3], 'b': 4}\n",
      "{'a': [100, 2, 3], 'b': 100}\n",
      "{'a': [100, 2, 3], 'b': 4}\n"
     ]
    }
   ],
   "source": [
    "phone = {'a': [1,2,3],'b':4}\n",
    "phone2 = phone.copy()\n",
    "print()\n",
    "\n",
    "phone['b'] = 100\n",
    "print(phone)\n",
    "print(phone2)\n",
    "\n",
    "phone['a'][0] = 100\n",
    "print(phone)\n",
    "print(phone2)"
   ]
  },
  {
   "cell_type": "code",
   "execution_count": 45,
   "metadata": {
    "collapsed": false
   },
   "outputs": [
    {
     "name": "stdout",
     "output_type": "stream",
     "text": [
      "44059203\n",
      "None\n",
      "44059203\n"
     ]
    },
    {
     "ename": "KeyError",
     "evalue": "'aslee'",
     "output_type": "error",
     "traceback": [
      "\u001b[0;31m---------------------------------------------------------------------------\u001b[0m",
      "\u001b[0;31mKeyError\u001b[0m                                  Traceback (most recent call last)",
      "\u001b[0;32m<ipython-input-45-1ead2e829085>\u001b[0m in \u001b[0;36m<module>\u001b[0;34m()\u001b[0m\n\u001b[1;32m      3\u001b[0m \u001b[0mprint\u001b[0m\u001b[1;33m(\u001b[0m\u001b[0mph\u001b[0m\u001b[1;33m.\u001b[0m\u001b[0mget\u001b[0m\u001b[1;33m(\u001b[0m\u001b[1;34m'aslee'\u001b[0m\u001b[1;33m)\u001b[0m\u001b[1;33m)\u001b[0m   \u001b[1;31m#존재하지 않아서 None\u001b[0m\u001b[1;33m\u001b[0m\u001b[0m\n\u001b[1;32m      4\u001b[0m \u001b[0mprint\u001b[0m\u001b[1;33m(\u001b[0m\u001b[0mph\u001b[0m\u001b[1;33m[\u001b[0m\u001b[1;34m'jack'\u001b[0m\u001b[1;33m]\u001b[0m\u001b[1;33m)\u001b[0m\u001b[1;33m\u001b[0m\u001b[0m\n\u001b[0;32m----> 5\u001b[0;31m \u001b[0mprint\u001b[0m\u001b[1;33m(\u001b[0m\u001b[0mph\u001b[0m\u001b[1;33m[\u001b[0m\u001b[1;34m'aslee'\u001b[0m\u001b[1;33m]\u001b[0m\u001b[1;33m)\u001b[0m   \u001b[1;31m#존재하지 않아서 None\u001b[0m\u001b[1;33m\u001b[0m\u001b[0m\n\u001b[0m",
      "\u001b[0;31mKeyError\u001b[0m: 'aslee'"
     ]
    }
   ],
   "source": [
    "ph = {'jack':44059203,'jin':1111,'kim':3574532}\n",
    "print(ph.get('jack'))\n",
    "print(ph.get('aslee'))   #존재하지 않아서 None\n",
    "print(ph['jack'])\n",
    "print(ph['aslee'])   #존재하지 않아서 None"
   ]
  },
  {
   "cell_type": "code",
   "execution_count": 48,
   "metadata": {
    "collapsed": false
   },
   "outputs": [
    {
     "name": "stdout",
     "output_type": "stream",
     "text": [
      "3453\n",
      "{'jack': 44059203, 'jin': 1111, 'kim': 3574532}\n",
      "\n",
      "('kim', 3574532)\n",
      "{'jack': 44059203, 'jin': 1111}\n",
      "\n",
      "44059203\n",
      "{'jin': 1111}\n"
     ]
    }
   ],
   "source": [
    "ph = {'jack':44059203,'jin':1111,'kim':3574532}\n",
    "print(ph.get('gslee',3453))  #gslee가 없으면 3453 반환\n",
    "print(ph)\n",
    "print()\n",
    "\n",
    "print(ph.popitem())  #임의의 원소 반환&제거\n",
    "print(ph)\n",
    "print()\n",
    "\n",
    "print(ph.pop('jack'))  #jack 전체쌍을 가져옴 반환은 values만!\n",
    "print(ph)"
   ]
  },
  {
   "cell_type": "code",
   "execution_count": 51,
   "metadata": {
    "collapsed": false
   },
   "outputs": [
    {
     "name": "stdout",
     "output_type": "stream",
     "text": [
      "{'jack': 34634, 'jin': 1111, 'kim': 36452, 'kwon': 35153, 'lee': 4688}\n",
      "\n",
      "{}\n"
     ]
    }
   ],
   "source": [
    "phone = {'jack':34634,'jin':1111,'kim':36452}\n",
    "ph = {'kwon':35153,'lee':4688}\n",
    "phone.update(ph)\n",
    "print(phone)\n",
    "print()\n",
    "phone.clear()\n",
    "print(phone)"
   ]
  },
  {
   "cell_type": "markdown",
   "metadata": {},
   "source": [
    "#### 루프를 이용한 사전 내용 참조"
   ]
  },
  {
   "cell_type": "code",
   "execution_count": 53,
   "metadata": {
    "collapsed": false
   },
   "outputs": [
    {
     "name": "stdout",
     "output_type": "stream",
     "text": [
      "a 1\n",
      "b 2\n",
      "c 3\n"
     ]
    }
   ],
   "source": [
    "D = {'a':1, 'b':2, 'c':3}\n",
    "for key in D.keys():\n",
    "    print(key,D[key])"
   ]
  },
  {
   "cell_type": "code",
   "execution_count": 54,
   "metadata": {
    "collapsed": false
   },
   "outputs": [
    {
     "name": "stdout",
     "output_type": "stream",
     "text": [
      "a 1\n",
      "b 2\n",
      "c 3\n"
     ]
    }
   ],
   "source": [
    "D = {'a':1, 'b':2, 'c':3}\n",
    "for key in D:\n",
    "    print(key,D[key])"
   ]
  },
  {
   "cell_type": "code",
   "execution_count": 56,
   "metadata": {
    "collapsed": false
   },
   "outputs": [
    {
     "name": "stdout",
     "output_type": "stream",
     "text": [
      "a 1\n",
      "b 2\n",
      "c 3\n"
     ]
    }
   ],
   "source": [
    "D = {'a':1, 'b':2, 'c':3}\n",
    "for key, value in D.items():\n",
    "    print(key, value)"
   ]
  },
  {
   "cell_type": "code",
   "execution_count": 57,
   "metadata": {
    "collapsed": false
   },
   "outputs": [
    {
     "name": "stdout",
     "output_type": "stream",
     "text": [
      "1\n",
      "2\n",
      "3\n"
     ]
    }
   ],
   "source": [
    "D = {'a':1, 'b':2, 'c':3}\n",
    "for value in D.values():\n",
    "    print(value)"
   ]
  },
  {
   "cell_type": "code",
   "execution_count": 58,
   "metadata": {
    "collapsed": false
   },
   "outputs": [
    {
     "name": "stdout",
     "output_type": "stream",
     "text": [
      "dict_items([('a', 1), ('b', 2), ('c', 3)])\n",
      "\n"
     ]
    },
    {
     "ename": "AttributeError",
     "evalue": "'dict_items' object has no attribute 'sort'",
     "output_type": "error",
     "traceback": [
      "\u001b[0;31m---------------------------------------------------------------------------\u001b[0m",
      "\u001b[0;31mAttributeError\u001b[0m                            Traceback (most recent call last)",
      "\u001b[0;32m<ipython-input-58-a2521bb0d49b>\u001b[0m in \u001b[0;36m<module>\u001b[0;34m()\u001b[0m\n\u001b[1;32m      4\u001b[0m \u001b[0mprint\u001b[0m\u001b[1;33m(\u001b[0m\u001b[1;33m)\u001b[0m\u001b[1;33m\u001b[0m\u001b[0m\n\u001b[1;32m      5\u001b[0m \u001b[1;33m\u001b[0m\u001b[0m\n\u001b[0;32m----> 6\u001b[0;31m \u001b[0mitems\u001b[0m\u001b[1;33m.\u001b[0m\u001b[0msort\u001b[0m\u001b[1;33m(\u001b[0m\u001b[1;33m)\u001b[0m\u001b[1;33m\u001b[0m\u001b[0m\n\u001b[0m\u001b[1;32m      7\u001b[0m \u001b[0mprint\u001b[0m\u001b[1;33m(\u001b[0m\u001b[0mitems\u001b[0m\u001b[1;33m)\u001b[0m\u001b[1;33m\u001b[0m\u001b[0m\n\u001b[1;32m      8\u001b[0m \u001b[0mprint\u001b[0m\u001b[1;33m(\u001b[0m\u001b[1;33m)\u001b[0m\u001b[1;33m\u001b[0m\u001b[0m\n",
      "\u001b[0;31mAttributeError\u001b[0m: 'dict_items' object has no attribute 'sort'"
     ]
    }
   ],
   "source": [
    "D = {'a':1, 'b':2, 'c':3}\n",
    "items = D.items()\n",
    "print(items)\n",
    "print()\n",
    "\n",
    "items.sort()\n",
    "print(items)\n",
    "print()\n",
    "\n",
    "for k,v in items:\n",
    "    print(k,v)"
   ]
  }
 ],
 "metadata": {
  "kernelspec": {
   "display_name": "Python 3",
   "language": "python",
   "name": "python3"
  },
  "language_info": {
   "codemirror_mode": {
    "name": "ipython",
    "version": 3
   },
   "file_extension": ".py",
   "mimetype": "text/x-python",
   "name": "python",
   "nbconvert_exporter": "python",
   "pygments_lexer": "ipython3",
   "version": "3.6.0"
  }
 },
 "nbformat": 4,
 "nbformat_minor": 2
}
