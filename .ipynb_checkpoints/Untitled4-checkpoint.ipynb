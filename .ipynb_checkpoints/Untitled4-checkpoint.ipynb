{
 "cells": [
  {
   "cell_type": "markdown",
   "metadata": {},
   "source": [
    "### 파일과 디렉토리 다루기"
   ]
  },
  {
   "cell_type": "markdown",
   "metadata": {},
   "source": [
    "### 1. 파일 다루기"
   ]
  },
  {
   "cell_type": "code",
   "execution_count": 4,
   "metadata": {
    "collapsed": false
   },
   "outputs": [
    {
     "name": "stdout",
     "output_type": "stream",
     "text": [
      "['.git', '.ipynb_checkpoints', '20170912.ipynb', '20170914.ipynb', '20170919.ipynb', '20170921.ipynb', '20170926.ipynb', '20170928.ipynb', '20171010.ipynb', '20171012.ipynb', '20171017.ipynb', '20171019.ipynb', '20171024.ipynb', '20171026.ipynb', '20171101.ipynb', '20171107.ipynb', '20171109.ipynb', '20171114.ipynb', '20171121.ipynb', 'access.txt', 'access2.txt', 'access3.txt', 'Assignment1_KnowSuBin.ipynb', 'Assignment2_KnowSuBin.ipynb', 'Assignment3_KnowSuBin.ipynb', 'Assignment4_KnowSuBin.ipynb', 'debug.log', 'dump.pickle', 'file.py', 'img', 'mid pratice.ipynb', 'output.txt', 'pickle.txt', 'pickle2.txt', 'print star.ipynb', 'removeme.txt', 's.txt', 's1.txt', 's2.txt', 's3.txt', 't.txt', 't1.txt', 't2.txt', 'Test.ipynb', 'Untitled.ipynb', 'Untitled1.ipynb', 'Untitled2.ipynb', 'Untitled3.ipynb', 'Untitled4.ipynb']\n",
      "\n",
      "['.anaconda', '.AndroidStudio2.3', '.atom', '.condarc', '.config', '.continuum', '.dnx', '.eclipse', '.gitconfig', '.idlerc', '.ipynb_checkpoints', '.ipython', '.jmc', '.jupyter', '.matplotlib', '.p2', '.PyCharmCE2017.2', '.rnd', '.ssh', '.tooling', '.viminfo', '3D Objects', 'ahw_level1_unit4_sb', 'AnacondaProjects', 'AppData', 'Application Data', 'baseline-model.csv', 'baseline-script.csv', 'baseline-script.zip', 'baseline.ipynb', 'BullseyeCoverageError.txt', 'Contacts', 'Cookies', 'data', 'data2', 'Desktop', 'Documents', 'Downloads', 'eclipse', 'eclipse-workspace', 'eclipse-workspace2', 'Favorites', 'IntelGraphicsProfiles', 'Links', 'Local Settings', 'mercurial.ini', 'Music', 'My Documents', 'NetHood', 'NTUSER.DAT', 'ntuser.dat.LOG1', 'ntuser.dat.LOG2', 'NTUSER.DAT{b032d032-8a43-11e6-900c-9227565ebb74}.TxR.0.regtrans-ms', 'NTUSER.DAT{b032d032-8a43-11e6-900c-9227565ebb74}.TxR.1.regtrans-ms', 'NTUSER.DAT{b032d032-8a43-11e6-900c-9227565ebb74}.TxR.2.regtrans-ms', 'NTUSER.DAT{b032d032-8a43-11e6-900c-9227565ebb74}.TxR.blf', 'NTUSER.DAT{b032d033-8a43-11e6-900c-9227565ebb74}.TM.blf', 'NTUSER.DAT{b032d033-8a43-11e6-900c-9227565ebb74}.TMContainer00000000000000000001.regtrans-ms', 'NTUSER.DAT{b032d033-8a43-11e6-900c-9227565ebb74}.TMContainer00000000000000000002.regtrans-ms', 'ntuser.ini', 'OneDrive', 'Pictures', 'practice 04.ipynb', 'PrintHood', 'prof', 'python', 'Recent', 'Roaming', 'sandbox.ipynb', 'Saved Games', 'Searches', 'SendTo', 'Templates', 'test', 'Titanic.ipynb', 'to-the-top-10.ipynb', 'Untitled.ipynb', 'Videos', 'VSWebCache', 'workspace', 'xgboost', '시작 메뉴']\n"
     ]
    }
   ],
   "source": [
    "import os\n",
    "\n",
    "print(os.listdir('.'))   #햔재 디렉토리의 파일 목록 얻기\n",
    "print()\n",
    "\n",
    "print(os.listdir('../'))  #현재 디렉토리의 부모 디렉토리의 파일 목록 얻기"
   ]
  },
  {
   "cell_type": "markdown",
   "metadata": {},
   "source": [
    "### 파일 종류 알아보기"
   ]
  },
  {
   "cell_type": "code",
   "execution_count": 9,
   "metadata": {
    "collapsed": false
   },
   "outputs": [
    {
     "name": "stdout",
     "output_type": "stream",
     "text": [
      ".git :Directory\n",
      ".ipynb_checkpoints :Directory\n",
      "20170912.ipynb :Regular file\n",
      "20170914.ipynb :Regular file\n",
      "20170919.ipynb :Regular file\n",
      "20170921.ipynb :Regular file\n",
      "20170926.ipynb :Regular file\n",
      "20170928.ipynb :Regular file\n",
      "20171010.ipynb :Regular file\n",
      "20171012.ipynb :Regular file\n",
      "20171017.ipynb :Regular file\n",
      "20171019.ipynb :Regular file\n",
      "20171024.ipynb :Regular file\n",
      "20171026.ipynb :Regular file\n",
      "20171101.ipynb :Regular file\n",
      "20171107.ipynb :Regular file\n",
      "20171109.ipynb :Regular file\n",
      "20171114.ipynb :Regular file\n",
      "20171121.ipynb :Regular file\n",
      "access.txt :Regular file\n",
      "access2.txt :Regular file\n",
      "access3.txt :Regular file\n",
      "Assignment1_KnowSuBin.ipynb :Regular file\n",
      "Assignment2_KnowSuBin.ipynb :Regular file\n",
      "Assignment3_KnowSuBin.ipynb :Regular file\n",
      "Assignment4_KnowSuBin.ipynb :Regular file\n",
      "debug.log :Regular file\n",
      "dump.pickle :Regular file\n",
      "file.py :Regular file\n",
      "img :Directory\n",
      "mid pratice.ipynb :Regular file\n",
      "output.txt :Regular file\n",
      "pickle.txt :Regular file\n",
      "pickle2.txt :Regular file\n",
      "print star.ipynb :Regular file\n",
      "removeme.txt :Regular file\n",
      "s.txt :Regular file\n",
      "s1.txt :Regular file\n",
      "s2.txt :Regular file\n",
      "s3.txt :Regular file\n",
      "t.txt :Regular file\n",
      "t1.txt :Regular file\n",
      "t2.txt :Regular file\n",
      "Test.ipynb :Regular file\n",
      "Untitled.ipynb :Regular file\n",
      "Untitled1.ipynb :Regular file\n",
      "Untitled2.ipynb :Regular file\n",
      "Untitled3.ipynb :Regular file\n",
      "Untitled4.ipynb :Regular file\n"
     ]
    }
   ],
   "source": [
    "import os\n",
    "def filetype(fpath):\n",
    "    print(fpath, ':', end=\"\")\n",
    "    if os.path.isfile(fpath):   #순수파일이면 True\n",
    "        print('Regular file')\n",
    "    if os.path.isdir(fpath):    #디렉토리이면 True\n",
    "        print('Directory')\n",
    "    if os.path.islink(fpath):    #심볼릭링크이면 True\n",
    "        print('Symbolic link')\n",
    "\n",
    "flist = os.listdir('.')   #현재 디렉토리에 있는 파일\n",
    "for fname in flist:\n",
    "    filetype(fname)"
   ]
  },
  {
   "cell_type": "markdown",
   "metadata": {},
   "source": [
    "### 파일 조작하기"
   ]
  },
  {
   "cell_type": "code",
   "execution_count": 12,
   "metadata": {
    "collapsed": true
   },
   "outputs": [],
   "source": [
    "s = \"ddd\"\n",
    "\n",
    "with open('t.txt','w') as f:\n",
    "    f.write(s)"
   ]
  },
  {
   "cell_type": "code",
   "execution_count": 14,
   "metadata": {
    "collapsed": false
   },
   "outputs": [
    {
     "name": "stdout",
     "output_type": "stream",
     "text": [
      "False\n",
      "True\n"
     ]
    }
   ],
   "source": [
    "import os\n",
    "os.rename('t.txt','t5.txt')   #t.txt를t1.txt로 바꾼다.\n",
    "print(os.access('t.txt',os.F_OK))\n",
    "print(os.access('t1.txt',os.F_OK))"
   ]
  },
  {
   "cell_type": "markdown",
   "metadata": {},
   "source": [
    "### 파일 이동하기"
   ]
  },
  {
   "cell_type": "code",
   "execution_count": 18,
   "metadata": {
    "collapsed": false
   },
   "outputs": [
    {
     "ename": "FileExistsError",
     "evalue": "[WinError 183] 파일이 이미 있으므로 만들 수 없습니다: 'example'",
     "output_type": "error",
     "traceback": [
      "\u001b[0;31m---------------------------------------------------------------------------\u001b[0m",
      "\u001b[0;31mFileExistsError\u001b[0m                           Traceback (most recent call last)",
      "\u001b[0;32m<ipython-input-18-870b752e6e99>\u001b[0m in \u001b[0;36m<module>\u001b[0;34m()\u001b[0m\n\u001b[0;32m----> 1\u001b[0;31m \u001b[0mos\u001b[0m\u001b[1;33m.\u001b[0m\u001b[0mmkdir\u001b[0m\u001b[1;33m(\u001b[0m\u001b[1;34m'example'\u001b[0m\u001b[1;33m)\u001b[0m\u001b[1;33m\u001b[0m\u001b[0m\n\u001b[0m",
      "\u001b[0;31mFileExistsError\u001b[0m: [WinError 183] 파일이 이미 있으므로 만들 수 없습니다: 'example'"
     ]
    }
   ],
   "source": [
    "os.mkdir('example')"
   ]
  },
  {
   "cell_type": "code",
   "execution_count": 19,
   "metadata": {
    "collapsed": true
   },
   "outputs": [],
   "source": [
    "os.rename('t5.txt','example/t5.txt')"
   ]
  },
  {
   "cell_type": "code",
   "execution_count": 22,
   "metadata": {
    "collapsed": false
   },
   "outputs": [
    {
     "name": "stdout",
     "output_type": "stream",
     "text": [
      "True\n"
     ]
    }
   ],
   "source": [
    "print(os.access('example/t5.txt',os.F_OK))   ##파일이 존재하는지 테스트"
   ]
  },
  {
   "cell_type": "markdown",
   "metadata": {},
   "source": [
    "### 파일 복사하기"
   ]
  },
  {
   "cell_type": "code",
   "execution_count": 26,
   "metadata": {
    "collapsed": false
   },
   "outputs": [
    {
     "name": "stdout",
     "output_type": "stream",
     "text": [
      "True\n"
     ]
    }
   ],
   "source": [
    "import shutil\n",
    "shutil.copyfile('example/t5.txt','example/t5_new.txt')\n",
    "print(os.access('example/t5.txt',os.F_OK))\n"
   ]
  },
  {
   "cell_type": "markdown",
   "metadata": {},
   "source": [
    "### 파일 이름 다루기"
   ]
  },
  {
   "cell_type": "code",
   "execution_count": 28,
   "metadata": {
    "collapsed": false
   },
   "outputs": [
    {
     "name": "stdout",
     "output_type": "stream",
     "text": [
      "C:\\Users\\권수빈\\prof\\t5.txt\n"
     ]
    }
   ],
   "source": [
    "import os\n",
    "print(os.path.abspath('t5.txt'))"
   ]
  },
  {
   "cell_type": "code",
   "execution_count": 32,
   "metadata": {
    "collapsed": false
   },
   "outputs": [
    {
     "name": "stdout",
     "output_type": "stream",
     "text": [
      "True\n",
      "True\n",
      "False\n"
     ]
    }
   ],
   "source": [
    "f = '/Users/권수빈/prof/example/t5.txt'\n",
    "print(os.path.exists(f))\n",
    "print(os.path.exists('example/t5.txt'))\n",
    "print(os.path.exists('t5dfnjdg.txt'))"
   ]
  },
  {
   "cell_type": "markdown",
   "metadata": {},
   "source": [
    "### 디렉토리 다루기"
   ]
  },
  {
   "cell_type": "code",
   "execution_count": 50,
   "metadata": {
    "collapsed": false
   },
   "outputs": [
    {
     "name": "stdout",
     "output_type": "stream",
     "text": [
      "C:\\Users\\권수빈\\prof\\example\n"
     ]
    }
   ],
   "source": [
    "import os\n",
    "print(os.getcwd())"
   ]
  },
  {
   "cell_type": "code",
   "execution_count": 51,
   "metadata": {
    "collapsed": false
   },
   "outputs": [
    {
     "name": "stdout",
     "output_type": "stream",
     "text": [
      "C:\\Users\\권수빈\\prof\\example\n"
     ]
    }
   ],
   "source": [
    "os.chdir('/Users/권수빈/prof/example')\n",
    "print(os.getcwd())"
   ]
  },
  {
   "cell_type": "markdown",
   "metadata": {},
   "source": [
    "### pickle 모듈"
   ]
  },
  {
   "cell_type": "code",
   "execution_count": 58,
   "metadata": {
    "collapsed": false
   },
   "outputs": [
    {
     "ename": "TypeError",
     "evalue": "write() argument must be str, not bytes",
     "output_type": "error",
     "traceback": [
      "\u001b[0;31m---------------------------------------------------------------------------\u001b[0m",
      "\u001b[0;31mTypeError\u001b[0m                                 Traceback (most recent call last)",
      "\u001b[0;32m<ipython-input-58-dee123cacc09>\u001b[0m in \u001b[0;36m<module>\u001b[0;34m()\u001b[0m\n\u001b[1;32m      6\u001b[0m \u001b[1;33m\u001b[0m\u001b[0m\n\u001b[1;32m      7\u001b[0m \u001b[0mf\u001b[0m \u001b[1;33m=\u001b[0m \u001b[0mopen\u001b[0m\u001b[1;33m(\u001b[0m\u001b[1;34m'pickle.txt'\u001b[0m\u001b[1;33m,\u001b[0m\u001b[1;34m'w'\u001b[0m\u001b[1;33m)\u001b[0m\u001b[1;33m\u001b[0m\u001b[0m\n\u001b[0;32m----> 8\u001b[0;31m \u001b[0mpickle\u001b[0m\u001b[1;33m.\u001b[0m\u001b[0mdump\u001b[0m\u001b[1;33m(\u001b[0m\u001b[0mphone\u001b[0m\u001b[1;33m,\u001b[0m\u001b[0mf\u001b[0m\u001b[1;33m)\u001b[0m\u001b[1;33m\u001b[0m\u001b[0m\n\u001b[0m\u001b[1;32m      9\u001b[0m \u001b[0mf\u001b[0m\u001b[1;33m.\u001b[0m\u001b[0mclose\u001b[0m\u001b[1;33m(\u001b[0m\u001b[1;33m)\u001b[0m\u001b[1;33m\u001b[0m\u001b[0m\n",
      "\u001b[0;31mTypeError\u001b[0m: write() argument must be str, not bytes"
     ]
    }
   ],
   "source": [
    "import pickle\n",
    "\n",
    "phone = {'a':1,'b':2,'c':3,'d':4}\n",
    "List = ['string', 1234, 0.2345]\n",
    "Tuple = (phone, List)\n",
    "\n",
    "f = open('pickle.txt','w')\n",
    "pickle.dump(phone,f)\n",
    "f.close()"
   ]
  },
  {
   "cell_type": "code",
   "execution_count": 53,
   "metadata": {
    "collapsed": false
   },
   "outputs": [
    {
     "name": "stdout",
     "output_type": "stream",
     "text": [
      "['In', 'Out', '_', '__', '___', '__builtin__', '__builtins__', '__doc__', '__loader__', '__name__', '__package__', '__spec__', '_dh', '_i', '_i1', '_i10', '_i11', '_i12', '_i13', '_i14', '_i15', '_i16', '_i17', '_i18', '_i19', '_i2', '_i20', '_i21', '_i22', '_i23', '_i24', '_i25', '_i26', '_i27', '_i28', '_i29', '_i3', '_i30', '_i31', '_i32', '_i33', '_i34', '_i35', '_i36', '_i37', '_i38', '_i39', '_i4', '_i40', '_i41', '_i42', '_i43', '_i44', '_i45', '_i46', '_i47', '_i48', '_i49', '_i5', '_i50', '_i51', '_i52', '_i53', '_i6', '_i7', '_i8', '_i9', '_ih', '_ii', '_iii', '_oh', '_sh', 'exit', 'f', 'filetype', 'flist', 'fname', 'get_ipython', 'os', 'phone', 'pickle', 'quit', 's', 'shutil']\n"
     ]
    }
   ],
   "source": [
    "print(dir())"
   ]
  },
  {
   "cell_type": "code",
   "execution_count": null,
   "metadata": {
    "collapsed": true
   },
   "outputs": [],
   "source": []
  }
 ],
 "metadata": {
  "kernelspec": {
   "display_name": "Python 3",
   "language": "python",
   "name": "python3"
  },
  "language_info": {
   "codemirror_mode": {
    "name": "ipython",
    "version": 3
   },
   "file_extension": ".py",
   "mimetype": "text/x-python",
   "name": "python",
   "nbconvert_exporter": "python",
   "pygments_lexer": "ipython3",
   "version": "3.6.0"
  }
 },
 "nbformat": 4,
 "nbformat_minor": 2
}
