{
 "cells": [
  {
   "cell_type": "markdown",
   "metadata": {},
   "source": [
    "### 시퀀스 자료형"
   ]
  },
  {
   "cell_type": "markdown",
   "metadata": {},
   "source": [
    "- 문자열,리스트, 튜플"
   ]
  },
  {
   "cell_type": "markdown",
   "metadata": {},
   "source": [
    "### 공통연산\n",
    "#### 1. 인덱싱"
   ]
  },
  {
   "cell_type": "code",
   "execution_count": 5,
   "metadata": {
    "collapsed": false
   },
   "outputs": [
    {
     "name": "stdout",
     "output_type": "stream",
     "text": [
      "a\n",
      "b\n",
      "f\n",
      "\n",
      "200\n",
      "900\n"
     ]
    }
   ],
   "source": [
    "s = \"abcdef\"\n",
    "l = [100,200,300]\n",
    "print(s[0])\n",
    "print(s[1])\n",
    "print(s[-1])\n",
    "print()\n",
    "print(l[1])\n",
    "l[1] = 900\n",
    "print(l[1])"
   ]
  },
  {
   "cell_type": "code",
   "execution_count": 6,
   "metadata": {
    "collapsed": false
   },
   "outputs": [
    {
     "ename": "IndexError",
     "evalue": "list index out of range",
     "output_type": "error",
     "traceback": [
      "\u001b[0;31m---------------------------------------------------------------------------\u001b[0m",
      "\u001b[0;31mIndexError\u001b[0m                                Traceback (most recent call last)",
      "\u001b[0;32m<ipython-input-6-bd1a663e00f3>\u001b[0m in \u001b[0;36m<module>\u001b[0;34m()\u001b[0m\n\u001b[0;32m----> 1\u001b[0;31m \u001b[0mprint\u001b[0m\u001b[1;33m(\u001b[0m\u001b[0ml\u001b[0m\u001b[1;33m[\u001b[0m\u001b[1;36m100\u001b[0m\u001b[1;33m]\u001b[0m\u001b[1;33m)\u001b[0m\u001b[1;33m\u001b[0m\u001b[0m\n\u001b[0m",
      "\u001b[0;31mIndexError\u001b[0m: list index out of range"
     ]
    }
   ],
   "source": [
    "print(l[100])"
   ]
  },
  {
   "cell_type": "markdown",
   "metadata": {},
   "source": [
    "#### 슬라이싱"
   ]
  },
  {
   "cell_type": "markdown",
   "metadata": {},
   "source": [
    "[ : ] -> 시퀸스 자료형의 일부 가져오기"
   ]
  },
  {
   "cell_type": "code",
   "execution_count": 12,
   "metadata": {
    "collapsed": false
   },
   "outputs": [
    {
     "name": "stdout",
     "output_type": "stream",
     "text": [
      "bc\n",
      "bcdef\n",
      "abcdef\n",
      "abcdef\n",
      "\n",
      "[100, 200]\n",
      "[100, 200]\n"
     ]
    }
   ],
   "source": [
    "s = 'abcdef'\n",
    "L = [100,200,300]\n",
    "\n",
    "print(s[1:3])\n",
    "print(s[1:])\n",
    "print(s[:])\n",
    "print(s[-100:100])   #처음부터 끝까지\n",
    "print()\n",
    "print(L[:-1])\n",
    "print(L[:2])"
   ]
  },
  {
   "cell_type": "markdown",
   "metadata": {},
   "source": [
    "#### 확장슬라이싱"
   ]
  },
  {
   "cell_type": "code",
   "execution_count": 14,
   "metadata": {
    "collapsed": false
   },
   "outputs": [
    {
     "name": "stdout",
     "output_type": "stream",
     "text": [
      "ac\n"
     ]
    }
   ],
   "source": [
    "s = 'abcd'\n",
    "print(s[::2])\n",
    "print(s[::-1])   # 역순으로 가져옴"
   ]
  },
  {
   "cell_type": "markdown",
   "metadata": {},
   "source": [
    "#### 연결하기"
   ]
  },
  {
   "cell_type": "code",
   "execution_count": 17,
   "metadata": {
    "collapsed": false
   },
   "outputs": [
    {
     "name": "stdout",
     "output_type": "stream",
     "text": [
      "abcdef\n",
      "[1, 2, 3, 4, 5, 6]\n"
     ]
    }
   ],
   "source": [
    "s = 'abc' + 'def'\n",
    "print(s)\n",
    "\n",
    "L = [1,2,3] + [4,5,6]\n",
    "print(L)"
   ]
  },
  {
   "cell_type": "markdown",
   "metadata": {},
   "source": [
    "#### 반복하기"
   ]
  },
  {
   "cell_type": "code",
   "execution_count": 22,
   "metadata": {
    "collapsed": false
   },
   "outputs": [
    {
     "name": "stdout",
     "output_type": "stream",
     "text": [
      "abcabcabcabc\n",
      "[1, 2, 3, 1, 2, 3]\n"
     ]
    }
   ],
   "source": [
    "s = 'abc'\n",
    "print(s * 4)\n",
    "\n",
    "L = [1,2,3]\n",
    "print(L*2)"
   ]
  },
  {
   "cell_type": "markdown",
   "metadata": {},
   "source": [
    "#### 멤버십 테스트"
   ]
  },
  {
   "cell_type": "code",
   "execution_count": 24,
   "metadata": {
    "collapsed": false
   },
   "outputs": [
    {
     "name": "stdout",
     "output_type": "stream",
     "text": [
      "True\n",
      "True\n",
      "False\n",
      "True\n"
     ]
    }
   ],
   "source": [
    "s = 'abcde'\n",
    "print( 'c' in s)\n",
    "\n",
    "t = (1,2,3,4,5)\n",
    "print(2 in t)\n",
    "print(10 in t)\n",
    "print(10 not in t)"
   ]
  },
  {
   "cell_type": "code",
   "execution_count": 25,
   "metadata": {
    "collapsed": false
   },
   "outputs": [
    {
     "name": "stdout",
     "output_type": "stream",
     "text": [
      "True\n",
      "False\n",
      "False\n",
      "True\n"
     ]
    }
   ],
   "source": [
    "print( 'ab' in 'abcd')\n",
    "print( 'ad' in 'abcd')\n",
    "print( ' ' in 'abcd' )\n",
    "print( ' ' in 'abcd ')"
   ]
  },
  {
   "cell_type": "markdown",
   "metadata": {},
   "source": [
    "#### 길이정보"
   ]
  },
  {
   "cell_type": "code",
   "execution_count": 27,
   "metadata": {
    "collapsed": false
   },
   "outputs": [
    {
     "name": "stdout",
     "output_type": "stream",
     "text": [
      "5\n",
      "3\n",
      "4\n"
     ]
    }
   ],
   "source": [
    "s = 'abcde'\n",
    "l = [1,2,3]\n",
    "t = (1,2,3,4)\n",
    "print(len(s))\n",
    "print(len(l))\n",
    "print(len(t))"
   ]
  },
  {
   "cell_type": "markdown",
   "metadata": {},
   "source": [
    "#### for~in 문"
   ]
  },
  {
   "cell_type": "code",
   "execution_count": 30,
   "metadata": {
    "collapsed": false
   },
   "outputs": [
    {
     "name": "stdout",
     "output_type": "stream",
     "text": [
      "a\n",
      "b\n",
      "c\n",
      "d\n"
     ]
    }
   ],
   "source": [
    "for c in 'abcd':\n",
    "    print(c)"
   ]
  },
  {
   "cell_type": "markdown",
   "metadata": {},
   "source": [
    "### 문자열 정의하기"
   ]
  },
  {
   "cell_type": "markdown",
   "metadata": {},
   "source": [
    "#### 한줄 문자열"
   ]
  },
  {
   "cell_type": "code",
   "execution_count": 34,
   "metadata": {
    "collapsed": false
   },
   "outputs": [
    {
     "name": "stdout",
     "output_type": "stream",
     "text": [
      "Don't walk, \"Run\"\n"
     ]
    }
   ],
   "source": [
    "s = ''\n",
    "str1 = 'python is great!'\n",
    "str2 = \"Yes, it is.\"\n",
    "str3 = \"It's not like any other languages\"\n",
    "str4 = 'Don\\'t walk, \"Run\"'   #단일 따옴표안에 단일 따옴표를 사용하고 싶을때\n",
    "print(str4)"
   ]
  },
  {
   "cell_type": "code",
   "execution_count": 36,
   "metadata": {
    "collapsed": false
   },
   "outputs": [
    {
     "name": "stdout",
     "output_type": "stream",
     "text": [
      "this language is python\n",
      "!\n"
     ]
    }
   ],
   "source": [
    "long_str = \"this language \\\n",
    "is python\\n!\"\n",
    "print(long_str)"
   ]
  },
  {
   "cell_type": "code",
   "execution_count": 38,
   "metadata": {
    "collapsed": false
   },
   "outputs": [
    {
     "name": "stdout",
     "output_type": "stream",
     "text": [
      "\\abcd\\ \n"
     ]
    }
   ],
   "source": [
    "print('\\\\abcd\\\\ ')"
   ]
  },
  {
   "cell_type": "code",
   "execution_count": 39,
   "metadata": {
    "collapsed": false
   },
   "outputs": [
    {
     "name": "stdout",
     "output_type": "stream",
     "text": [
      "abc\tcde\t\n"
     ]
    }
   ],
   "source": [
    "print('abc\\tcde\\t')"
   ]
  },
  {
   "cell_type": "code",
   "execution_count": 50,
   "metadata": {
    "collapsed": false
   },
   "outputs": [
    {
     "name": "stdout",
     "output_type": "stream",
     "text": [
      "a\n",
      "b\n",
      "c\n"
     ]
    }
   ],
   "source": [
    "print('a\\nb\\nc');"
   ]
  },
  {
   "cell_type": "code",
   "execution_count": 4,
   "metadata": {
    "collapsed": false
   },
   "outputs": [
    {
     "name": "stdout",
     "output_type": "stream",
     "text": [
      "spam , cheese and egg\n"
     ]
    }
   ],
   "source": [
    "s = 'spam and egg'\n",
    "s = s[:5] + ', cheese ' + s[5:]\n",
    "print(s)"
   ]
  },
  {
   "cell_type": "code",
   "execution_count": 5,
   "metadata": {
    "collapsed": true
   },
   "outputs": [],
   "source": [
    "# 연결되어 새로운 문자열이 된것이지 기존 문자열이바뀐것은 아님"
   ]
  },
  {
   "cell_type": "markdown",
   "metadata": {},
   "source": [
    "### 유니코드\n",
    "\n",
    "- 다국어 문자의 올바른 표현을 위하여 유니코드 타입이 지원됨"
   ]
  },
  {
   "cell_type": "code",
   "execution_count": 9,
   "metadata": {
    "collapsed": false
   },
   "outputs": [
    {
     "name": "stdout",
     "output_type": "stream",
     "text": [
      "spam and egg\n"
     ]
    }
   ],
   "source": [
    "print( u'spam and egg')  #유니코드 방식으로 저장됨"
   ]
  },
  {
   "cell_type": "code",
   "execution_count": 13,
   "metadata": {
    "collapsed": false
   },
   "outputs": [],
   "source": [
    "a = 'a'\n",
    "b = u'bc'"
   ]
  },
  {
   "cell_type": "code",
   "execution_count": 16,
   "metadata": {
    "collapsed": false
   },
   "outputs": [
    {
     "name": "stdout",
     "output_type": "stream",
     "text": [
      "<class 'str'>\n",
      "<class 'str'>\n",
      "<class 'str'>\n"
     ]
    }
   ],
   "source": [
    "print(type(a))\n",
    "print(type(b))\n",
    "c = a + b\n",
    "print(type(c))"
   ]
  },
  {
   "cell_type": "code",
   "execution_count": 17,
   "metadata": {
    "collapsed": false
   },
   "outputs": [
    {
     "name": "stdout",
     "output_type": "stream",
     "text": [
      "spam 또 egg\n"
     ]
    }
   ],
   "source": [
    "print( u'spam \\ub610 egg')"
   ]
  },
  {
   "cell_type": "code",
   "execution_count": 24,
   "metadata": {
    "collapsed": false
   },
   "outputs": [
    {
     "name": "stdout",
     "output_type": "stream",
     "text": [
      "<class 'str'>\n",
      "한글\n"
     ]
    }
   ],
   "source": [
    "a = (\"한글\")\n",
    "print(type(a))\n",
    "print(a)"
   ]
  },
  {
   "cell_type": "code",
   "execution_count": 25,
   "metadata": {
    "collapsed": false
   },
   "outputs": [
    {
     "name": "stdout",
     "output_type": "stream",
     "text": [
      "8\n"
     ]
    }
   ],
   "source": [
    "print(len('한글과 세종대왕'))"
   ]
  },
  {
   "cell_type": "markdown",
   "metadata": {},
   "source": [
    "### ---------------------"
   ]
  },
  {
   "cell_type": "code",
   "execution_count": 30,
   "metadata": {
    "collapsed": false
   },
   "outputs": [
    {
     "name": "stdout",
     "output_type": "stream",
     "text": [
      "I LIKE PYTHON\n",
      "i like python\n",
      "i LIKE PYTHON\n",
      "I like python\n",
      "I Like Python\n"
     ]
    }
   ],
   "source": [
    "s = 'i like python'\n",
    "print(s.upper())\n",
    "print(s.upper().lower())\n",
    "print('I like python'.swapcase()) #대,소문자 바꾸기\n",
    "print( s.capitalize())  #문장의 맨처음 문자를 대문자로\n",
    "print(s.title())    # 각 단어의 첫문자를 대문자로\n",
    "\n"
   ]
  },
  {
   "cell_type": "code",
   "execution_count": 31,
   "metadata": {
    "collapsed": false
   },
   "outputs": [
    {
     "name": "stdout",
     "output_type": "stream",
     "text": [
      "2\n",
      "\n",
      "2\n",
      "7\n",
      "7\n",
      "-1\n",
      "\n",
      "22\n",
      "-1\n"
     ]
    }
   ],
   "source": [
    "s = 'i like programming, i like swimming.'\n",
    "print(s.count('like')) # 'like' 문자열이 출현한 횟수를 반환\n",
    "print()\n",
    "print(s.find('like')) # 'like'의 첫글자 위치 (offset)를 반환\n",
    "print(s.find('programming')) # 'programming'의 첫글자 위치를 반환\n",
    "print(s.find('programmin')) # 'programmin'의 첫글자 위치를 반환\n",
    "print(s.find('programmii')) # 'programmii' 단어는 없기 때문에 -1 반환\n",
    "print()\n",
    "print(s.find('like', 3)) # offset=3 부터 'like'을 검색하여 'like'의 첫글자 위치 반환 \n",
    "print(s.find('my')) # 'my' 단어는 없기 때문에 -1 반환"
   ]
  },
  {
   "cell_type": "code",
   "execution_count": 32,
   "metadata": {
    "collapsed": false
   },
   "outputs": [
    {
     "name": "stdout",
     "output_type": "stream",
     "text": [
      "True\n",
      "False\n",
      "\n",
      "False\n",
      "True\n",
      "\n"
     ]
    }
   ],
   "source": [
    "s = 'i like programming, i like swimming.'\n",
    "print(s.startswith('i like'))\n",
    "print(s.startswith('I like'))\n",
    "print()\n",
    "\n",
    "print(s.endswith('swimming. '))\n",
    "print(s.startswith('progr',7))\n",
    "print()"
   ]
  },
  {
   "cell_type": "code",
   "execution_count": 36,
   "metadata": {
    "collapsed": false
   },
   "outputs": [
    {
     "name": "stdout",
     "output_type": "stream",
     "text": [
      "spam and ham\n",
      " spam and ham    \n",
      "spam and ham\n",
      "\n",
      " spam and ham\n",
      "spam and ham    \n",
      "abc\n",
      "abc\n"
     ]
    }
   ],
   "source": [
    "u = ' spam and ham    '\n",
    "print(u.strip())\n",
    "print(u)\n",
    "y = u.strip()\n",
    "print(y)\n",
    "print()\n",
    "\n",
    "print(u.rstrip())\n",
    "print(u.lstrip())\n",
    "print('        abc  '.strip())\n",
    "print('><><abc<><><>'.strip('<>'))   #<,>를 문자열 모두 없앰"
   ]
  },
  {
   "cell_type": "code",
   "execution_count": 37,
   "metadata": {
    "collapsed": false
   },
   "outputs": [
    {
     "name": "stdout",
     "output_type": "stream",
     "text": [
      "\t abc \t\n",
      "abc\n"
     ]
    }
   ],
   "source": [
    "p = '\\t abc \\t'\n",
    "print(p)\n",
    "print(p.strip())"
   ]
  },
  {
   "cell_type": "code",
   "execution_count": 38,
   "metadata": {
    "collapsed": false
   },
   "outputs": [
    {
     "name": "stdout",
     "output_type": "stream",
     "text": [
      "spam , egg and ham\n",
      "spam and ham\n"
     ]
    }
   ],
   "source": [
    "u = 'spam and ham'\n",
    "print(u.replace('spam','spam , egg'))\n",
    "print(u)"
   ]
  },
  {
   "cell_type": "code",
   "execution_count": 39,
   "metadata": {
    "collapsed": false
   },
   "outputs": [
    {
     "name": "stdout",
     "output_type": "stream",
     "text": [
      "['spam', 'and', 'ham']\n",
      "[' spam ', ' ham   ']\n",
      "\n",
      "['spam', 'and', 'ham', 'egg', 'cheese']\n"
     ]
    }
   ],
   "source": [
    "u = ' spam and ham   '\n",
    "print(u.split())\n",
    "print(u.split('and'))\n",
    "print()\n",
    "\n",
    "u2 = 'spam and ham\\tegg\\ncheese'\n",
    "print(u2.split())"
   ]
  },
  {
   "cell_type": "code",
   "execution_count": 44,
   "metadata": {
    "collapsed": false
   },
   "outputs": [
    {
     "name": "stdout",
     "output_type": "stream",
     "text": [
      "['spam', 'ham', 'egg', 'cheese']\n",
      "\n",
      "spam:ham:egg:cheese\n",
      "<class 'str'>\n",
      "\n",
      "spam,ham,egg,cheese\n",
      "\n",
      "spam\n",
      "ham\n",
      "egg\n",
      "cheese\n",
      "\n"
     ]
    }
   ],
   "source": [
    "u = 'spam ham\\tegg\\ncheese'\n",
    "t = u.split()\n",
    "print(t)\n",
    "print()\n",
    "t2 = ':'.join(t)\n",
    "print(t2)\n",
    "print(type(t2))\n",
    "print()\n",
    "t3 = ','.join(t)\n",
    "print(t3)\n",
    "print()\n",
    "t4 = '\\n'.join(t)\n",
    "print(t4)\n",
    "print()"
   ]
  },
  {
   "cell_type": "code",
   "execution_count": 46,
   "metadata": {
    "collapsed": false
   },
   "outputs": [
    {
     "name": "stdout",
     "output_type": "stream",
     "text": [
      "<class 'str'>\n",
      "<class 'list'>\n",
      "['first line', 'second line', 'third line']\n"
     ]
    }
   ],
   "source": [
    "lines = '''first line\n",
    "second line\n",
    "third line'''\n",
    "print(type(lines))\n",
    "lines2 = lines.splitlines()\n",
    "print(type(lines2))\n",
    "print(lines2)"
   ]
  },
  {
   "cell_type": "code",
   "execution_count": 48,
   "metadata": {
    "collapsed": false
   },
   "outputs": [
    {
     "name": "stdout",
     "output_type": "stream",
     "text": [
      "<class 'str'>\n",
      "                        spam and egg                        \n",
      "spam and egg------------------------------------------------\n",
      "                                                spam and egg\n"
     ]
    }
   ],
   "source": [
    "u = 'spam and egg'\n",
    "c = u.center(60)\n",
    "print(type(c))\n",
    "print(c)\n",
    "print(u.ljust(60,'-'))\n",
    "print(u.rjust(60))"
   ]
  },
  {
   "cell_type": "markdown",
   "metadata": {},
   "source": [
    "is가 들어가는 메소드->T, F 구분 "
   ]
  },
  {
   "cell_type": "code",
   "execution_count": 51,
   "metadata": {
    "collapsed": false
   },
   "outputs": [
    {
     "name": "stdout",
     "output_type": "stream",
     "text": [
      "True\n",
      "True\n",
      "True\n",
      "True\n",
      "True\n",
      "True\n",
      "True\n"
     ]
    }
   ],
   "source": [
    "print('1234'.isdigit())\n",
    "print('abcd'.isalpha())\n",
    "print('1abc234'.isalnum())\n",
    "print('abc'.islower())\n",
    "print('ABC'.isupper())\n",
    "print('\\t\\r\\n'.isspace())\n",
    "print('This Is A Title'.istitle())"
   ]
  },
  {
   "cell_type": "markdown",
   "metadata": {},
   "source": [
    "### -----------------------------"
   ]
  },
  {
   "cell_type": "code",
   "execution_count": 56,
   "metadata": {
    "collapsed": false
   },
   "outputs": [
    {
     "name": "stdout",
     "output_type": "stream",
     "text": [
      "(1, 2) -- [3, 4, 5] -- 5 -- 5.300000 -- 1.013000e+02\n"
     ]
    }
   ],
   "source": [
    "print(\"%s -- %s -- %d -- %f -- %e\" %((1,2),[3,4,5],5,5.3,101.3))"
   ]
  },
  {
   "cell_type": "code",
   "execution_count": 58,
   "metadata": {
    "collapsed": false
   },
   "outputs": [
    {
     "name": "stdout",
     "output_type": "stream",
     "text": [
      "  5 --  5.24 -- 1.01e+02\n"
     ]
    }
   ],
   "source": [
    "print(\"%3d -- %5.2f -- %.2e\" %(5,5.236,101.3))"
   ]
  },
  {
   "cell_type": "code",
   "execution_count": 59,
   "metadata": {
    "collapsed": false
   },
   "outputs": [
    {
     "name": "stdout",
     "output_type": "stream",
     "text": [
      "456 -- 710 -- 1c8 -- 1C8\n"
     ]
    }
   ],
   "source": [
    "a = 456\n",
    "print(\"%d -- %o -- %x -- %X\" %(a,a,a,a))"
   ]
  },
  {
   "cell_type": "code",
   "execution_count": 61,
   "metadata": {
    "collapsed": false
   },
   "outputs": [
    {
     "name": "stdout",
     "output_type": "stream",
     "text": [
      "홍길동 -- 5284\n"
     ]
    }
   ],
   "source": [
    "print('%(이름)s -- %(전화번호)s' %{'이름':'홍길동', '전화번호':5284})"
   ]
  },
  {
   "cell_type": "code",
   "execution_count": 62,
   "metadata": {
    "collapsed": true
   },
   "outputs": [],
   "source": [
    "k = {'이름':'권수빈','전화번호':2135}"
   ]
  },
  {
   "cell_type": "code",
   "execution_count": 63,
   "metadata": {
    "collapsed": false
   },
   "outputs": [
    {
     "name": "stdout",
     "output_type": "stream",
     "text": [
      "권수빈 -- 2135\n"
     ]
    }
   ],
   "source": [
    "print('%(이름)s -- %(전화번호)s' %k)"
   ]
  },
  {
   "cell_type": "code",
   "execution_count": 113,
   "metadata": {
    "collapsed": false
   },
   "outputs": [],
   "source": [
    "s = \"1, 2  , 3, 4, 5\""
   ]
  },
  {
   "cell_type": "code",
   "execution_count": 114,
   "metadata": {
    "collapsed": false
   },
   "outputs": [
    {
     "name": "stdout",
     "output_type": "stream",
     "text": [
      "['1', ' 2  ', ' 3', ' 4', ' 5']\n"
     ]
    }
   ],
   "source": [
    "parts = s.split(',')\n",
    "print(parts)"
   ]
  },
  {
   "cell_type": "code",
   "execution_count": 115,
   "metadata": {
    "collapsed": false
   },
   "outputs": [],
   "source": [
    "l = []"
   ]
  },
  {
   "cell_type": "code",
   "execution_count": 116,
   "metadata": {
    "collapsed": false
   },
   "outputs": [],
   "source": [
    "for i in range(len(parts)):\n",
    "    parts[i] = parts[i].strip\n",
    "    l.append(parts[i])"
   ]
  },
  {
   "cell_type": "code",
   "execution_count": 117,
   "metadata": {
    "collapsed": false
   },
   "outputs": [
    {
     "name": "stdout",
     "output_type": "stream",
     "text": [
      "[<built-in method strip of str object at 0x00000286CF6D47D8>, <built-in method strip of str object at 0x00000286D1C26228>, <built-in method strip of str object at 0x00000286D1C26E30>, <built-in method strip of str object at 0x00000286D1C26F48>, <built-in method strip of str object at 0x00000286D1C26308>]\n"
     ]
    }
   ],
   "source": [
    "print(l)"
   ]
  },
  {
   "cell_type": "code",
   "execution_count": null,
   "metadata": {
    "collapsed": true
   },
   "outputs": [],
   "source": []
  }
 ],
 "metadata": {
  "kernelspec": {
   "display_name": "Python 3",
   "language": "python",
   "name": "python3"
  }
 },
 "nbformat": 4,
 "nbformat_minor": 2
}
