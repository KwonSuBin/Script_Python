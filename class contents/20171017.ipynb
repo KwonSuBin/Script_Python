{
 "cells": [
  {
   "cell_type": "markdown",
   "metadata": {},
   "source": [
    "### 리스트"
   ]
  },
  {
   "cell_type": "code",
   "execution_count": 5,
   "metadata": {
    "collapsed": false
   },
   "outputs": [
    {
     "name": "stdout",
     "output_type": "stream",
     "text": [
      "['spam', 'egg', 123, 1234]\n"
     ]
    }
   ],
   "source": [
    "a = ['spam', 'egg', 100, 1234]\n",
    "a[2] = a[2]+ 23\n",
    "print(a)"
   ]
  },
  {
   "cell_type": "code",
   "execution_count": 8,
   "metadata": {
    "collapsed": false
   },
   "outputs": [
    {
     "name": "stdout",
     "output_type": "stream",
     "text": [
      "[123, 'spam', 'ege', 1234]\n"
     ]
    }
   ],
   "source": [
    "a = [123, 1234]             ## 중요!!\n",
    "a[1:1] = ['spam', 'ege']\n",
    "print(a)"
   ]
  },
  {
   "cell_type": "code",
   "execution_count": 9,
   "metadata": {
    "collapsed": false
   },
   "outputs": [
    {
     "name": "stdout",
     "output_type": "stream",
     "text": [
      "[123, 'spam', 'ege', 1234, 123, 'spam', 'ege', 1234]\n"
     ]
    }
   ],
   "source": [
    "a[:0] = a\n",
    "print(a)"
   ]
  },
  {
   "cell_type": "code",
   "execution_count": 12,
   "metadata": {
    "collapsed": false
   },
   "outputs": [
    {
     "name": "stdout",
     "output_type": "stream",
     "text": [
      "[2, 3, 4]\n"
     ]
    }
   ],
   "source": [
    "a= [1,2,3,4]\n",
    "del a[0]\n",
    "print(a)"
   ]
  },
  {
   "cell_type": "code",
   "execution_count": 15,
   "metadata": {
    "collapsed": false
   },
   "outputs": [
    {
     "name": "stdout",
     "output_type": "stream",
     "text": [
      "[0, 1, 2, 3]\n",
      "[0, 2]\n",
      "[1, 3]\n"
     ]
    }
   ],
   "source": [
    "a = list(range(4))\n",
    "print(a)\n",
    "print(a[::2])\n",
    "\n",
    "del a[::2]\n",
    "print(a)"
   ]
  },
  {
   "cell_type": "code",
   "execution_count": 16,
   "metadata": {
    "collapsed": false
   },
   "outputs": [
    {
     "ename": "NameError",
     "evalue": "name 'a' is not defined",
     "output_type": "error",
     "traceback": [
      "\u001b[0;31m---------------------------------------------------------------------------\u001b[0m",
      "\u001b[0;31mNameError\u001b[0m                                 Traceback (most recent call last)",
      "\u001b[0;32m<ipython-input-16-b4305b61470c>\u001b[0m in \u001b[0;36m<module>\u001b[0;34m()\u001b[0m\n\u001b[1;32m      1\u001b[0m \u001b[0ma\u001b[0m \u001b[1;33m=\u001b[0m \u001b[0mrange\u001b[0m\u001b[1;33m(\u001b[0m\u001b[1;36m5\u001b[0m\u001b[1;33m)\u001b[0m\u001b[1;33m\u001b[0m\u001b[0m\n\u001b[1;32m      2\u001b[0m \u001b[1;32mdel\u001b[0m \u001b[0ma\u001b[0m\u001b[1;33m\u001b[0m\u001b[0m\n\u001b[0;32m----> 3\u001b[0;31m \u001b[0mprint\u001b[0m\u001b[1;33m(\u001b[0m\u001b[0ma\u001b[0m\u001b[1;33m)\u001b[0m\u001b[1;33m\u001b[0m\u001b[0m\n\u001b[0m",
      "\u001b[0;31mNameError\u001b[0m: name 'a' is not defined"
     ]
    }
   ],
   "source": [
    "a = range(5)\n",
    "del a\n",
    "print(a)"
   ]
  },
  {
   "cell_type": "code",
   "execution_count": 18,
   "metadata": {
    "collapsed": true
   },
   "outputs": [],
   "source": [
    "a = {1:\"kim\", 2:\"park\"}"
   ]
  },
  {
   "cell_type": "code",
   "execution_count": 20,
   "metadata": {
    "collapsed": false
   },
   "outputs": [
    {
     "name": "stdout",
     "output_type": "stream",
     "text": [
      "[1, 2, {1: 'kim', 2: 'park'}, 3]\n"
     ]
    }
   ],
   "source": [
    "s = [1, 2 , a , 3]\n",
    "\n",
    "print(s)"
   ]
  },
  {
   "cell_type": "code",
   "execution_count": 21,
   "metadata": {
    "collapsed": false
   },
   "outputs": [
    {
     "name": "stdout",
     "output_type": "stream",
     "text": [
      "['begin', [1, 2, 3], 'end']\n",
      "2\n"
     ]
    }
   ],
   "source": [
    "s = [1,2,3]\n",
    "t = [\"begin\", s, 'end']\n",
    "print(t)\n",
    "\n",
    "print(t[1][1])"
   ]
  },
  {
   "cell_type": "code",
   "execution_count": 22,
   "metadata": {
    "collapsed": false
   },
   "outputs": [
    {
     "name": "stdout",
     "output_type": "stream",
     "text": [
      "['begin', [1, 100, 3], 'end']\n"
     ]
    }
   ],
   "source": [
    "s[1] = 100\n",
    "print(t)"
   ]
  },
  {
   "cell_type": "code",
   "execution_count": 24,
   "metadata": {
    "collapsed": false
   },
   "outputs": [
    {
     "name": "stdout",
     "output_type": "stream",
     "text": [
      "8\n"
     ]
    }
   ],
   "source": [
    "L = [1, [2,[4,8],4]]          #**시험**\n",
    "print(L[1][1][1])"
   ]
  },
  {
   "cell_type": "code",
   "execution_count": 27,
   "metadata": {
    "collapsed": false
   },
   "outputs": [
    {
     "name": "stdout",
     "output_type": "stream",
     "text": [
      "0 inch= 0.0 centi\n",
      "1 inch= 2.54 centi\n",
      "2 inch= 5.08 centi\n",
      "3 inch= 7.62 centi\n",
      "4 inch= 10.16 centi\n",
      "5 inch= 12.7 centi\n",
      "6 inch= 15.24 centi\n",
      "7 inch= 17.78 centi\n",
      "8 inch= 20.32 centi\n",
      "9 inch= 22.86 centi\n"
     ]
    }
   ],
   "source": [
    "for el in range(10):\n",
    "    print(el, 'inch=' ,el*2.54, 'centi')"
   ]
  },
  {
   "cell_type": "code",
   "execution_count": 29,
   "metadata": {
    "collapsed": false
   },
   "outputs": [
    {
     "name": "stdout",
     "output_type": "stream",
     "text": [
      "0 1 2 3 4 5 6\n"
     ]
    }
   ],
   "source": [
    "sun, mon, tue, wed, thu, fri, sat = range(7)\n",
    "print(sun, mon, tue, wed, thu, fri, sat)                       #**시험**"
   ]
  },
  {
   "cell_type": "code",
   "execution_count": 30,
   "metadata": {
    "collapsed": false
   },
   "outputs": [
    {
     "name": "stdout",
     "output_type": "stream",
     "text": [
      "one 1\n",
      "two 2\n",
      "three 3\n"
     ]
    }
   ],
   "source": [
    "lt = [('one', 1), ('two', 2), ('three', 3)]\n",
    "for name, num in lt:\n",
    "    print(name, num)"
   ]
  },
  {
   "cell_type": "code",
   "execution_count": 31,
   "metadata": {
    "collapsed": false
   },
   "outputs": [
    {
     "name": "stdout",
     "output_type": "stream",
     "text": [
      "[1, 2, 3, 5]\n",
      "[1, 2, 3, 4, 5]\n"
     ]
    }
   ],
   "source": [
    "s = [1, 2, 3]\n",
    "\n",
    "s.append(5) # 리스트 맨 마지막에 정수 값 5 추가\n",
    "print(s)\n",
    "\n",
    "s.insert(3, 4) # 3 인덱스 위치에 정수 값 4 추가\n",
    "print(s)"
   ]
  },
  {
   "cell_type": "code",
   "execution_count": 32,
   "metadata": {
    "collapsed": false
   },
   "outputs": [
    {
     "name": "stdout",
     "output_type": "stream",
     "text": [
      "None\n",
      "[100, -7, -10, 2, 1]\n",
      "None\n",
      "[-10, -7, 1, 2, 100]\n"
     ]
    }
   ],
   "source": [
    "s = [1, 2, -10, -7, 100]\n",
    "k = s.reverse() # 자료의 순서를 뒤집기 (반환값 없음)   \n",
    "print(k)\n",
    "print(s)\n",
    "\n",
    "k = s.sort() # 정렬 (반환값 없음)\n",
    "print(k)\n",
    "print(s)"
   ]
  },
  {
   "cell_type": "code",
   "execution_count": 34,
   "metadata": {
    "collapsed": false
   },
   "outputs": [
    {
     "name": "stdout",
     "output_type": "stream",
     "text": [
      "[20, 30, 40, 50]\n",
      "[10, 30, 20, 40, 50]\n",
      "[10, 30, 20, 40, 50, 60, 70]\n",
      "[10, 30, 20, 40, 50, 60, 70, [60, 70]]\n"
     ]
    }
   ],
   "source": [
    "s = [10, 20, 30, 40, 50]\n",
    "s.remove(10) # 자료 값 10 삭제\n",
    "print(s)\n",
    "\n",
    "s = [10, 20, 30, 20, 40, 50] # 자료 값이 여러개 존재하면 첫번째 것만 삭제\n",
    "s.remove(20)\n",
    "print(s)\n",
    "\n",
    "s.extend([60, 70]) # 새로운 리스트([60, 70]를 기존 리스트 s 뒤에 병합\n",
    "print(s)\n",
    "\n",
    "s.append([60, 70]) # 주의: append로 새로운 리스트를 추가하면 하나의 자료 요소로서 추가\n",
    "print(s)"
   ]
  },
  {
   "cell_type": "code",
   "execution_count": 37,
   "metadata": {
    "collapsed": false
   },
   "outputs": [
    {
     "name": "stdout",
     "output_type": "stream",
     "text": [
      "[10, 20, 30, 40, 50, 60, 1000, 1030]\n"
     ]
    }
   ],
   "source": [
    "s = [10, 20, 30, 40, 50, 60]\n",
    "s.extend([1000,1030])  #extend는 확장 #***중요***\n",
    "print(s)"
   ]
  },
  {
   "cell_type": "code",
   "execution_count": 41,
   "metadata": {
    "collapsed": false
   },
   "outputs": [
    {
     "name": "stdout",
     "output_type": "stream",
     "text": [
      "['jung', 'kim', 'loh']\n",
      "['kim', 'loh', 'jung']\n"
     ]
    }
   ],
   "source": [
    "S = ['loh', 'kim', 'jung']          #**시험**꼭!!\n",
    "\n",
    "def indicate_key(a):         #sort key정함\n",
    "    return a[1]\n",
    "\n",
    "S.sort(key=indicate_key)   #o와 i와 u 비교(정렬)\n",
    "print(sorted(S))\n",
    "print(S)"
   ]
  },
  {
   "cell_type": "code",
   "execution_count": 49,
   "metadata": {
    "collapsed": false
   },
   "outputs": [
    {
     "name": "stdout",
     "output_type": "stream",
     "text": [
      "lee\n"
     ]
    }
   ],
   "source": [
    "L = [('lee', 5, 28),('kim',4,35), ('jung',10,36)] #**시험**꼭!\n",
    "\n",
    "def cmp_by_each_element(a):\n",
    "    return a[2]\n",
    "\n",
    "L.sort(key = cmp_by_each_element,reverse = True)\n",
    "print(L[2][0])"
   ]
  },
  {
   "cell_type": "code",
   "execution_count": 51,
   "metadata": {
    "collapsed": false
   },
   "outputs": [
    {
     "name": "stdout",
     "output_type": "stream",
     "text": [
      "10\n",
      "[(10, 2), (1, 5), (111, 222)]\n",
      "[(111, 222), (1, 5), (10, 2)]\n"
     ]
    }
   ],
   "source": [
    "L = [(1,5),(10,2),(111,222)]\n",
    "\n",
    "def cmp_by_each_element(a):\n",
    "    return a[1]\n",
    "\n",
    "L.sort(key = cmp_by_each_element,reverse = True)\n",
    "print(L[2][0])\n",
    "\n",
    "L1 = sorted(L, key =cmp_by_each_element)\n",
    "print(L1)\n",
    "print(L)"
   ]
  },
  {
   "cell_type": "markdown",
   "metadata": {},
   "source": [
    "### 리스트내포!!!!!  <중요>"
   ]
  },
  {
   "cell_type": "code",
   "execution_count": 53,
   "metadata": {
    "collapsed": false
   },
   "outputs": [
    {
     "name": "stdout",
     "output_type": "stream",
     "text": [
      "[0, 1, 4, 9, 16, 25, 36, 49, 64, 81]\n"
     ]
    }
   ],
   "source": [
    "L = []\n",
    "for k in range(10):\n",
    "    L.append(k*k)\n",
    "    \n",
    "print(L)"
   ]
  },
  {
   "cell_type": "code",
   "execution_count": 54,
   "metadata": {
    "collapsed": false
   },
   "outputs": [
    {
     "name": "stdout",
     "output_type": "stream",
     "text": [
      "[0, 1, 4, 9, 16, 25, 36, 49, 64, 81]\n"
     ]
    }
   ],
   "source": [
    "L = [k*k for k in range(10)]\n",
    "\n",
    "print(L)"
   ]
  },
  {
   "cell_type": "code",
   "execution_count": 56,
   "metadata": {
    "collapsed": false
   },
   "outputs": [
    {
     "name": "stdout",
     "output_type": "stream",
     "text": [
      "[1, 1, 1, 1, 1, 1, 1, 1, 1, 1]\n"
     ]
    }
   ],
   "source": [
    "L = [1 for k in range(10)]\n",
    "\n",
    "print(L)"
   ]
  },
  {
   "cell_type": "code",
   "execution_count": null,
   "metadata": {
    "collapsed": true
   },
   "outputs": [],
   "source": []
  }
 ],
 "metadata": {
  "kernelspec": {
   "display_name": "Python 3",
   "language": "python",
   "name": "python3"
  },
  "language_info": {
   "codemirror_mode": {
    "name": "ipython",
    "version": 3
   },
   "file_extension": ".py",
   "mimetype": "text/x-python",
   "name": "python",
   "nbconvert_exporter": "python",
   "pygments_lexer": "ipython3",
   "version": "3.6.0"
  }
 },
 "nbformat": 4,
 "nbformat_minor": 2
}
