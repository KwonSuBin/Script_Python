{
 "cells": [
  {
   "cell_type": "markdown",
   "metadata": {},
   "source": [
    "### 파일입출력"
   ]
  },
  {
   "cell_type": "code",
   "execution_count": 3,
   "metadata": {
    "collapsed": false
   },
   "outputs": [
    {
     "name": "stdout",
     "output_type": "stream",
     "text": [
      "C:\\Users\\권수빈\\prof\n"
     ]
    }
   ],
   "source": [
    "import os\n",
    "\n",
    "print(os.getcwd())   #cwd 현재 작업 경로"
   ]
  },
  {
   "cell_type": "code",
   "execution_count": 6,
   "metadata": {
    "collapsed": false
   },
   "outputs": [
    {
     "name": "stdout",
     "output_type": "stream",
     "text": [
      "<class '_io.TextIOWrapper'>\n"
     ]
    }
   ],
   "source": [
    "s = \"\"\"Its power: Python developers typically report \n",
    "they are able to develop applications in a half\n",
    "to a tenth the amount of time it takes them to do\n",
    "the same work in such languages as C.\"\"\"\n",
    "f = open('t.txt','w')\n",
    "print(type(f))\n",
    "f.write(s)\n",
    "f.close()"
   ]
  },
  {
   "cell_type": "code",
   "execution_count": 10,
   "metadata": {
    "collapsed": false
   },
   "outputs": [
    {
     "name": "stdout",
     "output_type": "stream",
     "text": [
      "Its power: Python developers typically report \n",
      "they are able to develop applications in a half\n",
      "to a tenth the amount of time it takes them to do\n",
      "the same work in such languages as C.\n"
     ]
    }
   ],
   "source": [
    "f = open('t.txt')   #모드가 안써있으면 read모드\n",
    "s = f.read()\n",
    "print(s)\n",
    "f.close()   #프로그램이 종료되면 자동으로 불려짐"
   ]
  },
  {
   "cell_type": "code",
   "execution_count": 11,
   "metadata": {
    "collapsed": false
   },
   "outputs": [
    {
     "name": "stdout",
     "output_type": "stream",
     "text": [
      "1 : Its power: Python developers typically report \n",
      "\n",
      "2 : they are able to develop applications in a half\n",
      "\n",
      "3 : to a tenth the amount of time it takes them to do\n",
      "\n",
      "4 : the same work in such languages as C.\n"
     ]
    }
   ],
   "source": [
    "f = open('t.txt')\n",
    "i = 1\n",
    "for line in f:\n",
    "    print(i,\":\",line)\n",
    "    i +=1\n",
    "f.close()"
   ]
  },
  {
   "cell_type": "code",
   "execution_count": 12,
   "metadata": {
    "collapsed": false
   },
   "outputs": [
    {
     "name": "stdout",
     "output_type": "stream",
     "text": [
      "1 : Its power: Python developers typically report \n",
      "\n",
      "2 : they are able to develop applications in a half\n",
      "\n",
      "3 : to a tenth the amount of time it takes them to do\n",
      "\n",
      "4 : the same work in such languages as C.\n"
     ]
    }
   ],
   "source": [
    "f = open(\"t.txt\")\n",
    "line = f.readline()\n",
    "i = 1\n",
    "while line:\n",
    "    print(i,':', line)\n",
    "    line= f.readline()\n",
    "    i += 1\n",
    "f.close()"
   ]
  },
  {
   "cell_type": "code",
   "execution_count": 13,
   "metadata": {
    "collapsed": false
   },
   "outputs": [
    {
     "name": "stdout",
     "output_type": "stream",
     "text": [
      "['Its power: Python developers typically report \\n', 'they are able to develop applications in a half\\n', 'to a tenth the amount of time it takes them to do\\n', 'the same work in such languages as C.']\n",
      "\n",
      "1 : Its power: Python developers typically report \n",
      "\n",
      "2 : they are able to develop applications in a half\n",
      "\n",
      "3 : to a tenth the amount of time it takes them to do\n",
      "\n",
      "4 : the same work in such languages as C.\n"
     ]
    }
   ],
   "source": [
    "f = open('t.txt')\n",
    "print(f.readlines())       #포인터가 파일의 맨 뒤에\n",
    "print()\n",
    "\n",
    "f.seek(0)   #포인터가 맨 앞으로 이동\n",
    "i = 1\n",
    "for line in f.readlines():\n",
    "    print(i,\":\", line)\n",
    "    i += 1\n",
    "f.close()"
   ]
  },
  {
   "cell_type": "code",
   "execution_count": 14,
   "metadata": {
    "collapsed": false
   },
   "outputs": [
    {
     "ename": "AttributeError",
     "evalue": "'_io.TextIOWrapper' object has no attribute 'xreadlines'",
     "output_type": "error",
     "traceback": [
      "\u001b[0;31m---------------------------------------------------------------------------\u001b[0m",
      "\u001b[0;31mAttributeError\u001b[0m                            Traceback (most recent call last)",
      "\u001b[0;32m<ipython-input-14-e6eb77daccdb>\u001b[0m in \u001b[0;36m<module>\u001b[0;34m()\u001b[0m\n\u001b[1;32m      1\u001b[0m \u001b[0mf\u001b[0m \u001b[1;33m=\u001b[0m \u001b[0mopen\u001b[0m\u001b[1;33m(\u001b[0m\u001b[1;34m't.txt'\u001b[0m\u001b[1;33m)\u001b[0m\u001b[1;33m\u001b[0m\u001b[0m\n\u001b[0;32m----> 2\u001b[0;31m \u001b[0mprint\u001b[0m\u001b[1;33m(\u001b[0m\u001b[0mf\u001b[0m\u001b[1;33m.\u001b[0m\u001b[0mxreadlines\u001b[0m\u001b[1;33m(\u001b[0m\u001b[1;33m)\u001b[0m\u001b[1;33m)\u001b[0m\u001b[1;33m\u001b[0m\u001b[0m\n\u001b[0m\u001b[1;32m      3\u001b[0m \u001b[0mprint\u001b[0m\u001b[1;33m(\u001b[0m\u001b[1;33m)\u001b[0m\u001b[1;33m\u001b[0m\u001b[0m\n\u001b[1;32m      4\u001b[0m \u001b[1;33m\u001b[0m\u001b[0m\n\u001b[1;32m      5\u001b[0m \u001b[0mf\u001b[0m\u001b[1;33m.\u001b[0m\u001b[0mseek\u001b[0m\u001b[1;33m(\u001b[0m\u001b[1;36m0\u001b[0m\u001b[1;33m)\u001b[0m\u001b[1;33m\u001b[0m\u001b[0m\n",
      "\u001b[0;31mAttributeError\u001b[0m: '_io.TextIOWrapper' object has no attribute 'xreadlines'"
     ]
    }
   ],
   "source": [
    "f = open('t.txt')\n",
    "print(f.xreadlines())\n",
    "print()\n",
    "\n",
    "f.seek(0)\n",
    "i=1\n",
    "for line in f.xreadlines():\n",
    "    print(i,\":\",line)\n",
    "    i += 1\n",
    "f.close()"
   ]
  },
  {
   "cell_type": "code",
   "execution_count": 20,
   "metadata": {
    "collapsed": false
   },
   "outputs": [
    {
     "name": "stdout",
     "output_type": "stream",
     "text": [
      "first line\n",
      "second line\n",
      "third line\n",
      "\n"
     ]
    }
   ],
   "source": [
    "lines = ['first line\\n','second line\\n','third line\\n']\n",
    "f = open('t1.txt','w')\n",
    "f.writelines(lines)\n",
    "f.close()\n",
    "\n",
    "f = open('t1.txt')\n",
    "print(f.read())\n",
    "f.close()\n"
   ]
  },
  {
   "cell_type": "code",
   "execution_count": 22,
   "metadata": {
    "collapsed": false
   },
   "outputs": [
    {
     "name": "stdout",
     "output_type": "stream",
     "text": [
      "first line\n",
      "second line\n",
      "third line\n"
     ]
    }
   ],
   "source": [
    "lines = ['first line','second line','third line']\n",
    "f = open('t1.txt','w')\n",
    "f.write('\\n'.join(lines))\n",
    "f.close()\n",
    "\n",
    "f = open('t1.txt')\n",
    "f.seek(0)\n",
    "print(f.read())\n",
    "f.close()"
   ]
  },
  {
   "cell_type": "code",
   "execution_count": 23,
   "metadata": {
    "collapsed": false
   },
   "outputs": [
    {
     "name": "stdout",
     "output_type": "stream",
     "text": [
      "35\n"
     ]
    }
   ],
   "source": [
    "f = open('t.txt')\n",
    "s = f.read()\n",
    "n = len(s.split())\n",
    "print(n)\n",
    "f.close()"
   ]
  },
  {
   "cell_type": "code",
   "execution_count": 27,
   "metadata": {
    "collapsed": true
   },
   "outputs": [],
   "source": [
    "f = open('removeme.txt','w')\n",
    "f.write('first line\\n')\n",
    "f.write('second line\\n')\n",
    "f.close()"
   ]
  },
  {
   "cell_type": "code",
   "execution_count": 28,
   "metadata": {
    "collapsed": false
   },
   "outputs": [
    {
     "name": "stdout",
     "output_type": "stream",
     "text": [
      "first line\n",
      "second line\n",
      "third line\n",
      "\n"
     ]
    }
   ],
   "source": [
    "f = open('removeme.txt','a')\n",
    "f.write('third line\\n')\n",
    "f.close()\n",
    "\n",
    "f = open('removeme.txt')\n",
    "print(f.read())"
   ]
  },
  {
   "cell_type": "code",
   "execution_count": 31,
   "metadata": {
    "collapsed": false
   },
   "outputs": [
    {
     "name": "stdout",
     "output_type": "stream",
     "text": [
      "5\n",
      "56\n",
      "7\n",
      "\n"
     ]
    }
   ],
   "source": [
    "name = 't.txt'\n",
    "f = open(name, 'w+')   #쓴다음에 읽기도 가능하다\n",
    "s = '0123456789abcdef'\n",
    "f.write(s)\n",
    "\n",
    "f.seek(5)\n",
    "print(f.tell())    #f.tell : 현재 위치를 돌려줌\n",
    "print(f.read(2))   #f.read : 현재 위치에 있는 값을 돌려줌 괄호안에 글자수\n",
    "print(f.tell())\n",
    "print()"
   ]
  },
  {
   "cell_type": "markdown",
   "metadata": {},
   "source": [
    "### 표준 입출력 "
   ]
  },
  {
   "cell_type": "code",
   "execution_count": null,
   "metadata": {
    "collapsed": true
   },
   "outputs": [],
   "source": [
    "import sys\n",
    "\n",
    "f = open('t.txt','w')\n",
    "stdout = sys.stdout       # 표준 출력 저장해 두기\n",
    "sys.stdout = f           #파일쪽의 출력\n",
    "print('sample output')\n",
    "print('Good')\n",
    "print('Good')\n",
    "f.close()\n",
    "sys.stuout = stdout   # 필요하면 표준 출력 원상 복구"
   ]
  },
  {
   "cell_type": "code",
   "execution_count": null,
   "metadata": {
    "collapsed": true
   },
   "outputs": [],
   "source": [
    "f = open('t.txt')\n",
    "print(f.read())\n"
   ]
  },
  {
   "cell_type": "code",
   "execution_count": null,
   "metadata": {
    "collapsed": false
   },
   "outputs": [],
   "source": [
    "import sys\n",
    "print() >> sys.stderr, \"Warning, action field not supplied\""
   ]
  },
  {
   "cell_type": "code",
   "execution_count": null,
   "metadata": {
    "collapsed": true
   },
   "outputs": [],
   "source": [
    "f = open('t.txt','w')\n",
    "print() >> f, 'spam string'\n",
    "f.close()\n",
    "\n",
    "f = open('t.txt')\n",
    "print(f.read())\n",
    "f.close()"
   ]
  },
  {
   "cell_type": "code",
   "execution_count": 8,
   "metadata": {
    "collapsed": false,
    "scrolled": false
   },
   "outputs": [
    {
     "ename": "ModuleNotFoundError",
     "evalue": "No module named 'StringIO'",
     "output_type": "error",
     "traceback": [
      "\u001b[0;31m---------------------------------------------------------------------------\u001b[0m",
      "\u001b[0;31mModuleNotFoundError\u001b[0m                       Traceback (most recent call last)",
      "\u001b[0;32m<ipython-input-8-e342a99a2ed1>\u001b[0m in \u001b[0;36m<module>\u001b[0;34m()\u001b[0m\n\u001b[0;32m----> 1\u001b[0;31m \u001b[1;32mimport\u001b[0m \u001b[0mStringIO\u001b[0m\u001b[1;33m\u001b[0m\u001b[0m\n\u001b[0m\u001b[1;32m      2\u001b[0m \u001b[1;33m\u001b[0m\u001b[0m\n\u001b[1;32m      3\u001b[0m \u001b[0mf\u001b[0m \u001b[1;33m=\u001b[0m \u001b[0mStringIO\u001b[0m\u001b[1;33m.\u001b[0m\u001b[0mStringIO\u001b[0m\u001b[1;33m(\u001b[0m\u001b[1;33m)\u001b[0m\u001b[1;33m\u001b[0m\u001b[0m\n\u001b[1;32m      4\u001b[0m \u001b[0mf\u001b[0m\u001b[1;33m.\u001b[0m\u001b[0mwrite\u001b[0m\u001b[1;33m(\u001b[0m\u001b[1;34m\"abc\"\u001b[0m\u001b[1;33m)\u001b[0m\u001b[1;33m\u001b[0m\u001b[0m\n\u001b[1;32m      5\u001b[0m \u001b[0mf\u001b[0m\u001b[1;33m.\u001b[0m\u001b[0mseek\u001b[0m\u001b[1;33m(\u001b[0m\u001b[1;36m0\u001b[0m\u001b[1;33m)\u001b[0m\u001b[1;33m\u001b[0m\u001b[0m\n",
      "\u001b[0;31mModuleNotFoundError\u001b[0m: No module named 'StringIO'"
     ]
    }
   ],
   "source": [
    "import StringIO\n",
    "\n",
    "f = StringIO.StringIO()\n",
    "f.write(\"abc\")\n",
    "f.seek(0)\n",
    "s = f.read()\n",
    "print(s)\n",
    "print()\n",
    "\n",
    "s2 = f.getvalue()\n",
    "print(s2)"
   ]
  },
  {
   "cell_type": "markdown",
   "metadata": {},
   "source": [
    "### 파일로의 지속 모듈"
   ]
  },
  {
   "cell_type": "code",
   "execution_count": 16,
   "metadata": {
    "collapsed": false
   },
   "outputs": [
    {
     "ename": "TypeError",
     "evalue": "write() argument must be str, not bytes",
     "output_type": "error",
     "traceback": [
      "\u001b[0;31m---------------------------------------------------------------------------\u001b[0m",
      "\u001b[0;31mTypeError\u001b[0m                                 Traceback (most recent call last)",
      "\u001b[0;32m<ipython-input-16-d8ac18ee6076>\u001b[0m in \u001b[0;36m<module>\u001b[0;34m()\u001b[0m\n\u001b[1;32m      7\u001b[0m \u001b[0mf\u001b[0m \u001b[1;33m=\u001b[0m \u001b[0mopen\u001b[0m\u001b[1;33m(\u001b[0m\u001b[1;34m'pickle.txt'\u001b[0m\u001b[1;33m,\u001b[0m \u001b[1;34m'w'\u001b[0m\u001b[1;33m)\u001b[0m \u001b[1;31m# 파일 객체를 얻는다.\u001b[0m\u001b[1;33m\u001b[0m\u001b[0m\n\u001b[1;32m      8\u001b[0m \u001b[1;33m\u001b[0m\u001b[0m\n\u001b[0;32m----> 9\u001b[0;31m \u001b[0mpickle\u001b[0m\u001b[1;33m.\u001b[0m\u001b[0mdump\u001b[0m\u001b[1;33m(\u001b[0m\u001b[0mTuple\u001b[0m\u001b[1;33m,\u001b[0m \u001b[0mf\u001b[0m\u001b[1;33m)\u001b[0m \u001b[1;31m# 파일로 출력(pickling), 복합 객체 출력\u001b[0m\u001b[1;33m\u001b[0m\u001b[0m\n\u001b[0m\u001b[1;32m     10\u001b[0m \u001b[0mf\u001b[0m\u001b[1;33m.\u001b[0m\u001b[0mclose\u001b[0m\u001b[1;33m(\u001b[0m\u001b[1;33m)\u001b[0m\u001b[1;33m\u001b[0m\u001b[0m\n\u001b[1;32m     11\u001b[0m \u001b[1;33m\u001b[0m\u001b[0m\n",
      "\u001b[0;31mTypeError\u001b[0m: write() argument must be str, not bytes"
     ]
    }
   ],
   "source": [
    "import pickle\n",
    "\n",
    "phone = {'tom':4358382, 'jack':9465215, 'jim':6851325, 'Joseph':6584321}\n",
    "List = ['string', 1234, 0.2345]\n",
    "Tuple = (phone, List) # 리스트, 튜플, 사전의 복합 객체\n",
    "\n",
    "f = open('pickle.txt', 'w') # 파일 객체를 얻는다.\n",
    "\n",
    "pickle.dump(Tuple, f) # 파일로 출력(pickling), 복합 객체 출력 \n",
    "f.close() \n",
    "\n",
    "f = open('pickle.txt')     \n",
    "                      \n",
    "x,y = pickle.load(f) # 파일에서 읽어오기. 튜플의 내용을 x, y에 받는다.\n",
    "print(x) # 사전\n",
    "print(y) # 리스트"
   ]
  },
  {
   "cell_type": "code",
   "execution_count": 17,
   "metadata": {
    "collapsed": false
   },
   "outputs": [
    {
     "ename": "TypeError",
     "evalue": "write() argument must be str, not bytes",
     "output_type": "error",
     "traceback": [
      "\u001b[0;31m---------------------------------------------------------------------------\u001b[0m",
      "\u001b[0;31mTypeError\u001b[0m                                 Traceback (most recent call last)",
      "\u001b[0;32m<ipython-input-17-1a11efda0949>\u001b[0m in \u001b[0;36m<module>\u001b[0;34m()\u001b[0m\n\u001b[1;32m      8\u001b[0m \u001b[1;33m\u001b[0m\u001b[0m\n\u001b[1;32m      9\u001b[0m \u001b[0mf\u001b[0m \u001b[1;33m=\u001b[0m \u001b[0mopen\u001b[0m\u001b[1;33m(\u001b[0m\u001b[1;34m'pickle2.txt'\u001b[0m\u001b[1;33m,\u001b[0m \u001b[1;34m'w'\u001b[0m\u001b[1;33m)\u001b[0m\u001b[1;33m\u001b[0m\u001b[0m\n\u001b[0;32m---> 10\u001b[0;31m \u001b[0mpickle\u001b[0m\u001b[1;33m.\u001b[0m\u001b[0mdump\u001b[0m\u001b[1;33m(\u001b[0m\u001b[0ms\u001b[0m\u001b[1;33m,\u001b[0m \u001b[0mf\u001b[0m\u001b[1;33m)\u001b[0m \u001b[1;31m# 인스턴스 저장\u001b[0m\u001b[1;33m\u001b[0m\u001b[0m\n\u001b[0m\u001b[1;32m     11\u001b[0m \u001b[0mf\u001b[0m\u001b[1;33m.\u001b[0m\u001b[0mclose\u001b[0m\u001b[1;33m(\u001b[0m\u001b[1;33m)\u001b[0m\u001b[1;33m\u001b[0m\u001b[0m\n\u001b[1;32m     12\u001b[0m \u001b[1;33m\u001b[0m\u001b[0m\n",
      "\u001b[0;31mTypeError\u001b[0m: write() argument must be str, not bytes"
     ]
    }
   ],
   "source": [
    "import pickle\n",
    "\n",
    "class Simple: # 가장 단순한 클래스를 정의\n",
    "    pass\n",
    "\n",
    "s = Simple() # 인스턴스 객체 생성\n",
    "s.count = 10 # 인스턴스 이름 공간에 변수 생성\n",
    "\n",
    "f = open('pickle2.txt', 'w')\n",
    "pickle.dump(s, f) # 인스턴스 저장\n",
    "f.close()\n",
    "\n",
    "f = open('pickle2.txt')\n",
    "t = pickle.load(f) # 인스턴스 가져오기\n",
    "print(t.count)"
   ]
  },
  {
   "cell_type": "code",
   "execution_count": 19,
   "metadata": {
    "collapsed": true
   },
   "outputs": [],
   "source": [
    "# __class__ :현재사용하는 class"
   ]
  },
  {
   "cell_type": "markdown",
   "metadata": {},
   "source": [
    "### 파일과 디렉토리 다루기"
   ]
  },
  {
   "cell_type": "code",
   "execution_count": 21,
   "metadata": {
    "collapsed": false
   },
   "outputs": [
    {
     "name": "stdout",
     "output_type": "stream",
     "text": [
      "['.git', '.ipynb_checkpoints', '20170912.ipynb', '20170914.ipynb', '20170919.ipynb', '20170921.ipynb', '20170926.ipynb', '20170928.ipynb', '20171010.ipynb', '20171012.ipynb', '20171017.ipynb', '20171019.ipynb', '20171024.ipynb', '20171026.ipynb', '20171101.ipynb', 'Assignment1_KnowSuBin.ipynb', 'Assignment2_KnowSuBin.ipynb', 'Assignment3_KnowSuBin.ipynb', 'debug.log', 'file.py', 'img', 'mid pratice.ipynb', 'pickle.txt', 'pickle2.txt', 'print star.ipynb', 'removeme.txt', 't.txt', 't1.txt', 'Test.ipynb', 'Untitled.ipynb', 'Untitled1.ipynb', 'Untitled2.ipynb']\n",
      "\n",
      "['.anaconda', '.AndroidStudio2.3', '.atom', '.condarc', '.config', '.continuum', '.dnx', '.eclipse', '.gitconfig', '.idlerc', '.ipynb_checkpoints', '.ipython', '.jmc', '.jupyter', '.matplotlib', '.p2', '.PyCharmCE2017.2', '.rnd', '.ssh', '.tooling', '.viminfo', '3D Objects', 'ahw_level1_unit4_sb', 'AnacondaProjects', 'AppData', 'Application Data', 'baseline-model.csv', 'baseline-script.csv', 'baseline-script.zip', 'baseline.ipynb', 'BullseyeCoverageError.txt', 'Contacts', 'Cookies', 'data', 'data2', 'Desktop', 'Documents', 'Downloads', 'eclipse', 'eclipse-workspace', 'eclipse-workspace2', 'Favorites', 'IntelGraphicsProfiles', 'Links', 'Local Settings', 'mercurial.ini', 'Music', 'My Documents', 'NetHood', 'NTUSER.DAT', 'ntuser.dat.LOG1', 'ntuser.dat.LOG2', 'NTUSER.DAT{b032d032-8a43-11e6-900c-9227565ebb74}.TxR.0.regtrans-ms', 'NTUSER.DAT{b032d032-8a43-11e6-900c-9227565ebb74}.TxR.1.regtrans-ms', 'NTUSER.DAT{b032d032-8a43-11e6-900c-9227565ebb74}.TxR.2.regtrans-ms', 'NTUSER.DAT{b032d032-8a43-11e6-900c-9227565ebb74}.TxR.blf', 'NTUSER.DAT{b032d033-8a43-11e6-900c-9227565ebb74}.TM.blf', 'NTUSER.DAT{b032d033-8a43-11e6-900c-9227565ebb74}.TMContainer00000000000000000001.regtrans-ms', 'NTUSER.DAT{b032d033-8a43-11e6-900c-9227565ebb74}.TMContainer00000000000000000002.regtrans-ms', 'ntuser.ini', 'OneDrive', 'Pictures', 'practice 04.ipynb', 'PrintHood', 'prof', 'python', 'Recent', 'Roaming', 'sandbox.ipynb', 'Saved Games', 'Searches', 'SendTo', 'Templates', 'test', 'Titanic.ipynb', 'to-the-top-10.ipynb', 'Untitled.ipynb', 'Videos', 'VSWebCache', 'workspace', 'xgboost', '시작 메뉴']\n"
     ]
    }
   ],
   "source": [
    "import os\n",
    "\n",
    "print(os.listdir('.'))\n",
    "print()\n",
    "\n",
    "print(os.listdir('../'))"
   ]
  },
  {
   "cell_type": "code",
   "execution_count": 22,
   "metadata": {
    "collapsed": false
   },
   "outputs": [
    {
     "name": "stdout",
     "output_type": "stream",
     "text": [
      ".git :\n",
      "Directory\n",
      ".ipynb_checkpoints :\n",
      "Directory\n",
      "20170912.ipynb :\n",
      "Regular file\n",
      "20170914.ipynb :\n",
      "Regular file\n",
      "20170919.ipynb :\n",
      "Regular file\n",
      "20170921.ipynb :\n",
      "Regular file\n",
      "20170926.ipynb :\n",
      "Regular file\n",
      "20170928.ipynb :\n",
      "Regular file\n",
      "20171010.ipynb :\n",
      "Regular file\n",
      "20171012.ipynb :\n",
      "Regular file\n",
      "20171017.ipynb :\n",
      "Regular file\n",
      "20171019.ipynb :\n",
      "Regular file\n",
      "20171024.ipynb :\n",
      "Regular file\n",
      "20171026.ipynb :\n",
      "Regular file\n",
      "20171101.ipynb :\n",
      "Regular file\n",
      "Assignment1_KnowSuBin.ipynb :\n",
      "Regular file\n",
      "Assignment2_KnowSuBin.ipynb :\n",
      "Regular file\n",
      "Assignment3_KnowSuBin.ipynb :\n",
      "Regular file\n",
      "debug.log :\n",
      "Regular file\n",
      "file.py :\n",
      "Regular file\n",
      "img :\n",
      "Directory\n",
      "mid pratice.ipynb :\n",
      "Regular file\n",
      "pickle.txt :\n",
      "Regular file\n",
      "pickle2.txt :\n",
      "Regular file\n",
      "print star.ipynb :\n",
      "Regular file\n",
      "removeme.txt :\n",
      "Regular file\n",
      "t.txt :\n",
      "Regular file\n",
      "t1.txt :\n",
      "Regular file\n",
      "Test.ipynb :\n",
      "Regular file\n",
      "Untitled.ipynb :\n",
      "Regular file\n",
      "Untitled1.ipynb :\n",
      "Regular file\n",
      "Untitled2.ipynb :\n",
      "Regular file\n"
     ]
    }
   ],
   "source": [
    "import os\n",
    "def filetype(fpath):\n",
    "    print(fpath,':')\n",
    "    if os.path.isfile(fpath):\n",
    "        print('Regular file')\n",
    "    if os.path.isdir(fpath):\n",
    "        print('Directory')\n",
    "    if os.path.islink(fpath):\n",
    "        print('symbolis link')\n",
    "    \n",
    "flist = os.listdir('.')\n",
    "for fname in flist:\n",
    "    filetype(fname)"
   ]
  },
  {
   "cell_type": "code",
   "execution_count": 26,
   "metadata": {
    "collapsed": false
   },
   "outputs": [
    {
     "name": "stdout",
     "output_type": "stream",
     "text": [
      ".git :\n",
      "Exists\n",
      "R\n",
      "W\n",
      "X\n",
      "\n",
      ".ipynb_checkpoints :\n",
      "Exists\n",
      "R\n",
      "W\n",
      "X\n",
      "\n",
      "20170912.ipynb :\n",
      "Exists\n",
      "R\n",
      "W\n",
      "X\n",
      "\n",
      "20170914.ipynb :\n",
      "Exists\n",
      "R\n",
      "W\n",
      "X\n",
      "\n",
      "20170919.ipynb :\n",
      "Exists\n",
      "R\n",
      "W\n",
      "X\n",
      "\n",
      "20170921.ipynb :\n",
      "Exists\n",
      "R\n",
      "W\n",
      "X\n",
      "\n",
      "20170926.ipynb :\n",
      "Exists\n",
      "R\n",
      "W\n",
      "X\n",
      "\n",
      "20170928.ipynb :\n",
      "Exists\n",
      "R\n",
      "W\n",
      "X\n",
      "\n",
      "20171010.ipynb :\n",
      "Exists\n",
      "R\n",
      "W\n",
      "X\n",
      "\n",
      "20171012.ipynb :\n",
      "Exists\n",
      "R\n",
      "W\n",
      "X\n",
      "\n",
      "20171017.ipynb :\n",
      "Exists\n",
      "R\n",
      "W\n",
      "X\n",
      "\n",
      "20171019.ipynb :\n",
      "Exists\n",
      "R\n",
      "W\n",
      "X\n",
      "\n",
      "20171024.ipynb :\n",
      "Exists\n",
      "R\n",
      "W\n",
      "X\n",
      "\n",
      "20171026.ipynb :\n",
      "Exists\n",
      "R\n",
      "W\n",
      "X\n",
      "\n",
      "20171101.ipynb :\n",
      "Exists\n",
      "R\n",
      "W\n",
      "X\n",
      "\n",
      "Assignment1_KnowSuBin.ipynb :\n",
      "Exists\n",
      "R\n",
      "W\n",
      "X\n",
      "\n",
      "Assignment2_KnowSuBin.ipynb :\n",
      "Exists\n",
      "R\n",
      "W\n",
      "X\n",
      "\n",
      "Assignment3_KnowSuBin.ipynb :\n",
      "Exists\n",
      "R\n",
      "W\n",
      "X\n",
      "\n",
      "debug.log :\n",
      "Exists\n",
      "R\n",
      "W\n",
      "X\n",
      "\n",
      "file.py :\n",
      "Exists\n",
      "R\n",
      "W\n",
      "X\n",
      "\n",
      "img :\n",
      "Exists\n",
      "R\n",
      "W\n",
      "X\n",
      "\n",
      "mid pratice.ipynb :\n",
      "Exists\n",
      "R\n",
      "W\n",
      "X\n",
      "\n",
      "pickle.txt :\n",
      "Exists\n",
      "R\n",
      "W\n",
      "X\n",
      "\n",
      "pickle2.txt :\n",
      "Exists\n",
      "R\n",
      "W\n",
      "X\n",
      "\n",
      "print star.ipynb :\n",
      "Exists\n",
      "R\n",
      "W\n",
      "X\n",
      "\n",
      "removeme.txt :\n",
      "Exists\n",
      "R\n",
      "W\n",
      "X\n",
      "\n",
      "t.txt :\n",
      "Exists\n",
      "R\n",
      "W\n",
      "X\n",
      "\n",
      "t1.txt :\n",
      "Exists\n",
      "R\n",
      "W\n",
      "X\n",
      "\n",
      "Test.ipynb :\n",
      "Exists\n",
      "R\n",
      "W\n",
      "X\n",
      "\n",
      "Untitled.ipynb :\n",
      "Exists\n",
      "R\n",
      "W\n",
      "X\n",
      "\n",
      "Untitled1.ipynb :\n",
      "Exists\n",
      "R\n",
      "W\n",
      "X\n",
      "\n",
      "Untitled2.ipynb :\n",
      "Exists\n",
      "R\n",
      "W\n",
      "X\n",
      "\n"
     ]
    }
   ],
   "source": [
    "import os\n",
    "def fileaccess(fpath):\n",
    "    print (fpath, ':')\n",
    "    if os.access(fpath, os.F_OK): \n",
    "        print ('Exists')\n",
    "    else: \n",
    "        return\n",
    "    if os.access(fpath, os.R_OK): \n",
    "        print ('R')\n",
    "    if os.access(fpath, os.W_OK): \n",
    "        print ('W')\n",
    "    if os.access(fpath, os.X_OK): \n",
    "        print ('X')\n",
    "    print()\n",
    "    \n",
    "flist = os.listdir('.')\n",
    "for fname in flist:\n",
    "    fileaccess(fname)"
   ]
  },
  {
   "cell_type": "code",
   "execution_count": 27,
   "metadata": {
    "collapsed": false
   },
   "outputs": [
    {
     "name": "stdout",
     "output_type": "stream",
     "text": [
      "C:\\Users\\권수빈\\prof\\0.txt\n"
     ]
    }
   ],
   "source": [
    "import os\n",
    "print(os.path.abspath('0.txt'))"
   ]
  },
  {
   "cell_type": "code",
   "execution_count": 30,
   "metadata": {
    "collapsed": false
   },
   "outputs": [
    {
     "ename": "SyntaxError",
     "evalue": "(unicode error) 'unicodeescape' codec can't decode bytes in position 2-3: truncated \\UXXXXXXXX escape (<ipython-input-30-89afa30495fa>, line 2)",
     "output_type": "error",
     "traceback": [
      "\u001b[0;36m  File \u001b[0;32m\"<ipython-input-30-89afa30495fa>\"\u001b[0;36m, line \u001b[0;32m2\u001b[0m\n\u001b[0;31m    f = 'C:\\Users\\권수빈\\prof\\0.txt'\u001b[0m\n\u001b[0m       ^\u001b[0m\n\u001b[0;31mSyntaxError\u001b[0m\u001b[0;31m:\u001b[0m (unicode error) 'unicodeescape' codec can't decode bytes in position 2-3: truncated \\UXXXXXXXX escape\n"
     ]
    }
   ],
   "source": [
    "import os\n",
    "f = 'C:\\Users\\권수빈\\prof\\0.txt'\n",
    "print( os.path.exists(f))\n",
    "print( os.path.exists('sample.txt'))\n",
    "print( os.path.exists('asdf.txt'))\n"
   ]
  },
  {
   "cell_type": "code",
   "execution_count": 31,
   "metadata": {
    "collapsed": false
   },
   "outputs": [
    {
     "name": "stdout",
     "output_type": "stream",
     "text": [
      ".\n",
      "..\n",
      "\\\n"
     ]
    }
   ],
   "source": [
    "import os\n",
    "print(os.curdir)\n",
    "print(os.pardir)\n",
    "print(os.sep)"
   ]
  },
  {
   "cell_type": "code",
   "execution_count": 33,
   "metadata": {
    "collapsed": false
   },
   "outputs": [
    {
     "ename": "SyntaxError",
     "evalue": "(unicode error) 'unicodeescape' codec can't decode bytes in position 2-3: truncated \\UXXXXXXXX escape (<ipython-input-33-15beac43bd0b>, line 2)",
     "output_type": "error",
     "traceback": [
      "\u001b[0;36m  File \u001b[0;32m\"<ipython-input-33-15beac43bd0b>\"\u001b[0;36m, line \u001b[0;32m2\u001b[0m\n\u001b[0;31m    f = 'C:\\Users\\권수빈\\prof\\0.txt'\u001b[0m\n\u001b[0m       ^\u001b[0m\n\u001b[0;31mSyntaxError\u001b[0m\u001b[0;31m:\u001b[0m (unicode error) 'unicodeescape' codec can't decode bytes in position 2-3: truncated \\UXXXXXXXX escape\n"
     ]
    }
   ],
   "source": [
    "import os\n",
    "f = 'C:\\Users\\권수빈\\prof\\0.txt'\n",
    "\n",
    "print(os.path.basename(f))\n",
    "print(os.path.dirname(f))"
   ]
  },
  {
   "cell_type": "markdown",
   "metadata": {},
   "source": [
    "### 디렉토리 다루기"
   ]
  },
  {
   "cell_type": "code",
   "execution_count": 35,
   "metadata": {
    "collapsed": false
   },
   "outputs": [
    {
     "name": "stdout",
     "output_type": "stream",
     "text": [
      "C:\\Users\\권수빈\\prof\n"
     ]
    }
   ],
   "source": [
    "import os\n",
    "print(os.getcwd())"
   ]
  },
  {
   "cell_type": "code",
   "execution_count": 37,
   "metadata": {
    "collapsed": false
   },
   "outputs": [
    {
     "ename": "SyntaxError",
     "evalue": "(unicode error) 'unicodeescape' codec can't decode bytes in position 2-3: truncated \\UXXXXXXXX escape (<ipython-input-37-c210450b3754>, line 2)",
     "output_type": "error",
     "traceback": [
      "\u001b[0;36m  File \u001b[0;32m\"<ipython-input-37-c210450b3754>\"\u001b[0;36m, line \u001b[0;32m2\u001b[0m\n\u001b[0;31m    os.chdir('C:\\Users\\권수빈\\prof')\u001b[0m\n\u001b[0m            ^\u001b[0m\n\u001b[0;31mSyntaxError\u001b[0m\u001b[0;31m:\u001b[0m (unicode error) 'unicodeescape' codec can't decode bytes in position 2-3: truncated \\UXXXXXXXX escape\n"
     ]
    }
   ],
   "source": [
    "import os\n",
    "os.chdir('C:\\Users\\권수빈\\prof')\n",
    "print(os.getcwd())"
   ]
  },
  {
   "cell_type": "code",
   "execution_count": null,
   "metadata": {
    "collapsed": true
   },
   "outputs": [],
   "source": []
  }
 ],
 "metadata": {
  "kernelspec": {
   "display_name": "Python 3",
   "language": "python",
   "name": "python3"
  }
 },
 "nbformat": 4,
 "nbformat_minor": 2
}
