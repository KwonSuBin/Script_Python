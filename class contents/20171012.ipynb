{
 "cells": [
  {
   "cell_type": "markdown",
   "metadata": {
    "collapsed": true
   },
   "source": [
    "### 리스트 생성 및 기본 연산"
   ]
  },
  {
   "cell_type": "code",
   "execution_count": 17,
   "metadata": {
    "collapsed": false
   },
   "outputs": [
    {
     "name": "stdout",
     "output_type": "stream",
     "text": [
      "1 Great\n",
      "[2, 'Great'] [1, 2, 'Great']\n",
      "\n",
      "[0, 2, 4, 6, 8]\n",
      "\n",
      "[1, 2, 'Great', 1, 2, 'Great']\n",
      "[1, 2, 'Great', 3, 4, 5]\n",
      "3\n",
      "\n",
      "True\n"
     ]
    }
   ],
   "source": [
    "l = []\n",
    "l = [1,2,\"Great\"]\n",
    "print( l[0], l[-1])\n",
    "print( l[1:3], l[:])\n",
    "print()\n",
    "\n",
    "L = list(range(10))    #range함수의 반환값은 list가 아니다\n",
    "print(list(L[::2]))               \n",
    "print()\n",
    "\n",
    "print(l * 2)\n",
    "print(l + [3,4,5])\n",
    "print(len(l))            #기존의 l은 바뀌지 않았다\n",
    "print()\n",
    "\n",
    "print(4 in L)"
   ]
  },
  {
   "cell_type": "code",
   "execution_count": 18,
   "metadata": {
    "collapsed": false
   },
   "outputs": [
    {
     "name": "stdout",
     "output_type": "stream",
     "text": [
      "['spam', 'egg', 123, 1234]\n"
     ]
    }
   ],
   "source": [
    "a = ['spam','egg',100,1234]\n",
    "a[2] = a[2] + 23   #새로운 값을 할당하라\n",
    "print(a)"
   ]
  },
  {
   "cell_type": "code",
   "execution_count": 20,
   "metadata": {
    "collapsed": false
   },
   "outputs": [
    {
     "name": "stdout",
     "output_type": "stream",
     "text": [
      "[1, 12, 3, 123, 1234]\n",
      "[1, 3, 123, 1234]\n",
      "[1, 2, 3, 3, 123, 1234]\n"
     ]
    }
   ],
   "source": [
    "a [0:2] = [1,12] #동일한 크기에 대한 슬라이스 치환\n",
    "print(a)\n",
    "\n",
    "a[0:2] = [1] #서로 다른 크기에 대한 슬라이스 치환\n",
    "print(a)\n",
    "\n",
    "a[0:1] = [1,2,3] #서로 다른 크기에 대한 슬라이스\n",
    "print(a)\n",
    "\n",
    "#자리 = 값"
   ]
  },
  {
   "cell_type": "code",
   "execution_count": 22,
   "metadata": {
    "collapsed": false
   },
   "outputs": [
    {
     "name": "stdout",
     "output_type": "stream",
     "text": [
      "[123, 1234]\n"
     ]
    }
   ],
   "source": [
    "a = [1, 12, 123, 1234]\n",
    "a[0:2] =  []\n",
    "#자리를 잡아주고 그자리에 공백리스트 추가\n",
    "\n",
    "print(a)"
   ]
  },
  {
   "cell_type": "code",
   "execution_count": 25,
   "metadata": {
    "collapsed": false
   },
   "outputs": [
    {
     "name": "stdout",
     "output_type": "stream",
     "text": [
      "[123, 'spam', 'ham', 1234]\n",
      "[123, 'spam', 'ham']\n",
      "[123, 'spam', 'ham', 1234, 123, 'spam', 'ham', 1234]\n"
     ]
    }
   ],
   "source": [
    "a = [123, 1234]\n",
    "a[1:1] = ['spam', 'ham']  #[1:1]->1의 자리에 1을 포함하지 않는다는 의미 (추가만 됨)\n",
    "print(a)\n",
    "\n",
    "b = [123, 1234]\n",
    "b[1:2] = ['spam','ham']\n",
    "print(b)\n",
    "\n",
    "a[0:0] = a  #리스트 맨 앞에 자기 자신을 삽입\n",
    "print(a)"
   ]
  },
  {
   "cell_type": "code",
   "execution_count": 27,
   "metadata": {
    "collapsed": false
   },
   "outputs": [
    {
     "name": "stdout",
     "output_type": "stream",
     "text": [
      "[2, 3, 4]\n",
      "[2]\n"
     ]
    }
   ],
   "source": [
    "a = [1,2,3,4]\n",
    "del(a[0])\n",
    "print(a)\n",
    "\n",
    "del(a[1:])\n",
    "print(a)"
   ]
  },
  {
   "cell_type": "code",
   "execution_count": 30,
   "metadata": {
    "collapsed": false
   },
   "outputs": [
    {
     "name": "stdout",
     "output_type": "stream",
     "text": [
      "[0, 1, 2, 3]\n",
      "[0, 2]\n",
      "[1, 3]\n"
     ]
    }
   ],
   "source": [
    "a = list(range(4))\n",
    "print(a)\n",
    "print(a[::2])\n",
    "\n",
    "del(a[::2])\n",
    "print(a)"
   ]
  },
  {
   "cell_type": "code",
   "execution_count": 32,
   "metadata": {
    "collapsed": false
   },
   "outputs": [
    {
     "ename": "NameError",
     "evalue": "name 'a' is not defined",
     "output_type": "error",
     "traceback": [
      "\u001b[0;31m---------------------------------------------------------------------------\u001b[0m",
      "\u001b[0;31mNameError\u001b[0m                                 Traceback (most recent call last)",
      "\u001b[0;32m<ipython-input-32-a33b0232c66f>\u001b[0m in \u001b[0;36m<module>\u001b[0;34m()\u001b[0m\n\u001b[1;32m      1\u001b[0m \u001b[0ma\u001b[0m \u001b[1;33m=\u001b[0m \u001b[0mlist\u001b[0m\u001b[1;33m(\u001b[0m\u001b[0mrange\u001b[0m\u001b[1;33m(\u001b[0m\u001b[1;36m5\u001b[0m\u001b[1;33m)\u001b[0m\u001b[1;33m)\u001b[0m\u001b[1;33m\u001b[0m\u001b[0m\n\u001b[1;32m      2\u001b[0m \u001b[1;32mdel\u001b[0m\u001b[1;33m(\u001b[0m\u001b[0ma\u001b[0m\u001b[1;33m)\u001b[0m                      \u001b[1;31m#리스트 삭제되는 것이 아니라 레퍼런스 삭제\u001b[0m\u001b[1;33m\u001b[0m\u001b[0m\n\u001b[0;32m----> 3\u001b[0;31m \u001b[0mprint\u001b[0m\u001b[1;33m(\u001b[0m\u001b[0ma\u001b[0m\u001b[1;33m)\u001b[0m\u001b[1;33m\u001b[0m\u001b[0m\n\u001b[0m",
      "\u001b[0;31mNameError\u001b[0m: name 'a' is not defined"
     ]
    }
   ],
   "source": [
    "a = list(range(5))\n",
    "del(a)                      #리스트 삭제되는 것이 아니라 레퍼런스 삭제\n",
    "print(a)"
   ]
  },
  {
   "cell_type": "markdown",
   "metadata": {},
   "source": [
    "#### 중첩 리스트"
   ]
  },
  {
   "cell_type": "code",
   "execution_count": 37,
   "metadata": {
    "collapsed": false
   },
   "outputs": [
    {
     "name": "stdout",
     "output_type": "stream",
     "text": [
      "['begin', [1, 2, 3], 'end']\n",
      "2\n"
     ]
    }
   ],
   "source": [
    "s = [1,2,3]\n",
    "t = ['begin', s, 'end']\n",
    "print(t)\n",
    "\n",
    "print(t[1][1])  #t[1] == s"
   ]
  },
  {
   "cell_type": "code",
   "execution_count": 39,
   "metadata": {
    "collapsed": false
   },
   "outputs": [
    {
     "name": "stdout",
     "output_type": "stream",
     "text": [
      "['begin', [1, 100, 3], 'end']\n"
     ]
    }
   ],
   "source": [
    "s[1] = 100\n",
    "print(t)"
   ]
  },
  {
   "cell_type": "code",
   "execution_count": 41,
   "metadata": {
    "collapsed": false
   },
   "outputs": [
    {
     "name": "stdout",
     "output_type": "stream",
     "text": [
      "1\n",
      "['a', ['x', 'y'], 'b']\n",
      "['x', 'y']\n",
      "y\n"
     ]
    }
   ],
   "source": [
    "L = [1, ['a',['x','y'],'b'],3]\n",
    "print(L[0])\n",
    "print(L[1])\n",
    "print(L[1][1])\n",
    "print(L[1][1][1])"
   ]
  },
  {
   "cell_type": "code",
   "execution_count": 43,
   "metadata": {
    "collapsed": false
   },
   "outputs": [
    {
     "name": "stdout",
     "output_type": "stream",
     "text": [
      "[0, 1, 2, 3, 4, 5, 6, 7, 8, 9]\n",
      "[5, 6, 7, 8, 9, 10, 11, 12, 13, 14]\n",
      "[5, 7, 9, 11, 13]\n"
     ]
    }
   ],
   "source": [
    "print(list(range(10)))\n",
    "\n",
    "print(list(range(5,15)))\n",
    "\n",
    "print(list(range(5,15,2)))"
   ]
  },
  {
   "cell_type": "code",
   "execution_count": 44,
   "metadata": {
    "collapsed": false
   },
   "outputs": [
    {
     "name": "stdout",
     "output_type": "stream",
     "text": [
      "0 inch = 0.0 centi\n",
      "1 inch = 2.54 centi\n",
      "2 inch = 5.08 centi\n",
      "3 inch = 7.62 centi\n",
      "4 inch = 10.16 centi\n",
      "5 inch = 12.7 centi\n",
      "6 inch = 15.24 centi\n",
      "7 inch = 17.78 centi\n",
      "8 inch = 20.32 centi\n",
      "9 inch = 22.86 centi\n"
     ]
    }
   ],
   "source": [
    "for el in range(10):\n",
    "    print(el, 'inch =', el * 2.54, 'centi')"
   ]
  },
  {
   "cell_type": "code",
   "execution_count": 45,
   "metadata": {
    "collapsed": false
   },
   "outputs": [
    {
     "name": "stdout",
     "output_type": "stream",
     "text": [
      "0 1 2 3 4 5 6\n"
     ]
    }
   ],
   "source": [
    "sun, mon, tue, wed, thu, fri, sat = range(7)\n",
    "print(sun, mon, tue, wed, thu, fri, sat)"
   ]
  },
  {
   "cell_type": "code",
   "execution_count": 47,
   "metadata": {
    "collapsed": false
   },
   "outputs": [
    {
     "name": "stdout",
     "output_type": "stream",
     "text": [
      "name = one ,num = 1\n",
      "name = two ,num = 2\n",
      "name = three ,num = 3\n"
     ]
    }
   ],
   "source": [
    "lt = [('one',1),('two',2),('three',3)]\n",
    "for t in lt:\n",
    "    print( 'name =', t[0],',num =', t[1])\n"
   ]
  },
  {
   "cell_type": "code",
   "execution_count": 51,
   "metadata": {
    "collapsed": false
   },
   "outputs": [
    {
     "name": "stdout",
     "output_type": "stream",
     "text": [
      "name = one, num = 1\n",
      "name = two, num = 2\n",
      "name = three, num = 3\n"
     ]
    }
   ],
   "source": [
    "lt = [('one',1),('two',2),('three',3)]\n",
    "for t in lt:\n",
    "    print( 'name = %s, num = %s' %t)  #문자열 포맷팅\n"
   ]
  },
  {
   "cell_type": "code",
   "execution_count": 57,
   "metadata": {
    "collapsed": false
   },
   "outputs": [
    {
     "name": "stdout",
     "output_type": "stream",
     "text": [
      "one 1\n",
      "two 2\n",
      "three 3\n"
     ]
    }
   ],
   "source": [
    "LL = [['one',1],['two',2],['three',3]]\n",
    "for name, num in LL:\n",
    "    print( name, num )"
   ]
  },
  {
   "cell_type": "markdown",
   "metadata": {},
   "source": [
    "### 리스트 메소드"
   ]
  },
  {
   "cell_type": "code",
   "execution_count": 63,
   "metadata": {
    "collapsed": false
   },
   "outputs": [
    {
     "name": "stdout",
     "output_type": "stream",
     "text": [
      "[1, 2, 3, 5]\n",
      "[1, 2, 3, 5, 'abc', (1, 2), {'a': 100}]\n",
      "[1, 2, 3, 4, 5, 'abc', (1, 2), {'a': 100}]\n",
      "['abcd', 1, 2, 3, 4, 5, 'abc', (1, 2), {'a': 100}]\n"
     ]
    }
   ],
   "source": [
    "s = [1,2,3]\n",
    "\n",
    "s.append(5)\n",
    "print(s)\n",
    "s.append(\"abc\")\n",
    "s.append((1,2))\n",
    "s.append({'a': 100})\n",
    "print(s)\n",
    "\n",
    "s.insert(3,4)\n",
    "print(s)\n",
    "\n",
    "s.insert(0,\"abcd\")\n",
    "print(s)"
   ]
  },
  {
   "cell_type": "code",
   "execution_count": 75,
   "metadata": {
    "collapsed": false
   },
   "outputs": [
    {
     "name": "stdout",
     "output_type": "stream",
     "text": [
      "2\n",
      "[1, 2, 3, 4, 5, 'abc']\n",
      "5\n",
      "1\n",
      "5\n"
     ]
    }
   ],
   "source": [
    "s = [1,2,3,4,5]\n",
    "\n",
    "print(s.index(3))   #값 3의 인덱스 반환\n",
    "s. append(\"abc\")\n",
    "print(s)\n",
    "print(s.index(\"abc\"))\n",
    "      \n",
    "print(s.count(2))\n",
    "\n",
    "s = [1, 2, 2, 2, 2, 2, 3, 4, 5]\n",
    "print(s.count(2))"
   ]
  },
  {
   "cell_type": "code",
   "execution_count": 77,
   "metadata": {
    "collapsed": false
   },
   "outputs": [
    {
     "name": "stdout",
     "output_type": "stream",
     "text": [
      "[100, -7, -10, 2, 1]\n",
      "[-10, -7, 1, 2, 100]\n"
     ]
    }
   ],
   "source": [
    "s = [1,2, -10, -7, 100]\n",
    "s.reverse()\n",
    "print(s)\n",
    "\n",
    "s.sort()  # 정렬(반환값 없음)\n",
    "print(s)"
   ]
  },
  {
   "cell_type": "code",
   "execution_count": 79,
   "metadata": {
    "collapsed": false
   },
   "outputs": [
    {
     "name": "stdout",
     "output_type": "stream",
     "text": [
      "[20, 30, 40, 50]\n",
      "[10, 30, 20, 40, 50]\n",
      "[10, 30, 20, 40, 50, 60, 70]\n",
      "[10, 30, 20, 40, 50, 60, 70, [60, 70]]\n"
     ]
    }
   ],
   "source": [
    "s = [10, 20, 30, 40, 50]\n",
    "s.remove(10)\n",
    "print(s)\n",
    "\n",
    "s = [10, 20, 30, 20, 40, 50] \n",
    "s.remove(20)      #첫번째 값만 추가\n",
    "print(s)\n",
    "\n",
    "s.extend([60,70])  #extend -> 값을 그대로 리스트에 추가(리스트 확장)\n",
    "print(s)\n",
    "\n",
    "s.append([60,70])  #리스트 추가\n",
    "print(s)"
   ]
  },
  {
   "cell_type": "code",
   "execution_count": 82,
   "metadata": {
    "collapsed": false
   },
   "outputs": [
    {
     "name": "stdout",
     "output_type": "stream",
     "text": [
      "[10, 20, 30, 40, 50, 60]\n",
      "60\n",
      "[10, 20, 30, 40, 50]\n"
     ]
    }
   ],
   "source": [
    "s = [10, 20, 30, 40, 50]  #스택\n",
    "s.append(60)\n",
    "print(s)\n",
    "\n",
    "print(s.pop())\n",
    "\n",
    "print(s)"
   ]
  },
  {
   "cell_type": "code",
   "execution_count": 83,
   "metadata": {
    "collapsed": false
   },
   "outputs": [
    {
     "name": "stdout",
     "output_type": "stream",
     "text": [
      "10\n",
      "[20, 30, 40, 50]\n",
      "30\n",
      "[20, 40, 50]\n"
     ]
    }
   ],
   "source": [
    "s = [10, 20, 30, 40, 50]\n",
    "print(s.pop(0))  #0번째 인덱스 꺼냄\n",
    "\n",
    "print(s)\n",
    "\n",
    "print(s.pop(1))\n",
    "\n",
    "print(s)"
   ]
  },
  {
   "cell_type": "code",
   "execution_count": 87,
   "metadata": {
    "collapsed": false
   },
   "outputs": [
    {
     "name": "stdout",
     "output_type": "stream",
     "text": [
      "10\n",
      "[20, 30, 40, 50, 60]\n"
     ]
    }
   ],
   "source": [
    "q = [10, 20, 30, 40, 50]  #큐:먼저 들어오는 것은 먼저, 마지막에 들어온 것은 마지막에 나감\n",
    "q.append(60)\n",
    "print(q.pop(0))\n",
    "\n",
    "print(q)"
   ]
  },
  {
   "cell_type": "code",
   "execution_count": null,
   "metadata": {
    "collapsed": true
   },
   "outputs": [],
   "source": []
  },
  {
   "cell_type": "code",
   "execution_count": 113,
   "metadata": {
    "collapsed": false
   },
   "outputs": [
    {
     "name": "stdout",
     "output_type": "stream",
     "text": [
      "[1, 2, 3, 4, 5, 6, 7, 8, 9, 10]\n"
     ]
    }
   ],
   "source": [
    "s = list(range(1,11))\n",
    "print(s)"
   ]
  },
  {
   "cell_type": "code",
   "execution_count": 114,
   "metadata": {
    "collapsed": false
   },
   "outputs": [
    {
     "name": "stdout",
     "output_type": "stream",
     "text": [
      "[0, 1, 2, 3]\n"
     ]
    }
   ],
   "source": [
    "element  = list(range(4))\n",
    "print(element)"
   ]
  },
  {
   "cell_type": "code",
   "execution_count": 115,
   "metadata": {
    "collapsed": false
   },
   "outputs": [
    {
     "name": "stdout",
     "output_type": "stream",
     "text": [
      "10\n",
      "9\n",
      "8\n",
      "7\n",
      "[1, 2, 3, 4, 5, 6]\n"
     ]
    }
   ],
   "source": [
    "for i in element:\n",
    "    print(s.pop())\n",
    "print(s)"
   ]
  },
  {
   "cell_type": "markdown",
   "metadata": {},
   "source": [
    "### ---------------------------------------------------"
   ]
  },
  {
   "cell_type": "markdown",
   "metadata": {},
   "source": [
    "### 리스트의 활용"
   ]
  },
  {
   "cell_type": "code",
   "execution_count": 123,
   "metadata": {
    "collapsed": false
   },
   "outputs": [
    {
     "name": "stdout",
     "output_type": "stream",
     "text": [
      "None\n",
      "[1, 2, 3, 5, 5, 6, 7]\n",
      "None\n",
      "[7, 6, 5, 5, 3, 2, 1]\n"
     ]
    }
   ],
   "source": [
    "L = [1,5,2,7,5,6,3]\n",
    "print(L.sort())\n",
    "print(L)              #리스트자체를 변경\n",
    "print(L.reverse())\n",
    "print(L)"
   ]
  },
  {
   "cell_type": "code",
   "execution_count": 126,
   "metadata": {
    "collapsed": false
   },
   "outputs": [
    {
     "name": "stdout",
     "output_type": "stream",
     "text": [
      "[('jung', 10, 36), ('kim', 3, 28), ('lee', 5, 38)]\n"
     ]
    }
   ],
   "source": [
    "L = [('lee',5,38),('kim',3, 28),('jung',10,36)]\n",
    "L.sort()\n",
    "print(L)"
   ]
  },
  {
   "cell_type": "code",
   "execution_count": 128,
   "metadata": {
    "collapsed": false
   },
   "outputs": [
    {
     "name": "stdout",
     "output_type": "stream",
     "text": [
      "[9, 8, 6, 6, 3, 2, 1]\n"
     ]
    }
   ],
   "source": [
    "L = [1,6,3,8,6,2,9]\n",
    "L.sort(reverse = True)  #reverse 디폴트값 false\n",
    "print(L)"
   ]
  },
  {
   "cell_type": "code",
   "execution_count": 133,
   "metadata": {
    "collapsed": false
   },
   "outputs": [
    {
     "name": "stdout",
     "output_type": "stream",
     "text": [
      "['123', '2345', '34', '56']\n",
      "['34', '56', '123', '2345']\n"
     ]
    }
   ],
   "source": [
    "L = ['123', '34','56','2345']\n",
    "L.sort()\n",
    "print(L)\n",
    "\n",
    "L.sort(key=int)  #숫자열 비교\n",
    "print(L)"
   ]
  },
  {
   "cell_type": "code",
   "execution_count": 134,
   "metadata": {
    "collapsed": false
   },
   "outputs": [
    {
     "name": "stdout",
     "output_type": "stream",
     "text": [
      "123\n",
      "<class 'int'>\n"
     ]
    }
   ],
   "source": [
    "a = int('123')   #int는 문자열을 정수로 바꿔주는 내장함수\n",
    "print(a)\n",
    "print(type(a))"
   ]
  },
  {
   "cell_type": "code",
   "execution_count": 136,
   "metadata": {
    "collapsed": false
   },
   "outputs": [
    {
     "name": "stdout",
     "output_type": "stream",
     "text": [
      "[1, 2, 3, 6, 6, 8, 9]\n",
      "[1, 6, 3, 8, 6, 2, 9]\n"
     ]
    }
   ],
   "source": [
    "L  = [1,6,3,8,6,2,9]\n",
    "newList = sorted(L)    #sorted는 새로운 리스트를 반환\n",
    "print(newList)\n",
    "print(L)"
   ]
  },
  {
   "cell_type": "code",
   "execution_count": 141,
   "metadata": {
    "collapsed": false
   },
   "outputs": [
    {
     "name": "stdout",
     "output_type": "stream",
     "text": [
      "1 2 3 6 6 8 9 "
     ]
    }
   ],
   "source": [
    "for ele in sorted(L):\n",
    "    print(ele ,end=\" \")"
   ]
  },
  {
   "cell_type": "code",
   "execution_count": 142,
   "metadata": {
    "collapsed": false
   },
   "outputs": [
    {
     "name": "stdout",
     "output_type": "stream",
     "text": [
      "[9, 8, 6, 6, 3, 2, 1]\n",
      "['34', '56', '123', '2345']\n",
      "['123', '34', '56', '2345']\n"
     ]
    }
   ],
   "source": [
    "L = [1,6,3,8,6,2,9]\n",
    "print(sorted(L, reverse=True))\n",
    "\n",
    "L = ['123','34','56','2345']\n",
    "print(sorted(L, key=int))\n",
    "print(L)"
   ]
  },
  {
   "cell_type": "code",
   "execution_count": 145,
   "metadata": {
    "collapsed": false
   },
   "outputs": [
    {
     "name": "stdout",
     "output_type": "stream",
     "text": [
      "[9, 2, 6, 8, 3, 6, 1]\n"
     ]
    }
   ],
   "source": [
    "L = [1,6,3,8,6,2,9]\n",
    "L.reverse()          #반환값 없음\n",
    "print(L)"
   ]
  },
  {
   "cell_type": "code",
   "execution_count": 147,
   "metadata": {
    "collapsed": false
   },
   "outputs": [
    {
     "name": "stdout",
     "output_type": "stream",
     "text": [
      "11,  4,  8,  10,  5,  8,  3,  \n",
      "[1, 6, 3, 8, 6, 2, 9]\n"
     ]
    }
   ],
   "source": [
    "L = [1,6,3,8,6,2,9]\n",
    "L.reverse()\n",
    "for ele in L:\n",
    "    print(ele+2 ,end = \",  \")\n",
    "    \n",
    "print()\n",
    "L.reverse()\n",
    "print(L)\n"
   ]
  },
  {
   "cell_type": "code",
   "execution_count": 149,
   "metadata": {
    "collapsed": false
   },
   "outputs": [
    {
     "name": "stdout",
     "output_type": "stream",
     "text": [
      "[1, 6, 3, 8, 6, 2, 9]\n",
      "11 4 8 10 5 8 3 \n",
      "[1, 6, 3, 8, 6, 2, 9]\n"
     ]
    }
   ],
   "source": [
    "L = [1,6,3,8,6,2,9]\n",
    "print(L)\n",
    "for ele in reversed(L):   #새로운 객체 반환\n",
    "    print(ele + 2, end=\" \")\n",
    "print()\n",
    "print(L)"
   ]
  },
  {
   "cell_type": "markdown",
   "metadata": {},
   "source": [
    "### 리스트 내포"
   ]
  },
  {
   "cell_type": "code",
   "execution_count": 151,
   "metadata": {
    "collapsed": false
   },
   "outputs": [
    {
     "name": "stdout",
     "output_type": "stream",
     "text": [
      "[0, 1, 4, 9, 16, 25, 36, 49, 64, 81]\n"
     ]
    }
   ],
   "source": [
    "L = []\n",
    "for k in range(10):\n",
    "    L.append(k*k)\n",
    "    \n",
    "print(L)"
   ]
  },
  {
   "cell_type": "code",
   "execution_count": 154,
   "metadata": {
    "collapsed": false
   },
   "outputs": [
    {
     "name": "stdout",
     "output_type": "stream",
     "text": [
      "[0, 1, 4, 9, 16, 25, 36, 49, 64, 81]\n"
     ]
    }
   ],
   "source": [
    "L = [ k * k for k in range(10)]  #표현식 for 변수 in 반복할 리스트(컨테이너 객체)\n",
    "print(L)"
   ]
  },
  {
   "cell_type": "code",
   "execution_count": 157,
   "metadata": {
    "collapsed": false
   },
   "outputs": [
    {
     "name": "stdout",
     "output_type": "stream",
     "text": [
      "[1, 9, 25, 49, 81]\n"
     ]
    }
   ],
   "source": [
    "L = [ k * k for k in range(10) if  k % 2]  # k%2가 0이면 거짓이므로 홀수만 제곱됨\n",
    "print(L)"
   ]
  },
  {
   "cell_type": "code",
   "execution_count": 159,
   "metadata": {
    "collapsed": false
   },
   "outputs": [
    {
     "name": "stdout",
     "output_type": "stream",
     "text": [
      "[1, 9, 25, 49, 81]\n"
     ]
    }
   ],
   "source": [
    "L = []\n",
    "for k in range(10):\n",
    "    if k % 2:\n",
    "        L.append(k * k)\n",
    "print(L)"
   ]
  },
  {
   "cell_type": "markdown",
   "metadata": {},
   "source": [
    "- 20보다 작은 2의 배수와 3의 배수에 대해 그 두 수의 합이 7의 배수인 것들에 대해 그 두 수의 곱을 출력하는 코드 "
   ]
  },
  {
   "cell_type": "code",
   "execution_count": 161,
   "metadata": {
    "collapsed": false
   },
   "outputs": [
    {
     "name": "stdout",
     "output_type": "stream",
     "text": [
      "[(2, 12, 24), (4, 3, 12), (6, 15, 90), (8, 6, 48), (10, 18, 180), (12, 9, 108), (16, 12, 192), (18, 3, 54)]\n"
     ]
    }
   ],
   "source": [
    "L = [(i, j, i*j) for i in range(2,20,2) for j in range(3,20,3) if (i + j) % 7 == 0 ]\n",
    "print(L)"
   ]
  },
  {
   "cell_type": "code",
   "execution_count": 163,
   "metadata": {
    "collapsed": false
   },
   "outputs": [
    {
     "name": "stdout",
     "output_type": "stream",
     "text": [
      "[('a', 1), ('a', 2), ('a', 3), ('b', 1), ('b', 2), ('b', 3), ('c', 1), ('c', 2), ('c', 3)]\n"
     ]
    }
   ],
   "source": [
    "seq1 = 'abc'\n",
    "seq2 = (1,2,3)\n",
    "print([(x,y) for x in seq1 for y in seq2])"
   ]
  },
  {
   "cell_type": "code",
   "execution_count": 167,
   "metadata": {
    "collapsed": false
   },
   "outputs": [
    {
     "name": "stdout",
     "output_type": "stream",
     "text": [
      "['The', 'quick', 'brown', 'fox', 'jumps', 'over', 'the', 'lazy', 'dog']\n",
      "\n",
      "[['THE', 'the', 3], ['QUICK', 'quick', 5], ['BROWN', 'brown', 5], ['FOX', 'fox', 3], ['JUMPS', 'jumps', 5], ['OVER', 'over', 4], ['THE', 'the', 3], ['LAZY', 'lazy', 4], ['DOG', 'dog', 3]]\n",
      "\n",
      "['THE', 'the', 3]\n",
      "['QUICK', 'quick', 5]\n",
      "['BROWN', 'brown', 5]\n",
      "['FOX', 'fox', 3]\n",
      "['JUMPS', 'jumps', 5]\n",
      "['OVER', 'over', 4]\n",
      "['THE', 'the', 3]\n",
      "['LAZY', 'lazy', 4]\n",
      "['DOG', 'dog', 3]\n"
     ]
    }
   ],
   "source": [
    "words = \"The quick brown fox jumps over the lazy dog\".split()\n",
    "print(words)\n",
    "print()\n",
    "\n",
    "stuff = [[w.upper(), w.lower(), len(w)] for w in words]\n",
    "print(stuff)\n",
    "print()\n",
    "for i in stuff:\n",
    "    print(i)"
   ]
  },
  {
   "cell_type": "code",
   "execution_count": null,
   "metadata": {
    "collapsed": true
   },
   "outputs": [],
   "source": []
  },
  {
   "cell_type": "code",
   "execution_count": null,
   "metadata": {
    "collapsed": true
   },
   "outputs": [],
   "source": []
  },
  {
   "cell_type": "code",
   "execution_count": null,
   "metadata": {
    "collapsed": true
   },
   "outputs": [],
   "source": []
  },
  {
   "cell_type": "code",
   "execution_count": null,
   "metadata": {
    "collapsed": true
   },
   "outputs": [],
   "source": []
  },
  {
   "cell_type": "code",
   "execution_count": null,
   "metadata": {
    "collapsed": true
   },
   "outputs": [],
   "source": []
  },
  {
   "cell_type": "code",
   "execution_count": null,
   "metadata": {
    "collapsed": true
   },
   "outputs": [],
   "source": []
  },
  {
   "cell_type": "code",
   "execution_count": null,
   "metadata": {
    "collapsed": true
   },
   "outputs": [],
   "source": []
  }
 ],
 "metadata": {
  "kernelspec": {
   "display_name": "Python 3",
   "language": "python",
   "name": "python3"
  },
  "language_info": {
   "codemirror_mode": {
    "name": "ipython",
    "version": 3
   },
   "file_extension": ".py",
   "mimetype": "text/x-python",
   "name": "python",
   "nbconvert_exporter": "python",
   "pygments_lexer": "ipython3",
   "version": "3.6.0"
  }
 },
 "nbformat": 4,
 "nbformat_minor": 2
}
