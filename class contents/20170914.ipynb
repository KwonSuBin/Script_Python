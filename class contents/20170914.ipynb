{
 "cells": [
  {
   "cell_type": "code",
   "execution_count": 3,
   "metadata": {
    "collapsed": false
   },
   "outputs": [
    {
     "name": "stdout",
     "output_type": "stream",
     "text": [
      "<class 'int'>\n",
      "<class 'int'>\n",
      "<class 'int'>\n",
      "3\n",
      "19\n",
      "35\n"
     ]
    }
   ],
   "source": [
    "a = 3     #10진 정수\n",
    "b = 0o23  #8진 정수\n",
    "c = 0x23  #16진 정수\n",
    "print(type(a))\n",
    "print(type(b))\n",
    "print(type(c))\n",
    "print(a)\n",
    "print(b)\n",
    "print(c)"
   ]
  },
  {
   "cell_type": "code",
   "execution_count": 1,
   "metadata": {
    "collapsed": false
   },
   "outputs": [
    {
     "name": "stdout",
     "output_type": "stream",
     "text": [
      "9223372036854775807\n"
     ]
    }
   ],
   "source": [
    "import sys\n",
    "print(sys.maxsize)"
   ]
  },
  {
   "cell_type": "code",
   "execution_count": 4,
   "metadata": {
    "collapsed": false
   },
   "outputs": [
    {
     "name": "stdout",
     "output_type": "stream",
     "text": [
      "<class 'float'>\n",
      "<class 'float'>\n",
      "<class 'float'>\n",
      "1.2\n",
      "3500.0\n",
      "-2e-05\n"
     ]
    }
   ],
   "source": [
    "a = 1.2\n",
    "b = 3.5e3\n",
    "c = -0.2e-4\n",
    "print(type(a))\n",
    "print(type(b))\n",
    "print(type(c))\n",
    "print(a)\n",
    "print(b)\n",
    "print(c)"
   ]
  },
  {
   "cell_type": "code",
   "execution_count": 8,
   "metadata": {
    "collapsed": false
   },
   "outputs": [
    {
     "name": "stdout",
     "output_type": "stream",
     "text": [
      "<class 'int'>\n",
      "15241578780673678546105778393677795353858699592364693937599705837500940989483146142191129\n",
      "<class 'int'>\n"
     ]
    }
   ],
   "source": [
    "#long형 범위 무제한(메모리가 허용하는 한)\n",
    "h1 = 123456789123456789123456789456123456789456123\n",
    "print(type(h1))\n",
    "print(h1*h1)\n",
    "#maxint를 넘으면 자동으로 long형\n",
    "h3 = 12\n",
    "print((type(h3)))\n",
    "#수가 작아도 L을 붙이면 long형\n",
    "\n",
    "#????float가 안나옴?"
   ]
  },
  {
   "cell_type": "code",
   "execution_count": 11,
   "metadata": {
    "collapsed": false
   },
   "outputs": [
    {
     "name": "stdout",
     "output_type": "stream",
     "text": [
      "(10+20j)\n",
      "(10+5j)\n"
     ]
    },
    {
     "data": {
      "text/plain": [
       "(20+25j)"
      ]
     },
     "execution_count": 11,
     "metadata": {},
     "output_type": "execute_result"
    }
   ],
   "source": [
    "a = 10 + 20j\n",
    "print(a)\n",
    "\n",
    "b = 10 + 5j\n",
    "print(b)\n",
    "\n",
    "a + b"
   ]
  },
  {
   "cell_type": "code",
   "execution_count": 14,
   "metadata": {
    "collapsed": false
   },
   "outputs": [
    {
     "name": "stdout",
     "output_type": "stream",
     "text": [
      "2\n",
      "3\n",
      "-3\n",
      "5.0\n",
      "(3.4+5j)\n",
      "(6+0j)\n"
     ]
    }
   ],
   "source": [
    "print(abs(-2))\n",
    "print(int(3.2345))\n",
    "print(int(-3.35452))\n",
    "print(float(5))\n",
    "print(complex(3.4,5))\n",
    "print(complex(6))\n",
    "\n",
    "#자료형은 int와 float만 있음\n"
   ]
  },
  {
   "cell_type": "code",
   "execution_count": 16,
   "metadata": {
    "collapsed": false
   },
   "outputs": [
    {
     "name": "stdout",
     "output_type": "stream",
     "text": [
      "(2, 1)\n",
      "\n",
      "8\n",
      "2.3 3.5\n"
     ]
    }
   ],
   "source": [
    "print(divmod(5,2))   #토플 자료형 반환\n",
    "print()\n",
    "print(pow(2,3))\n",
    "print(2.3, 3.5)"
   ]
  },
  {
   "cell_type": "code",
   "execution_count": 17,
   "metadata": {
    "collapsed": false
   },
   "outputs": [
    {
     "name": "stdout",
     "output_type": "stream",
     "text": [
      "3.141592653589793\n",
      "2.718281828459045\n",
      "0.8414709848078965\n",
      "1.4142135623730951\n"
     ]
    }
   ],
   "source": [
    "import math\n",
    "\n",
    "print(math.pi)\n",
    "print(math.e)\n",
    "print(math.sin(1.0))\n",
    "print(math.sqrt(2))  #제곱근"
   ]
  },
  {
   "cell_type": "code",
   "execution_count": 18,
   "metadata": {
    "collapsed": false
   },
   "outputs": [
    {
     "name": "stdout",
     "output_type": "stream",
     "text": [
      "0.8660254037844386 0.5000000000000001 1.7320508075688767\n"
     ]
    }
   ],
   "source": [
    "r = 5.0\n",
    "a = math.pi * r * r\n",
    "\n",
    "degree = 60.0\n",
    "rad = math.pi * degree / 180.0  #각도를 라디안으로 변환\n",
    "print(math.sin(rad), math.cos(rad), math.tan(rad))\n"
   ]
  },
  {
   "cell_type": "markdown",
   "metadata": {},
   "source": [
    "## 문자열"
   ]
  },
  {
   "cell_type": "code",
   "execution_count": 21,
   "metadata": {
    "collapsed": false
   },
   "outputs": [
    {
     "name": "stdout",
     "output_type": "stream",
     "text": [
      "Hello World\n"
     ]
    }
   ],
   "source": [
    "print(\"Hello World\")"
   ]
  },
  {
   "cell_type": "code",
   "execution_count": 24,
   "metadata": {
    "collapsed": false
   },
   "outputs": [
    {
     "name": "stdout",
     "output_type": "stream",
     "text": [
      "Hello \"World\"\n",
      "Hello 'World'\n"
     ]
    }
   ],
   "source": [
    "print('Hello \"World\"')\n",
    "print(\"Hello 'World'\")"
   ]
  },
  {
   "cell_type": "code",
   "execution_count": 27,
   "metadata": {
    "collapsed": false
   },
   "outputs": [
    {
     "name": "stdout",
     "output_type": "stream",
     "text": [
      "\n",
      "To be, or not to be\n",
      "that is the question\n",
      "\n",
      "\n",
      "To be, or not to be\n",
      "that is the question\n",
      "\n"
     ]
    }
   ],
   "source": [
    "multline = '''\n",
    "To be, or not to be\n",
    "that is the question\n",
    "'''\n",
    "\n",
    "print(multline)\n",
    "\n",
    "multline = \"\"\"\n",
    "To be, or not to be\n",
    "that is the question\n",
    "\"\"\"\n",
    "\n",
    "print(multline)"
   ]
  },
  {
   "cell_type": "code",
   "execution_count": 29,
   "metadata": {
    "collapsed": false,
    "scrolled": true
   },
   "outputs": [
    {
     "name": "stdout",
     "output_type": "stream",
     "text": [
      "H\n",
      "e\n",
      "!\n",
      "d\n"
     ]
    }
   ],
   "source": [
    "s = \"Hello World!\"\n",
    "print( s[0])\n",
    "print(s[1])\n",
    "print(s[-1])\n",
    "print(s[-2])"
   ]
  },
  {
   "cell_type": "code",
   "execution_count": 30,
   "metadata": {
    "collapsed": false
   },
   "outputs": [
    {
     "name": "stdout",
     "output_type": "stream",
     "text": [
      "Hel\n",
      "ello\n"
     ]
    }
   ],
   "source": [
    "s = \"Hello World!\"\n",
    "print(s[0:3])\n",
    "print(s[1:5])"
   ]
  },
  {
   "cell_type": "code",
   "execution_count": 32,
   "metadata": {
    "collapsed": false
   },
   "outputs": [
    {
     "name": "stdout",
     "output_type": "stream",
     "text": [
      "ello\n",
      "Hel\n",
      "Hello\n"
     ]
    }
   ],
   "source": [
    "s = 'Hello'    #자료형 크기 5\n",
    "print(s [1:])\n",
    "print(s[:3])\n",
    "print(s[:])"
   ]
  },
  {
   "cell_type": "code",
   "execution_count": 34,
   "metadata": {
    "collapsed": false
   },
   "outputs": [
    {
     "name": "stdout",
     "output_type": "stream",
     "text": [
      "ac\n",
      "dcba\n"
     ]
    }
   ],
   "source": [
    "a = 'abcd'\n",
    "print(a[::2])   #인덱스 차이가 2씩 나도록 슬라이스\n",
    "print(a[::-1])  #문자열을 거꾸로 가져옴"
   ]
  },
  {
   "cell_type": "code",
   "execution_count": 36,
   "metadata": {
    "collapsed": false
   },
   "outputs": [
    {
     "ename": "TypeError",
     "evalue": "'str' object does not support item assignment",
     "output_type": "error",
     "traceback": [
      "\u001b[0;31m---------------------------------------------------------------------------\u001b[0m",
      "\u001b[0;31mTypeError\u001b[0m                                 Traceback (most recent call last)",
      "\u001b[0;32m<ipython-input-36-b9fef8a86277>\u001b[0m in \u001b[0;36m<module>\u001b[0;34m()\u001b[0m\n\u001b[1;32m      1\u001b[0m \u001b[0ms\u001b[0m \u001b[1;33m=\u001b[0m \u001b[1;34m'Hello World'\u001b[0m    \u001b[1;31m#문자열 내의 문자를 바꿀 수 없음\u001b[0m\u001b[1;33m\u001b[0m\u001b[0m\n\u001b[0;32m----> 2\u001b[0;31m \u001b[0ms\u001b[0m\u001b[1;33m[\u001b[0m\u001b[1;36m0\u001b[0m\u001b[1;33m]\u001b[0m \u001b[1;33m=\u001b[0m \u001b[1;34m'h'\u001b[0m\u001b[1;33m\u001b[0m\u001b[0m\n\u001b[0m",
      "\u001b[0;31mTypeError\u001b[0m: 'str' object does not support item assignment"
     ]
    }
   ],
   "source": [
    "s = 'Hello World'    #문자열 내의 문자를 바꿀 수 없음\n",
    "s[0] = 'h'"
   ]
  },
  {
   "cell_type": "code",
   "execution_count": 38,
   "metadata": {
    "collapsed": false
   },
   "outputs": [
    {
     "name": "stdout",
     "output_type": "stream",
     "text": [
      "hello World\n"
     ]
    }
   ],
   "source": [
    "#문자열을 바꾸기 위해서는 슬라이싱을 활용\n",
    "\n",
    "s = 'Hello World'\n",
    "s = 'h' + s[1:]\n",
    "print(s)"
   ]
  },
  {
   "cell_type": "code",
   "execution_count": 39,
   "metadata": {
    "collapsed": false
   },
   "outputs": [
    {
     "name": "stdout",
     "output_type": "stream",
     "text": [
      "Hello World\n",
      "HelloHelloHello\n",
      "--------------------------------------------------\n"
     ]
    }
   ],
   "source": [
    "print('Hello' + ' ' + 'World')   //'+' 는 연결\n",
    "print('Hello' * 3)               //'*'는 반복\n",
    "print( '-' * 50)"
   ]
  },
  {
   "cell_type": "code",
   "execution_count": 40,
   "metadata": {
    "collapsed": false
   },
   "outputs": [
    {
     "data": {
      "text/plain": [
       "11"
      ]
     },
     "execution_count": 40,
     "metadata": {},
     "output_type": "execute_result"
    }
   ],
   "source": [
    "s = 'Hello World'\n",
    "len(s)"
   ]
  },
  {
   "cell_type": "code",
   "execution_count": 41,
   "metadata": {
    "collapsed": false
   },
   "outputs": [
    {
     "name": "stdout",
     "output_type": "stream",
     "text": [
      "True\n",
      "False\n"
     ]
    }
   ],
   "source": [
    "s = 'Hello World'\n",
    "print('World' in s)\n",
    "print('World' not in s)"
   ]
  },
  {
   "cell_type": "markdown",
   "metadata": {},
   "source": [
    "## -----------------------------------------------"
   ]
  },
  {
   "cell_type": "markdown",
   "metadata": {},
   "source": [
    "*** 리스트: 순차적으로 저장 (인덱스 사용)"
   ]
  },
  {
   "cell_type": "code",
   "execution_count": 44,
   "metadata": {
    "collapsed": false
   },
   "outputs": [
    {
     "name": "stdout",
     "output_type": "stream",
     "text": [
      "<class 'list'>\n",
      "\n",
      "3\n",
      "\n",
      "2\n",
      "3\n",
      "[2, 3]\n",
      "\n",
      "[1, 2, 3, 1, 2, 3]\n",
      "[1, 2, 3, 1, 2, 3, 1, 2, 3]\n"
     ]
    }
   ],
   "source": [
    "L = [1,2,3]\n",
    "print(type(L))\n",
    "print()\n",
    "print(len(L))\n",
    "print()\n",
    "print(L[1])\n",
    "print(L[-1])\n",
    "print(L[1:3])\n",
    "print()\n",
    "print(L+L)      #원소를 합쳐 하나의 리스트로\n",
    "print(L*3)"
   ]
  },
  {
   "cell_type": "code",
   "execution_count": 47,
   "metadata": {
    "collapsed": false
   },
   "outputs": [
    {
     "name": "stdout",
     "output_type": "stream",
     "text": [
      "[10, 5, 6]\n"
     ]
    }
   ],
   "source": [
    "#리스트 변경 가능\n",
    "li = [4,5,6]\n",
    "li[0] = 10\n",
    "print(li)"
   ]
  },
  {
   "cell_type": "code",
   "execution_count": 48,
   "metadata": {
    "collapsed": false
   },
   "outputs": [
    {
     "name": "stdout",
     "output_type": "stream",
     "text": [
      "[4, 5, 6]\n"
     ]
    }
   ],
   "source": [
    "li = [1,2,3]\n",
    "li = [4,5,6]\n",
    "print(li)"
   ]
  },
  {
   "cell_type": "code",
   "execution_count": 49,
   "metadata": {
    "collapsed": false
   },
   "outputs": [
    {
     "name": "stdout",
     "output_type": "stream",
     "text": [
      "range(0, 10)\n",
      "range(0, 10, 2)\n",
      "range(9, -1, -1)\n",
      "True\n"
     ]
    }
   ],
   "source": [
    "L = range(10)\n",
    "print(L)\n",
    "print(L[::2])\n",
    "print(L[::-1])\n",
    "print( 4 in L)"
   ]
  },
  {
   "cell_type": "markdown",
   "metadata": {},
   "source": [
    "#### 튜플\n",
    "\n",
    "- 리스트와 유사하지만 변경 불가능\n",
    "- 인덱스 부여"
   ]
  },
  {
   "cell_type": "code",
   "execution_count": 52,
   "metadata": {
    "collapsed": false
   },
   "outputs": [
    {
     "name": "stdout",
     "output_type": "stream",
     "text": [
      "3\n",
      "\n",
      "1\n",
      "3\n",
      "(1, 3)\n",
      "\n",
      "(1, 2, 3, 1, 2, 3, 1, 2, 3)\n",
      "(1, 2, 3, 1, 2, 3, 1, 2, 3)\n",
      "\n",
      "True\n"
     ]
    }
   ],
   "source": [
    "t = (1,2,3)\n",
    "\n",
    "print(len(t))\n",
    "print()\n",
    "print(t[0])\n",
    "print(t[-1])\n",
    "print(t[::2])\n",
    "print()\n",
    "print(t + t + t)\n",
    "print( t * 3)\n",
    "print()\n",
    "print(3 in t)\n"
   ]
  },
  {
   "cell_type": "markdown",
   "metadata": {},
   "source": [
    "### --딕셔너리--\n",
    "- 인덱스는 없으나 키를 이용해 값을 저장\n",
    "- {} 이용, 원소 ,로 구분 :키와 벨류로 쌍을 이룸"
   ]
  },
  {
   "cell_type": "code",
   "execution_count": 54,
   "metadata": {
    "collapsed": false
   },
   "outputs": [
    {
     "name": "stdout",
     "output_type": "stream",
     "text": [
      "hana\n"
     ]
    }
   ],
   "source": [
    "d = {'one': 'hana', 'two' : 'dul' , 'three' : 'set'}\n",
    "print(d['one'])"
   ]
  },
  {
   "cell_type": "code",
   "execution_count": 61,
   "metadata": {
    "collapsed": false
   },
   "outputs": [
    {
     "name": "stdout",
     "output_type": "stream",
     "text": [
      "{'one': 1, 'two': 'dul', 'three': 'set', 'four': 'net'}\n",
      "{'one': 1, 'two': 'dul', 'three': 'set', 'four': 'net'}\n",
      "True\n"
     ]
    }
   ],
   "source": [
    "d['four'] = 'net'\n",
    "print(d)\n",
    "d['one'] = 1   #기존 값 변경\n",
    "print(d)\n",
    "print ('one' in d)"
   ]
  },
  {
   "cell_type": "code",
   "execution_count": 66,
   "metadata": {
    "collapsed": false
   },
   "outputs": [
    {
     "name": "stdout",
     "output_type": "stream",
     "text": [
      "dict_keys(['one', 'two', 'three', 'four'])\n",
      "dict_values([1, 'dul', 'set', 'net'])\n",
      "dict_items([('one', 1), ('two', 'dul'), ('three', 'set'), ('four', 'net')])\n"
     ]
    }
   ],
   "source": [
    "print(d.keys())\n",
    "print(d.values())\n",
    "print(d.items())  #키와 값의 튜플을 리스트로 반환"
   ]
  },
  {
   "cell_type": "code",
   "execution_count": 67,
   "metadata": {
    "collapsed": false
   },
   "outputs": [
    {
     "name": "stdout",
     "output_type": "stream",
     "text": [
      "True\n",
      "True\n",
      "True\n"
     ]
    }
   ],
   "source": [
    "a = 0\n",
    "L = [1,2,3]\n",
    "print(type(a) == type(0))\n",
    "print(type(L) == type([]))\n",
    "print(type(L[0]) == type(0))      "
   ]
  },
  {
   "cell_type": "code",
   "execution_count": 68,
   "metadata": {
    "collapsed": false
   },
   "outputs": [
    {
     "name": "stdout",
     "output_type": "stream",
     "text": [
      "<class 'NoneType'>\n",
      "\n",
      "None\n",
      "<class 'NoneType'>\n"
     ]
    }
   ],
   "source": [
    "print(type(None))  #아무 값도 없다.\n",
    "print()\n",
    "a = None\n",
    "print(a)\n",
    "print(type(a))"
   ]
  },
  {
   "cell_type": "code",
   "execution_count": 70,
   "metadata": {
    "collapsed": false
   },
   "outputs": [
    {
     "name": "stdout",
     "output_type": "stream",
     "text": [
      "2470799957232\n",
      "2470799957232\n",
      "\n",
      "1874180560\n",
      "1874180560\n"
     ]
    }
   ],
   "source": [
    "a = 500\n",
    "b = a\n",
    "print(id(a))\n",
    "print(id(b))    #id() : 객체의 식별자를 반환\n",
    "print()\n",
    "x = 1\n",
    "y = 1\n",
    "print(id(x))\n",
    "print(id(y))"
   ]
  },
  {
   "cell_type": "code",
   "execution_count": 73,
   "metadata": {
    "collapsed": false
   },
   "outputs": [
    {
     "name": "stdout",
     "output_type": "stream",
     "text": [
      "False\n",
      "2470800122056\n",
      "2470800606920\n",
      "False\n"
     ]
    }
   ],
   "source": [
    "c = [1,2,3]\n",
    "d = [1,2,3]\n",
    "print( c is d)\n",
    "print(id(c))\n",
    "print(id(d))\n"
   ]
  },
  {
   "cell_type": "markdown",
   "metadata": {},
   "source": [
    "- == 두 객체의 값이 동일한지?\n",
    "- is 두 객체의 식별자가 동일한지?"
   ]
  },
  {
   "cell_type": "code",
   "execution_count": null,
   "metadata": {
    "collapsed": true
   },
   "outputs": [],
   "source": []
  },
  {
   "cell_type": "code",
   "execution_count": null,
   "metadata": {
    "collapsed": true
   },
   "outputs": [],
   "source": []
  },
  {
   "cell_type": "code",
   "execution_count": null,
   "metadata": {
    "collapsed": true
   },
   "outputs": [],
   "source": []
  },
  {
   "cell_type": "code",
   "execution_count": null,
   "metadata": {
    "collapsed": true
   },
   "outputs": [],
   "source": []
  },
  {
   "cell_type": "code",
   "execution_count": null,
   "metadata": {
    "collapsed": true
   },
   "outputs": [],
   "source": []
  },
  {
   "cell_type": "code",
   "execution_count": null,
   "metadata": {
    "collapsed": true
   },
   "outputs": [],
   "source": []
  }
 ],
 "metadata": {
  "kernelspec": {
   "display_name": "Python 3",
   "language": "python",
   "name": "python3"
  },
  "language_info": {
   "codemirror_mode": {
    "name": "ipython",
    "version": 3
   },
   "file_extension": ".py",
   "mimetype": "text/x-python",
   "name": "python",
   "nbconvert_exporter": "python",
   "pygments_lexer": "ipython3",
   "version": "3.6.0"
  }
 },
 "nbformat": 4,
 "nbformat_minor": 2
}
