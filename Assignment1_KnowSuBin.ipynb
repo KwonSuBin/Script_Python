{
 "cells": [
  {
   "cell_type": "markdown",
   "metadata": {},
   "source": [
    "### 1번 문제\n",
    "- a=\"Hello Python\" 문자열을 Slicing과 연결 연산자 (+)를 사용하여 \"Python Hello\"로 변경하시오.\n",
    "    - [주의] a 변수 자체에 \"Python Hello\" 문자열이 저장되어야 함"
   ]
  },
  {
   "cell_type": "code",
   "execution_count": 1,
   "metadata": {
    "collapsed": true
   },
   "outputs": [],
   "source": [
    "a = \"Hello Python\""
   ]
  },
  {
   "cell_type": "code",
   "execution_count": 2,
   "metadata": {
    "collapsed": false
   },
   "outputs": [
    {
     "data": {
      "text/plain": [
       "'Python Hello'"
      ]
     },
     "execution_count": 2,
     "metadata": {},
     "output_type": "execute_result"
    }
   ],
   "source": [
    "a[6:]+' '+a[:5]"
   ]
  },
  {
   "cell_type": "code",
   "execution_count": 3,
   "metadata": {
    "collapsed": false
   },
   "outputs": [
    {
     "name": "stdout",
     "output_type": "stream",
     "text": [
      "Hello Python\n"
     ]
    }
   ],
   "source": [
    "print(a)"
   ]
  },
  {
   "cell_type": "markdown",
   "metadata": {},
   "source": [
    "문자열 a를 이용하여 슬라이싱한 후 출력한다. \n",
    "\n",
    "슬라이싱을 할 경우에는 문자열에 영향(변화)를 주지 않는다."
   ]
  },
  {
   "cell_type": "markdown",
   "metadata": {},
   "source": [
    "### 2번 문제\n",
    "- b=\"Hello Python World\" 문자열을 Slicing과 연결 연산자 (+)를 사용하여 \"World Python Hello\"로 변경하시오.\n",
    "    - [주의] b 변수 자체에 \"Python Hello\" 문자열이 저장되어야 함"
   ]
  },
  {
   "cell_type": "code",
   "execution_count": 4,
   "metadata": {
    "collapsed": true
   },
   "outputs": [],
   "source": [
    "b = \"Hello Python World\""
   ]
  },
  {
   "cell_type": "code",
   "execution_count": 5,
   "metadata": {
    "collapsed": false
   },
   "outputs": [
    {
     "data": {
      "text/plain": [
       "'World Python Hello'"
      ]
     },
     "execution_count": 5,
     "metadata": {},
     "output_type": "execute_result"
    }
   ],
   "source": [
    "b[13:]+b[5:13]+b[:5]"
   ]
  },
  {
   "cell_type": "code",
   "execution_count": 6,
   "metadata": {
    "collapsed": true
   },
   "outputs": [],
   "source": [
    "b = b[5:13]+b[:5]"
   ]
  },
  {
   "cell_type": "code",
   "execution_count": 7,
   "metadata": {
    "collapsed": false
   },
   "outputs": [
    {
     "name": "stdout",
     "output_type": "stream",
     "text": [
      " Python Hello\n"
     ]
    }
   ],
   "source": [
    "print(b)  "
   ]
  },
  {
   "cell_type": "markdown",
   "metadata": {},
   "source": [
    "1번 문자와 같지만 원래의 문자열이 바뀐다는 점에서 차이가 있다. \n",
    "\n",
    "위와 같이 슬라이싱을 하면 기존의 문자열은 변화가 없기 때문에 문자열 b에 새로운 값을 넣어주었다."
   ]
  },
  {
   "cell_type": "markdown",
   "metadata": {},
   "source": [
    "### 3번 문제\n",
    "- c=\"Hello\"를 \"olleH\"로 변경하시오\n",
    "     - [주의] c 변수 자체에 \"olleH\" 문자열이 저장되어야 함"
   ]
  },
  {
   "cell_type": "code",
   "execution_count": 8,
   "metadata": {
    "collapsed": true
   },
   "outputs": [],
   "source": [
    "c = \"Hello\""
   ]
  },
  {
   "cell_type": "code",
   "execution_count": 9,
   "metadata": {
    "collapsed": false
   },
   "outputs": [],
   "source": [
    "c = c[::-1]"
   ]
  },
  {
   "cell_type": "code",
   "execution_count": 10,
   "metadata": {
    "collapsed": false
   },
   "outputs": [
    {
     "name": "stdout",
     "output_type": "stream",
     "text": [
      "olleH\n"
     ]
    }
   ],
   "source": [
    "print(c)"
   ]
  },
  {
   "cell_type": "markdown",
   "metadata": {},
   "source": [
    "파이썬에서는 문자열을 거꾸로 출력하기 위해서 슬라이싱을 이용하는데 step의 위치에 -1을 넣어주면 된다.\n"
   ]
  },
  {
   "cell_type": "markdown",
   "metadata": {},
   "source": [
    "### 4번 문제\n",
    " - s=\"python\"에 대해 다음 문제를 풀어보시오.\n",
    "    > 1. s[0], s[0][0], s[0][0][0]은 각각 어떤 값이 나오는지 확인하고 그 이유를 나름대로 설명해 보시오.\n",
    "    > 2. s[-100], s[100]은 값이 나오는지 에러가 나오는지 확인하고 그 결과에 대한 이유를 나름대로 설명해 보시오.\n",
    "    > 3. s[-100, 100]은 값이 나오는지 에러가 나오는지 확인하고 그 결과에 대한 이유를 나름대로 설명해 보시오.\n",
    "    > 4. s[1:-1]의 결과를 확인하고 그 결과에 대한 이유를 정확하게 설명하시오.\n",
    "    > 5. s[3:-3]의 결과를 확인하고 그 결과에 대한 이유를 정확하게 설명하시오."
   ]
  },
  {
   "cell_type": "markdown",
   "metadata": {},
   "source": [
    "###### 1번 문제\n",
    " - s[0], s[0][0], s[0][0][0]은 각각 어떤 값이 나오는지 확인하고 그 이유를 나름대로 설명해 보시오."
   ]
  },
  {
   "cell_type": "code",
   "execution_count": 11,
   "metadata": {
    "collapsed": true
   },
   "outputs": [],
   "source": [
    "s = \"python\""
   ]
  },
  {
   "cell_type": "code",
   "execution_count": 12,
   "metadata": {
    "collapsed": false
   },
   "outputs": [
    {
     "data": {
      "text/plain": [
       "'p'"
      ]
     },
     "execution_count": 12,
     "metadata": {},
     "output_type": "execute_result"
    }
   ],
   "source": [
    "s[0]"
   ]
  },
  {
   "cell_type": "code",
   "execution_count": 13,
   "metadata": {
    "collapsed": false
   },
   "outputs": [
    {
     "data": {
      "text/plain": [
       "'p'"
      ]
     },
     "execution_count": 13,
     "metadata": {},
     "output_type": "execute_result"
    }
   ],
   "source": [
    "s[0][0]"
   ]
  },
  {
   "cell_type": "code",
   "execution_count": 14,
   "metadata": {
    "collapsed": false
   },
   "outputs": [
    {
     "data": {
      "text/plain": [
       "'p'"
      ]
     },
     "execution_count": 14,
     "metadata": {},
     "output_type": "execute_result"
    }
   ],
   "source": [
    "s[0][0][0]"
   ]
  },
  {
   "cell_type": "code",
   "execution_count": 15,
   "metadata": {
    "collapsed": false
   },
   "outputs": [
    {
     "ename": "IndexError",
     "evalue": "string index out of range",
     "output_type": "error",
     "traceback": [
      "\u001b[0;31m---------------------------------------------------------------------------\u001b[0m",
      "\u001b[0;31mIndexError\u001b[0m                                Traceback (most recent call last)",
      "\u001b[0;32m<ipython-input-15-276aee3ea271>\u001b[0m in \u001b[0;36m<module>\u001b[0;34m()\u001b[0m\n\u001b[0;32m----> 1\u001b[0;31m \u001b[0ms\u001b[0m\u001b[1;33m[\u001b[0m\u001b[1;36m1\u001b[0m\u001b[1;33m]\u001b[0m\u001b[1;33m[\u001b[0m\u001b[1;36m3\u001b[0m\u001b[1;33m]\u001b[0m\u001b[1;33m[\u001b[0m\u001b[1;36m0\u001b[0m\u001b[1;33m]\u001b[0m\u001b[1;33m\u001b[0m\u001b[0m\n\u001b[0m",
      "\u001b[0;31mIndexError\u001b[0m: string index out of range"
     ]
    }
   ],
   "source": [
    "s[1][3][0]"
   ]
  },
  {
   "cell_type": "markdown",
   "metadata": {
    "collapsed": false
   },
   "source": [
    "s라는 문자열의 s[0]은 당연히 1이다. \n",
    "\n",
    "하지만 s[0][0]은 존재하지 않으므로 범위에 벗어나지만 인덱스의 디폴드값은 0이므로 s[0]과 s[0][0]과 s[0][0][0]는 같다.\n",
    "\n",
    "만약 s의 1차 인덱스 이외에 다른 인덱스의 값을 바꾸어 값을 확인하려 한다면 ERROR가 발생한다."
   ]
  },
  {
   "cell_type": "markdown",
   "metadata": {
    "collapsed": true
   },
   "source": [
    "###### 2번 문제\n",
    " - s[-100], s[100]은 값이 나오는지 에러가 나오는지 확인하고 그 결과에 대한 이유를 나름대로 설명해 보시오.\n"
   ]
  },
  {
   "cell_type": "code",
   "execution_count": 16,
   "metadata": {
    "collapsed": false
   },
   "outputs": [
    {
     "ename": "IndexError",
     "evalue": "string index out of range",
     "output_type": "error",
     "traceback": [
      "\u001b[0;31m---------------------------------------------------------------------------\u001b[0m",
      "\u001b[0;31mIndexError\u001b[0m                                Traceback (most recent call last)",
      "\u001b[0;32m<ipython-input-16-c9bfa1a0d327>\u001b[0m in \u001b[0;36m<module>\u001b[0;34m()\u001b[0m\n\u001b[0;32m----> 1\u001b[0;31m \u001b[0ms\u001b[0m\u001b[1;33m[\u001b[0m\u001b[1;33m-\u001b[0m\u001b[1;36m100\u001b[0m\u001b[1;33m]\u001b[0m\u001b[1;33m\u001b[0m\u001b[0m\n\u001b[0m",
      "\u001b[0;31mIndexError\u001b[0m: string index out of range"
     ]
    }
   ],
   "source": [
    "s[-100]"
   ]
  },
  {
   "cell_type": "code",
   "execution_count": 17,
   "metadata": {
    "collapsed": false
   },
   "outputs": [
    {
     "ename": "IndexError",
     "evalue": "string index out of range",
     "output_type": "error",
     "traceback": [
      "\u001b[0;31m---------------------------------------------------------------------------\u001b[0m",
      "\u001b[0;31mIndexError\u001b[0m                                Traceback (most recent call last)",
      "\u001b[0;32m<ipython-input-17-4868bd16d438>\u001b[0m in \u001b[0;36m<module>\u001b[0;34m()\u001b[0m\n\u001b[0;32m----> 1\u001b[0;31m \u001b[0ms\u001b[0m\u001b[1;33m[\u001b[0m\u001b[1;36m100\u001b[0m\u001b[1;33m]\u001b[0m\u001b[1;33m\u001b[0m\u001b[0m\n\u001b[0m",
      "\u001b[0;31mIndexError\u001b[0m: string index out of range"
     ]
    }
   ],
   "source": [
    "s[100]"
   ]
  },
  {
   "cell_type": "markdown",
   "metadata": {},
   "source": [
    "str이라는 자료형에는 하나의 글자에 대해서 인덱스가 있다.\n",
    "\n",
    "s[0]이라는 의미는 문자열 s의 가장 맨앞 하나의 글자(원소)이다.\n",
    "\n",
    "만약 s[100]이 존재하려면 문자열 s의 길이가 101 이상으로 이루어져야한다.\n",
    "\n",
    "하지만 s = \"python\" 에서는 문자열의 길이가 6이므로 인덱스가 5까지 밖에 없기 때문에 범위를 벗어나게 된다.\n",
    "\n",
    "따라서 에러가 발생한다.\n",
    "\n",
    "같은 맥락으로 s[-1]은 문자열 s의 맨 뒤 하나의 글자(원소)를 의미한다.\n",
    "\n",
    "s[-2]는 문자열 s의 맨 뒤에서 두번째 원소를 의미한다. \n",
    "\n",
    "따라서 s[-100]은 문자열의 길이를 넘어서기 때문에 string index out of range라는 에러가 발생한다. "
   ]
  },
  {
   "cell_type": "markdown",
   "metadata": {},
   "source": [
    "###### 3번 문제\n",
    "- s[-100, 100]은 값이 나오는지 에러가 나오는지 확인하고 그 결과에 대한 이유를 나름대로 설명해 보시오."
   ]
  },
  {
   "cell_type": "code",
   "execution_count": 18,
   "metadata": {
    "collapsed": false
   },
   "outputs": [
    {
     "ename": "TypeError",
     "evalue": "string indices must be integers",
     "output_type": "error",
     "traceback": [
      "\u001b[0;31m---------------------------------------------------------------------------\u001b[0m",
      "\u001b[0;31mTypeError\u001b[0m                                 Traceback (most recent call last)",
      "\u001b[0;32m<ipython-input-18-bf32d1c70cf0>\u001b[0m in \u001b[0;36m<module>\u001b[0;34m()\u001b[0m\n\u001b[0;32m----> 1\u001b[0;31m \u001b[0ms\u001b[0m\u001b[1;33m[\u001b[0m\u001b[1;33m-\u001b[0m\u001b[1;36m100\u001b[0m\u001b[1;33m,\u001b[0m\u001b[1;36m100\u001b[0m\u001b[1;33m]\u001b[0m\u001b[1;33m\u001b[0m\u001b[0m\n\u001b[0m",
      "\u001b[0;31mTypeError\u001b[0m: string indices must be integers"
     ]
    }
   ],
   "source": [
    "s[-100,100]"
   ]
  },
  {
   "cell_type": "code",
   "execution_count": 19,
   "metadata": {
    "collapsed": false
   },
   "outputs": [
    {
     "ename": "TypeError",
     "evalue": "string indices must be integers",
     "output_type": "error",
     "traceback": [
      "\u001b[0;31m---------------------------------------------------------------------------\u001b[0m",
      "\u001b[0;31mTypeError\u001b[0m                                 Traceback (most recent call last)",
      "\u001b[0;32m<ipython-input-19-63fb67ee61b7>\u001b[0m in \u001b[0;36m<module>\u001b[0;34m()\u001b[0m\n\u001b[1;32m      1\u001b[0m \u001b[0ms\u001b[0m \u001b[1;33m=\u001b[0m \u001b[1;34m\"python\"\u001b[0m\u001b[1;33m\u001b[0m\u001b[0m\n\u001b[0;32m----> 2\u001b[0;31m \u001b[0ms\u001b[0m\u001b[1;33m[\u001b[0m\u001b[1;36m2\u001b[0m\u001b[1;33m,\u001b[0m\u001b[1;36m3\u001b[0m\u001b[1;33m]\u001b[0m\u001b[1;33m\u001b[0m\u001b[0m\n\u001b[0m",
      "\u001b[0;31mTypeError\u001b[0m: string indices must be integers"
     ]
    }
   ],
   "source": [
    "s = \"python\"\n",
    "s[2,3]"
   ]
  },
  {
   "cell_type": "code",
   "execution_count": 20,
   "metadata": {
    "collapsed": false
   },
   "outputs": [],
   "source": [
    "a= s[4],s[4]"
   ]
  },
  {
   "cell_type": "code",
   "execution_count": 21,
   "metadata": {
    "collapsed": false
   },
   "outputs": [
    {
     "data": {
      "text/plain": [
       "tuple"
      ]
     },
     "execution_count": 21,
     "metadata": {},
     "output_type": "execute_result"
    }
   ],
   "source": [
    "type(a)"
   ]
  },
  {
   "cell_type": "markdown",
   "metadata": {
    "collapsed": true
   },
   "source": [
    "이 문제는 당연히 에러가 난다. \n",
    "\n",
    "s[]의 인덱스는 항상 정수이고, s[-100,100]은 괄호에는 하나의 숫자만 들어가야한다.\n",
    "\n",
    "또한 인덱스의 범위를 넘어가서는 안된다.\n",
    "\n",
    "s[-100,100]의 의도를 잘 모르겠지만 인덱스가 범위내에 있다고 가정했을때 s[-100],s[100]으로 작성한다면 두 문자열이 튜플로 묶인다."
   ]
  },
  {
   "cell_type": "markdown",
   "metadata": {},
   "source": [
    "###### 4번 문제\n",
    "- s[1:-1]의 결과를 확인하고 그 결과에 대한 이유를 정확하게 설명하시오.\n"
   ]
  },
  {
   "cell_type": "code",
   "execution_count": 22,
   "metadata": {
    "collapsed": false
   },
   "outputs": [
    {
     "data": {
      "text/plain": [
       "'ytho'"
      ]
     },
     "execution_count": 22,
     "metadata": {},
     "output_type": "execute_result"
    }
   ],
   "source": [
    "s[1:-1]"
   ]
  },
  {
   "cell_type": "markdown",
   "metadata": {},
   "source": [
    "s = \"python\"이다.\n",
    "\n",
    "s[1:-1]은 문자열 s를 1부터 -1까지 슬라이싱 하는 것을 의미한다.\n",
    "\n",
    "s[1]은 'y'이고, s[-1]은 'n'이다.\n",
    "\n",
    "따라서 'y'에서 'n'전까지가 해당되어 s[1:-1]은 'ytho'이다."
   ]
  },
  {
   "cell_type": "markdown",
   "metadata": {},
   "source": [
    "###### 5번 문제\n",
    "- s[3:-3]의 결과를 확인하고 그 결과에 대한 이유를 정확하게 설명하시오.\n"
   ]
  },
  {
   "cell_type": "code",
   "execution_count": 23,
   "metadata": {
    "collapsed": false
   },
   "outputs": [
    {
     "data": {
      "text/plain": [
       "''"
      ]
     },
     "execution_count": 23,
     "metadata": {},
     "output_type": "execute_result"
    }
   ],
   "source": [
    "s[3:-3]"
   ]
  },
  {
   "cell_type": "markdown",
   "metadata": {},
   "source": [
    "s = \"python\"이다.\n",
    "\n",
    "s[3:-3]은 인덱스가 3에서부터 -3전까지 슬라이싱하는 것을 의미한다.\n",
    "\n",
    "s[3]은 'h'이고 s[-3]은 'h'이다. 즉, s[3]과 s[-3]은 같은 원소를 가리킨다.\n",
    "\n",
    "따라서 s[3:-3]은 아무것도 해당하지 않는다."
   ]
  },
  {
   "cell_type": "markdown",
   "metadata": {},
   "source": [
    "### 5번 문제\n",
    "- for문을 활용하여 1부터 100사이의 홀수를 출력하시오."
   ]
  },
  {
   "cell_type": "code",
   "execution_count": 24,
   "metadata": {
    "collapsed": false
   },
   "outputs": [
    {
     "name": "stdout",
     "output_type": "stream",
     "text": [
      "1\n",
      "3\n",
      "5\n",
      "7\n",
      "9\n",
      "11\n",
      "13\n",
      "15\n",
      "17\n",
      "19\n",
      "21\n",
      "23\n",
      "25\n",
      "27\n",
      "29\n",
      "31\n",
      "33\n",
      "35\n",
      "37\n",
      "39\n",
      "41\n",
      "43\n",
      "45\n",
      "47\n",
      "49\n",
      "51\n",
      "53\n",
      "55\n",
      "57\n",
      "59\n",
      "61\n",
      "63\n",
      "65\n",
      "67\n",
      "69\n",
      "71\n",
      "73\n",
      "75\n",
      "77\n",
      "79\n",
      "81\n",
      "83\n",
      "85\n",
      "87\n",
      "89\n",
      "91\n",
      "93\n",
      "95\n",
      "97\n",
      "99\n"
     ]
    }
   ],
   "source": [
    "for i in range(1,101):\n",
    "    if (i % 2) == 1:\n",
    "        print(i)"
   ]
  },
  {
   "cell_type": "markdown",
   "metadata": {},
   "source": [
    "for문으로 1~100사이의 홀수를 출력하기 위해서 for문에 range함수를 사용해 1~100까지 반복하도록 하였다.\n",
    "\n",
    "range함수에서 range(start,end)라고 하였을때 start의 수에서 시작해 end수가 포함되기 전까지 반복된다.\n",
    "\n",
    "그런다음 if문을 이용해 2로 나눈 나머지가 1일 경우 그 수를 출력하도록하였다.\n",
    "\n",
    "만약 이 방법 외에 다른 방법으로 문제를 해결하려면 range함수의 step을 이용해도 쉽게 풀릴 것 같다."
   ]
  },
  {
   "cell_type": "markdown",
   "metadata": {},
   "source": [
    "### 6번 문제\n",
    " - while문을 활용하여 1부터 100사이의 짝수의 합을 계산하여 출력하시오."
   ]
  },
  {
   "cell_type": "code",
   "execution_count": 25,
   "metadata": {
    "collapsed": false
   },
   "outputs": [
    {
     "name": "stdout",
     "output_type": "stream",
     "text": [
      "2550\n"
     ]
    }
   ],
   "source": [
    "sum = 0\n",
    "x = 0\n",
    "while x <= 100:\n",
    "    x += 1;\n",
    "    if(((x % 2) == 0)):\n",
    "        sum += x\n",
    "\n",
    "print(sum)"
   ]
  },
  {
   "cell_type": "markdown",
   "metadata": {},
   "source": [
    "while문을 이용해 1~100사이의 짝수의 합을 계산하기 위해서 먼저 합을 저장할 sum변수와 1 ~ 100까지의 수를 저장할 x변수를 선언해준다.\n",
    "\n",
    "while문 안에서 x를 1씩 증가해주면서 x <= 100인 조건을 만족하면서 2로 나눈 나머지가 1이면 sum에 더해준다.\n",
    "\n",
    "x가 100보다 큰 수가 되면 while문에서 나와 sum에 저장된 수를 출력한다."
   ]
  },
  {
   "cell_type": "markdown",
   "metadata": {},
   "source": [
    "### 7번 문제\n",
    " - 사용자로 부터 임의의 정수를 입력받고, 해당 숫자를 역순으로 출력하는 프로그램을 작성하시오."
   ]
  },
  {
   "cell_type": "code",
   "execution_count": 26,
   "metadata": {
    "collapsed": false
   },
   "outputs": [
    {
     "name": "stdout",
     "output_type": "stream",
     "text": [
      "정수를 입력하세요:3125\n"
     ]
    }
   ],
   "source": [
    "a = int(input(\"정수를 입력하세요:\"))"
   ]
  },
  {
   "cell_type": "markdown",
   "metadata": {},
   "source": [
    "    > a = input()으로 받으면 자료형은 str이다. \n",
    "    > 따라서 자료형을 변환하지 않고 바로 슬라이싱을 이용해 쉽게 역순으로 출력할 수 있다."
   ]
  },
  {
   "cell_type": "code",
   "execution_count": 27,
   "metadata": {
    "collapsed": false
   },
   "outputs": [
    {
     "data": {
      "text/plain": [
       "int"
      ]
     },
     "execution_count": 27,
     "metadata": {},
     "output_type": "execute_result"
    }
   ],
   "source": [
    "type(a)"
   ]
  },
  {
   "cell_type": "code",
   "execution_count": 28,
   "metadata": {
    "collapsed": true
   },
   "outputs": [],
   "source": [
    "a = str(a)"
   ]
  },
  {
   "cell_type": "code",
   "execution_count": 29,
   "metadata": {
    "collapsed": false
   },
   "outputs": [
    {
     "data": {
      "text/plain": [
       "'5213'"
      ]
     },
     "execution_count": 29,
     "metadata": {},
     "output_type": "execute_result"
    }
   ],
   "source": [
    "a[::-1]"
   ]
  },
  {
   "cell_type": "markdown",
   "metadata": {},
   "source": [
    "문자열을 역순으로 출력하는 것은 슬라이싱을 이용하면 아주 쉽게 해결할 수 있다.\n",
    "\n",
    "하지만 이 문제에서는 임의의 정수를 입력받도록 했기때문에 그냥 input()이 아닌 int(input())으로 의도적으로 받았다.\n",
    "\n",
    "그런다음 그 수를 문자열로 바꾸어 슬라이싱을 통해 문자열을 역순으로 출력하였다."
   ]
  },
  {
   "cell_type": "markdown",
   "metadata": {},
   "source": [
    "### 8번 문제\n",
    "- 사용자로 부터 정수를 입력받아서 1부터 그 사이에 존재하는 소수 (Prime number)를 출력하는 파이썬 프로그램을 작성하시오."
   ]
  },
  {
   "cell_type": "code",
   "execution_count": 30,
   "metadata": {
    "collapsed": false
   },
   "outputs": [
    {
     "name": "stdout",
     "output_type": "stream",
     "text": [
      "정수를 입력하시오 : 17\n"
     ]
    }
   ],
   "source": [
    "a = int(input(\"정수를 입력하시오 : \"))"
   ]
  },
  {
   "cell_type": "code",
   "execution_count": 31,
   "metadata": {
    "collapsed": false
   },
   "outputs": [
    {
     "name": "stdout",
     "output_type": "stream",
     "text": [
      "[2, 3, 5, 7, 11, 13]\n"
     ]
    }
   ],
   "source": [
    "import math\n",
    "maximum = math.ceil(math.sqrt(a))\n",
    "\n",
    "primeList = list(range(2,a))\n",
    "for primeNum in primeList:\n",
    "    if(primeNum == maximum):\n",
    "        break\n",
    "    for num in primeList:\n",
    "        if (num <= primeNum):\n",
    "            continue\n",
    "        if ((num % primeNum) == 0):\n",
    "            primeList.remove(num)\n",
    "print(primeList)   "
   ]
  },
  {
   "cell_type": "markdown",
   "metadata": {
    "collapsed": true
   },
   "source": [
    "1~(입력받은 수 )a 에 존재하는 소수를 출력하기 위해서는 먼저 a의 제곱근보다 큰 수 중 가장 작은 정수를 구하였다.\n",
    "\n",
    "왜냐하면 a의 제곱근보다 큰 수 중 가장 작은 정수 보다 큰 소수로 그 수를 나눌 필요가 없기때문이다.\n",
    "\n",
    "예를 들면 a = 120이라고 가정했을 때 a의 제곱근 보다 큰 수중 가장 작은 수는 11이다. \n",
    "\n",
    "그러므로 11보다 작은 소수로만 나누어 소수가 아닌수를 제거해주면 된다.\n",
    "\n",
    "따라서 a의 제곱근보다 큰 수 중 가장 작은 정수보다 큰 수로 나눌려고 한다면 break를 이용해 나가주면된다.\n",
    "\n",
    "또한 primeList에 있는 수들은 그 수보다 작은수로 나누어 나머지가 0이면 primeLsit에서 제거하고 하니면 소수이므로 남겨둔다."
   ]
  },
  {
   "cell_type": "markdown",
   "metadata": {
    "collapsed": true
   },
   "source": [
    "### [ACM-ICPC 문제 2439번]\n",
    "- 별찍기-2"
   ]
  },
  {
   "cell_type": "code",
   "execution_count": 32,
   "metadata": {
    "collapsed": false
   },
   "outputs": [
    {
     "name": "stdout",
     "output_type": "stream",
     "text": [
      "5\n"
     ]
    }
   ],
   "source": [
    "x = int(input())"
   ]
  },
  {
   "cell_type": "code",
   "execution_count": 33,
   "metadata": {
    "collapsed": false,
    "scrolled": true
   },
   "outputs": [
    {
     "name": "stdout",
     "output_type": "stream",
     "text": [
      "    *\n",
      "   **\n",
      "  ***\n",
      " ****\n",
      "*****\n"
     ]
    }
   ],
   "source": [
    "j = 1\n",
    "for i in range(x-1,-1,-1):\n",
    "    print(' ' * i, end=\"\")\n",
    "    while j <= x:\n",
    "        print('*' * j)\n",
    "        j += 1\n",
    "        break"
   ]
  },
  {
   "cell_type": "markdown",
   "metadata": {},
   "source": [
    "스페이스와 '*'을 이용해 오른쪽 정렬을 하였다. \n",
    "\n",
    "여러시도 끝에 \"맞았습니다.\" 라는 문자를 받을 수 있었다. \n",
    "\n",
    "그 이유는 스페이스를 이용하여 출력하다보니 어느 곳에 스페이스가 잘못들어갔는지 잘알지 못했는데 마지막줄에는 스페이스가 하나도 들어가지 않아야 한다는 것을 알아낸 후에서야 잘 수정할 수 있었다.\n",
    "\n",
    "별을 1개 출력할 때에는 x-1개의 스페이스를 출력한수 별을 찍고 별은 하나씩 증가하고 스페이스는 하나씩 감소하도록 했다.\n",
    "\n",
    "그렇게 해서 마지막 줄에는 스페이스가 하나도 들어가지 않고 별이 x개 찍혀야 한다."
   ]
  },
  {
   "cell_type": "markdown",
   "metadata": {
    "collapsed": false
   },
   "source": [
    " ![star](img/[ACM-ICPC 문제 2439번].png) "
   ]
  },
  {
   "cell_type": "markdown",
   "metadata": {},
   "source": [
    "### [ACM-ICPC 문제 1924번]\n",
    "- 2007년"
   ]
  },
  {
   "cell_type": "code",
   "execution_count": 34,
   "metadata": {
    "collapsed": false
   },
   "outputs": [
    {
     "name": "stdout",
     "output_type": "stream",
     "text": [
      "4 15\n"
     ]
    }
   ],
   "source": [
    "month, day = input().split()"
   ]
  },
  {
   "cell_type": "code",
   "execution_count": 35,
   "metadata": {
    "collapsed": false
   },
   "outputs": [],
   "source": [
    "Week = ['SUN','MON','TUE','WED','THU','FRI','SAT']"
   ]
  },
  {
   "cell_type": "code",
   "execution_count": 36,
   "metadata": {
    "collapsed": false
   },
   "outputs": [],
   "source": [
    "month_day = {1: 31,\n",
    "             2: 28,\n",
    "             3: 31,\n",
    "             4: 30,\n",
    "             5: 31,\n",
    "             6: 30,\n",
    "             7: 31,\n",
    "             8: 31,\n",
    "             9: 30,\n",
    "             10:31,\n",
    "             11: 30,\n",
    "             12: 31}"
   ]
  },
  {
   "cell_type": "code",
   "execution_count": 37,
   "metadata": {
    "collapsed": false
   },
   "outputs": [],
   "source": [
    "daySum = 0\n",
    "i = 1\n",
    "while i< int(month):   ##월이 몇일인지\n",
    "    daySum += month_day[i]\n",
    "    i += 1\n",
    "daySum += int(day)"
   ]
  },
  {
   "cell_type": "code",
   "execution_count": 38,
   "metadata": {
    "collapsed": false
   },
   "outputs": [
    {
     "name": "stdout",
     "output_type": "stream",
     "text": [
      "SUN\n"
     ]
    }
   ],
   "source": [
    "print(Week[daySum % 7])"
   ]
  },
  {
   "cell_type": "markdown",
   "metadata": {},
   "source": [
    "딕셔너리를 이용해 월별로 날짜를 저장한다.\n",
    "\n",
    "그런다음 월의 일수와 일을 더해주면 몇일 후인지 알수있다. \n",
    "\n",
    "이 문제는 일수가 아닌 요일만 알면 되므로 그 수를 7로 나눈 나머지를 구한다.\n",
    "\n",
    "그러면 0 ~ 6사이에 수가 나온다.\n",
    "\n",
    "그 수는 Week리스트의 인덱스를 나타낸다.\n",
    "\n",
    "따라서 Week리스트의 인덱스가 나타내는 문자열(요일)을 출력한다."
   ]
  },
  {
   "cell_type": "markdown",
   "metadata": {},
   "source": [
    "![2007년](img/[ACM-ICPC 문제 1924번].png)"
   ]
  },
  {
   "cell_type": "markdown",
   "metadata": {
    "collapsed": true
   },
   "source": [
    "\n",
    "### [ACM-ICPC 문제 11720번]\n",
    "- 숫자의 합"
   ]
  },
  {
   "cell_type": "code",
   "execution_count": 56,
   "metadata": {
    "collapsed": false
   },
   "outputs": [
    {
     "name": "stdout",
     "output_type": "stream",
     "text": [
      "4\n",
      "5464\n"
     ]
    }
   ],
   "source": [
    "N = int(input())\n",
    "a = int(input())"
   ]
  },
  {
   "cell_type": "code",
   "execution_count": 63,
   "metadata": {
    "collapsed": true
   },
   "outputs": [],
   "source": [
    "a = str(a)\n",
    "li = []\n",
    "sum = 0"
   ]
  },
  {
   "cell_type": "code",
   "execution_count": 64,
   "metadata": {
    "collapsed": false
   },
   "outputs": [],
   "source": [
    "for i in a:\n",
    "    sum += int(i)"
   ]
  },
  {
   "cell_type": "code",
   "execution_count": 65,
   "metadata": {
    "collapsed": false
   },
   "outputs": [
    {
     "name": "stdout",
     "output_type": "stream",
     "text": [
      "19\n"
     ]
    }
   ],
   "source": [
    "print(sum)"
   ]
  },
  {
   "cell_type": "markdown",
   "metadata": {},
   "source": [
    "N을 이용해서 숫자가 몇자리수인지 알고 나서 a를 이용해서 숫자를 입력받도록 되어있다. \n",
    "\n",
    "사실 문제를 풀면서 N이라는 입력값을 하나도 이용하지 않았지만 정답은 맞을 수 있었다. \n",
    "\n",
    "쓸데 없는 값을 받은 것만 같았다.\n",
    "\n",
    "이 문제를 풀 때 정수인 a값을 문자열로 바꾸어 for문을 이용해 한자리씩 가져와 합해주었다."
   ]
  },
  {
   "cell_type": "markdown",
   "metadata": {},
   "source": [
    "![sum_num](img/[ACM-ICPC 문제 11720번].png)"
   ]
  },
  {
   "cell_type": "markdown",
   "metadata": {},
   "source": [
    "### 숙제 이후 소감\n",
    "\n",
    ">강의를 듣는데에는 어려움이 없었으나 문제를 풀려고 하니 파이썬이 낯설게 느껴졌다. \n",
    "\n",
    ">아직 문제를 많이 풀어보지 않아서 그런것 같다.\n",
    "\n",
    ">머리로 어떻게 해야되지 알겠는데 파이썬 코드로 옮기는 게 힘들었다.\n",
    "\n",
    ">그래도 문제들을 풀면서 많은 도움이 된 것 같다!"
   ]
  }
 ],
 "metadata": {
  "kernelspec": {
   "display_name": "Python 3",
   "language": "python",
   "name": "python3"
  },
  "language_info": {
   "codemirror_mode": {
    "name": "ipython",
    "version": 3
   },
   "file_extension": ".py",
   "mimetype": "text/x-python",
   "name": "python",
   "nbconvert_exporter": "python",
   "pygments_lexer": "ipython3",
   "version": "3.6.0"
  }
 },
 "nbformat": 4,
 "nbformat_minor": 2
}
